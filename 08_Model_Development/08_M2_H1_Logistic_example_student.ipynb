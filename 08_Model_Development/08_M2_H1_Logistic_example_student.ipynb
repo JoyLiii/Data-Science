{
 "cells": [
  {
   "cell_type": "markdown",
   "metadata": {},
   "source": [
    "# 資料類別編碼"
   ]
  },
  {
   "cell_type": "code",
   "execution_count": null,
   "metadata": {},
   "outputs": [],
   "source": [
    "import pandas as pd\r\n",
    "pd.set_option('display.max_columns', None)"
   ]
  },
  {
   "cell_type": "markdown",
   "metadata": {},
   "source": [
    "## 讀取航空公司客戶滿意度資料"
   ]
  },
  {
   "cell_type": "code",
   "execution_count": null,
   "metadata": {},
   "outputs": [],
   "source": [
    "# 讀取 航空公司客戶滿意度 data\r\n",
    "df = pd.read_csv('flight.csv')\r\n",
    "df.head()"
   ]
  },
  {
   "cell_type": "code",
   "execution_count": null,
   "metadata": {},
   "outputs": [],
   "source": [
    "# 欄位Arrival Delay in Minutes有遺漏值\r\n",
    "df.info()"
   ]
  },
  {
   "cell_type": "markdown",
   "metadata": {},
   "source": [
    "## 類別型欄位轉數值型編碼"
   ]
  },
  {
   "cell_type": "code",
   "execution_count": null,
   "metadata": {},
   "outputs": [],
   "source": [
    "from sklearn.preprocessing import LabelEncoder\r\n",
    "labelencoder = LabelEncoder()"
   ]
  },
  {
   "cell_type": "code",
   "execution_count": null,
   "metadata": {},
   "outputs": [],
   "source": [
    "print('-'*25 + 'satisfaction' + '-'*25)\r\n",
    "print(df['satisfaction'].value_counts())\r\n",
    "df['satisfaction'] = labelencoder.fit_transform(df['satisfaction'])\r\n",
    "print(df['satisfaction'].value_counts())\r\n",
    "print('-'*50)\r\n",
    "\r\n",
    "print('-'*25 + 'Gender' + '-'*25)\r\n",
    "print(df['Gender'].value_counts())\r\n",
    "df['Gender'] = labelencoder.fit_transform(df['Gender'])\r\n",
    "print(df['Gender'].value_counts())\r\n",
    "print('-'*50)\r\n",
    "\r\n",
    "print('-'*25 + 'Customer Type' + '-'*25)\r\n",
    "print(df['Customer Type'].value_counts())\r\n",
    "df['Customer Type'] = labelencoder.fit_transform(df['Customer Type'])\r\n",
    "print(df['Customer Type'].value_counts())\r\n",
    "print('-'*50)\r\n",
    "\r\n",
    "print('-'*25 + 'Type of Travel' + '-'*25)\r\n",
    "print(df['Type of Travel'].value_counts())\r\n",
    "df['Type of Travel'] = labelencoder.fit_transform(df['Type of Travel'])\r\n",
    "print(df['Type of Travel'].value_counts())\r\n",
    "print('-'*50)\r\n",
    "\r\n",
    "print('-'*25 + 'Class' + '-'*25)\r\n",
    "print(df['Class'].value_counts())\r\n",
    "df['Class'] = labelencoder.fit_transform(df['Class'])\r\n",
    "print(df['Class'].value_counts())\r\n",
    "print('-'*50)"
   ]
  },
  {
   "cell_type": "code",
   "execution_count": null,
   "metadata": {},
   "outputs": [],
   "source": [
    "# 補值: 欄位Arrival Delay in Minutes有遺漏值\r\n",
    "print(df[['Arrival Delay in Minutes']].isnull().values.any())\r\n",
    "df[['Arrival Delay in Minutes']] = df[['Arrival Delay in Minutes']].fillna(0.0)\r\n",
    "print(df[['Arrival Delay in Minutes']].isnull().values.any())"
   ]
  },
  {
   "cell_type": "code",
   "execution_count": null,
   "metadata": {},
   "outputs": [],
   "source": [
    "df.isnull().values.any()"
   ]
  },
  {
   "cell_type": "code",
   "execution_count": null,
   "metadata": {},
   "outputs": [],
   "source": [
    "# save file\r\n",
    "df.to_csv('flight_satisfaction.csv', index=False)"
   ]
  },
  {
   "cell_type": "markdown",
   "metadata": {},
   "source": [
    "# 建立 Logistic Regression 模型"
   ]
  },
  {
   "cell_type": "code",
   "execution_count": null,
   "metadata": {},
   "outputs": [],
   "source": [
    "# read dataset\r\n",
    "df = pd.read_csv('flight_satisfaction.csv')\r\n",
    "df.head()"
   ]
  },
  {
   "cell_type": "markdown",
   "metadata": {},
   "source": [
    "## 切分訓練、測試資料集"
   ]
  },
  {
   "cell_type": "code",
   "execution_count": null,
   "metadata": {},
   "outputs": [],
   "source": [
    "# code here\r\n"
   ]
  },
  {
   "cell_type": "markdown",
   "metadata": {},
   "source": [
    "## 模型訓練"
   ]
  },
  {
   "cell_type": "code",
   "execution_count": null,
   "metadata": {},
   "outputs": [],
   "source": [
    "# 模型訓練\r\n",
    "\r\n",
    "\r\n",
    "# print模型準確率\r\n",
    "\r\n",
    "\r\n",
    "# 模型預測測試集的結果\r\n"
   ]
  },
  {
   "cell_type": "markdown",
   "metadata": {},
   "source": [
    "## 模型評估結果"
   ]
  },
  {
   "cell_type": "code",
   "execution_count": null,
   "metadata": {},
   "outputs": [],
   "source": [
    "# 輸出 Classification Report\r\n",
    "\r\n",
    "\r\n",
    "# 輸出 Confusion Matrix\r\n"
   ]
  },
  {
   "cell_type": "code",
   "execution_count": null,
   "metadata": {},
   "outputs": [],
   "source": []
  }
 ],
 "metadata": {
  "kernelspec": {
   "display_name": "Python 3.8.3 64-bit (conda)",
   "metadata": {
    "interpreter": {
     "hash": "b3ba2566441a7c06988d0923437866b63cedc61552a5af99d1f4fb67d367b25f"
    }
   },
   "name": "python3"
  },
  "language_info": {
   "codemirror_mode": {
    "name": "ipython",
    "version": 3
   },
   "file_extension": ".py",
   "mimetype": "text/x-python",
   "name": "python",
   "nbconvert_exporter": "python",
   "pygments_lexer": "ipython3",
   "version": "3.8.3"
  },
  "orig_nbformat": 2
 },
 "nbformat": 4,
 "nbformat_minor": 2
}