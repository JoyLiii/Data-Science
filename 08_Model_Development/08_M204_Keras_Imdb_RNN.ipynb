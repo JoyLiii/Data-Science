{
  "cells": [
    {
      "cell_type": "code",
      "execution_count": null,
      "metadata": {
        "id": "9IB0RR1OQ7qT"
      },
      "outputs": [],
      "source": [
        "import urllib.request\n",
        "import os\n",
        "import tarfile"
      ]
    },
    {
      "cell_type": "code",
      "source": [
        "! mkdir data"
      ],
      "metadata": {
        "id": "cc74jIqNbKWV"
      },
      "execution_count": null,
      "outputs": []
    },
    {
      "cell_type": "code",
      "execution_count": null,
      "metadata": {
        "colab": {
          "base_uri": "https://localhost:8080/"
        },
        "id": "dYuuXQRFQ9O9",
        "outputId": "acc9b7ff-9d0e-4ea4-8dab-4cd732d17e31"
      },
      "outputs": [
        {
          "output_type": "stream",
          "name": "stdout",
          "text": [
            "downloaded: ('data/aclImdb_v1.tar.gz', <http.client.HTTPMessage object at 0x7f2a92ad7c90>)\n"
          ]
        }
      ],
      "source": [
        "url=\"http://ai.stanford.edu/~amaas/data/sentiment/aclImdb_v1.tar.gz\"\n",
        "filepath=\"data/aclImdb_v1.tar.gz\"\n",
        "if not os.path.isfile(filepath):\n",
        "    result=urllib.request.urlretrieve(url, filepath)\n",
        "    print('downloaded:',result)"
      ]
    },
    {
      "cell_type": "code",
      "execution_count": null,
      "metadata": {
        "id": "-bUePvzoQ-oy"
      },
      "outputs": [],
      "source": [
        "if not os.path.exists(\"data/aclImdb\"):\n",
        "    tfile = tarfile.open(\"data/aclImdb_v1.tar.gz\", 'r:gz')\n",
        "    result=tfile.extractall('data/')"
      ]
    },
    {
      "cell_type": "markdown",
      "metadata": {
        "id": "CVwzkR1IQtie"
      },
      "source": [
        "# 1. Import Library"
      ]
    },
    {
      "cell_type": "markdown",
      "metadata": {
        "id": "6YZCRX-nQtik"
      },
      "source": [
        "# 資料準備"
      ]
    },
    {
      "cell_type": "code",
      "execution_count": null,
      "metadata": {
        "id": "wzmRaLXTQtil"
      },
      "outputs": [],
      "source": [
        "from keras.datasets import imdb\n",
        "from keras.preprocessing import sequence\n",
        "from keras.preprocessing.text import Tokenizer"
      ]
    },
    {
      "cell_type": "code",
      "execution_count": null,
      "metadata": {
        "collapsed": true,
        "id": "Y58cb9Y3Qtio"
      },
      "outputs": [],
      "source": [
        "import re\n",
        "re_tag = re.compile(r'<[^>]+>')\n",
        "\n",
        "def rm_tags(text):\n",
        "    return re_tag.sub('', text)"
      ]
    },
    {
      "cell_type": "code",
      "execution_count": null,
      "metadata": {
        "collapsed": true,
        "id": "88ZInJ6NQtip"
      },
      "outputs": [],
      "source": [
        "import os\n",
        "def read_files(filetype):\n",
        "    path = \"data/aclImdb/\"\n",
        "    file_list=[]\n",
        "\n",
        "    positive_path=path + filetype+\"/pos/\"\n",
        "    for f in os.listdir(positive_path):\n",
        "        file_list+=[positive_path+f]\n",
        "    \n",
        "    negative_path=path + filetype+\"/neg/\"\n",
        "    for f in os.listdir(negative_path):\n",
        "        file_list+=[negative_path+f]\n",
        "        \n",
        "    print('read',filetype, 'files:',len(file_list))\n",
        "       \n",
        "    all_labels = ([1] * 12500 + [0] * 12500) \n",
        "    \n",
        "    all_texts  = []\n",
        "    \n",
        "    for fi in file_list:\n",
        "        with open(fi,encoding='utf8') as file_input:\n",
        "            all_texts += [rm_tags(\" \".join(file_input.readlines()))]\n",
        "            \n",
        "    return all_labels,all_texts"
      ]
    },
    {
      "cell_type": "code",
      "execution_count": null,
      "metadata": {
        "colab": {
          "base_uri": "https://localhost:8080/"
        },
        "id": "7TWab03tQtiq",
        "outputId": "c97a17e9-7994-4c55-bbe2-5ad6dc617b99"
      },
      "outputs": [
        {
          "output_type": "stream",
          "name": "stdout",
          "text": [
            "read train files: 25000\n"
          ]
        }
      ],
      "source": [
        "y_train,train_text=read_files(\"train\")"
      ]
    },
    {
      "cell_type": "code",
      "execution_count": null,
      "metadata": {
        "colab": {
          "base_uri": "https://localhost:8080/"
        },
        "id": "4xVoVaheQtir",
        "outputId": "6f13d7f8-b30e-4e5d-9498-d047db085ade"
      },
      "outputs": [
        {
          "output_type": "stream",
          "name": "stdout",
          "text": [
            "read test files: 25000\n"
          ]
        }
      ],
      "source": [
        "y_test,test_text=read_files(\"test\")"
      ]
    },
    {
      "cell_type": "code",
      "execution_count": null,
      "metadata": {
        "collapsed": true,
        "id": "xvhKoqSzQtir"
      },
      "outputs": [],
      "source": [
        "token = Tokenizer(num_words=3800)\n",
        "token.fit_on_texts(train_text)"
      ]
    },
    {
      "cell_type": "code",
      "execution_count": null,
      "metadata": {
        "collapsed": true,
        "id": "ok6I9BPIQtis"
      },
      "outputs": [],
      "source": [
        "x_train_seq = token.texts_to_sequences(train_text)\n",
        "x_test_seq  = token.texts_to_sequences(test_text)"
      ]
    },
    {
      "cell_type": "code",
      "execution_count": null,
      "metadata": {
        "id": "QQgUTf45Qtit"
      },
      "outputs": [],
      "source": [
        "x_train = sequence.pad_sequences(x_train_seq, maxlen=380)\n",
        "x_test  = sequence.pad_sequences(x_test_seq,  maxlen=380)"
      ]
    },
    {
      "cell_type": "markdown",
      "metadata": {
        "id": "PL8jZwlqQtiu"
      },
      "source": [
        "# 建立模型"
      ]
    },
    {
      "cell_type": "code",
      "execution_count": null,
      "metadata": {
        "collapsed": true,
        "id": "B7U-Wt3SQtiu"
      },
      "outputs": [],
      "source": [
        "from keras.models import Sequential\n",
        "from keras.layers.core import Dense, Dropout, Activation\n",
        "from keras.layers.embeddings import Embedding\n",
        "from keras.layers.recurrent import SimpleRNN"
      ]
    },
    {
      "cell_type": "code",
      "execution_count": null,
      "metadata": {
        "collapsed": true,
        "id": "xRGIJbJ7Qtiv"
      },
      "outputs": [],
      "source": [
        "model = Sequential()"
      ]
    },
    {
      "cell_type": "code",
      "execution_count": null,
      "metadata": {
        "id": "_S20FjSZQtiw"
      },
      "outputs": [],
      "source": [
        "model.add(Embedding(output_dim=32,\n",
        "                    input_dim=3800, \n",
        "                    input_length=380))\n",
        "model.add(Dropout(0.35))"
      ]
    },
    {
      "cell_type": "code",
      "execution_count": null,
      "metadata": {
        "collapsed": true,
        "id": "YiicCfgRQtiy"
      },
      "outputs": [],
      "source": [
        "model.add(SimpleRNN(units=16))"
      ]
    },
    {
      "cell_type": "code",
      "execution_count": null,
      "metadata": {
        "id": "Gh0Fj8BsQtiy"
      },
      "outputs": [],
      "source": [
        "model.add(Dense(units=256,activation='relu' ))\n",
        "model.add(Dropout(0.35))"
      ]
    },
    {
      "cell_type": "code",
      "execution_count": null,
      "metadata": {
        "id": "0w5F1hkyQtiz"
      },
      "outputs": [],
      "source": [
        "model.add(Dense(units=1,activation='sigmoid' ))"
      ]
    },
    {
      "cell_type": "code",
      "execution_count": null,
      "metadata": {
        "colab": {
          "base_uri": "https://localhost:8080/"
        },
        "id": "ofWVNeEZQti0",
        "outputId": "a46ab517-f569-4ee3-b050-ca8ff0d24494"
      },
      "outputs": [
        {
          "output_type": "stream",
          "name": "stdout",
          "text": [
            "Model: \"sequential\"\n",
            "_________________________________________________________________\n",
            " Layer (type)                Output Shape              Param #   \n",
            "=================================================================\n",
            " embedding (Embedding)       (None, 380, 32)           121600    \n",
            "                                                                 \n",
            " dropout (Dropout)           (None, 380, 32)           0         \n",
            "                                                                 \n",
            " simple_rnn (SimpleRNN)      (None, 16)                784       \n",
            "                                                                 \n",
            " dense (Dense)               (None, 256)               4352      \n",
            "                                                                 \n",
            " dropout_1 (Dropout)         (None, 256)               0         \n",
            "                                                                 \n",
            " dense_1 (Dense)             (None, 1)                 257       \n",
            "                                                                 \n",
            "=================================================================\n",
            "Total params: 126,993\n",
            "Trainable params: 126,993\n",
            "Non-trainable params: 0\n",
            "_________________________________________________________________\n"
          ]
        }
      ],
      "source": [
        "model.summary()"
      ]
    },
    {
      "cell_type": "markdown",
      "metadata": {
        "id": "5iekdMR3Qti1"
      },
      "source": [
        "# 訓練模型"
      ]
    },
    {
      "cell_type": "code",
      "execution_count": null,
      "metadata": {
        "collapsed": true,
        "id": "cKhdbL72Qti1"
      },
      "outputs": [],
      "source": [
        "model.compile(loss='binary_crossentropy', \n",
        "              optimizer='adam', \n",
        "              metrics=['accuracy'])"
      ]
    },
    {
      "cell_type": "code",
      "execution_count": null,
      "metadata": {
        "id": "6cCC7C_XoQBK"
      },
      "outputs": [],
      "source": [
        "import numpy as np"
      ]
    },
    {
      "cell_type": "code",
      "execution_count": null,
      "metadata": {
        "colab": {
          "base_uri": "https://localhost:8080/"
        },
        "id": "ITcu7UihQti1",
        "outputId": "effbd9a0-0ae3-4e29-c636-7ded51e73c6b"
      },
      "outputs": [
        {
          "output_type": "stream",
          "name": "stdout",
          "text": [
            "Epoch 1/10\n",
            "200/200 - 20s - loss: 0.6353 - accuracy: 0.6367 - val_loss: 0.8345 - val_accuracy: 0.4704 - 20s/epoch - 102ms/step\n",
            "Epoch 2/10\n",
            "200/200 - 19s - loss: 0.4447 - accuracy: 0.7904 - val_loss: 0.5386 - val_accuracy: 0.7894 - 19s/epoch - 95ms/step\n",
            "Epoch 3/10\n",
            "200/200 - 19s - loss: 0.3143 - accuracy: 0.8686 - val_loss: 0.5132 - val_accuracy: 0.7976 - 19s/epoch - 94ms/step\n",
            "Epoch 4/10\n",
            "200/200 - 19s - loss: 0.2610 - accuracy: 0.8947 - val_loss: 0.5940 - val_accuracy: 0.7730 - 19s/epoch - 93ms/step\n",
            "Epoch 5/10\n",
            "200/200 - 19s - loss: 0.1963 - accuracy: 0.9250 - val_loss: 0.3928 - val_accuracy: 0.8658 - 19s/epoch - 93ms/step\n",
            "Epoch 6/10\n",
            "200/200 - 19s - loss: 0.1545 - accuracy: 0.9422 - val_loss: 0.5802 - val_accuracy: 0.8226 - 19s/epoch - 94ms/step\n",
            "Epoch 7/10\n",
            "200/200 - 19s - loss: 0.1273 - accuracy: 0.9514 - val_loss: 0.8159 - val_accuracy: 0.7846 - 19s/epoch - 94ms/step\n",
            "Epoch 8/10\n",
            "200/200 - 19s - loss: 0.1017 - accuracy: 0.9625 - val_loss: 0.7833 - val_accuracy: 0.8002 - 19s/epoch - 93ms/step\n",
            "Epoch 9/10\n",
            "200/200 - 19s - loss: 0.0921 - accuracy: 0.9665 - val_loss: 0.7071 - val_accuracy: 0.8290 - 19s/epoch - 94ms/step\n",
            "Epoch 10/10\n",
            "200/200 - 19s - loss: 0.0767 - accuracy: 0.9717 - val_loss: 0.7826 - val_accuracy: 0.8110 - 19s/epoch - 93ms/step\n"
          ]
        }
      ],
      "source": [
        "train_history =model.fit(x_train, np.array(y_train),batch_size=100, \n",
        "                         epochs=10,verbose=2,\n",
        "                         validation_split=0.2)"
      ]
    },
    {
      "cell_type": "code",
      "execution_count": null,
      "metadata": {
        "collapsed": true,
        "id": "uuP70dF7Qti2"
      },
      "outputs": [],
      "source": [
        "import matplotlib.pyplot as plt\n",
        "def show_train_history(train_history,train,validation):\n",
        "    plt.plot(train_history.history[train])\n",
        "    plt.plot(train_history.history[validation])\n",
        "    plt.title('Train History')\n",
        "    plt.ylabel(train)\n",
        "    plt.xlabel('Epoch')\n",
        "    plt.legend(['train', 'validation'], loc='upper left')\n",
        "    plt.show()"
      ]
    },
    {
      "cell_type": "code",
      "execution_count": null,
      "metadata": {
        "colab": {
          "base_uri": "https://localhost:8080/",
          "height": 295
        },
        "id": "amr68HJ8Qti2",
        "outputId": "dc451038-81c4-4563-a579-f1c0c1708e8b"
      },
      "outputs": [
        {
          "output_type": "display_data",
          "data": {
            "image/png": "[encoded data removed]",
            "text/plain": [
              "<Figure size 432x288 with 1 Axes>"
            ]
          },
          "metadata": {
            "needs_background": "light"
          }
        }
      ],
      "source": [
        "show_train_history(train_history,'accuracy','val_accuracy')"
      ]
    },
    {
      "cell_type": "code",
      "execution_count": null,
      "metadata": {
        "colab": {
          "base_uri": "https://localhost:8080/",
          "height": 295
        },
        "id": "mKvD82FgQti3",
        "outputId": "6033dac3-c137-41ca-9498-a5242b9de975"
      },
      "outputs": [
        {
          "output_type": "display_data",
          "data": {
            "image/png": "[encoded data removed]",
            "text/plain": [
              "<Figure size 432x288 with 1 Axes>"
            ]
          },
          "metadata": {
            "needs_background": "light"
          }
        }
      ],
      "source": [
        "show_train_history(train_history,'loss','val_loss')"
      ]
    },
    {
      "cell_type": "markdown",
      "metadata": {
        "id": "ckYnRLu0Qti3"
      },
      "source": [
        "# 評估模型準確率"
      ]
    },
    {
      "cell_type": "code",
      "execution_count": null,
      "metadata": {
        "colab": {
          "base_uri": "https://localhost:8080/"
        },
        "id": "bKaRczvwQti3",
        "outputId": "5fa02883-e941-40f6-dac4-07a28d6a8c4d"
      },
      "outputs": [
        {
          "output_type": "stream",
          "name": "stdout",
          "text": [
            "782/782 [==============================] - 16s 20ms/step - loss: 0.6197 - accuracy: 0.8396\n"
          ]
        },
        {
          "output_type": "execute_result",
          "data": {
            "text/plain": [
              "0.8396400213241577"
            ]
          },
          "metadata": {},
          "execution_count": 27
        }
      ],
      "source": [
        "scores = model.evaluate(x_test, np.array(y_test), verbose=1)\n",
        "scores[1]"
      ]
    },
    {
      "cell_type": "markdown",
      "metadata": {
        "id": "_9ZJqet0Qti4"
      },
      "source": [
        "# 預測機率"
      ]
    },
    {
      "cell_type": "code",
      "execution_count": null,
      "metadata": {
        "collapsed": true,
        "id": "8xOnuuFuQti4"
      },
      "outputs": [],
      "source": [
        "probility=model.predict(x_test)"
      ]
    },
    {
      "cell_type": "code",
      "execution_count": null,
      "metadata": {
        "colab": {
          "base_uri": "https://localhost:8080/"
        },
        "id": "hya2J5ThQti4",
        "outputId": "c7fefe00-3055-4911-bdff-22a0563711d7"
      },
      "outputs": [
        {
          "output_type": "execute_result",
          "data": {
            "text/plain": [
              "array([[0.9996917 ],\n",
              "       [0.99662834],\n",
              "       [0.9999934 ],\n",
              "       [0.9995794 ],\n",
              "       [0.9970381 ],\n",
              "       [0.9977028 ],\n",
              "       [0.9981756 ],\n",
              "       [0.2267251 ],\n",
              "       [0.9961481 ],\n",
              "       [0.70089006]], dtype=float32)"
            ]
          },
          "metadata": {},
          "execution_count": 29
        }
      ],
      "source": [
        "probility[:10]"
      ]
    },
    {
      "cell_type": "code",
      "execution_count": null,
      "metadata": {
        "colab": {
          "base_uri": "https://localhost:8080/"
        },
        "id": "sS5Nek2TQti4",
        "outputId": "cfb40d7e-f9d4-482f-b6c2-5b148facc56e"
      },
      "outputs": [
        {
          "output_type": "stream",
          "name": "stdout",
          "text": [
            "[0.00070333]\n",
            "[0.00947964]\n",
            "[0.03783876]\n",
            "[0.00421831]\n",
            "[0.9893111]\n",
            "[0.00010088]\n",
            "[0.00028256]\n",
            "[0.00128752]\n",
            "[0.13488412]\n",
            "[0.02044198]\n"
          ]
        }
      ],
      "source": [
        "for p in probility[12500:12510]:\n",
        "    print(p)"
      ]
    },
    {
      "cell_type": "markdown",
      "metadata": {
        "id": "E-4JUbenQti5"
      },
      "source": [
        "# 預測結果"
      ]
    },
    {
      "cell_type": "code",
      "execution_count": null,
      "metadata": {
        "id": "QNl4qnmbQti5"
      },
      "outputs": [],
      "source": [
        "predict=model.predict(x_test)\n",
        "predict=np.where(predict > 0.5, 1, 0)"
      ]
    },
    {
      "cell_type": "code",
      "execution_count": null,
      "metadata": {
        "colab": {
          "base_uri": "https://localhost:8080/"
        },
        "id": "7RhoSdqCQti5",
        "outputId": "fdf85384-b06e-42ad-a326-da82abe636f6"
      },
      "outputs": [
        {
          "output_type": "execute_result",
          "data": {
            "text/plain": [
              "array([[1],\n",
              "       [1],\n",
              "       [1],\n",
              "       [1],\n",
              "       [1],\n",
              "       [1],\n",
              "       [1],\n",
              "       [0],\n",
              "       [1],\n",
              "       [1]])"
            ]
          },
          "metadata": {},
          "execution_count": 34
        }
      ],
      "source": [
        "predict[:10]"
      ]
    },
    {
      "cell_type": "code",
      "execution_count": null,
      "metadata": {
        "colab": {
          "base_uri": "https://localhost:8080/"
        },
        "id": "wsteuNHfQti5",
        "outputId": "84902135-5a93-4f81-c83c-594b09da3363"
      },
      "outputs": [
        {
          "output_type": "execute_result",
          "data": {
            "text/plain": [
              "(25000, 1)"
            ]
          },
          "metadata": {},
          "execution_count": 35
        }
      ],
      "source": [
        "predict.shape"
      ]
    },
    {
      "cell_type": "code",
      "execution_count": null,
      "metadata": {
        "colab": {
          "base_uri": "https://localhost:8080/"
        },
        "id": "v1N01mRHQti6",
        "outputId": "11f9dcae-df42-4d40-8277-73862f1554a5"
      },
      "outputs": [
        {
          "output_type": "execute_result",
          "data": {
            "text/plain": [
              "array([1, 1, 1, ..., 0, 0, 0])"
            ]
          },
          "metadata": {},
          "execution_count": 36
        }
      ],
      "source": [
        "predict_classes=predict.reshape(25000)\n",
        "predict_classes"
      ]
    },
    {
      "cell_type": "markdown",
      "metadata": {
        "id": "H5ROMUmkQti6"
      },
      "source": [
        "# 查看預測結果"
      ]
    },
    {
      "cell_type": "code",
      "execution_count": null,
      "metadata": {
        "collapsed": true,
        "id": "eYZukbPCQti6"
      },
      "outputs": [],
      "source": [
        "SentimentDict={1:'正面的',0:'負面的'}\n",
        "def display_test_Sentiment(i):\n",
        "    print(test_text[i])\n",
        "    print('label真實值:',SentimentDict[y_test[i]],\n",
        "          '預測結果:',SentimentDict[predict_classes[i]])"
      ]
    },
    {
      "cell_type": "code",
      "execution_count": null,
      "metadata": {
        "colab": {
          "base_uri": "https://localhost:8080/"
        },
        "id": "2pWpBdHmQti6",
        "outputId": "a3030eb4-3548-48cb-9f36-2b43a4842662"
      },
      "outputs": [
        {
          "output_type": "stream",
          "name": "stdout",
          "text": [
            "When Pinky, a qualified electrician, is released from prison, his parole officer has found him a job working at a big city bank. When some of the crime underworld from his past learn of his position they plan to exploit it and rob the bank. Pinky is at first horrified because he really wants to go straight, but when a twist of fate happens Pinky begins to think one shouldn't look a gift horse in the mouth.Also known as The Mayfair Bank Caper {amongst others!}, this is a hugely enjoyable piece that is quintessential 1970s. London and all it's highly dubious fashions are lit up like a Christmas tree in Ralph Thomas and Guy Elmes' cunningly crafty caper. If the viewer can accept David Niven as an aged crime lord of some evility {it's not easy i can tell you}, then A Nightingale Sang in Berkeley Square could well surprise you. The actors aren't pulling up any trees for sure, but it's really not hurting the picture at all, it has an honest fun quality that is never less than entertaining. The score and soundtrack is perhaps guilty of over jollification during the dramatic criminal moments, but it's a minor complaint to leave me thinking this is an under seen British gem.Richard Jordan takes the lead role of Pinky (obviously hoping to lure in American viewers}, 70s heart throb Oliver Tobias {a mass of hair} is in there to keep the ladies interested, whilst the blokes get the pleasurable sight of Elke Sommer and her delightful legs for company. Moving along at a decent enough clip and containing a seriously rewarding finale, A Nightingale Sang in Berkeley Square deserves far better than the paltry 5.7 rating here on IMDb, but just how many people have seen it i wonder?, hmm, go on give it a go if you the chance, it's good stuff. 7/10\n",
            "label真實值: 正面的 預測結果: 正面的\n"
          ]
        }
      ],
      "source": [
        "display_test_Sentiment(2)"
      ]
    },
    {
      "cell_type": "code",
      "execution_count": null,
      "metadata": {
        "colab": {
          "base_uri": "https://localhost:8080/"
        },
        "id": "C5C5CNYWQti7",
        "outputId": "e3ec9806-4bf5-473c-91ce-e8da655a97d9"
      },
      "outputs": [
        {
          "output_type": "stream",
          "name": "stdout",
          "text": [
            "This is a true gem of a TV film. Based on a completely untrue story, it follows the course of the down-and-out football league club through their course in the English FA cup, where mayhem ensues and the players all sport seventies styles. The ending is unexpected, the performances are great, and Nick Hancock shows that he CAN do something other than host sports shows. My only regret is that I didn't tape it.\n",
            "label真實值: 正面的 預測結果: 正面的\n"
          ]
        }
      ],
      "source": [
        "display_test_Sentiment(3)"
      ]
    },
    {
      "cell_type": "code",
      "execution_count": null,
      "metadata": {
        "colab": {
          "base_uri": "https://localhost:8080/"
        },
        "id": "MidwJAqOQti7",
        "outputId": "b220e3de-5bba-434e-9838-6d53bda8fd7f"
      },
      "outputs": [
        {
          "output_type": "execute_result",
          "data": {
            "text/plain": [
              "array([0, 0, 0, 0, 1, 0, 0, 0, 0, 0])"
            ]
          },
          "metadata": {},
          "execution_count": 40
        }
      ],
      "source": [
        "predict_classes[12500:12510]"
      ]
    },
    {
      "cell_type": "code",
      "execution_count": null,
      "metadata": {
        "colab": {
          "base_uri": "https://localhost:8080/"
        },
        "id": "xMd4miz_Qti7",
        "outputId": "15a22470-e3b6-411d-b77f-f507c1181aab"
      },
      "outputs": [
        {
          "output_type": "stream",
          "name": "stdout",
          "text": [
            "I am a huge Eric Roberts fan, I collect his movies and so far has get to 60. But I´m honest to say that sometimes he really makes awful movies. But hey that´s why I like him - he is entertaining.But this one has to take the price, I can´t stop wonder why. Somehow they managed to get Eric and also Corbin Bernsen to the picture.While Bernsen is plain awful (I really don´t like him), Roberts manage to be the best thing in the movie (and that doesn´t mean much). He practically do it on routine basis.The female lead (Brasselle) looks like a plastic doll and acts like one to. And Tim Abell and his crew looks like action-man plastic dolls and acts like those to.The plot is really embarrasing. I haven´t seen any of the Carnosaur movies so I can´t recall on the footage that has been added from there, but it explains some things. But still there are holes huge as craters in the plot.SPOILERS ALERTThe first attacks are located outside the laboratory in the woods nearby. But at the end they blow the whole laboratory in pieces and just relax that everything is over, but they forgot about the ones outside??????When the helicopter pilot is eaten alive I wonder how she couldn´t notice a T-rex climbing into the chopper????The guys in orange overalls is my favourite - what are they doing, out for a jogging round or what??Of course there are a B-movie standard sex-scene with silicon titties involved too. This time it´s Lorissa McComas that greets us. I don´t have any problem with that (she looks awful) but to look at a guy squeezing tits and being on the verge of climax for 8!!!! minutes is just tooo long.Shame on you all (including Eric Roberts) - Now I look forward to watch Con Games (I wonder???)\n",
            "label真實值: 負面的 預測結果: 負面的\n"
          ]
        }
      ],
      "source": [
        "display_test_Sentiment(12502)"
      ]
    },
    {
      "cell_type": "code",
      "execution_count": null,
      "metadata": {
        "collapsed": true,
        "id": "BzDGvlTeQti7"
      },
      "outputs": [],
      "source": [
        "#預測新的影評"
      ]
    },
    {
      "cell_type": "code",
      "execution_count": null,
      "metadata": {
        "id": "2saBBudBQti8"
      },
      "outputs": [],
      "source": [
        "input_text='''\n",
        "I can't vote because I have not watched this movie yet. I've been wanting to watch this movie since the time they announced making it which is about 2 years ago (!)\n",
        "I was planning to go with the family to see the anticipated movie but my nieces had school exams at the opening time so we all decided to wait for the next weekend. I was utterly shocked to learn yesterday that they pulled the movie from the Kuwaiti theaters \"temporarily\" so that the outrageous censorship system can remove some unwanted scenes.\n",
        "The controversial gay \"moment\" according to my online research is barely there, so I can't find any logical reason for all the fuss that's been going on. And it was bad enough when fanatics and haters tried (in vain) to kill the movie with low ratings and negative reviews even before it was in the cinemas and I'm pretty sure most of those trolls never got the chance to watch the movie at that time.\n",
        "Based on the trailers, I think the movie is very promising and entertaining and you can't simply overlook the tremendous efforts made to bring this beloved tale to life. To knock down hundreds of people's obvious hard work with unprofessional critique and negative reviews just for the sake of hatred is unfathomable. I hope people won't judge a movie before having the experience of watching it in the first place.\n",
        "Impatiently waiting for the Kuwaiti cinemas to bring back the movie... \n",
        "'''"
      ]
    },
    {
      "cell_type": "code",
      "execution_count": null,
      "metadata": {
        "collapsed": true,
        "id": "wSJd_cuXQti8"
      },
      "outputs": [],
      "source": [
        "input_seq = token.texts_to_sequences([input_text])"
      ]
    },
    {
      "cell_type": "code",
      "execution_count": null,
      "metadata": {
        "colab": {
          "base_uri": "https://localhost:8080/"
        },
        "id": "V1vWDmxbQti8",
        "outputId": "cb003420-fd09-4556-8cfd-802154c1747d"
      },
      "outputs": [
        {
          "output_type": "stream",
          "name": "stdout",
          "text": [
            "[9, 187, 2308, 83, 9, 24, 20, 292, 10, 16, 242, 203, 73, 1779, 5, 102, 10, 16, 233, 1, 54, 32, 227, 8, 59, 6, 40, 237, 149, 591, 9, 12, 3595, 5, 136, 15, 1, 219, 5, 63, 1, 16, 17, 57, 65, 391, 29, 1, 632, 54, 34, 71, 28, 867, 5, 854, 14, 1, 372, 2489, 9, 12, 1251, 2416, 5, 846, 11, 32, 1911, 1, 16, 35, 1, 2254, 34, 11, 1, 3590, 1502, 66, 45, 135, 1, 3108, 989, 557, 1788, 5, 57, 2295, 6, 1196, 46, 34, 9, 187, 165, 97, 3677, 279, 14, 28, 1, 194, 73, 166, 19, 2, 8, 12, 75, 191, 50, 2, 798, 7, 5, 512, 1, 16, 15, 360, 2887, 2, 1560, 852, 56, 154, 8, 12, 7, 1, 2, 142, 180, 248, 87, 4, 144, 111, 184, 1, 576, 5, 102, 1, 16, 29, 11, 54, 444, 19, 1, 9, 100, 1, 16, 6, 51, 2433, 2, 438, 2, 21, 187, 327, 1, 3511, 2047, 89, 5, 717, 10, 2753, 780, 5, 109, 5, 3305, 176, 3103, 4, 2851, 573, 250, 153, 15, 2, 1560, 852, 39, 14, 1, 2113, 4, 3680, 6, 9, 436, 80, 524, 1922, 3, 16, 154, 256, 1, 580, 4, 145, 8, 7, 1, 82, 269, 1061, 14, 1, 5, 717, 141, 1, 16]\n"
          ]
        }
      ],
      "source": [
        "print(input_seq[0])"
      ]
    },
    {
      "cell_type": "code",
      "execution_count": null,
      "metadata": {
        "colab": {
          "base_uri": "https://localhost:8080/"
        },
        "id": "d2nMMWnOQti9",
        "outputId": "faefccfa-dbac-42e1-e938-e8d3618584bd"
      },
      "outputs": [
        {
          "output_type": "execute_result",
          "data": {
            "text/plain": [
              "223"
            ]
          },
          "metadata": {},
          "execution_count": 45
        }
      ],
      "source": [
        "len(input_seq[0] )"
      ]
    },
    {
      "cell_type": "code",
      "execution_count": null,
      "metadata": {
        "collapsed": true,
        "id": "ji6N1XHvQti9"
      },
      "outputs": [],
      "source": [
        "pad_input_seq  = sequence.pad_sequences(input_seq , maxlen=380)"
      ]
    },
    {
      "cell_type": "code",
      "execution_count": null,
      "metadata": {
        "colab": {
          "base_uri": "https://localhost:8080/"
        },
        "id": "kvajHVZOQti9",
        "outputId": "785e45bc-d74a-4197-fe87-5cc092824d7d"
      },
      "outputs": [
        {
          "output_type": "execute_result",
          "data": {
            "text/plain": [
              "380"
            ]
          },
          "metadata": {},
          "execution_count": 47
        }
      ],
      "source": [
        "len(pad_input_seq[0])"
      ]
    },
    {
      "cell_type": "code",
      "execution_count": null,
      "metadata": {
        "id": "hBuwrtlSQti9"
      },
      "outputs": [],
      "source": [
        "predict=model.predict(pad_input_seq)\n",
        "predict_result=np.where(predict > 0.5, 1, 0)"
      ]
    },
    {
      "cell_type": "code",
      "execution_count": null,
      "metadata": {
        "colab": {
          "base_uri": "https://localhost:8080/"
        },
        "id": "Lz341xfbQti-",
        "outputId": "231611d8-2c5f-4edd-d16f-39a58e61bd20"
      },
      "outputs": [
        {
          "output_type": "execute_result",
          "data": {
            "text/plain": [
              "array([[0]])"
            ]
          },
          "metadata": {},
          "execution_count": 50
        }
      ],
      "source": [
        "predict_result"
      ]
    },
    {
      "cell_type": "code",
      "execution_count": null,
      "metadata": {
        "colab": {
          "base_uri": "https://localhost:8080/",
          "height": 35
        },
        "id": "SMwmBwVAQti-",
        "outputId": "14dff053-3bc0-42ad-d6e9-53e34c276988"
      },
      "outputs": [
        {
          "output_type": "execute_result",
          "data": {
            "application/vnd.google.colaboratory.intrinsic+json": {
              "type": "string"
            },
            "text/plain": [
              "'負面的'"
            ]
          },
          "metadata": {},
          "execution_count": 51
        }
      ],
      "source": [
        "SentimentDict[predict_result[0][0]]"
      ]
    },
    {
      "cell_type": "code",
      "execution_count": null,
      "metadata": {
        "collapsed": true,
        "id": "L5_hJyB9Qti-"
      },
      "outputs": [],
      "source": [
        "def predict_review(input_text):\n",
        "    input_seq = token.texts_to_sequences([input_text])\n",
        "    pad_input_seq  = sequence.pad_sequences(input_seq , maxlen=380)\n",
        "    predict=model.predict(pad_input_seq)\n",
        "    predict_result=np.where(predict > 0.5, 1, 0)\n",
        "    print(SentimentDict[predict_result[0][0]])"
      ]
    },
    {
      "cell_type": "code",
      "execution_count": null,
      "metadata": {
        "collapsed": true,
        "id": "8AMMrqqjQti_"
      },
      "outputs": [],
      "source": [
        "#http://www.imdb.com/title/tt2771200/\n",
        "#http://www.imdb.com/title/tt2771200"
      ]
    },
    {
      "cell_type": "code",
      "execution_count": null,
      "metadata": {
        "colab": {
          "base_uri": "https://localhost:8080/"
        },
        "id": "PgY92Ep0Qti_",
        "outputId": "c86e60db-b2a5-424f-dff1-92afda6077e4"
      },
      "outputs": [
        {
          "output_type": "stream",
          "name": "stdout",
          "text": [
            "負面的\n"
          ]
        }
      ],
      "source": [
        "predict_review('''\n",
        "As a fan of the original Disney film (Personally I feel it's their masterpiece) I was taken aback to the fact that a new version was in the making. Still excited I had high hopes for the film. Most of was shattered in the first 10 minutes. Campy acting with badly performed singing starts off a long journey holding hands with some of the worst CGI Hollywood have managed to but to screen in ages.\n",
        "A film that is over 50% GCI, should focus on making that part believable, unfortunately for this film, it's far from that. It looks like the original film was ripped apart frame by frame and the beautiful hand-painted drawings have been replaced with digital caricatures. Besides CGI that is bad, it's mostly creepy. As the little teacup boy will give me nightmares for several nights to come. Emma Watson plays the same character as she always does, with very little acting effort and very little conviction as Belle. Although I can see why she was cast in the film based on merits, she is far from the right choice for the role. Dan Stevens does alright under as some motion captured dead-eyed Beast, but his performance feels flat as well. Luke Evans makes for a great pompous Gaston, but a character that has little depth doesn't really make for a great viewing experience. Josh Gad is a great comic relief just like the original movie's LeFou. Other than that, none of the cast stands out enough for me to remember them. Human or CHI creature. I was just bored through out the whole experience. And for a project costing $160 000 000, I can see why the PR department is pushing it so hard because they really need to get some cash back on this pile of wet stinky CGI-fur!\n",
        "All and all, I might be bias from really loving Disney's first adaptation. That for me marks the high-point of all their work, perfectly combining the skills of their animators along with some CGI in a majestic blend. This film however is more like the bucket you wash off your paintbrush in, it has all the same colors, but muddled with water and to thin to make a captivating story from. The film is quite frankly not worth your time, you would be better off watching the original one more time. \n",
        "''')"
      ]
    },
    {
      "cell_type": "code",
      "execution_count": null,
      "metadata": {
        "colab": {
          "base_uri": "https://localhost:8080/"
        },
        "id": "jWr8jBuwQti_",
        "outputId": "bcca435b-4186-4d4f-871f-266d269813da"
      },
      "outputs": [
        {
          "output_type": "stream",
          "name": "stdout",
          "text": [
            "負面的\n"
          ]
        }
      ],
      "source": [
        "predict_review('''\n",
        "I was really looking forward to this film. Not only has Disney recently made excellent live-action versions of their animated masterpieces (Jungle Book, Cinderella), but the cast alone (Emma Watson, Ian McKellen, Kevin Kline) already seemed to make this one a sure hit. Well, not so much as it turns out.\n",
        "Some of the animation is fantastic, but because characters like Cogsworth (the clock), Lumière (the candelabra) and Chip (the little tea cup) now look \"realistic\", they lose a lot of their animated predecessors' charm and actually even look kind of creepy at times. And ironically - unlike in the animated original - in this new realistic version they only have very limited facial expressions (which is a creative decision I can't for the life of me understand).\n",
        "Even when it works: there can be too much of a good thing. The film is overstuffed with lush production design and cgi (which is often weirdly artificial looking though) but sadly lacking in charm and genuine emotion. If this were a music album, I'd say it is \"over-produced\" and in need of more soul and swing. The great voice talent in some cases actually seems wasted, because it drowns in a sea of visual effects that numbs all senses. The most crucial thing that didn't work for me, though, is the Beast. He just never looks convincing. The eyes somehow don't look like real eyes and they're always slightly off.\n",
        "On the positive side, I really liked Gaston, and the actor who played him, Luke Evans, actually gave the perhaps most energized performance of all. Kevin Kline as Belle's father has little to do but to look fatherly and old, but he makes the most of his part. Speaking of Belle, now that I've seen the film, I think her role was miscast. I think someone like Rachel McAdams would actually have been a more natural, lively and perhaps a bit more feisty Belle than Emma Watson.\n",
        "If you love the original, you might want to give this one a pass, it's really not that good (although at least the songs were OK). Also, I'd think twice before bringing small children; without cute animated faces, all those \"realistic\" looking creatures and devices can be rather frightening for a child. ''')"
      ]
    },
    {
      "cell_type": "code",
      "execution_count": null,
      "metadata": {
        "colab": {
          "base_uri": "https://localhost:8080/"
        },
        "id": "xepdrBD7QtjA",
        "outputId": "eadd9362-77d2-4522-f69f-9ef80b8a62f6"
      },
      "outputs": [
        {
          "output_type": "stream",
          "name": "stdout",
          "text": [
            "正面的\n"
          ]
        }
      ],
      "source": [
        "predict_review('''\n",
        "The original Beauty and the Beast was my favorite cartoon as a kid but it did have major plot holes. Why had no one else ever seen the castle or knew where it was? Didn't anyone miss the people who were cursed? All of that gets an explanation when the enchantress places her curse in the beginning. Why did Belle and her Father move to a small town? Her mother died and the father thought it as best to leave. I love the new songs and added lyrics to the originals. I like the way the cgi beast looks (just the face is CGi). I think Emma Watson is a perfect Belle who is outspoken, fearless, and different. The set design is perfect for the era in France.\n",
        "I know a lot of people disagree but I found this remake with all its changes to be more enchanting, beautiful, and complete than the original 1991 movie. To each his own but I think everyone should see it for themselves. \n",
        "''')"
      ]
    },
    {
      "cell_type": "code",
      "execution_count": null,
      "metadata": {
        "colab": {
          "base_uri": "https://localhost:8080/"
        },
        "id": "o9m2MEF7QtjA",
        "outputId": "c779747c-e19d-46b7-d826-f643b02f6eaa"
      },
      "outputs": [
        {
          "output_type": "stream",
          "name": "stdout",
          "text": [
            "正面的\n"
          ]
        }
      ],
      "source": [
        "predict_review('''\n",
        "\"Beauty and the Beast\" was stunning and gorgeous. Beautifully and artfully performed. Dazzlingly colorful and charming. Fresh and lighthearted. Wonderfully and magically enthralling. I laughed, I cried, I floated along with the music, I bawled and bawled as the spellbinding elegance and splendor took me to another place and time. I was 5 years old again enjoying the Wonderful World of Magic that is Disney, as if for the first time. I will gladly spend my money over and over to see that magic unfold. I willingly and happily concede Emma Watson to be Belle, for this generation of children, instead of Hermione. She has earned her place as a Disney princess and I applaud everyone who had a part in this piece of magic. Truly, Disney knows how to make us all children again. \n",
        "''')"
      ]
    },
    {
      "cell_type": "markdown",
      "metadata": {
        "id": "onGzlTodQtjA"
      },
      "source": [
        "# serialize model to JSON"
      ]
    },
    {
      "cell_type": "code",
      "execution_count": null,
      "metadata": {
        "id": "_F4mluSeQtjB",
        "outputId": "579d5814-5bb0-4956-a210-24c7b04edab4"
      },
      "outputs": [
        {
          "name": "stdout",
          "output_type": "stream",
          "text": [
            "Saved model to disk\n"
          ]
        }
      ],
      "source": [
        "model_json = model.to_json()\n",
        "with open(\"SaveModel/Imdb_RNN_model.json\", \"w\") as json_file:\n",
        "    json_file.write(model_json)\n",
        "\n",
        "model.save_weights(\"SaveModel/Imdb_RNN_model.h5\")\n",
        "print(\"Saved model to disk\")"
      ]
    },
    {
      "cell_type": "code",
      "execution_count": null,
      "metadata": {
        "id": "xcqOqsTGQtjB",
        "outputId": "ee6ee33f-3cbd-42bc-f18c-3b7fdce6b7e8"
      },
      "outputs": [
        {
          "data": {
            "text/plain": [
              "([1.02, 2.03, -1.2, 2, 2], [1, 2.1, 3, 2.2, 3.4, 3.6])"
            ]
          },
          "execution_count": 52,
          "metadata": {},
          "output_type": "execute_result"
        }
      ],
      "source": [
        "[1.02,2.03,-1.2,2,2],[1,2.1,3,2.2,3.4,3.6]"
      ]
    }
  ],
  "metadata": {
    "anaconda-cloud": {},
    "colab": {
      "collapsed_sections": [],
      "name": "08_M204_Keras_Imdb_RNN.ipynb",
      "provenance": []
    },
    "kernelspec": {
      "display_name": "Python 3",
      "language": "python",
      "name": "python3"
    },
    "language_info": {
      "codemirror_mode": {
        "name": "ipython",
        "version": 3
      },
      "file_extension": ".py",
      "mimetype": "text/x-python",
      "name": "python",
      "nbconvert_exporter": "python",
      "pygments_lexer": "ipython3",
      "version": "3.5.3"
    }
  },
  "nbformat": 4,
  "nbformat_minor": 0
}