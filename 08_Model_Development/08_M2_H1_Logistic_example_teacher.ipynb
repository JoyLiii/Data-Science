{
 "cells": [
  {
   "cell_type": "markdown",
   "metadata": {},
   "source": [
    "# 資料類別編碼"
   ]
  },
  {
   "cell_type": "code",
   "execution_count": 1,
   "metadata": {},
   "outputs": [],
   "source": [
    "import pandas as pd\r\n",
    "pd.set_option('display.max_columns', None)"
   ]
  },
  {
   "cell_type": "markdown",
   "metadata": {},
   "source": [
    "## 讀取航空公司客戶滿意度資料"
   ]
  },
  {
   "cell_type": "code",
   "execution_count": 2,
   "metadata": {},
   "outputs": [
    {
     "data": {
      "text/html": "<div>\n<style scoped>\n    .dataframe tbody tr th:only-of-type {\n        vertical-align: middle;\n    }\n\n    .dataframe tbody tr th {\n        vertical-align: top;\n    }\n\n    .dataframe thead th {\n        text-align: right;\n    }\n</style>\n<table border=\"1\" class=\"dataframe\">\n  <thead>\n    <tr style=\"text-align: right;\">\n      <th></th>\n      <th>satisfaction</th>\n      <th>Gender</th>\n      <th>Customer Type</th>\n      <th>Age</th>\n      <th>Type of Travel</th>\n      <th>Class</th>\n      <th>Flight Distance</th>\n      <th>Seat comfort</th>\n      <th>Departure/Arrival time convenient</th>\n      <th>Food and drink</th>\n      <th>Gate location</th>\n      <th>Inflight wifi service</th>\n      <th>Inflight entertainment</th>\n      <th>Online support</th>\n      <th>Ease of Online booking</th>\n      <th>On-board service</th>\n      <th>Leg room service</th>\n      <th>Baggage handling</th>\n      <th>Checkin service</th>\n      <th>Cleanliness</th>\n      <th>Online boarding</th>\n      <th>Departure Delay in Minutes</th>\n      <th>Arrival Delay in Minutes</th>\n    </tr>\n  </thead>\n  <tbody>\n    <tr>\n      <th>0</th>\n      <td>satisfied</td>\n      <td>Female</td>\n      <td>Loyal Customer</td>\n      <td>65</td>\n      <td>Personal Travel</td>\n      <td>Eco</td>\n      <td>265</td>\n      <td>0</td>\n      <td>0</td>\n      <td>0</td>\n      <td>2</td>\n      <td>2</td>\n      <td>4</td>\n      <td>2</td>\n      <td>3</td>\n      <td>3</td>\n      <td>0</td>\n      <td>3</td>\n      <td>5</td>\n      <td>3</td>\n      <td>2</td>\n      <td>0</td>\n      <td>0.0</td>\n    </tr>\n    <tr>\n      <th>1</th>\n      <td>satisfied</td>\n      <td>Male</td>\n      <td>Loyal Customer</td>\n      <td>47</td>\n      <td>Personal Travel</td>\n      <td>Business</td>\n      <td>2464</td>\n      <td>0</td>\n      <td>0</td>\n      <td>0</td>\n      <td>3</td>\n      <td>0</td>\n      <td>2</td>\n      <td>2</td>\n      <td>3</td>\n      <td>4</td>\n      <td>4</td>\n      <td>4</td>\n      <td>2</td>\n      <td>3</td>\n      <td>2</td>\n      <td>310</td>\n      <td>305.0</td>\n    </tr>\n    <tr>\n      <th>2</th>\n      <td>satisfied</td>\n      <td>Female</td>\n      <td>Loyal Customer</td>\n      <td>15</td>\n      <td>Personal Travel</td>\n      <td>Eco</td>\n      <td>2138</td>\n      <td>0</td>\n      <td>0</td>\n      <td>0</td>\n      <td>3</td>\n      <td>2</td>\n      <td>0</td>\n      <td>2</td>\n      <td>2</td>\n      <td>3</td>\n      <td>3</td>\n      <td>4</td>\n      <td>4</td>\n      <td>4</td>\n      <td>2</td>\n      <td>0</td>\n      <td>0.0</td>\n    </tr>\n    <tr>\n      <th>3</th>\n      <td>satisfied</td>\n      <td>Female</td>\n      <td>Loyal Customer</td>\n      <td>60</td>\n      <td>Personal Travel</td>\n      <td>Eco</td>\n      <td>623</td>\n      <td>0</td>\n      <td>0</td>\n      <td>0</td>\n      <td>3</td>\n      <td>3</td>\n      <td>4</td>\n      <td>3</td>\n      <td>1</td>\n      <td>1</td>\n      <td>0</td>\n      <td>1</td>\n      <td>4</td>\n      <td>1</td>\n      <td>3</td>\n      <td>0</td>\n      <td>0.0</td>\n    </tr>\n    <tr>\n      <th>4</th>\n      <td>satisfied</td>\n      <td>Female</td>\n      <td>Loyal Customer</td>\n      <td>70</td>\n      <td>Personal Travel</td>\n      <td>Eco</td>\n      <td>354</td>\n      <td>0</td>\n      <td>0</td>\n      <td>0</td>\n      <td>3</td>\n      <td>4</td>\n      <td>3</td>\n      <td>4</td>\n      <td>2</td>\n      <td>2</td>\n      <td>0</td>\n      <td>2</td>\n      <td>4</td>\n      <td>2</td>\n      <td>5</td>\n      <td>0</td>\n      <td>0.0</td>\n    </tr>\n  </tbody>\n</table>\n</div>",
      "text/plain": "  satisfaction  Gender   Customer Type  Age   Type of Travel     Class  \\\n0    satisfied  Female  Loyal Customer   65  Personal Travel       Eco   \n1    satisfied    Male  Loyal Customer   47  Personal Travel  Business   \n2    satisfied  Female  Loyal Customer   15  Personal Travel       Eco   \n3    satisfied  Female  Loyal Customer   60  Personal Travel       Eco   \n4    satisfied  Female  Loyal Customer   70  Personal Travel       Eco   \n\n   Flight Distance  Seat comfort  Departure/Arrival time convenient  \\\n0              265             0                                  0   \n1             2464             0                                  0   \n2             2138             0                                  0   \n3              623             0                                  0   \n4              354             0                                  0   \n\n   Food and drink  Gate location  Inflight wifi service  \\\n0               0              2                      2   \n1               0              3                      0   \n2               0              3                      2   \n3               0              3                      3   \n4               0              3                      4   \n\n   Inflight entertainment  Online support  Ease of Online booking  \\\n0                       4               2                       3   \n1                       2               2                       3   \n2                       0               2                       2   \n3                       4               3                       1   \n4                       3               4                       2   \n\n   On-board service  Leg room service  Baggage handling  Checkin service  \\\n0                 3                 0                 3                5   \n1                 4                 4                 4                2   \n2                 3                 3                 4                4   \n3                 1                 0                 1                4   \n4                 2                 0                 2                4   \n\n   Cleanliness  Online boarding  Departure Delay in Minutes  \\\n0            3                2                           0   \n1            3                2                         310   \n2            4                2                           0   \n3            1                3                           0   \n4            2                5                           0   \n\n   Arrival Delay in Minutes  \n0                       0.0  \n1                     305.0  \n2                       0.0  \n3                       0.0  \n4                       0.0  "
     },
     "execution_count": 2,
     "metadata": {},
     "output_type": "execute_result"
    }
   ],
   "source": [
    "# 讀取 航空公司客戶滿意度 data\r\n",
    "df = pd.read_csv('flight.csv')\r\n",
    "df.head()"
   ]
  },
  {
   "cell_type": "code",
   "execution_count": 3,
   "metadata": {},
   "outputs": [
    {
     "name": "stdout",
     "output_type": "stream",
     "text": [
      "<class 'pandas.core.frame.DataFrame'>\n",
      "RangeIndex: 129880 entries, 0 to 129879\n",
      "Data columns (total 23 columns):\n",
      " #   Column                             Non-Null Count   Dtype  \n",
      "---  ------                             --------------   -----  \n",
      " 0   satisfaction                       129880 non-null  object \n",
      " 1   Gender                             129880 non-null  object \n",
      " 2   Customer Type                      129880 non-null  object \n",
      " 3   Age                                129880 non-null  int64  \n",
      " 4   Type of Travel                     129880 non-null  object \n",
      " 5   Class                              129880 non-null  object \n",
      " 6   Flight Distance                    129880 non-null  int64  \n",
      " 7   Seat comfort                       129880 non-null  int64  \n",
      " 8   Departure/Arrival time convenient  129880 non-null  int64  \n",
      " 9   Food and drink                     129880 non-null  int64  \n",
      " 10  Gate location                      129880 non-null  int64  \n",
      " 11  Inflight wifi service              129880 non-null  int64  \n",
      " 12  Inflight entertainment             129880 non-null  int64  \n",
      " 13  Online support                     129880 non-null  int64  \n",
      " 14  Ease of Online booking             129880 non-null  int64  \n",
      " 15  On-board service                   129880 non-null  int64  \n",
      " 16  Leg room service                   129880 non-null  int64  \n",
      " 17  Baggage handling                   129880 non-null  int64  \n",
      " 18  Checkin service                    129880 non-null  int64  \n",
      " 19  Cleanliness                        129880 non-null  int64  \n",
      " 20  Online boarding                    129880 non-null  int64  \n",
      " 21  Departure Delay in Minutes         129880 non-null  int64  \n",
      " 22  Arrival Delay in Minutes           129487 non-null  float64\n",
      "dtypes: float64(1), int64(17), object(5)\n",
      "memory usage: 22.8+ MB\n"
     ]
    }
   ],
   "source": [
    "# 欄位Arrival Delay in Minutes有遺漏值\r\n",
    "df.info()"
   ]
  },
  {
   "cell_type": "markdown",
   "metadata": {},
   "source": [
    "## 類別型欄位轉數值型編碼"
   ]
  },
  {
   "cell_type": "code",
   "execution_count": 4,
   "metadata": {},
   "outputs": [
    {
     "name": "stdout",
     "output_type": "stream",
     "text": [
      "-------------------------satisfaction-------------------------\n",
      "satisfied       71087\n",
      "dissatisfied    58793\n",
      "Name: satisfaction, dtype: int64\n",
      "1    71087\n",
      "0    58793\n",
      "Name: satisfaction, dtype: int64\n",
      "--------------------------------------------------\n",
      "-------------------------Gender-------------------------\n",
      "Female    65899\n",
      "Male      63981\n",
      "Name: Gender, dtype: int64\n",
      "0    65899\n",
      "1    63981\n",
      "Name: Gender, dtype: int64\n",
      "--------------------------------------------------\n",
      "-------------------------Customer Type-------------------------\n",
      "Loyal Customer       106100\n",
      "disloyal Customer     23780\n",
      "Name: Customer Type, dtype: int64\n",
      "0    106100\n",
      "1     23780\n",
      "Name: Customer Type, dtype: int64\n",
      "--------------------------------------------------\n",
      "-------------------------Type of Travel-------------------------\n",
      "Business travel    89693\n",
      "Personal Travel    40187\n",
      "Name: Type of Travel, dtype: int64\n",
      "0    89693\n",
      "1    40187\n",
      "Name: Type of Travel, dtype: int64\n",
      "--------------------------------------------------\n",
      "-------------------------Class-------------------------\n",
      "Business    62160\n",
      "Eco         58309\n",
      "Eco Plus     9411\n",
      "Name: Class, dtype: int64\n",
      "0    62160\n",
      "1    58309\n",
      "2     9411\n",
      "Name: Class, dtype: int64\n",
      "--------------------------------------------------\n"
     ]
    }
   ],
   "source": [
    "from sklearn.preprocessing import LabelEncoder\r\n",
    "labelencoder = LabelEncoder()\r\n",
    "\r\n",
    "for _ , col in enumerate(df.columns.tolist()):\r\n",
    "    if df[col].dtype == 'object':\r\n",
    "        print('-'*25 + col + '-'*25)\r\n",
    "        print(df[col].value_counts())\r\n",
    "        df[col] = labelencoder.fit_transform(df[col])\r\n",
    "        print(df[col].value_counts())\r\n",
    "        print('-'*50)"
   ]
  },
  {
   "cell_type": "code",
   "execution_count": 5,
   "metadata": {},
   "outputs": [
    {
     "name": "stdout",
     "output_type": "stream",
     "text": [
      "True\n",
      "False\n"
     ]
    }
   ],
   "source": [
    "# 補值: 欄位Arrival Delay in Minutes有遺漏值\r\n",
    "print(df[['Arrival Delay in Minutes']].isnull().values.any())\r\n",
    "df[['Arrival Delay in Minutes']] = df[['Arrival Delay in Minutes']].fillna(0.0)\r\n",
    "print(df[['Arrival Delay in Minutes']].isnull().values.any())"
   ]
  },
  {
   "cell_type": "code",
   "execution_count": 6,
   "metadata": {},
   "outputs": [
    {
     "data": {
      "text/plain": "False"
     },
     "execution_count": 6,
     "metadata": {},
     "output_type": "execute_result"
    }
   ],
   "source": [
    "df.isnull().values.any()"
   ]
  },
  {
   "cell_type": "code",
   "execution_count": 7,
   "metadata": {},
   "outputs": [],
   "source": [
    "# save file\r\n",
    "df.to_csv('flight_satisfaction.csv', index=False)"
   ]
  },
  {
   "cell_type": "markdown",
   "metadata": {},
   "source": [
    "# 建立 Logistic Regression 模型"
   ]
  },
  {
   "cell_type": "code",
   "execution_count": 8,
   "metadata": {},
   "outputs": [
    {
     "data": {
      "text/html": "<div>\n<style scoped>\n    .dataframe tbody tr th:only-of-type {\n        vertical-align: middle;\n    }\n\n    .dataframe tbody tr th {\n        vertical-align: top;\n    }\n\n    .dataframe thead th {\n        text-align: right;\n    }\n</style>\n<table border=\"1\" class=\"dataframe\">\n  <thead>\n    <tr style=\"text-align: right;\">\n      <th></th>\n      <th>satisfaction</th>\n      <th>Gender</th>\n      <th>Customer Type</th>\n      <th>Age</th>\n      <th>Type of Travel</th>\n      <th>Class</th>\n      <th>Flight Distance</th>\n      <th>Seat comfort</th>\n      <th>Departure/Arrival time convenient</th>\n      <th>Food and drink</th>\n      <th>Gate location</th>\n      <th>Inflight wifi service</th>\n      <th>Inflight entertainment</th>\n      <th>Online support</th>\n      <th>Ease of Online booking</th>\n      <th>On-board service</th>\n      <th>Leg room service</th>\n      <th>Baggage handling</th>\n      <th>Checkin service</th>\n      <th>Cleanliness</th>\n      <th>Online boarding</th>\n      <th>Departure Delay in Minutes</th>\n      <th>Arrival Delay in Minutes</th>\n    </tr>\n  </thead>\n  <tbody>\n    <tr>\n      <th>0</th>\n      <td>1</td>\n      <td>0</td>\n      <td>0</td>\n      <td>65</td>\n      <td>1</td>\n      <td>1</td>\n      <td>265</td>\n      <td>0</td>\n      <td>0</td>\n      <td>0</td>\n      <td>2</td>\n      <td>2</td>\n      <td>4</td>\n      <td>2</td>\n      <td>3</td>\n      <td>3</td>\n      <td>0</td>\n      <td>3</td>\n      <td>5</td>\n      <td>3</td>\n      <td>2</td>\n      <td>0</td>\n      <td>0.0</td>\n    </tr>\n    <tr>\n      <th>1</th>\n      <td>1</td>\n      <td>1</td>\n      <td>0</td>\n      <td>47</td>\n      <td>1</td>\n      <td>0</td>\n      <td>2464</td>\n      <td>0</td>\n      <td>0</td>\n      <td>0</td>\n      <td>3</td>\n      <td>0</td>\n      <td>2</td>\n      <td>2</td>\n      <td>3</td>\n      <td>4</td>\n      <td>4</td>\n      <td>4</td>\n      <td>2</td>\n      <td>3</td>\n      <td>2</td>\n      <td>310</td>\n      <td>305.0</td>\n    </tr>\n    <tr>\n      <th>2</th>\n      <td>1</td>\n      <td>0</td>\n      <td>0</td>\n      <td>15</td>\n      <td>1</td>\n      <td>1</td>\n      <td>2138</td>\n      <td>0</td>\n      <td>0</td>\n      <td>0</td>\n      <td>3</td>\n      <td>2</td>\n      <td>0</td>\n      <td>2</td>\n      <td>2</td>\n      <td>3</td>\n      <td>3</td>\n      <td>4</td>\n      <td>4</td>\n      <td>4</td>\n      <td>2</td>\n      <td>0</td>\n      <td>0.0</td>\n    </tr>\n    <tr>\n      <th>3</th>\n      <td>1</td>\n      <td>0</td>\n      <td>0</td>\n      <td>60</td>\n      <td>1</td>\n      <td>1</td>\n      <td>623</td>\n      <td>0</td>\n      <td>0</td>\n      <td>0</td>\n      <td>3</td>\n      <td>3</td>\n      <td>4</td>\n      <td>3</td>\n      <td>1</td>\n      <td>1</td>\n      <td>0</td>\n      <td>1</td>\n      <td>4</td>\n      <td>1</td>\n      <td>3</td>\n      <td>0</td>\n      <td>0.0</td>\n    </tr>\n    <tr>\n      <th>4</th>\n      <td>1</td>\n      <td>0</td>\n      <td>0</td>\n      <td>70</td>\n      <td>1</td>\n      <td>1</td>\n      <td>354</td>\n      <td>0</td>\n      <td>0</td>\n      <td>0</td>\n      <td>3</td>\n      <td>4</td>\n      <td>3</td>\n      <td>4</td>\n      <td>2</td>\n      <td>2</td>\n      <td>0</td>\n      <td>2</td>\n      <td>4</td>\n      <td>2</td>\n      <td>5</td>\n      <td>0</td>\n      <td>0.0</td>\n    </tr>\n  </tbody>\n</table>\n</div>",
      "text/plain": "   satisfaction  Gender  Customer Type  Age  Type of Travel  Class  \\\n0             1       0              0   65               1      1   \n1             1       1              0   47               1      0   \n2             1       0              0   15               1      1   \n3             1       0              0   60               1      1   \n4             1       0              0   70               1      1   \n\n   Flight Distance  Seat comfort  Departure/Arrival time convenient  \\\n0              265             0                                  0   \n1             2464             0                                  0   \n2             2138             0                                  0   \n3              623             0                                  0   \n4              354             0                                  0   \n\n   Food and drink  Gate location  Inflight wifi service  \\\n0               0              2                      2   \n1               0              3                      0   \n2               0              3                      2   \n3               0              3                      3   \n4               0              3                      4   \n\n   Inflight entertainment  Online support  Ease of Online booking  \\\n0                       4               2                       3   \n1                       2               2                       3   \n2                       0               2                       2   \n3                       4               3                       1   \n4                       3               4                       2   \n\n   On-board service  Leg room service  Baggage handling  Checkin service  \\\n0                 3                 0                 3                5   \n1                 4                 4                 4                2   \n2                 3                 3                 4                4   \n3                 1                 0                 1                4   \n4                 2                 0                 2                4   \n\n   Cleanliness  Online boarding  Departure Delay in Minutes  \\\n0            3                2                           0   \n1            3                2                         310   \n2            4                2                           0   \n3            1                3                           0   \n4            2                5                           0   \n\n   Arrival Delay in Minutes  \n0                       0.0  \n1                     305.0  \n2                       0.0  \n3                       0.0  \n4                       0.0  "
     },
     "execution_count": 8,
     "metadata": {},
     "output_type": "execute_result"
    }
   ],
   "source": [
    "# read dataset\r\n",
    "df = pd.read_csv('flight_satisfaction.csv')\r\n",
    "df.head()"
   ]
  },
  {
   "cell_type": "markdown",
   "metadata": {},
   "source": [
    "## 切分訓練、測試資料集"
   ]
  },
  {
   "cell_type": "code",
   "execution_count": 9,
   "metadata": {},
   "outputs": [
    {
     "name": "stdout",
     "output_type": "stream",
     "text": [
      "Length of training dataset: 103904 samples\n",
      "Length of testing dataset: 25976 samples\n"
     ]
    }
   ],
   "source": [
    "from sklearn.model_selection import train_test_split\r\n",
    "# 取得特徵(移除 y label)\r\n",
    "X = df.drop(labels=['satisfaction'] ,axis=1)\r\n",
    "# 取得 y label\r\n",
    "y = df['satisfaction'].values\r\n",
    "X_train , X_test , y_train , y_test = train_test_split(X, y ,test_size=0.2 , random_state=5)\r\n",
    "print(f'Length of training dataset: {len(X_train)} samples')\r\n",
    "print(f'Length of testing dataset: {len(X_test)} samples')"
   ]
  },
  {
   "cell_type": "code",
   "execution_count": 10,
   "metadata": {},
   "outputs": [],
   "source": [
    "# X_train, X_test特徵縮放\r\n",
    "from sklearn.preprocessing import StandardScaler\r\n",
    "sc_X = StandardScaler()\r\n",
    "X_train = sc_X.fit_transform(X_train)\r\n",
    "X_test = sc_X.transform(X_test)"
   ]
  },
  {
   "cell_type": "markdown",
   "metadata": {},
   "source": [
    "## 模型訓練"
   ]
  },
  {
   "cell_type": "code",
   "execution_count": 11,
   "metadata": {},
   "outputs": [
    {
     "name": "stdout",
     "output_type": "stream",
     "text": [
      "訓練集準確率:  0.8355789959963043\n",
      "測試集準確率:  0.8354635047736372\n"
     ]
    }
   ],
   "source": [
    "# 模型訓練\r\n",
    "from sklearn.linear_model import LogisticRegression\r\n",
    "classifier = LogisticRegression(random_state = 42)\r\n",
    "classifier.fit(X_train, y_train)\r\n",
    "\r\n",
    "# 輸出模型準確率\r\n",
    "print('訓練集準確率: ', classifier.score(X_train,y_train))\r\n",
    "print('測試集準確率: ', classifier.score(X_test,y_test))\r\n",
    "\r\n",
    "# 模型預測測試集的結果\r\n",
    "y_pred = classifier.predict(X_test)"
   ]
  },
  {
   "cell_type": "markdown",
   "metadata": {},
   "source": [
    "## 模型評估結果"
   ]
  },
  {
   "cell_type": "code",
   "execution_count": 12,
   "metadata": {},
   "outputs": [
    {
     "name": "stdout",
     "output_type": "stream",
     "text": [
      "Classification Report:\n",
      "              precision    recall  f1-score   support\n",
      "\n",
      "           0       0.82      0.82      0.82     11878\n",
      "           1       0.85      0.85      0.85     14098\n",
      "\n",
      "    accuracy                           0.84     25976\n",
      "   macro avg       0.83      0.83      0.83     25976\n",
      "weighted avg       0.84      0.84      0.84     25976\n",
      "\n",
      "--------------------------------------------------\n",
      "Confusion Matrix:\n",
      "[[ 9737  2141]\n",
      " [ 2133 11965]]\n"
     ]
    },
    {
     "data": {
      "image/png": "[encoded data removed]",
      "text/plain": "<Figure size 180x180 with 1 Axes>"
     },
     "metadata": {
      "needs_background": "light",
      "transient": {}
     },
     "output_type": "display_data"
    }
   ],
   "source": [
    "# 輸出 Classification Report\r\n",
    "from sklearn.metrics import classification_report\r\n",
    "print('Classification Report:')\r\n",
    "print(classification_report(y_test, y_pred))\r\n",
    "print('-'*50)\r\n",
    "\r\n",
    "# 輸出 Confusion Matrix\r\n",
    "from sklearn.metrics import confusion_matrix\r\n",
    "import matplotlib.pyplot as plt\r\n",
    "cm = confusion_matrix(y_test, y_pred)\r\n",
    "print('Confusion Matrix:')\r\n",
    "print(cm)\r\n",
    "fig, ax = plt.subplots(figsize=(2.5, 2.5))\r\n",
    "ax.matshow(cm, cmap=plt.cm.Blues, alpha=0.3)\r\n",
    "for i in range(cm.shape[0]):\r\n",
    "    for j in range(cm.shape[1]):\r\n",
    "        ax.text(x=j, y=i, s=cm[i,j], va='center', ha='center')\r\n",
    "plt.xlabel('predicted label')        \r\n",
    "plt.ylabel('true label')\r\n",
    "plt.show()"
   ]
  },
  {
   "cell_type": "code",
   "execution_count": null,
   "metadata": {},
   "outputs": [],
   "source": []
  }
 ],
 "metadata": {
  "kernelspec": {
   "display_name": "Python 3.8.3 64-bit (conda)",
   "metadata": {
    "interpreter": {
     "hash": "b3ba2566441a7c06988d0923437866b63cedc61552a5af99d1f4fb67d367b25f"
    }
   },
   "name": "python3"
  },
  "language_info": {
   "codemirror_mode": {
    "name": "ipython",
    "version": 3
   },
   "file_extension": ".py",
   "mimetype": "text/x-python",
   "name": "python",
   "nbconvert_exporter": "python",
   "pygments_lexer": "ipython3",
   "version": "3.8.3"
  },
  "orig_nbformat": 2
 },
 "nbformat": 4,
 "nbformat_minor": 2
}