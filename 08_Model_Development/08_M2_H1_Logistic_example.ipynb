{
 "cells": [
  {
   "cell_type": "markdown",
   "metadata": {},
   "source": [
    "# 資料類別編碼"
   ]
  },
  {
   "cell_type": "code",
   "execution_count": 1,
   "metadata": {},
   "outputs": [],
   "source": [
    "import pandas as pd\r\n",
    "from sklearn.preprocessing import LabelEncoder"
   ]
  },
  {
   "cell_type": "code",
   "execution_count": 2,
   "metadata": {},
   "outputs": [],
   "source": [
    "pd.set_option('display.max_columns', None)"
   ]
  },
  {
   "cell_type": "code",
   "execution_count": 3,
   "metadata": {},
   "outputs": [
    {
     "data": {
      "text/html": "<div>\n<style scoped>\n    .dataframe tbody tr th:only-of-type {\n        vertical-align: middle;\n    }\n\n    .dataframe tbody tr th {\n        vertical-align: top;\n    }\n\n    .dataframe thead th {\n        text-align: right;\n    }\n</style>\n<table border=\"1\" class=\"dataframe\">\n  <thead>\n    <tr style=\"text-align: right;\">\n      <th></th>\n      <th>satisfaction</th>\n      <th>Gender</th>\n      <th>Customer Type</th>\n      <th>Age</th>\n      <th>Type of Travel</th>\n      <th>Class</th>\n      <th>Flight Distance</th>\n      <th>Seat comfort</th>\n      <th>Departure/Arrival time convenient</th>\n      <th>Food and drink</th>\n      <th>Gate location</th>\n      <th>Inflight wifi service</th>\n      <th>Inflight entertainment</th>\n      <th>Online support</th>\n      <th>Ease of Online booking</th>\n      <th>On-board service</th>\n      <th>Leg room service</th>\n      <th>Baggage handling</th>\n      <th>Checkin service</th>\n      <th>Cleanliness</th>\n      <th>Online boarding</th>\n      <th>Departure Delay in Minutes</th>\n      <th>Arrival Delay in Minutes</th>\n    </tr>\n  </thead>\n  <tbody>\n    <tr>\n      <th>0</th>\n      <td>satisfied</td>\n      <td>Female</td>\n      <td>Loyal Customer</td>\n      <td>65</td>\n      <td>Personal Travel</td>\n      <td>Eco</td>\n      <td>265</td>\n      <td>0</td>\n      <td>0</td>\n      <td>0</td>\n      <td>2</td>\n      <td>2</td>\n      <td>4</td>\n      <td>2</td>\n      <td>3</td>\n      <td>3</td>\n      <td>0</td>\n      <td>3</td>\n      <td>5</td>\n      <td>3</td>\n      <td>2</td>\n      <td>0</td>\n      <td>0.0</td>\n    </tr>\n    <tr>\n      <th>1</th>\n      <td>satisfied</td>\n      <td>Male</td>\n      <td>Loyal Customer</td>\n      <td>47</td>\n      <td>Personal Travel</td>\n      <td>Business</td>\n      <td>2464</td>\n      <td>0</td>\n      <td>0</td>\n      <td>0</td>\n      <td>3</td>\n      <td>0</td>\n      <td>2</td>\n      <td>2</td>\n      <td>3</td>\n      <td>4</td>\n      <td>4</td>\n      <td>4</td>\n      <td>2</td>\n      <td>3</td>\n      <td>2</td>\n      <td>310</td>\n      <td>305.0</td>\n    </tr>\n    <tr>\n      <th>2</th>\n      <td>satisfied</td>\n      <td>Female</td>\n      <td>Loyal Customer</td>\n      <td>15</td>\n      <td>Personal Travel</td>\n      <td>Eco</td>\n      <td>2138</td>\n      <td>0</td>\n      <td>0</td>\n      <td>0</td>\n      <td>3</td>\n      <td>2</td>\n      <td>0</td>\n      <td>2</td>\n      <td>2</td>\n      <td>3</td>\n      <td>3</td>\n      <td>4</td>\n      <td>4</td>\n      <td>4</td>\n      <td>2</td>\n      <td>0</td>\n      <td>0.0</td>\n    </tr>\n    <tr>\n      <th>3</th>\n      <td>satisfied</td>\n      <td>Female</td>\n      <td>Loyal Customer</td>\n      <td>60</td>\n      <td>Personal Travel</td>\n      <td>Eco</td>\n      <td>623</td>\n      <td>0</td>\n      <td>0</td>\n      <td>0</td>\n      <td>3</td>\n      <td>3</td>\n      <td>4</td>\n      <td>3</td>\n      <td>1</td>\n      <td>1</td>\n      <td>0</td>\n      <td>1</td>\n      <td>4</td>\n      <td>1</td>\n      <td>3</td>\n      <td>0</td>\n      <td>0.0</td>\n    </tr>\n    <tr>\n      <th>4</th>\n      <td>satisfied</td>\n      <td>Female</td>\n      <td>Loyal Customer</td>\n      <td>70</td>\n      <td>Personal Travel</td>\n      <td>Eco</td>\n      <td>354</td>\n      <td>0</td>\n      <td>0</td>\n      <td>0</td>\n      <td>3</td>\n      <td>4</td>\n      <td>3</td>\n      <td>4</td>\n      <td>2</td>\n      <td>2</td>\n      <td>0</td>\n      <td>2</td>\n      <td>4</td>\n      <td>2</td>\n      <td>5</td>\n      <td>0</td>\n      <td>0.0</td>\n    </tr>\n  </tbody>\n</table>\n</div>",
      "text/plain": "  satisfaction  Gender   Customer Type  Age   Type of Travel     Class  \\\n0    satisfied  Female  Loyal Customer   65  Personal Travel       Eco   \n1    satisfied    Male  Loyal Customer   47  Personal Travel  Business   \n2    satisfied  Female  Loyal Customer   15  Personal Travel       Eco   \n3    satisfied  Female  Loyal Customer   60  Personal Travel       Eco   \n4    satisfied  Female  Loyal Customer   70  Personal Travel       Eco   \n\n   Flight Distance  Seat comfort  Departure/Arrival time convenient  \\\n0              265             0                                  0   \n1             2464             0                                  0   \n2             2138             0                                  0   \n3              623             0                                  0   \n4              354             0                                  0   \n\n   Food and drink  Gate location  Inflight wifi service  \\\n0               0              2                      2   \n1               0              3                      0   \n2               0              3                      2   \n3               0              3                      3   \n4               0              3                      4   \n\n   Inflight entertainment  Online support  Ease of Online booking  \\\n0                       4               2                       3   \n1                       2               2                       3   \n2                       0               2                       2   \n3                       4               3                       1   \n4                       3               4                       2   \n\n   On-board service  Leg room service  Baggage handling  Checkin service  \\\n0                 3                 0                 3                5   \n1                 4                 4                 4                2   \n2                 3                 3                 4                4   \n3                 1                 0                 1                4   \n4                 2                 0                 2                4   \n\n   Cleanliness  Online boarding  Departure Delay in Minutes  \\\n0            3                2                           0   \n1            3                2                         310   \n2            4                2                           0   \n3            1                3                           0   \n4            2                5                           0   \n\n   Arrival Delay in Minutes  \n0                       0.0  \n1                     305.0  \n2                       0.0  \n3                       0.0  \n4                       0.0  "
     },
     "execution_count": 3,
     "metadata": {},
     "output_type": "execute_result"
    }
   ],
   "source": [
    "df = pd.read_csv('flight.csv')\r\n",
    "df.head()"
   ]
  },
  {
   "cell_type": "code",
   "execution_count": 4,
   "metadata": {},
   "outputs": [],
   "source": [
    "labelencoder = LabelEncoder()"
   ]
  },
  {
   "cell_type": "code",
   "execution_count": 5,
   "metadata": {},
   "outputs": [
    {
     "name": "stdout",
     "output_type": "stream",
     "text": [
      "satisfied       71087\n",
      "dissatisfied    58793\n",
      "Name: satisfaction, dtype: int64\n",
      "1    71087\n",
      "0    58793\n",
      "Name: satisfaction, dtype: int64\n"
     ]
    }
   ],
   "source": [
    "print(df['satisfaction'].value_counts())\r\n",
    "df['satisfaction'] = labelencoder.fit_transform(df['satisfaction'])\r\n",
    "print(df['satisfaction'].value_counts())"
   ]
  },
  {
   "cell_type": "code",
   "execution_count": 6,
   "metadata": {},
   "outputs": [
    {
     "name": "stdout",
     "output_type": "stream",
     "text": [
      "Female    65899\n",
      "Male      63981\n",
      "Name: Gender, dtype: int64\n",
      "0    65899\n",
      "1    63981\n",
      "Name: Gender, dtype: int64\n"
     ]
    }
   ],
   "source": [
    "print(df['Gender'].value_counts())\r\n",
    "df['Gender'] = labelencoder.fit_transform(df['Gender'])\r\n",
    "print(df['Gender'].value_counts())"
   ]
  },
  {
   "cell_type": "code",
   "execution_count": 7,
   "metadata": {},
   "outputs": [
    {
     "name": "stdout",
     "output_type": "stream",
     "text": [
      "Loyal Customer       106100\n",
      "disloyal Customer     23780\n",
      "Name: Customer Type, dtype: int64\n",
      "0    106100\n",
      "1     23780\n",
      "Name: Customer Type, dtype: int64\n"
     ]
    }
   ],
   "source": [
    "print(df['Customer Type'].value_counts())\r\n",
    "df['Customer Type'] = labelencoder.fit_transform(df['Customer Type'])\r\n",
    "print(df['Customer Type'].value_counts())"
   ]
  },
  {
   "cell_type": "code",
   "execution_count": 8,
   "metadata": {},
   "outputs": [
    {
     "name": "stdout",
     "output_type": "stream",
     "text": [
      "Business travel    89693\n",
      "Personal Travel    40187\n",
      "Name: Type of Travel, dtype: int64\n",
      "0    89693\n",
      "1    40187\n",
      "Name: Type of Travel, dtype: int64\n"
     ]
    }
   ],
   "source": [
    "print(df['Type of Travel'].value_counts())\r\n",
    "df['Type of Travel'] = labelencoder.fit_transform(df['Type of Travel'])\r\n",
    "print(df['Type of Travel'].value_counts())"
   ]
  },
  {
   "cell_type": "code",
   "execution_count": 9,
   "metadata": {},
   "outputs": [
    {
     "name": "stdout",
     "output_type": "stream",
     "text": [
      "Business    62160\n",
      "Eco         58309\n",
      "Eco Plus     9411\n",
      "Name: Class, dtype: int64\n",
      "0    62160\n",
      "1    58309\n",
      "2     9411\n",
      "Name: Class, dtype: int64\n"
     ]
    }
   ],
   "source": [
    "print(df['Class'].value_counts())\r\n",
    "df['Class'] = labelencoder.fit_transform(df['Class'])\r\n",
    "print(df['Class'].value_counts())"
   ]
  },
  {
   "cell_type": "code",
   "execution_count": 10,
   "metadata": {},
   "outputs": [],
   "source": [
    "df.fillna(0.0, inplace=True)"
   ]
  },
  {
   "cell_type": "code",
   "execution_count": 11,
   "metadata": {},
   "outputs": [],
   "source": [
    "df.to_csv('flight_satisfaction.csv', index=False)"
   ]
  },
  {
   "cell_type": "markdown",
   "metadata": {},
   "source": [
    "# logistic regression"
   ]
  },
  {
   "cell_type": "code",
   "execution_count": 12,
   "metadata": {},
   "outputs": [
    {
     "data": {
      "text/html": "<div>\n<style scoped>\n    .dataframe tbody tr th:only-of-type {\n        vertical-align: middle;\n    }\n\n    .dataframe tbody tr th {\n        vertical-align: top;\n    }\n\n    .dataframe thead th {\n        text-align: right;\n    }\n</style>\n<table border=\"1\" class=\"dataframe\">\n  <thead>\n    <tr style=\"text-align: right;\">\n      <th></th>\n      <th>satisfaction</th>\n      <th>Gender</th>\n      <th>Customer Type</th>\n      <th>Age</th>\n      <th>Type of Travel</th>\n      <th>Class</th>\n      <th>Flight Distance</th>\n      <th>Seat comfort</th>\n      <th>Departure/Arrival time convenient</th>\n      <th>Food and drink</th>\n      <th>Gate location</th>\n      <th>Inflight wifi service</th>\n      <th>Inflight entertainment</th>\n      <th>Online support</th>\n      <th>Ease of Online booking</th>\n      <th>On-board service</th>\n      <th>Leg room service</th>\n      <th>Baggage handling</th>\n      <th>Checkin service</th>\n      <th>Cleanliness</th>\n      <th>Online boarding</th>\n      <th>Departure Delay in Minutes</th>\n      <th>Arrival Delay in Minutes</th>\n    </tr>\n  </thead>\n  <tbody>\n    <tr>\n      <th>0</th>\n      <td>1</td>\n      <td>0</td>\n      <td>0</td>\n      <td>65</td>\n      <td>1</td>\n      <td>1</td>\n      <td>265</td>\n      <td>0</td>\n      <td>0</td>\n      <td>0</td>\n      <td>2</td>\n      <td>2</td>\n      <td>4</td>\n      <td>2</td>\n      <td>3</td>\n      <td>3</td>\n      <td>0</td>\n      <td>3</td>\n      <td>5</td>\n      <td>3</td>\n      <td>2</td>\n      <td>0</td>\n      <td>0.0</td>\n    </tr>\n    <tr>\n      <th>1</th>\n      <td>1</td>\n      <td>1</td>\n      <td>0</td>\n      <td>47</td>\n      <td>1</td>\n      <td>0</td>\n      <td>2464</td>\n      <td>0</td>\n      <td>0</td>\n      <td>0</td>\n      <td>3</td>\n      <td>0</td>\n      <td>2</td>\n      <td>2</td>\n      <td>3</td>\n      <td>4</td>\n      <td>4</td>\n      <td>4</td>\n      <td>2</td>\n      <td>3</td>\n      <td>2</td>\n      <td>310</td>\n      <td>305.0</td>\n    </tr>\n    <tr>\n      <th>2</th>\n      <td>1</td>\n      <td>0</td>\n      <td>0</td>\n      <td>15</td>\n      <td>1</td>\n      <td>1</td>\n      <td>2138</td>\n      <td>0</td>\n      <td>0</td>\n      <td>0</td>\n      <td>3</td>\n      <td>2</td>\n      <td>0</td>\n      <td>2</td>\n      <td>2</td>\n      <td>3</td>\n      <td>3</td>\n      <td>4</td>\n      <td>4</td>\n      <td>4</td>\n      <td>2</td>\n      <td>0</td>\n      <td>0.0</td>\n    </tr>\n    <tr>\n      <th>3</th>\n      <td>1</td>\n      <td>0</td>\n      <td>0</td>\n      <td>60</td>\n      <td>1</td>\n      <td>1</td>\n      <td>623</td>\n      <td>0</td>\n      <td>0</td>\n      <td>0</td>\n      <td>3</td>\n      <td>3</td>\n      <td>4</td>\n      <td>3</td>\n      <td>1</td>\n      <td>1</td>\n      <td>0</td>\n      <td>1</td>\n      <td>4</td>\n      <td>1</td>\n      <td>3</td>\n      <td>0</td>\n      <td>0.0</td>\n    </tr>\n    <tr>\n      <th>4</th>\n      <td>1</td>\n      <td>0</td>\n      <td>0</td>\n      <td>70</td>\n      <td>1</td>\n      <td>1</td>\n      <td>354</td>\n      <td>0</td>\n      <td>0</td>\n      <td>0</td>\n      <td>3</td>\n      <td>4</td>\n      <td>3</td>\n      <td>4</td>\n      <td>2</td>\n      <td>2</td>\n      <td>0</td>\n      <td>2</td>\n      <td>4</td>\n      <td>2</td>\n      <td>5</td>\n      <td>0</td>\n      <td>0.0</td>\n    </tr>\n  </tbody>\n</table>\n</div>",
      "text/plain": "   satisfaction  Gender  Customer Type  Age  Type of Travel  Class  \\\n0             1       0              0   65               1      1   \n1             1       1              0   47               1      0   \n2             1       0              0   15               1      1   \n3             1       0              0   60               1      1   \n4             1       0              0   70               1      1   \n\n   Flight Distance  Seat comfort  Departure/Arrival time convenient  \\\n0              265             0                                  0   \n1             2464             0                                  0   \n2             2138             0                                  0   \n3              623             0                                  0   \n4              354             0                                  0   \n\n   Food and drink  Gate location  Inflight wifi service  \\\n0               0              2                      2   \n1               0              3                      0   \n2               0              3                      2   \n3               0              3                      3   \n4               0              3                      4   \n\n   Inflight entertainment  Online support  Ease of Online booking  \\\n0                       4               2                       3   \n1                       2               2                       3   \n2                       0               2                       2   \n3                       4               3                       1   \n4                       3               4                       2   \n\n   On-board service  Leg room service  Baggage handling  Checkin service  \\\n0                 3                 0                 3                5   \n1                 4                 4                 4                2   \n2                 3                 3                 4                4   \n3                 1                 0                 1                4   \n4                 2                 0                 2                4   \n\n   Cleanliness  Online boarding  Departure Delay in Minutes  \\\n0            3                2                           0   \n1            3                2                         310   \n2            4                2                           0   \n3            1                3                           0   \n4            2                5                           0   \n\n   Arrival Delay in Minutes  \n0                       0.0  \n1                     305.0  \n2                       0.0  \n3                       0.0  \n4                       0.0  "
     },
     "execution_count": 12,
     "metadata": {},
     "output_type": "execute_result"
    }
   ],
   "source": [
    "df = pd.read_csv('flight_satisfaction.csv')\r\n",
    "df.head()"
   ]
  },
  {
   "cell_type": "code",
   "execution_count": 13,
   "metadata": {},
   "outputs": [
    {
     "name": "stdout",
     "output_type": "stream",
     "text": [
      "103904\n",
      "25976\n"
     ]
    }
   ],
   "source": [
    "from sklearn.model_selection import train_test_split\r\n",
    "X = df.drop(labels=['satisfaction'] ,axis=1)\r\n",
    "y = df['satisfaction'].values\r\n",
    "X_train , X_test , y_train , y_test = train_test_split(X, y ,test_size=0.2 , random_state=5)\r\n",
    "print(len(X_train))\r\n",
    "print(len(X_test))"
   ]
  },
  {
   "cell_type": "code",
   "execution_count": 14,
   "metadata": {},
   "outputs": [],
   "source": [
    "# Feature Scaling\r\n",
    "from sklearn.preprocessing import StandardScaler\r\n",
    "sc_X = StandardScaler()\r\n",
    "X_train = sc_X.fit_transform(X_train)\r\n",
    "X_test = sc_X.transform(X_test)"
   ]
  },
  {
   "cell_type": "code",
   "execution_count": 15,
   "metadata": {},
   "outputs": [
    {
     "name": "stdout",
     "output_type": "stream",
     "text": [
      "訓練集:  0.8355789959963043\n",
      "測試集:  0.8354635047736372\n"
     ]
    }
   ],
   "source": [
    "# Fitting Logistic Regression to the Training set\r\n",
    "from sklearn.linear_model import LogisticRegression\r\n",
    "classifier = LogisticRegression(random_state = 42)\r\n",
    "classifier.fit(X_train, y_train)\r\n",
    "\r\n",
    "# 預測成功的比例\r\n",
    "print('訓練集: ', classifier.score(X_train,y_train))\r\n",
    "print('測試集: ', classifier.score(X_test,y_test))\r\n",
    "\r\n",
    "# Predicting the Test set results\r\n",
    "y_pred = classifier.predict(X_test)"
   ]
  },
  {
   "cell_type": "code",
   "execution_count": 16,
   "metadata": {},
   "outputs": [
    {
     "data": {
      "text/plain": "array([[ 9737,  2141],\n       [ 2133, 11965]], dtype=int64)"
     },
     "execution_count": 16,
     "metadata": {},
     "output_type": "execute_result"
    }
   ],
   "source": [
    "# Making the Confusion Matrix\r\n",
    "from sklearn.metrics import confusion_matrix\r\n",
    "cm = confusion_matrix(y_test, y_pred)\r\n",
    "cm"
   ]
  },
  {
   "cell_type": "code",
   "execution_count": 17,
   "metadata": {},
   "outputs": [
    {
     "name": "stdout",
     "output_type": "stream",
     "text": [
      "              precision    recall  f1-score   support\n",
      "\n",
      "           0       0.82      0.82      0.82     11878\n",
      "           1       0.85      0.85      0.85     14098\n",
      "\n",
      "    accuracy                           0.84     25976\n",
      "   macro avg       0.83      0.83      0.83     25976\n",
      "weighted avg       0.84      0.84      0.84     25976\n",
      "\n"
     ]
    }
   ],
   "source": [
    "from sklearn.metrics import classification_report\r\n",
    "print(classification_report(y_test, y_pred))"
   ]
  },
  {
   "cell_type": "code",
   "execution_count": null,
   "metadata": {},
   "outputs": [],
   "source": []
  }
 ],
 "metadata": {
  "kernelspec": {
   "display_name": "Python 3.8.3 64-bit (conda)",
   "metadata": {
    "interpreter": {
     "hash": "b3ba2566441a7c06988d0923437866b63cedc61552a5af99d1f4fb67d367b25f"
    }
   },
   "name": "python3"
  },
  "language_info": {
   "codemirror_mode": {
    "name": "ipython",
    "version": 3
   },
   "file_extension": ".py",
   "mimetype": "text/x-python",
   "name": "python",
   "nbconvert_exporter": "python",
   "pygments_lexer": "ipython3",
   "version": "3.8.3"
  },
  "orig_nbformat": 2
 },
 "nbformat": 4,
 "nbformat_minor": 2
}