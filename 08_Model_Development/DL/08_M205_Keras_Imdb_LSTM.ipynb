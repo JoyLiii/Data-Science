{
  "cells": [
    {
      "cell_type": "code",
      "source": [
        "import urllib.request\n",
        "import os\n",
        "import tarfile"
      ],
      "metadata": {
        "id": "20AJ7QOrsG84"
      },
      "execution_count": null,
      "outputs": []
    },
    {
      "cell_type": "code",
      "source": [
        "url=\"http://ai.stanford.edu/~amaas/data/sentiment/aclImdb_v1.tar.gz\"\n",
        "filepath=\"data/aclImdb_v1.tar.gz\"\n",
        "if not os.path.isfile(filepath):\n",
        "    result=urllib.request.urlretrieve(url, filepath)\n",
        "    print('downloaded:',result)"
      ],
      "metadata": {
        "colab": {
          "base_uri": "https://localhost:8080/"
        },
        "id": "vuQnUIuJsNHF",
        "outputId": "8ec57350-160c-44bf-de82-24aea9220440"
      },
      "execution_count": null,
      "outputs": [
        {
          "output_type": "stream",
          "name": "stdout",
          "text": [
            "downloaded: ('data/aclImdb_v1.tar.gz', <http.client.HTTPMessage object at 0x7f91a9486fd0>)\n"
          ]
        }
      ]
    },
    {
      "cell_type": "code",
      "source": [
        "if not os.path.exists(\"data/aclImdb\"):\n",
        "    tfile = tarfile.open(\"data/aclImdb_v1.tar.gz\", 'r:gz')\n",
        "    result=tfile.extractall('data/')"
      ],
      "metadata": {
        "id": "Cpdkufd-sObt"
      },
      "execution_count": null,
      "outputs": []
    },
    {
      "cell_type": "markdown",
      "metadata": {
        "id": "_NyVQC0On3am"
      },
      "source": [
        "# 1. Import Library"
      ]
    },
    {
      "cell_type": "markdown",
      "metadata": {
        "id": "WPrKTrE_n3ax"
      },
      "source": [
        "# 資料準備"
      ]
    },
    {
      "cell_type": "code",
      "execution_count": null,
      "metadata": {
        "id": "mmINz3X6n3ay"
      },
      "outputs": [],
      "source": [
        "from keras.datasets import imdb\n",
        "from keras.preprocessing import sequence\n",
        "from keras.preprocessing.text import Tokenizer\n",
        "import numpy as np\n",
        "np.random.seed(10)"
      ]
    },
    {
      "cell_type": "code",
      "execution_count": null,
      "metadata": {
        "collapsed": true,
        "id": "YNLeKfO8n3a2"
      },
      "outputs": [],
      "source": [
        "import re\n",
        "re_tag = re.compile(r'<[^>]+>')\n",
        "\n",
        "def rm_tags(text):\n",
        "    return re_tag.sub('', text)"
      ]
    },
    {
      "cell_type": "code",
      "execution_count": null,
      "metadata": {
        "collapsed": true,
        "id": "s0vOqwTqn3a3"
      },
      "outputs": [],
      "source": [
        "import os\n",
        "def read_files(filetype):\n",
        "    path = \"data/aclImdb/\"\n",
        "    file_list=[]\n",
        "\n",
        "    positive_path=path + filetype+\"/pos/\"\n",
        "    for f in os.listdir(positive_path):\n",
        "        file_list+=[positive_path+f]\n",
        "    \n",
        "    negative_path=path + filetype+\"/neg/\"\n",
        "    for f in os.listdir(negative_path):\n",
        "        file_list+=[negative_path+f]\n",
        "        \n",
        "    print('read',filetype, 'files:',len(file_list))\n",
        "       \n",
        "    all_labels = ([1] * 12500 + [0] * 12500) \n",
        "    \n",
        "    all_texts  = []\n",
        "    \n",
        "    for fi in file_list:\n",
        "        with open(fi,encoding='utf8') as file_input:\n",
        "            all_texts += [rm_tags(\" \".join(file_input.readlines()))]\n",
        "            \n",
        "    return all_labels,all_texts"
      ]
    },
    {
      "cell_type": "code",
      "execution_count": null,
      "metadata": {
        "colab": {
          "base_uri": "https://localhost:8080/"
        },
        "id": "tncpgilwn3a4",
        "outputId": "61586257-bea3-4a3e-e989-7070c6b072ba"
      },
      "outputs": [
        {
          "output_type": "stream",
          "name": "stdout",
          "text": [
            "read train files: 25000\n"
          ]
        }
      ],
      "source": [
        "y_train,train_text=read_files(\"train\")"
      ]
    },
    {
      "cell_type": "code",
      "execution_count": null,
      "metadata": {
        "colab": {
          "base_uri": "https://localhost:8080/"
        },
        "id": "Cwwa-JDKn3a5",
        "outputId": "9037abbd-04c7-4e94-8cf5-4f876b605f69"
      },
      "outputs": [
        {
          "output_type": "stream",
          "name": "stdout",
          "text": [
            "read test files: 25000\n"
          ]
        }
      ],
      "source": [
        "y_test,test_text=read_files(\"test\")"
      ]
    },
    {
      "cell_type": "code",
      "execution_count": null,
      "metadata": {
        "collapsed": true,
        "id": "3PQmOOtWn3a6"
      },
      "outputs": [],
      "source": [
        "#先讀取所有文章建立字典，限制字典的數量為nb_words=2000"
      ]
    },
    {
      "cell_type": "code",
      "execution_count": null,
      "metadata": {
        "collapsed": true,
        "id": "OcW8lHXan3a7"
      },
      "outputs": [],
      "source": [
        "token = Tokenizer(num_words=3800)\n",
        "token.fit_on_texts(train_text)"
      ]
    },
    {
      "cell_type": "code",
      "execution_count": null,
      "metadata": {
        "collapsed": true,
        "id": "-32szWKsn3a8"
      },
      "outputs": [],
      "source": [
        "#將文字轉為數字序列"
      ]
    },
    {
      "cell_type": "code",
      "execution_count": null,
      "metadata": {
        "collapsed": true,
        "id": "piXM80Don3a8"
      },
      "outputs": [],
      "source": [
        "x_train_seq = token.texts_to_sequences(train_text)\n",
        "x_test_seq  = token.texts_to_sequences(test_text)"
      ]
    },
    {
      "cell_type": "code",
      "execution_count": null,
      "metadata": {
        "collapsed": true,
        "id": "AYe2oT7bn3a9"
      },
      "outputs": [],
      "source": [
        "#截長補短，讓所有影評所產生的數字序列長度一樣"
      ]
    },
    {
      "cell_type": "code",
      "execution_count": null,
      "metadata": {
        "id": "REYbG53-n3a9"
      },
      "outputs": [],
      "source": [
        "x_train = sequence.pad_sequences(x_train_seq, maxlen=380)\n",
        "x_test  = sequence.pad_sequences(x_test_seq,  maxlen=380)"
      ]
    },
    {
      "cell_type": "markdown",
      "metadata": {
        "id": "ofn4MMjYn3a-"
      },
      "source": [
        "# 建立模型"
      ]
    },
    {
      "cell_type": "code",
      "execution_count": null,
      "metadata": {
        "collapsed": true,
        "id": "2JcN4TIFn3a-"
      },
      "outputs": [],
      "source": [
        "from keras.models import Sequential\n",
        "from keras.layers.core import Dense, Dropout, Activation,Flatten\n",
        "from keras.layers.embeddings import Embedding\n",
        "from keras.layers.recurrent import LSTM"
      ]
    },
    {
      "cell_type": "code",
      "execution_count": null,
      "metadata": {
        "collapsed": true,
        "id": "9CgFtU09n3a-"
      },
      "outputs": [],
      "source": [
        "model = Sequential()"
      ]
    },
    {
      "cell_type": "code",
      "execution_count": null,
      "metadata": {
        "id": "uYQHUKKhn3a_"
      },
      "outputs": [],
      "source": [
        "model.add(Embedding(output_dim=32,\n",
        "                    input_dim=3800, \n",
        "                    input_length=380))\n",
        "model.add(Dropout(0.2))"
      ]
    },
    {
      "cell_type": "code",
      "execution_count": null,
      "metadata": {
        "collapsed": true,
        "id": "K2WAuPs3n3a_"
      },
      "outputs": [],
      "source": [
        "model.add(LSTM(32))"
      ]
    },
    {
      "cell_type": "code",
      "execution_count": null,
      "metadata": {
        "id": "ePPryjUKn3bA"
      },
      "outputs": [],
      "source": [
        "model.add(Dense(units=256,\n",
        "                activation='relu' ))\n",
        "model.add(Dropout(0.2))"
      ]
    },
    {
      "cell_type": "code",
      "execution_count": null,
      "metadata": {
        "id": "XKB9KBx4n3bA"
      },
      "outputs": [],
      "source": [
        "model.add(Dense(units=1,\n",
        "                activation='sigmoid' ))"
      ]
    },
    {
      "cell_type": "code",
      "execution_count": null,
      "metadata": {
        "id": "6adjVo6fn3bA",
        "outputId": "779d8bc5-6bc0-42c3-9e36-c085c45bfdd1"
      },
      "outputs": [
        {
          "name": "stdout",
          "output_type": "stream",
          "text": [
            "_________________________________________________________________\n",
            "Layer (type)                 Output Shape              Param #   \n",
            "=================================================================\n",
            "embedding_1 (Embedding)      (None, 380, 32)           121600    \n",
            "_________________________________________________________________\n",
            "dropout_1 (Dropout)          (None, 380, 32)           0         \n",
            "_________________________________________________________________\n",
            "lstm_1 (LSTM)                (None, 32)                8320      \n",
            "_________________________________________________________________\n",
            "dense_1 (Dense)              (None, 256)               8448      \n",
            "_________________________________________________________________\n",
            "dropout_2 (Dropout)          (None, 256)               0         \n",
            "_________________________________________________________________\n",
            "dense_2 (Dense)              (None, 1)                 257       \n",
            "=================================================================\n",
            "Total params: 138,625\n",
            "Trainable params: 138,625\n",
            "Non-trainable params: 0\n",
            "_________________________________________________________________\n"
          ]
        }
      ],
      "source": [
        "model.summary()"
      ]
    },
    {
      "cell_type": "markdown",
      "metadata": {
        "id": "WIiCoYDOn3bB"
      },
      "source": [
        "# 訓練模型"
      ]
    },
    {
      "cell_type": "code",
      "execution_count": null,
      "metadata": {
        "collapsed": true,
        "id": "2e8mQV6Mn3bB"
      },
      "outputs": [],
      "source": [
        "model.compile(loss='binary_crossentropy', \n",
        "              #optimizer='rmsprop', \n",
        "              optimizer='adam', \n",
        "              metrics=['accuracy'])"
      ]
    },
    {
      "cell_type": "code",
      "source": [
        "import numpy as np"
      ],
      "metadata": {
        "id": "inkvq0v8uYDv"
      },
      "execution_count": null,
      "outputs": []
    },
    {
      "cell_type": "code",
      "execution_count": null,
      "metadata": {
        "colab": {
          "base_uri": "https://localhost:8080/"
        },
        "id": "PROp_tZVn3bC",
        "outputId": "bfdbe5b4-c0c6-4576-9188-70fcda393d7b"
      },
      "outputs": [
        {
          "output_type": "stream",
          "name": "stdout",
          "text": [
            "Epoch 1/10\n",
            "200/200 - 67s - loss: 0.0093 - accuracy: 0.9969 - val_loss: 1.7382 - val_accuracy: 0.7928 - 67s/epoch - 337ms/step\n",
            "Epoch 2/10\n",
            "200/200 - 68s - loss: 0.0099 - accuracy: 0.9970 - val_loss: 1.1230 - val_accuracy: 0.8458 - 68s/epoch - 339ms/step\n",
            "Epoch 3/10\n",
            "200/200 - 68s - loss: 0.0119 - accuracy: 0.9963 - val_loss: 1.7258 - val_accuracy: 0.7788 - 68s/epoch - 339ms/step\n",
            "Epoch 4/10\n",
            "200/200 - 68s - loss: 0.0073 - accuracy: 0.9980 - val_loss: 1.6846 - val_accuracy: 0.7802 - 68s/epoch - 342ms/step\n",
            "Epoch 5/10\n",
            "200/200 - 68s - loss: 0.0127 - accuracy: 0.9959 - val_loss: 1.1932 - val_accuracy: 0.8062 - 68s/epoch - 342ms/step\n",
            "Epoch 6/10\n",
            "200/200 - 69s - loss: 0.0091 - accuracy: 0.9976 - val_loss: 1.5493 - val_accuracy: 0.7962 - 69s/epoch - 345ms/step\n",
            "Epoch 7/10\n",
            "200/200 - 68s - loss: 0.0131 - accuracy: 0.9959 - val_loss: 1.5008 - val_accuracy: 0.7920 - 68s/epoch - 341ms/step\n",
            "Epoch 8/10\n",
            "200/200 - 68s - loss: 0.0082 - accuracy: 0.9976 - val_loss: 0.9704 - val_accuracy: 0.8332 - 68s/epoch - 338ms/step\n",
            "Epoch 9/10\n",
            "200/200 - 68s - loss: 0.0120 - accuracy: 0.9961 - val_loss: 1.4749 - val_accuracy: 0.8048 - 68s/epoch - 340ms/step\n",
            "Epoch 10/10\n",
            "200/200 - 68s - loss: 0.0102 - accuracy: 0.9973 - val_loss: 1.3866 - val_accuracy: 0.8076 - 68s/epoch - 340ms/step\n"
          ]
        }
      ],
      "source": [
        "train_history =model.fit(x_train, np.array(y_train),batch_size=100, \n",
        "                         epochs=10,verbose=2,\n",
        "                         validation_split=0.2)"
      ]
    },
    {
      "cell_type": "code",
      "execution_count": null,
      "metadata": {
        "colab": {
          "base_uri": "https://localhost:8080/"
        },
        "id": "6qCE6UMBn3bC",
        "outputId": "00e740d5-0fad-4b73-b0c7-16ccfee01fe0"
      },
      "outputs": [
        {
          "output_type": "stream",
          "name": "stdout",
          "text": [
            "Populating the interactive namespace from numpy and matplotlib\n"
          ]
        }
      ],
      "source": [
        "%pylab inline\n",
        "import matplotlib.pyplot as plt\n",
        "def show_train_history(train_history,train,validation):\n",
        "    plt.plot(train_history.history[train])\n",
        "    plt.plot(train_history.history[validation])\n",
        "    plt.title('Train History')\n",
        "    plt.ylabel(train)\n",
        "    plt.xlabel('Epoch')\n",
        "    plt.legend(['train', 'validation'], loc='upper left')\n",
        "    plt.show()"
      ]
    },
    {
      "cell_type": "code",
      "execution_count": null,
      "metadata": {
        "colab": {
          "base_uri": "https://localhost:8080/",
          "height": 295
        },
        "id": "Q0zqFlELn3bC",
        "outputId": "457d641f-91da-44b2-f183-4bb8a44acf21"
      },
      "outputs": [
        {
          "output_type": "display_data",
          "data": {
            "image/png": "[encoded data removed]",
            "text/plain": [
              "<Figure size 432x288 with 1 Axes>"
            ]
          },
          "metadata": {
            "needs_background": "light"
          }
        }
      ],
      "source": [
        "show_train_history(train_history,'accuracy','val_accuracy')"
      ]
    },
    {
      "cell_type": "code",
      "execution_count": null,
      "metadata": {
        "colab": {
          "base_uri": "https://localhost:8080/",
          "height": 295
        },
        "id": "-T_bsDK5n3bD",
        "outputId": "9b103b19-9ef1-42fb-c791-16be28810d21"
      },
      "outputs": [
        {
          "output_type": "display_data",
          "data": {
            "image/png": "[encoded data removed]",
            "text/plain": [
              "<Figure size 432x288 with 1 Axes>"
            ]
          },
          "metadata": {
            "needs_background": "light"
          }
        }
      ],
      "source": [
        "show_train_history(train_history,'loss','val_loss')"
      ]
    },
    {
      "cell_type": "markdown",
      "metadata": {
        "id": "a7Ef1yZtn3bD"
      },
      "source": [
        "# 評估模型準確率"
      ]
    },
    {
      "cell_type": "code",
      "execution_count": null,
      "metadata": {
        "colab": {
          "base_uri": "https://localhost:8080/"
        },
        "id": "nvKJUcyjn3bD",
        "outputId": "b1dbcd61-8bce-40e5-e8ef-ea7f79c1317e"
      },
      "outputs": [
        {
          "output_type": "stream",
          "name": "stdout",
          "text": [
            "782/782 [==============================] - 34s 43ms/step - loss: 1.0759 - accuracy: 0.8421\n"
          ]
        },
        {
          "output_type": "execute_result",
          "data": {
            "text/plain": [
              "0.8420799970626831"
            ]
          },
          "metadata": {},
          "execution_count": 65
        }
      ],
      "source": [
        "scores = model.evaluate(x_test, np.array(y_test), verbose=1)\n",
        "scores[1]"
      ]
    },
    {
      "cell_type": "code",
      "source": [
        "scores"
      ],
      "metadata": {
        "colab": {
          "base_uri": "https://localhost:8080/"
        },
        "id": "uFctqPg7LKfj",
        "outputId": "6df48063-2916-4bd2-a3db-ac8ed530a697"
      },
      "execution_count": null,
      "outputs": [
        {
          "output_type": "execute_result",
          "data": {
            "text/plain": [
              "[1.0759297609329224, 0.8420799970626831]"
            ]
          },
          "metadata": {},
          "execution_count": 66
        }
      ]
    },
    {
      "cell_type": "markdown",
      "metadata": {
        "id": "qUcF8cVen3bE"
      },
      "source": [
        "# 預測機率"
      ]
    },
    {
      "cell_type": "code",
      "execution_count": null,
      "metadata": {
        "collapsed": true,
        "id": "oEdN6Bo_n3bE"
      },
      "outputs": [],
      "source": [
        "probility=model.predict(x_test)"
      ]
    },
    {
      "cell_type": "code",
      "execution_count": null,
      "metadata": {
        "colab": {
          "base_uri": "https://localhost:8080/"
        },
        "id": "FcZ2YrIbn3bE",
        "outputId": "972f482a-931a-4475-b8f5-0240231dd514"
      },
      "outputs": [
        {
          "output_type": "execute_result",
          "data": {
            "text/plain": [
              "array([[1.2312888e-07],\n",
              "       [9.9999493e-01],\n",
              "       [9.9999595e-01],\n",
              "       [9.9998760e-01],\n",
              "       [1.0000000e+00],\n",
              "       [9.9999160e-01],\n",
              "       [9.9535239e-01],\n",
              "       [9.9999976e-01],\n",
              "       [1.0000000e+00],\n",
              "       [9.9998987e-01]], dtype=float32)"
            ]
          },
          "metadata": {},
          "execution_count": 68
        }
      ],
      "source": [
        "probility[:10]"
      ]
    },
    {
      "cell_type": "code",
      "execution_count": null,
      "metadata": {
        "colab": {
          "base_uri": "https://localhost:8080/"
        },
        "id": "fozcFFLAn3bE",
        "outputId": "f8a9883c-b1f3-4969-d7aa-e2668d5e2ffa"
      },
      "outputs": [
        {
          "output_type": "stream",
          "name": "stdout",
          "text": [
            "[0.9999963]\n",
            "[0.86936456]\n",
            "[0.9994803]\n",
            "[0.0009006]\n",
            "[0.8826269]\n",
            "[0.921407]\n",
            "[1.9997935e-07]\n",
            "[2.9974244e-06]\n",
            "[0.01568848]\n",
            "[0.00106987]\n"
          ]
        }
      ],
      "source": [
        "for p in probility[12500:12510]:\n",
        "    print(p)"
      ]
    },
    {
      "cell_type": "markdown",
      "metadata": {
        "id": "0GN-ICe-n3bF"
      },
      "source": [
        "# 預測結果"
      ]
    },
    {
      "cell_type": "code",
      "execution_count": null,
      "metadata": {
        "id": "k5YnwJYEn3bF"
      },
      "outputs": [],
      "source": [
        "predict=model.predict(x_test)\n",
        "predict=np.argmax(predict, axis=1)"
      ]
    },
    {
      "cell_type": "code",
      "execution_count": null,
      "metadata": {
        "id": "8iKY7g2bn3bF"
      },
      "outputs": [],
      "source": [
        "predict=model.predict(x_test)\n",
        "predict=np.where(predict > 0.5, 1, 0)"
      ]
    },
    {
      "cell_type": "code",
      "source": [
        "predict"
      ],
      "metadata": {
        "colab": {
          "base_uri": "https://localhost:8080/"
        },
        "id": "WXZY0yPlMX0F",
        "outputId": "f5223553-6fe1-4acc-ce8e-6d93299e8f31"
      },
      "execution_count": null,
      "outputs": [
        {
          "output_type": "execute_result",
          "data": {
            "text/plain": [
              "array([[0],\n",
              "       [1],\n",
              "       [1],\n",
              "       ...,\n",
              "       [0],\n",
              "       [0],\n",
              "       [0]])"
            ]
          },
          "metadata": {},
          "execution_count": 93
        }
      ]
    },
    {
      "cell_type": "code",
      "execution_count": null,
      "metadata": {
        "colab": {
          "base_uri": "https://localhost:8080/"
        },
        "id": "F9vD3BhWn3bF",
        "outputId": "a80922d1-f72c-4acd-ec86-68216df5f6db"
      },
      "outputs": [
        {
          "output_type": "execute_result",
          "data": {
            "text/plain": [
              "array([0, 1, 1, ..., 0, 0, 0])"
            ]
          },
          "metadata": {},
          "execution_count": 94
        }
      ],
      "source": [
        "predict_classes=predict.reshape(25000)\n",
        "predict_classes"
      ]
    },
    {
      "cell_type": "markdown",
      "metadata": {
        "id": "K6Kieczwn3bG"
      },
      "source": [
        "# 查看預測結果"
      ]
    },
    {
      "cell_type": "code",
      "execution_count": null,
      "metadata": {
        "collapsed": true,
        "id": "EIhhh1jmn3bG"
      },
      "outputs": [],
      "source": [
        "SentimentDict={1:'正面的',0:'負面的'}\n",
        "def display_test_Sentiment(i):\n",
        "    print(test_text[i])\n",
        "    print('標籤label:',SentimentDict[y_test[i]],'預測結果:',SentimentDict[predict_classes[i]])"
      ]
    },
    {
      "cell_type": "code",
      "execution_count": null,
      "metadata": {
        "colab": {
          "base_uri": "https://localhost:8080/"
        },
        "id": "Q8fmzGOUn3bG",
        "outputId": "9521aa8e-ad54-4512-9fe0-58fa67e51ceb"
      },
      "outputs": [
        {
          "output_type": "stream",
          "name": "stdout",
          "text": [
            "This movie shocked me. It was so realistic and the story was incredible touching. They talk German and Russian, which makes it more believable and real. This is a must-see movie. The actors are great too. Really a good piece of work. The plot takes place within a German troop in WWII. They have to go to Stalingrad, Sovjet, to fight against the Sovjetian armies. You get more connected with every soldier in this group and follow them through all the perils as they get captured within Stalingrad. They get face-to-face meetings with death, blood, grief and the coldness of Russia. This is a must-see-movie and you cant afford not to see it.\n",
            "標籤label: 正面的 預測結果: 正面的\n"
          ]
        }
      ],
      "source": [
        "display_test_Sentiment(2)"
      ]
    },
    {
      "cell_type": "code",
      "execution_count": null,
      "metadata": {
        "colab": {
          "base_uri": "https://localhost:8080/"
        },
        "id": "Ab8Xi4Uan3bG",
        "outputId": "3626be56-71c8-4266-8096-0cea7d60d015"
      },
      "outputs": [
        {
          "output_type": "stream",
          "name": "stdout",
          "text": [
            "Worst. Movie. Ever. I can't believe they had to hire Jeremy Irons to give this piece of crap some credibility - and still failed. Did they think that if they stuck to the plot of the book that their target audience wouldn't be able to figure it out on their own? (probably). \"Hey, let's make lots of things explode and give Mina big boobs, and have her speak in an adorably fake broken English. That'll make the morons watch.\" \"But sir, that's not how the book went at all, I think we're mot being faithful to Mr. Wells' message.\" \"F*ck it, we're going to the box office here, never mind some dead author's ideas on human nature. Also, let's add in Orlando Jones with some classic 'Black attitude' as a supporting character, and never mind the interesting conclusion to the book - Guy Pierce has to get some p*ssy at the end.\"\n",
            "標籤label: 負面的 預測結果: 負面的\n"
          ]
        }
      ],
      "source": [
        "display_test_Sentiment(24990)"
      ]
    },
    {
      "cell_type": "code",
      "execution_count": null,
      "metadata": {
        "colab": {
          "base_uri": "https://localhost:8080/"
        },
        "id": "dMTx0w4Zn3bH",
        "outputId": "b89cab50-7bf4-4a46-83fb-9cbda1df64ec"
      },
      "outputs": [
        {
          "output_type": "execute_result",
          "data": {
            "text/plain": [
              "array([1, 1, 1, 0, 1, 1, 0, 0, 0, 0])"
            ]
          },
          "metadata": {},
          "execution_count": 101
        }
      ],
      "source": [
        "predict_classes[12500:12510]"
      ]
    },
    {
      "cell_type": "code",
      "source": [
        "predict_classes[0:10]"
      ],
      "metadata": {
        "colab": {
          "base_uri": "https://localhost:8080/"
        },
        "id": "TjbbyfKlzQDA",
        "outputId": "e44d9626-459f-4a9d-9c2a-89fed165bd09"
      },
      "execution_count": null,
      "outputs": [
        {
          "output_type": "execute_result",
          "data": {
            "text/plain": [
              "array([0, 1, 1, 1, 1, 1, 1, 1, 1, 1])"
            ]
          },
          "metadata": {},
          "execution_count": 102
        }
      ]
    },
    {
      "cell_type": "code",
      "execution_count": null,
      "metadata": {
        "colab": {
          "base_uri": "https://localhost:8080/"
        },
        "id": "MaP3mdf5n3bH",
        "outputId": "998ea2f1-bb7f-4040-c4f6-f7c08f51f6a1"
      },
      "outputs": [
        {
          "output_type": "stream",
          "name": "stdout",
          "text": [
            "Victor Jory never became a major star. He is better known for later character roles than for his early leads. But he was very handsome and an excellent actor.His love scenes with Loretta Young in this romantic adventure thriller are passionate. Their kisses look very real. And very modern.Vivienne Osborne is a standout here also. She plays a woman with a reputation. But the character has a good heart.The print I saw was not clear. But what a joy that rare movies like this are turning up! And they are, in some sort of watchable condition, still intact. This is nothing truly special. But if one is willing to sift through movies of its era with similarly intriguing titles, one is likely to find some suprtb movies.\n",
            "標籤label: 負面的 預測結果: 正面的\n"
          ]
        }
      ],
      "source": [
        "display_test_Sentiment(12500)"
      ]
    },
    {
      "cell_type": "code",
      "execution_count": null,
      "metadata": {
        "collapsed": true,
        "id": "NjhZSJ26n3bH"
      },
      "outputs": [],
      "source": [
        "#預測新的影評"
      ]
    },
    {
      "cell_type": "code",
      "execution_count": null,
      "metadata": {
        "id": "wP8N1gyBn3bH"
      },
      "outputs": [],
      "source": [
        "input_text='''\n",
        "Oh dear, oh dear, oh dear: where should I start folks. I had low expectations already because I hated each and every single trailer so far, but boy did Disney make a blunder here. I'm sure the film will still make a billion dollars - hey: if Transformers 11 can do it, why not Belle? - but this film kills every subtle beautiful little thing that had made the original special, and it does so already in the very early stages. It's like the dinosaur stampede scene in Jackson's King Kong: only with even worse CGI (and, well, kitchen devices instead of dinos).\n",
        "The worst sin, though, is that everything (and I mean really EVERYTHING) looks fake. What's the point of making a live-action version of a beloved cartoon if you make every prop look like a prop? I know it's a fairy tale for kids, but even Belle's village looks like it had only recently been put there by a subpar production designer trying to copy the images from the cartoon. There is not a hint of authenticity here. Unlike in Jungle Book, where we got great looking CGI, this really is the by-the-numbers version and corporate filmmaking at its worst. Of course it's not really a \"bad\" film; those 200 million blockbusters rarely are (this isn't 'The Room' after all), but it's so infuriatingly generic and dull - and it didn't have to be. In the hands of a great director the potential for this film would have been huge.\n",
        "Oh and one more thing: bad CGI wolves (who actually look even worse than the ones in Twilight) is one thing, and the kids probably won't care. But making one of the two lead characters - Beast - look equally bad is simply unforgivably stupid. No wonder Emma Watson seems to phone it in: she apparently had to act against an guy with a green-screen in the place where his face should have been. \n",
        "'''"
      ]
    },
    {
      "cell_type": "code",
      "execution_count": null,
      "metadata": {
        "collapsed": true,
        "id": "vr1arC2sn3bI"
      },
      "outputs": [],
      "source": [
        "input_seq = token.texts_to_sequences([input_text])"
      ]
    },
    {
      "cell_type": "code",
      "execution_count": null,
      "metadata": {
        "colab": {
          "base_uri": "https://localhost:8080/"
        },
        "id": "-jrOQnoGn3bI",
        "outputId": "63441248-815a-4906-cdbd-8e7cd14b87ac"
      },
      "outputs": [
        {
          "output_type": "execute_result",
          "data": {
            "text/plain": [
              "297"
            ]
          },
          "metadata": {},
          "execution_count": 106
        }
      ],
      "source": [
        "len(input_seq[0] )"
      ]
    },
    {
      "cell_type": "code",
      "execution_count": null,
      "metadata": {
        "collapsed": true,
        "id": "9po50hv6n3bI"
      },
      "outputs": [],
      "source": [
        "pad_input_seq  = sequence.pad_sequences(input_seq , maxlen=380)"
      ]
    },
    {
      "cell_type": "code",
      "execution_count": null,
      "metadata": {
        "colab": {
          "base_uri": "https://localhost:8080/"
        },
        "id": "zk6-3SrBn3bJ",
        "outputId": "5c2fb485-4566-4c9e-cc31-e63391d68632"
      },
      "outputs": [
        {
          "output_type": "execute_result",
          "data": {
            "text/plain": [
              "380"
            ]
          },
          "metadata": {},
          "execution_count": 108
        }
      ],
      "source": [
        "len(pad_input_seq[0])"
      ]
    },
    {
      "cell_type": "code",
      "execution_count": null,
      "metadata": {
        "id": "keRoIHZPn3bJ"
      },
      "outputs": [],
      "source": [
        "predict=model.predict(pad_input_seq)\n",
        "predict_result=np.where(predict > 0.5, 1, 0)"
      ]
    },
    {
      "cell_type": "code",
      "execution_count": null,
      "metadata": {
        "colab": {
          "base_uri": "https://localhost:8080/"
        },
        "id": "Y0gHeDMLn3bK",
        "outputId": "b35b3361-fb1f-49ec-f667-2355b10459ff"
      },
      "outputs": [
        {
          "output_type": "execute_result",
          "data": {
            "text/plain": [
              "array([[0]])"
            ]
          },
          "metadata": {},
          "execution_count": 110
        }
      ],
      "source": [
        "predict_result"
      ]
    },
    {
      "cell_type": "code",
      "execution_count": null,
      "metadata": {
        "colab": {
          "base_uri": "https://localhost:8080/"
        },
        "id": "Wrf4A-Adn3bK",
        "outputId": "e0032238-0d1a-432f-8e45-cdb6144e0a13"
      },
      "outputs": [
        {
          "output_type": "execute_result",
          "data": {
            "text/plain": [
              "0"
            ]
          },
          "metadata": {},
          "execution_count": 112
        }
      ],
      "source": [
        "predict_result[0][0]"
      ]
    },
    {
      "cell_type": "code",
      "execution_count": null,
      "metadata": {
        "colab": {
          "base_uri": "https://localhost:8080/",
          "height": 35
        },
        "id": "s1XJLTNFn3bK",
        "outputId": "e17dd138-6cf1-4450-e34e-495a45ae731f"
      },
      "outputs": [
        {
          "output_type": "execute_result",
          "data": {
            "application/vnd.google.colaboratory.intrinsic+json": {
              "type": "string"
            },
            "text/plain": [
              "'負面的'"
            ]
          },
          "metadata": {},
          "execution_count": 113
        }
      ],
      "source": [
        "SentimentDict[predict_result[0][0]]"
      ]
    },
    {
      "cell_type": "code",
      "execution_count": null,
      "metadata": {
        "collapsed": true,
        "id": "Oveu-PY9n3bK"
      },
      "outputs": [],
      "source": [
        "def predict_review(input_text):\n",
        "    input_seq = token.texts_to_sequences([input_text])\n",
        "    pad_input_seq  = sequence.pad_sequences(input_seq , maxlen=380)\n",
        "    predict=model.predict(pad_input_seq)\n",
        "    predict_result=np.where(predict > 0.5, 1, 0)\n",
        "    print(SentimentDict[predict_result[0][0]])"
      ]
    },
    {
      "cell_type": "code",
      "execution_count": null,
      "metadata": {
        "collapsed": true,
        "id": "YTjHyxyDn3bL"
      },
      "outputs": [],
      "source": [
        "#http://www.imdb.com/title/tt2771200/\n",
        "#http://www.imdb.com/title/tt2771200"
      ]
    },
    {
      "cell_type": "code",
      "execution_count": null,
      "metadata": {
        "colab": {
          "base_uri": "https://localhost:8080/"
        },
        "id": "Ez-Pmd0wn3bL",
        "outputId": "e08a447f-4bba-4e09-cc30-18af01d7e782"
      },
      "outputs": [
        {
          "output_type": "stream",
          "name": "stdout",
          "text": [
            "負面的\n"
          ]
        }
      ],
      "source": [
        "predict_review('''\n",
        "It's hard to believe that the same talented director who made the influential cult action classic The Road Warrior had anything to do with this disaster.\n",
        "Road Warrior was raw, gritty, violent and uncompromising, and this movie is the exact opposite. It's like Road Warrior for kids who need constant action in their movies.\n",
        "This is the movie. The good guys get into a fight with the bad guys, outrun them, they break down in their vehicle and fix it. Rinse and repeat. The second half of the movie is the first half again just done faster.\n",
        "The Road Warrior may have been a simple premise but it made you feel something, even with it's opening narration before any action was even shown. And the supporting characters were given just enough time for each of them to be likable or relatable.\n",
        "In this movie there is absolutely nothing and no one to care about. We're supposed to care about the characters because... well we should. George Miller just wants us to, and in one of the most cringe worthy moments Charlize Theron's character breaks down while dramatic music plays to try desperately to make us care.\n",
        "Tom Hardy is pathetic as Max. One of the dullest leading men I've seen in a long time. There's not one single moment throughout the entire movie where he comes anywhere near reaching the same level of charisma Mel Gibson did in the role. Gibson made more of an impression just eating a tin of dog food. I'm still confused as to what accent Hardy was even trying to do.\n",
        "I was amazed that Max has now become a cartoon character as well. Gibson's Max was a semi-realistic tough guy who hurt, bled, and nearly died several times. Now he survives car crashes and tornadoes with ease?\n",
        "In the previous movies, fuel and guns and bullets were rare. Not anymore. It doesn't even seem Post-Apocalyptic. There's no sense of desperation anymore and everything is too glossy looking. And the main villain's super model looking wives with their perfect skin are about as convincing as apocalyptic survivors as Hardy's Australian accent is. They're so boring and one-dimensional, George Miller could have combined them all into one character and you wouldn't miss anyone.\n",
        "Some of the green screen is very obvious and fake looking, and the CGI sandstorm is laughably bad. It wouldn't look out of place in a Pixar movie.\n",
        "There's no tension, no real struggle, or any real dirt and grit that Road Warrior had. Everything George Miller got right with that masterpiece he gets completely wrong here. \n",
        "''')"
      ]
    },
    {
      "cell_type": "code",
      "execution_count": null,
      "metadata": {
        "colab": {
          "base_uri": "https://localhost:8080/"
        },
        "id": "rDG_2LBEn3bL",
        "outputId": "5a626017-9c27-4b88-bfd9-a957663dfacc"
      },
      "outputs": [
        {
          "output_type": "stream",
          "name": "stdout",
          "text": [
            "負面的\n"
          ]
        }
      ],
      "source": [
        "predict_review('''\n",
        "Sure, I'm a huge film snob who (on the surface) only likes artsy-fartsy foreign films from before the 60's, but that hasn't stopped me from loving Disney's Beauty & The Beast; in fact, it's probably my favorite American animated film and is easily Disney's finest work. It's beautiful, it's breathtaking, it's warm, it's hilarious, it's captivating, and, in Disney fashion, it's magical. When I learned that Disney would be remaking their classic films, B&TB was undeniably the best wrapped package. How could they go wrong?\n",
        "Oh man, they went wrong.\n",
        "First thing's first: this film is so flat. The directing was dull and uninteresting throughout the entire film and it honestly felt like one of the Twilight sequels...and then I looked it up and found out that, yes, director Bill Condon was the man behind Breaking Dawn parts 1 & 2. Every shot looks bored and uninterested, which contrasts heavily with the original animated film that was constantly popping with vibrancy. The script too is boring because it's almost a complete remake of the original, though I guess most people won't mind that.\n",
        "Next: the CGI is horrid. Although I didn't care for The Jungle Book from last year, I could at least admit that the CGI was breathtaking. The same cant be said for this film. Characters like Lumière, Cogsworth, Mrs Potts, and most of the cursed appliances have very strange, lifeless faces that are pretty off putting to be looking at for such a long time. All of the sets too look artificial and fake, especially the town towards the beginning. However, the biggest offender is easily and infuriatingly the character that mattered most: The Beast. The CGI on the Beast's face is so distracting that it completely takes you out of the film. His eyes are completely devoid of soul, and his mouth is a gaping video game black hole of fiction. Klaus Kinski looked much better in the Faerie Tale Theatre episode of Beauty & The Beast, and that was a 1984 TV show episode. But do you know why it looked better? Because it was an actual face with actual eyes, not some video game computerized synthetic monstrosity. When will studios learn that practical effects will always top CGI?\n",
        "Finally: wasted casting. Emma Watson is beautiful, but she's no Belle. She is completely devoid of the warmth and humanity that made the animated Belle so beloved. Instead, she is cold and heartless throughout most of the film. Kevin Kline is 100% wasted and does nothing except look old. Ian McKellan, Ewan McGregor, Emma Thompson, and even Dan Stevens as the Beast are very expendable and could've been played by anyone else. The only good characters are Gaston and LeFou, mostly because they are fun and played by actors who breathe new life into their original shapes. If anything, this film should've been about Gaston and LeFou, but that would never happen because that would mean Disney couldn't cater to blind nostalgic 90's kids.\n",
        "Overall, this film is a complete bore. It could've been better if even the special effects were good, but the CGI in particular is horrendous. I'm all for Disney remaking their nostalgia- catering 90's films, but they need to be interesting. This film, sadly, is not. Even the Christmas sequel is better than this film because it's at least something. \n",
        "''')"
      ]
    },
    {
      "cell_type": "code",
      "execution_count": null,
      "metadata": {
        "colab": {
          "base_uri": "https://localhost:8080/"
        },
        "id": "PhqpkucDn3bM",
        "outputId": "5d411f64-f084-439a-99b6-dd6b2a81a144"
      },
      "outputs": [
        {
          "output_type": "stream",
          "name": "stdout",
          "text": [
            "正面的\n"
          ]
        }
      ],
      "source": [
        "predict_review('''\n",
        "I was really looking forward to this film. Not only has Disney recently made excellent live-action versions of their animated masterpieces (Jungle Book, Cinderella), but the cast alone (Emma Watson, Ian McKellen, Kevin Kline) already seemed to make this one a sure hit. Well, not so much as it turns out.\n",
        "Some of the animation is fantastic, but because characters like Cogsworth (the clock), Lumière (the candelabra) and Chip (the little tea cup) now look \"realistic\", they lose a lot of their animated predecessors' charm and actually even look kind of creepy at times. And ironically - unlike in the animated original - in this new realistic version they only have very limited facial expressions (which is a creative decision I can't for the life of me understand).\n",
        "Even when it works: there can be too much of a good thing. The film is overstuffed with lush production design and cgi (which is often weirdly artificial looking though) but sadly lacking in charm and genuine emotion. If this were a music album, I'd say it is \"over-produced\" and in need of more soul and swing. The great voice talent in some cases actually seems wasted, because it drowns in a sea of visual effects that numbs all senses. The most crucial thing that didn't work for me, though, is the Beast. He just never looks convincing. The eyes somehow don't look like real eyes and they're always slightly off.\n",
        "On the positive side, I really liked Gaston, and the actor who played him, Luke Evans, actually gave the perhaps most energized performance of all. Kevin Kline as Belle's father has little to do but to look fatherly and old, but he makes the most of his part. Speaking of Belle, now that I've seen the film, I think her role was miscast. I think someone like Rachel McAdams would actually have been a more natural, lively and perhaps a bit more feisty Belle than Emma Watson.\n",
        "If you love the original, you might want to give this one a pass, it's really not that good (although at least the songs were OK). Also, I'd think twice before bringing small children; without cute animated faces, all those \"realistic\" looking creatures and devices can be rather frightening for a child. ''')"
      ]
    },
    {
      "cell_type": "code",
      "execution_count": null,
      "metadata": {
        "colab": {
          "base_uri": "https://localhost:8080/"
        },
        "id": "0OYKyX1gn3bM",
        "outputId": "7ad1ac10-1f51-4ac0-f6f9-513a23b9d7d0"
      },
      "outputs": [
        {
          "output_type": "stream",
          "name": "stdout",
          "text": [
            "正面的\n"
          ]
        }
      ],
      "source": [
        "predict_review('''\n",
        "Up front: I'm probably not the right audience for this film. I only went because I was invited, and I wouldn't have gone to check this one out otherwise.\n",
        "Firstly, some of the production values are really beautiful and reminded me of the animated classic in a good way. Also, the voice cast for the clock and the kitchen devices are great.\n",
        "Secondly, the actors, well... this may sound kind of harsh, but I've never seen Emma Watson act so stiff in a movie. Her performance is wooden, which is pretty bad considering she's supposed to be the heart of the film. Also, she probably won't start a singing career anytime soon.\n",
        "Thirdly (and most importantly), Beast. That's where they really dropped the ball. Giving him a lifeless CGI face was an unforgivable mistake, and it's such a constant distraction that I could never really get into the movie.\n",
        "Overall, I'm afraid I wouldn't recommend this movie, at least not to adults. I'm sure most kids would enjoy it though, and it's not really a bad film: just a very mediocre one. 6 stars out of 10. \n",
        "''')"
      ]
    },
    {
      "cell_type": "code",
      "execution_count": null,
      "metadata": {
        "colab": {
          "base_uri": "https://localhost:8080/"
        },
        "id": "WMUlkqIKn3bN",
        "outputId": "9934d3fd-95d2-4ef0-9d65-f9e378e85f01"
      },
      "outputs": [
        {
          "output_type": "stream",
          "name": "stdout",
          "text": [
            "正面的\n"
          ]
        }
      ],
      "source": [
        "predict_review('''\n",
        "Full disclosure, I didn't think the first movie was as bad as it was made out to be. It wasn't good in almost any sense, but it was to be expected given the combination of source material, resources and constraints.\n",
        "That said, this sequel is 20x better than the first. Having established the characters in the first movie, the actors seem to be able to act now comfortably in their parts. The story becomes much more nuanced with plenty of dynamics on the go.\n",
        "SPOILERS from now on\n",
        "Can they maintain a \"vanilla\" relationship? Is he going to become controlling again and ruin things? Will she let it get out of control and ruin things also or stay on it? Who is that stalky girl and what happened to her exactly? what about his mother? and that ex of his? Will something occur with her infatuated boss?\n",
        "On top of all of this, I realised while watching that the series was never about a bizarre sadist control freak, it's actually about all men and the story of a woman trying to find the balance between accepting or desiring the dominant behaviour of the male archetype and maintaining strength and independence in such a relationship.\n",
        "While of course the fact that he is rich, while possibly relating to the power struggle, looks like it is going to be more and more used for generating further drama. The romance is much more evident in this movie to/ \n",
        "''')"
      ]
    },
    {
      "cell_type": "markdown",
      "metadata": {
        "id": "0uX6g8GXn3bN"
      },
      "source": [
        "# serialize model to JSON"
      ]
    },
    {
      "cell_type": "code",
      "execution_count": null,
      "metadata": {
        "id": "faYJ8Wtfn3bN",
        "outputId": "10692cc4-555f-499b-f8cf-cd93575f3fbb"
      },
      "outputs": [
        {
          "name": "stdout",
          "output_type": "stream",
          "text": [
            "Saved model to disk\n"
          ]
        }
      ],
      "source": [
        "model_json = model.to_json()\n",
        "with open(\"SaveModel/Imdb_RNN_model.json\", \"w\") as json_file:\n",
        "    json_file.write(model_json)\n",
        "\n",
        "model.save_weights(\"SaveModel/Imdb_RNN_model.h5\")\n",
        "print(\"Saved model to disk\")"
      ]
    }
  ],
  "metadata": {
    "anaconda-cloud": {},
    "kernelspec": {
      "display_name": "Python 3",
      "language": "python",
      "name": "python3"
    },
    "language_info": {
      "codemirror_mode": {
        "name": "ipython",
        "version": 3
      },
      "file_extension": ".py",
      "mimetype": "text/x-python",
      "name": "python",
      "nbconvert_exporter": "python",
      "pygments_lexer": "ipython3",
      "version": "3.5.3"
    },
    "colab": {
      "name": "08_M205_Keras_Imdb_LSTM.ipynb",
      "provenance": [],
      "collapsed_sections": [
        "0uX6g8GXn3bN"
      ]
    }
  },
  "nbformat": 4,
  "nbformat_minor": 0
}