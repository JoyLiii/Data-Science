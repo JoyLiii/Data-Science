{
 "cells": [
  {
   "cell_type": "markdown",
   "metadata": {},
   "source": [
    "## Q1. 輸入及輸出"
   ]
  },
  {
   "cell_type": "code",
   "execution_count": 10,
   "metadata": {},
   "outputs": [
    {
     "name": "stdout",
     "output_type": "stream",
     "text": [
      "請輸入現任公司名稱玉山\n",
      "請輸入姓名佳嬅\n",
      "請輸入您的年齡24.4\n",
      "請輸入您的本行年資12\n"
     ]
    }
   ],
   "source": [
    "\"\"\"\n",
    "輸入公司、姓名、年齡與本行年資，輸出OOO今年XX歲，目前在OOOO已經XX年了\n",
    "\"\"\"\n",
    "work = input (\"請輸入現任公司名稱\")\n",
    "name = input (\"請輸入姓名\")\n",
    "age =  input(\"請輸入您的年齡\")\n",
    "seniority = input(\"請輸入您的本行年資\")"
   ]
  },
  {
   "cell_type": "code",
   "execution_count": 3,
   "metadata": {},
   "outputs": [
    {
     "name": "stdout",
     "output_type": "stream",
     "text": [
      "胡家嬅今年29歲，目前在玉山銀行已經3.3年了\n"
     ]
    }
   ],
   "source": [
    "print(f'{name}今年{age}歲，目前在{work}已經{seniority}年了')"
   ]
  },
  {
   "cell_type": "markdown",
   "metadata": {},
   "source": [
    "## Q2. DATA TYPE"
   ]
  },
  {
   "cell_type": "code",
   "execution_count": 8,
   "metadata": {},
   "outputs": [
    {
     "name": "stdout",
     "output_type": "stream",
     "text": [
      "<class 'str'>\n"
     ]
    }
   ],
   "source": [
    "\"\"\"\n",
    "確認原先變數類別\n",
    "\"\"\"\n",
    "\n",
    "a = type(work)\n",
    "b = type(name)\n",
    "c = type(age)\n",
    "d = type(seniority)\n",
    "\n",
    "print(c)"
   ]
  },
  {
   "cell_type": "code",
   "execution_count": 24,
   "metadata": {
    "collapsed": true,
    "jupyter": {
     "outputs_hidden": true
    }
   },
   "outputs": [
    {
     "name": "stdout",
     "output_type": "stream",
     "text": [
      "00123\n",
      " 小玉\n",
      "03\n",
      "23.40\n"
     ]
    }
   ],
   "source": [
    "\"\"\"\n",
    "年齡不論輸入是浮點還是整數，請以整數顯示，年資不論輸入是浮點還是整數，請以浮點顯示\n",
    "\"\"\"\n",
    "empid = 123\n",
    "name = '小玉'\n",
    "age = 3\n",
    "seniority = 23.4\n",
    "\n",
    "print(f'{empid:05d}')\n",
    "print(f'{name:>3s}')\n",
    "print(f'{age:02d}')\n",
    "print(f'{seniority:2.2f}')\n"
   ]
  },
  {
   "cell_type": "markdown",
   "metadata": {},
   "source": [
    "## Q3. 複利計算"
   ]
  },
  {
   "cell_type": "code",
   "execution_count": null,
   "metadata": {},
   "outputs": [],
   "source": [
    "\"\"\"\n",
    "本金和 = 本金*(1+年利率)的n次方(n為年)\n",
    "若你有一筆5萬元，請計算5年後本金和，請顯示小數點第2位數\n",
    "\"\"\"\n",
    "\n",
    "money = 50000*(1+0.015)**5\n",
    "print(f'{money:5.2f}')"
   ]
  },
  {
   "cell_type": "code",
   "execution_count": 27,
   "metadata": {
    "collapsed": true,
    "jupyter": {
     "outputs_hidden": true
    }
   },
   "outputs": [
    {
     "name": "stdout",
     "output_type": "stream",
     "text": [
      "53864\n"
     ]
    }
   ],
   "source": [
    "#請以整數列出本金和\n",
    "print(int(money))"
   ]
  },
  {
   "cell_type": "markdown",
   "metadata": {},
   "source": [
    "# Q4. 換匯"
   ]
  },
  {
   "cell_type": "code",
   "execution_count": 29,
   "metadata": {},
   "outputs": [
    {
     "data": {
      "text/plain": [
       "'壹柒伍玖伍零零零'"
      ]
     },
     "execution_count": 29,
     "metadata": {},
     "output_type": "execute_result"
    }
   ],
   "source": [
    "\"\"\"\n",
    "現在在系統上看到客戶存入 'US$600,000' 的字串資訊，現在需要根據美金對新台幣的匯率(現金)29.325將該金額轉換成數字後存入系統，\n",
    "請使用Python 將該字串轉換為數字後，接著根據匯率轉換成台幣金額\n",
    "\"\"\"\n",
    "s = 'US$600,000'\n",
    "us = s[3:6]+s[7:10]\n",
    "ntd = int(int(us)*29.325)\n",
    "ntd= str(ntd)\n",
    "ntd.replace('1','壹').replace('7','柒').replace('5','伍').replace('9','玖').replace('0','零')\n"
   ]
  },
  {
   "cell_type": "markdown",
   "metadata": {},
   "source": [
    "# Q5.取出中位數"
   ]
  },
  {
   "cell_type": "code",
   "execution_count": 28,
   "metadata": {
    "collapsed": true,
    "jupyter": {
     "outputs_hidden": true
    }
   },
   "outputs": [
    {
     "name": "stdout",
     "output_type": "stream",
     "text": [
      "75\n"
     ]
    }
   ],
   "source": [
    "#有家公司，員工年薪(單位為萬元)分別為[60,90,70,55,120,88,75]\n",
    "#請找出此公司員工中位數\n",
    "salary=[60,90,70,55,120,88,75]\n",
    "salary.sort()\n",
    "n = len(salary)\n",
    "m = n/2\n",
    "if n == 0:\n",
    "    print ('None')\n",
    "elif n%2 == 0:\n",
    "    print (\"%.1f\"%((salary[m]+salary[m-1])/2.0))\n",
    "else:\n",
    "    print (salary[int(m)])\n"
   ]
  },
  {
   "cell_type": "markdown",
   "metadata": {},
   "source": [
    "# Q6.計算開戶次數"
   ]
  },
  {
   "cell_type": "code",
   "execution_count": null,
   "metadata": {},
   "outputs": [],
   "source": [
    "\"\"\"\n",
    "現有三家分行承作換匯、繳費、存款、開戶等業務，我們現將這三家一天的營業內容存成於一字典之中，\n",
    "並將這三家當天承作的業務以Tuple 的形式擺放到對應銀行的對應值中，\n",
    "請使用Python 計算三家銀行在一天的總開戶數有多少?\n",
    "\"\"\"\n",
    "bank_dic = {\n",
    "    'A': ('繳費', '開戶', '開戶', '開戶', '開戶', '開戶', '開戶', '換匯', '繳費', '繳費'),\n",
    "    'B': ('繳費', '換匯', '換匯', '換匯', '繳費', '開戶', '繳費', '開戶'),\n",
    "    'C': ('繳費', '開戶', '存款', '繳費', '繳費', '繳費', '開戶', '繳費', '換匯', '存款', '繳費', '存款')\n",
    "}\n",
    "bank_dic.get('A').count('開戶')+bank_dic.get('B').count('開戶')+bank_dic.get('C').count('開戶')\n",
    "\n"
   ]
  },
  {
   "cell_type": "markdown",
   "metadata": {},
   "source": [
    "# Q7. 取交集"
   ]
  },
  {
   "cell_type": "code",
   "execution_count": 30,
   "metadata": {
    "collapsed": true,
    "jupyter": {
     "outputs_hidden": true
    }
   },
   "outputs": [
    {
     "data": {
      "text/plain": [
       "{'C126', 'C714'}"
      ]
     },
     "execution_count": 30,
     "metadata": {},
     "output_type": "execute_result"
    }
   ],
   "source": [
    "sales1 = ['C594', 'C449', 'C887', 'C126', 'C468', 'C258', 'C221', 'C505', 'C714']\n",
    "sales2 = ['C313', 'C714', 'C286', 'C432', 'C666', 'C356', 'C855', 'C476', 'C126', 'C643', 'C926']\n",
    "sales3 = ['C193', 'C941', 'C126', 'C590', 'C414', 'C065', 'C714']\n",
    "\n",
    "set(sales1)&set(sales2)&set(sales3)"
   ]
  },
  {
   "cell_type": "markdown",
   "metadata": {},
   "source": [
    "# Q8. 計算手機撥打次數"
   ]
  },
  {
   "cell_type": "code",
   "execution_count": 31,
   "metadata": {},
   "outputs": [
    {
     "data": {
      "text/plain": [
       "25"
      ]
     },
     "execution_count": 31,
     "metadata": {},
     "output_type": "execute_result"
    }
   ],
   "source": [
    "\"\"\"\n",
    "有一業務今天撥打了數通電話開發新客源，但撥打的電話中有包含市話與手機號碼(09XXXXXXXX)，請使用Python \n",
    "統計出今天該業務一共撥打了幾通手機號碼出去?\n",
    "phonecall = ['0914514126', '0993623819', '0992850648', '0954365410', '03-6949000', '0985512914', '0935770139', '0912852813',\n",
    "'0944987869', '0980685204', '03-5542615', '02-6338673', '02-1076622', '02-6832691', '0951859556', '03-3574856', '02-6531810',\n",
    "'0911563100', '03-3489073', '0902918795', '02-3517886', '03-1668413', '0902197860', '0924682908', '02-6027277', '02-1363389',\n",
    "'03-0842909', '02-0843773', '0971153647', '0919904753', '03-2139859', '0961695665', '02-7073674', '0954628414', '02-4627660',\n",
    "'03-1410712', '03-3826513', '02-2998016', '02-7993017', '0911607501', '03-7912519', '0914875480', '0916711466', '0919436315',\n",
    "'02-7777202', '03-9676001', '0942708276', '02-2793450', '0991317284', '0978271573', '03-8860927', '02-7575368', '02-0799818']\n",
    "請使用Python計算並列出計算過程\n",
    "\"\"\"\n",
    "phonecall = ['0914514126', '0993623819', '0992850648', '0954365410', '03-6949000', '0985512914', '0935770139', '0912852813', \n",
    "             '0944987869', '0980685204', '03-5542615', '02-6338673', '02-1076622', '02-6832691', '0951859556', '03-3574856', \n",
    "             '02-6531810', '0911563100', '03-3489073', '0902918795', '02-3517886', '03-1668413', '0902197860', '0924682908', \n",
    "             '02-6027277', '02-1363389', '03-0842909', '02-0843773', '0971153647', '0919904753', '03-2139859', '0961695665', \n",
    "             '02-7073674', '0954628414', '02-4627660', '03-1410712', '03-3826513', '02-2998016', '02-7993017', '0911607501', \n",
    "             '03-7912519', '0914875480', '0916711466', '0919436315', '02-7777202', '03-9676001', '0942708276', '02-2793450', \n",
    "             '0991317284', '0978271573', '03-8860927', '02-7575368', '02-0799818']\n",
    "matching = [s for s in phonecall if \"09\" in s[0:2]]\n",
    "len(matching)\n"
   ]
  },
  {
   "cell_type": "markdown",
   "metadata": {},
   "source": [
    "# Q9. 判斷是否質數"
   ]
  },
  {
   "cell_type": "code",
   "execution_count": 35,
   "metadata": {},
   "outputs": [
    {
     "name": "stdout",
     "output_type": "stream",
     "text": [
      "Input a number: 4\n"
     ]
    },
    {
     "data": {
      "text/plain": [
       "False"
      ]
     },
     "execution_count": 35,
     "metadata": {},
     "output_type": "execute_result"
    }
   ],
   "source": [
    "'''\n",
    "實作質數判斷函數 `is_prime()`，可以判斷輸入的數字是否為質數\n",
    "'''\n",
    "\n",
    "def is_prime(n):\n",
    "    for i in range(2, n):\n",
    "        if n % i == 0: \n",
    "            return False\n",
    "    return True\n",
    "\n",
    "n = int(input('Input a number: '))   \n",
    "is_prime(n)\n",
    "   "
   ]
  },
  {
   "cell_type": "markdown",
   "metadata": {},
   "source": [
    "# Q10. 倍數顯示"
   ]
  },
  {
   "cell_type": "code",
   "execution_count": null,
   "metadata": {
    "scrolled": true
   },
   "outputs": [],
   "source": [
    "'''\n",
    "將 1 到 100 印出，但是碰到 3 的倍數的時候改為輸出 \"Bingo!\"，碰到 5 的倍數的時候改為輸出 \"Awesome!\"，如果同時是 3 跟 5 的公倍數（15 的倍數），則輸出 \"Gotcha!\"\n",
    "Author: XXX\n",
    "'''\n",
    "\n",
    "for i in range(1, 101):\n",
    "    if i % 3 == 0:\n",
    "        print (\"Bingo!\")\n",
    "    elif i % 5 == 0:\n",
    "        print (\"Awesome!\")\n",
    "    elif i % 15 == 0:\n",
    "        print (\"Gotcha!\")\n",
    "    else:\n",
    "        print(i) "
   ]
  },
  {
   "cell_type": "markdown",
   "metadata": {},
   "source": [
    "# Q11. 設計一個會員輸入函式"
   ]
  },
  {
   "cell_type": "markdown",
   "metadata": {},
   "source": [
    "讓使用者可以輸入名稱和手機，須包含以下功能：\n",
    "- 檢查名稱：是否為string\n",
    "- 檢查手機：前兩碼是否有09和是否是10碼\n",
    "- 最後用此方式紀錄會員資訊： <br>\n",
    "{'會員流水編號1':{'name': '', 'phone': '', ...}\n",
    "e.g. \n",
    "{'20210723163149_62965': {'name': 'David', 'phone': '0912345678'}, '20210723163157_71657': {'name': 'Steven', 'phone': '0987654321'}}\n",
    "會員流水編號格式: 當下的年月日時分秒 + '_' + 0~99999 的隨機亂碼(前面需要含蓋0)，總長是20碼\n",
    "- 需要有讓使用者輸入是否還要輸入下一筆的判斷\n",
    "\n",
    "HINT:\n",
    "- isinstance\n",
    "- random.randint\n",
    "- datetime\n",
    "- while、break"
   ]
  },
  {
   "cell_type": "code",
   "execution_count": 4,
   "metadata": {},
   "outputs": [
    {
     "name": "stdout",
     "output_type": "stream",
     "text": [
      "歡迎使用會員登錄系統\n"
     ]
    },
    {
     "name": "stdin",
     "output_type": "stream",
     "text": [
      "請輸入名稱: ERIK\n",
      "請輸入電話: 0987654321\n"
     ]
    },
    {
     "name": "stdout",
     "output_type": "stream",
     "text": [
      "您的資訊為: {'name': 'ERIK', 'phone': '0987654321'}\n"
     ]
    },
    {
     "name": "stdin",
     "output_type": "stream",
     "text": [
      "是否繼續輸入(y/n)? 若非y可結束此系統 y\n"
     ]
    },
    {
     "name": "stdout",
     "output_type": "stream",
     "text": [
      "歡迎使用會員登錄系統\n"
     ]
    },
    {
     "name": "stdin",
     "output_type": "stream",
     "text": [
      "請輸入名稱: DAVID\n",
      "請輸入電話: 0987654321\n"
     ]
    },
    {
     "name": "stdout",
     "output_type": "stream",
     "text": [
      "您的資訊為: {'name': 'DAVID', 'phone': '0987654321'}\n"
     ]
    },
    {
     "name": "stdin",
     "output_type": "stream",
     "text": [
      "是否繼續輸入(y/n)? 若非y可結束此系統 y\n"
     ]
    },
    {
     "name": "stdout",
     "output_type": "stream",
     "text": [
      "歡迎使用會員登錄系統\n"
     ]
    },
    {
     "name": "stdin",
     "output_type": "stream",
     "text": [
      "請輸入名稱: GOOD\n",
      "請輸入電話: 000000000\n"
     ]
    },
    {
     "name": "stdout",
     "output_type": "stream",
     "text": [
      "手機前兩碼不是09\n",
      "偵測輸入資料異常，請重新登入\n"
     ]
    },
    {
     "name": "stdin",
     "output_type": "stream",
     "text": [
      "是否繼續輸入(y/n)? 若非y可結束此系統 \n"
     ]
    },
    {
     "name": "stdout",
     "output_type": "stream",
     "text": [
      "全部會員資訊: {'20210723164205_14898': {'name': 'ERIK', 'phone': '0987654321'}, '20210723164215_94302': {'name': 'DAVID', 'phone': '0987654321'}}\n"
     ]
    }
   ],
   "source": [
    "import random\n",
    "from datetime import datetime\n",
    "\n",
    "\n",
    "def check(name, phone):\n",
    "    if not isinstance(name, str):\n",
    "        print(\"name不是str\")\n",
    "        return False\n",
    "    elif not isinstance(phone, str):\n",
    "        print(\"phone不是str\")\n",
    "        return False\n",
    "    elif phone[:2] != '09':\n",
    "        print(\"手機前兩碼不是09\")\n",
    "        return False\n",
    "    elif len(phone) != 10 :\n",
    "        print(\"手機非10碼\")\n",
    "        return False\n",
    "    return True\n",
    "\n",
    "def create_member(name, phone):\n",
    "    member_dict = {'name': name,\n",
    "                   'phone': phone,\n",
    "                  }\n",
    "    return member_dict\n",
    "\n",
    "all_member_dict = {}\n",
    "\n",
    "while True:\n",
    "    print(\"歡迎使用會員登錄系統\")\n",
    "    name = input(\"請輸入名稱:\")\n",
    "    phone = input(\"請輸入電話:\")\n",
    "    if check(name, phone):\n",
    "        member_dict = create_member(name, phone)\n",
    "        n = \"%05d\" % random.randint(0, 99999)\n",
    "        d = datetime.today()\n",
    "        customer_id = str(d.strftime('%Y%m%d%H%M%S')) + '_'+ str(n)\n",
    "        print(\"您的資訊為:\", member_dict)\n",
    "        all_member_dict[customer_id] = member_dict\n",
    "    else:\n",
    "        print(\"偵測輸入資料異常，請重新登入\")\n",
    "    repeat = input(\"是否繼續輸入(y/n)? 若非y可結束此系統\")\n",
    "    if repeat != \"y\":\n",
    "        break\n",
    "        \n",
    "print(\"全部會員資訊:\", all_member_dict)"
   ]
  },
  {
   "cell_type": "code",
   "execution_count": null,
   "metadata": {},
   "outputs": [],
   "source": []
  },
  {
   "cell_type": "code",
   "execution_count": null,
   "metadata": {},
   "outputs": [],
   "source": []
  }
 ],
 "metadata": {
  "kernelspec": {
   "display_name": "Python 3",
   "language": "python",
   "name": "python3"
  },
  "language_info": {
   "codemirror_mode": {
    "name": "ipython",
    "version": 3
   },
   "file_extension": ".py",
   "mimetype": "text/x-python",
   "name": "python",
   "nbconvert_exporter": "python",
   "pygments_lexer": "ipython3",
   "version": "3.7.5"
  }
 },
 "nbformat": 4,
 "nbformat_minor": 4
}
