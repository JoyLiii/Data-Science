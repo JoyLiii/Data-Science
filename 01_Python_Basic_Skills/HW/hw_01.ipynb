{
 "cells": [
  {
   "cell_type": "markdown",
   "metadata": {},
   "source": [
    "## Q1. 輸入及輸出"
   ]
  },
  {
   "cell_type": "code",
   "execution_count": 10,
   "metadata": {},
   "outputs": [
    {
     "name": "stdout",
     "output_type": "stream",
     "text": [
      "請輸入現任公司名稱玉山\n",
      "請輸入姓名佳嬅\n",
      "請輸入您的年齡24.4\n",
      "請輸入您的本行年資12\n"
     ]
    }
   ],
   "source": [
    "\"\"\"\n",
    "輸入公司、姓名、年齡與本行年資，輸出OOO今年XX歲，目前在OOOO已經XX年了\n",
    "\"\"\"\n",
    "work = input (\"請輸入現任公司名稱\")\n",
    "name = input (\"請輸入姓名\")\n",
    "age =  input(\"請輸入您的年齡\")\n",
    "seniority = input(\"請輸入您的本行年資\")"
   ]
  },
  {
   "cell_type": "code",
   "execution_count": 3,
   "metadata": {
    "collapsed": true
   },
   "outputs": [
    {
     "name": "stdout",
     "output_type": "stream",
     "text": [
      "胡家嬅今年29歲，目前在玉山銀行已經3.3年了\n"
     ]
    }
   ],
   "source": [
    "print(f'{name}今年{age}歲，目前在{work}已經{seniority}年了')"
   ]
  },
  {
   "cell_type": "markdown",
   "metadata": {},
   "source": [
    "## Q2. DATA TYPE"
   ]
  },
  {
   "cell_type": "code",
   "execution_count": 8,
   "metadata": {},
   "outputs": [
    {
     "name": "stdout",
     "output_type": "stream",
     "text": [
      "<class 'str'>\n"
     ]
    }
   ],
   "source": [
    "\"\"\"\n",
    "確認原先變數類別\n",
    "\"\"\"\n",
    "\n",
    "a = type(work)\n",
    "b = type(name)\n",
    "c = type(age)\n",
    "d = type(seniority)\n",
    "\n",
    "print(c)"
   ]
  },
  {
   "cell_type": "code",
   "execution_count": 24,
   "metadata": {
    "collapsed": true
   },
   "outputs": [
    {
     "name": "stdout",
     "output_type": "stream",
     "text": [
      "00123\n",
      " 小玉\n",
      "03\n",
      "23.40\n"
     ]
    }
   ],
   "source": [
    "\"\"\"\n",
    "年齡不論輸入是浮點還是整數，請以整數顯示，年資不論輸入是浮點還是整數，請以浮點顯示\n",
    "\"\"\"\n",
    "empid = 123\n",
    "name = '小玉'\n",
    "age = 3\n",
    "seniority = 23.4\n",
    "\n",
    "print(f'{empid:05d}')\n",
    "print(f'{name:>3s}')\n",
    "print(f'{age:02d}')\n",
    "print(f'{seniority:2.2f}')\n"
   ]
  },
  {
   "cell_type": "markdown",
   "metadata": {},
   "source": [
    "## Q3. 複利計算"
   ]
  },
  {
   "cell_type": "code",
   "execution_count": null,
   "metadata": {},
   "outputs": [],
   "source": [
    "\"\"\"\n",
    "本金和 = 本金*(1+年利率)的n次方(n為年)\n",
    "若你有一筆5萬元，請計算5年後本金和，請顯示小數點第2位數\n",
    "\"\"\"\n",
    "\n",
    "money = 50000*(1+0.015)**5\n",
    "print(f'{money:5.2f}')"
   ]
  },
  {
   "cell_type": "code",
   "execution_count": 27,
   "metadata": {
    "collapsed": true
   },
   "outputs": [
    {
     "name": "stdout",
     "output_type": "stream",
     "text": [
      "53864\n"
     ]
    }
   ],
   "source": [
    "#請以整數列出本金和\n",
    "print(int(money))"
   ]
  },
  {
   "cell_type": "markdown",
   "metadata": {},
   "source": [
    "# Q4. 換匯"
   ]
  },
  {
   "cell_type": "code",
   "execution_count": 29,
   "metadata": {},
   "outputs": [
    {
     "data": {
      "text/plain": [
       "'壹柒伍玖伍零零零'"
      ]
     },
     "execution_count": 29,
     "metadata": {},
     "output_type": "execute_result"
    }
   ],
   "source": [
    "\"\"\"\n",
    "現在在系統上看到客戶存入 'US$600,000' 的字串資訊，現在需要根據美金對新台幣的匯率(現金)29.325將該金額轉換成數字後存入系統，\n",
    "請使用Python 將該字串轉換為數字後，接著根據匯率轉換成台幣金額\n",
    "\"\"\"\n",
    "s = 'US$600,000'\n",
    "us = s[3:6]+s[7:10]\n",
    "ntd = int(int(us)*29.325)\n",
    "ntd= str(ntd)\n",
    "ntd.replace('1','壹').replace('7','柒').replace('5','伍').replace('9','玖').replace('0','零')\n"
   ]
  },
  {
   "cell_type": "markdown",
   "metadata": {},
   "source": [
    "# Q5.取出中位數"
   ]
  },
  {
   "cell_type": "code",
   "execution_count": 28,
   "metadata": {
    "collapsed": true
   },
   "outputs": [
    {
     "name": "stdout",
     "output_type": "stream",
     "text": [
      "75\n"
     ]
    }
   ],
   "source": [
    "#有家公司，員工年薪(單位為萬元)分別為[60,90,70,55,120,88,75]\n",
    "#請找出此公司員工中位數\n",
    "salary=[60,90,70,55,120,88,75]\n",
    "salary.sort()\n",
    "n = len(salary)\n",
    "m = n/2\n",
    "if n == 0:\n",
    "    print ('None')\n",
    "elif n%2 == 0:\n",
    "    print (\"%.1f\"%((salary[m]+salary[m-1])/2.0))\n",
    "else:\n",
    "    print (salary[int(m)])\n"
   ]
  },
  {
   "cell_type": "markdown",
   "metadata": {},
   "source": [
    "# Q6.計算開戶次數"
   ]
  },
  {
   "cell_type": "code",
   "execution_count": null,
   "metadata": {},
   "outputs": [],
   "source": [
    "\"\"\"\n",
    "現有三家分行承作換匯、繳費、存款、開戶等業務，我們現將這三家一天的營業內容存成於一字典之中，\n",
    "並將這三家當天承作的業務以Tuple 的形式擺放到對應銀行的對應值中，\n",
    "請使用Python 計算三家銀行在一天的總開戶數有多少?\n",
    "\"\"\"\n",
    "bank_dic = {\n",
    "    'A': ('繳費', '開戶', '開戶', '開戶', '開戶', '開戶', '開戶', '換匯', '繳費', '繳費'),\n",
    "    'B': ('繳費', '換匯', '換匯', '換匯', '繳費', '開戶', '繳費', '開戶'),\n",
    "    'C': ('繳費', '開戶', '存款', '繳費', '繳費', '繳費', '開戶', '繳費', '換匯', '存款', '繳費', '存款')\n",
    "}\n",
    "bank_dic.get('A').count('開戶')+bank_dic.get('B').count('開戶')+bank_dic.get('C').count('開戶')\n",
    "\n"
   ]
  },
  {
   "cell_type": "markdown",
   "metadata": {},
   "source": [
    "# Q7. 取交集"
   ]
  },
  {
   "cell_type": "code",
   "execution_count": 30,
   "metadata": {
    "collapsed": true
   },
   "outputs": [
    {
     "data": {
      "text/plain": [
       "{'C126', 'C714'}"
      ]
     },
     "execution_count": 30,
     "metadata": {},
     "output_type": "execute_result"
    }
   ],
   "source": [
    "sales1 = ['C594', 'C449', 'C887', 'C126', 'C468', 'C258', 'C221', 'C505', 'C714']\n",
    "sales2 = ['C313', 'C714', 'C286', 'C432', 'C666', 'C356', 'C855', 'C476', 'C126', 'C643', 'C926']\n",
    "sales3 = ['C193', 'C941', 'C126', 'C590', 'C414', 'C065', 'C714']\n",
    "\n",
    "set(sales1)&set(sales2)&set(sales3)"
   ]
  },
  {
   "cell_type": "markdown",
   "metadata": {},
   "source": [
    "# Q8. 計算手機撥打次數"
   ]
  },
  {
   "cell_type": "code",
   "execution_count": 31,
   "metadata": {
    "collapsed": true
   },
   "outputs": [
    {
     "data": {
      "text/plain": [
       "25"
      ]
     },
     "execution_count": 31,
     "metadata": {},
     "output_type": "execute_result"
    }
   ],
   "source": [
    "\"\"\"\n",
    "有一業務今天撥打了數通電話開發新客源，但撥打的電話中有包含市話與手機號碼(09XXXXXXXX)，請使用Python \n",
    "統計出今天該業務一共撥打了幾通手機號碼出去?\n",
    "phonecall = ['0914514126', '0993623819', '0992850648', '0954365410', '03-6949000', '0985512914', '0935770139', '0912852813',\n",
    "'0944987869', '0980685204', '03-5542615', '02-6338673', '02-1076622', '02-6832691', '0951859556', '03-3574856', '02-6531810',\n",
    "'0911563100', '03-3489073', '0902918795', '02-3517886', '03-1668413', '0902197860', '0924682908', '02-6027277', '02-1363389',\n",
    "'03-0842909', '02-0843773', '0971153647', '0919904753', '03-2139859', '0961695665', '02-7073674', '0954628414', '02-4627660',\n",
    "'03-1410712', '03-3826513', '02-2998016', '02-7993017', '0911607501', '03-7912519', '0914875480', '0916711466', '0919436315',\n",
    "'02-7777202', '03-9676001', '0942708276', '02-2793450', '0991317284', '0978271573', '03-8860927', '02-7575368', '02-0799818']\n",
    "請使用Python計算並列出計算過程\n",
    "\"\"\"\n",
    "phonecall = ['0914514126', '0993623819', '0992850648', '0954365410', '03-6949000', '0985512914', '0935770139', '0912852813', \n",
    "             '0944987869', '0980685204', '03-5542615', '02-6338673', '02-1076622', '02-6832691', '0951859556', '03-3574856', \n",
    "             '02-6531810', '0911563100', '03-3489073', '0902918795', '02-3517886', '03-1668413', '0902197860', '0924682908', \n",
    "             '02-6027277', '02-1363389', '03-0842909', '02-0843773', '0971153647', '0919904753', '03-2139859', '0961695665', \n",
    "             '02-7073674', '0954628414', '02-4627660', '03-1410712', '03-3826513', '02-2998016', '02-7993017', '0911607501', \n",
    "             '03-7912519', '0914875480', '0916711466', '0919436315', '02-7777202', '03-9676001', '0942708276', '02-2793450', \n",
    "             '0991317284', '0978271573', '03-8860927', '02-7575368', '02-0799818']\n",
    "matching = [s for s in phonecall if \"09\" in s[0:2]]\n",
    "len(matching)\n"
   ]
  },
  {
   "cell_type": "markdown",
   "metadata": {},
   "source": [
    "# 9 判斷是否質數"
   ]
  },
  {
   "cell_type": "code",
   "execution_count": 35,
   "metadata": {},
   "outputs": [
    {
     "name": "stdout",
     "output_type": "stream",
     "text": [
      "Input a number: 4\n"
     ]
    },
    {
     "data": {
      "text/plain": [
       "False"
      ]
     },
     "execution_count": 35,
     "metadata": {},
     "output_type": "execute_result"
    }
   ],
   "source": [
    "'''\n",
    "實作質數判斷函數 `is_prime()`，可以判斷輸入的數字是否為質數\n",
    "'''\n",
    "\n",
    "def is_prime(n):\n",
    "    for i in range(2, n):\n",
    "        if n % i == 0: \n",
    "            return False\n",
    "    return True\n",
    "\n",
    "n = int(input('Input a number: '))   \n",
    "is_prime(n)\n",
    "   "
   ]
  },
  {
   "cell_type": "markdown",
   "metadata": {},
   "source": [
    "# 10 倍數顯示"
   ]
  },
  {
   "cell_type": "code",
   "execution_count": 39,
   "metadata": {},
   "outputs": [
    {
     "name": "stdout",
     "output_type": "stream",
     "text": [
      "1\n",
      "2\n",
      "Bingo!\n",
      "4\n",
      "Awesome!\n",
      "Bingo!\n",
      "7\n",
      "8\n",
      "Bingo!\n",
      "Awesome!\n",
      "11\n",
      "Bingo!\n",
      "13\n",
      "14\n",
      "Bingo!\n",
      "16\n",
      "17\n",
      "Bingo!\n",
      "19\n",
      "Awesome!\n",
      "Bingo!\n",
      "22\n",
      "23\n",
      "Bingo!\n",
      "Awesome!\n",
      "26\n",
      "Bingo!\n",
      "28\n",
      "29\n",
      "Bingo!\n",
      "31\n",
      "32\n",
      "Bingo!\n",
      "34\n",
      "Awesome!\n",
      "Bingo!\n",
      "37\n",
      "38\n",
      "Bingo!\n",
      "Awesome!\n",
      "41\n",
      "Bingo!\n",
      "43\n",
      "44\n",
      "Bingo!\n",
      "46\n",
      "47\n",
      "Bingo!\n",
      "49\n",
      "Awesome!\n",
      "Bingo!\n",
      "52\n",
      "53\n",
      "Bingo!\n",
      "Awesome!\n",
      "56\n",
      "Bingo!\n",
      "58\n",
      "59\n",
      "Bingo!\n",
      "61\n",
      "62\n",
      "Bingo!\n",
      "64\n",
      "Awesome!\n",
      "Bingo!\n",
      "67\n",
      "68\n",
      "Bingo!\n",
      "Awesome!\n",
      "71\n",
      "Bingo!\n",
      "73\n",
      "74\n",
      "Bingo!\n",
      "76\n",
      "77\n",
      "Bingo!\n",
      "79\n",
      "Awesome!\n",
      "Bingo!\n",
      "82\n",
      "83\n",
      "Bingo!\n",
      "Awesome!\n",
      "86\n",
      "Bingo!\n",
      "88\n",
      "89\n",
      "Bingo!\n",
      "91\n",
      "92\n",
      "Bingo!\n",
      "94\n",
      "Awesome!\n",
      "Bingo!\n",
      "97\n",
      "98\n",
      "Bingo!\n",
      "Awesome!\n"
     ]
    }
   ],
   "source": [
    "'''\n",
    "將 1 到 100 印出，但是碰到 3 的倍數的時候改為輸出 \"Bingo!\"，碰到 5 的倍數的時候改為輸出 \"Awesome!\"，如果同時是 3 跟 5 的公倍數（15 的倍數），則輸出 \"Gotcha!\"\n",
    "Author: XXX\n",
    "'''\n",
    "\n",
    "for i in range(1, 101):\n",
    "    if i % 3 == 0:\n",
    "        print (\"Bingo!\")\n",
    "    elif i % 5 == 0:\n",
    "        print (\"Awesome!\")\n",
    "    elif i % 15 == 0:\n",
    "        print (\"Gotcha!\")\n",
    "    else:\n",
    "        print(i) "
   ]
  }
 ],
 "metadata": {
  "kernelspec": {
   "display_name": "Python 3",
   "language": "python",
   "name": "python3"
  },
  "language_info": {
   "codemirror_mode": {
    "name": "ipython",
    "version": 3
   },
   "file_extension": ".py",
   "mimetype": "text/x-python",
   "name": "python",
   "nbconvert_exporter": "python",
   "pygments_lexer": "ipython3",
   "version": "3.8.5"
  }
 },
 "nbformat": 4,
 "nbformat_minor": 4
}
