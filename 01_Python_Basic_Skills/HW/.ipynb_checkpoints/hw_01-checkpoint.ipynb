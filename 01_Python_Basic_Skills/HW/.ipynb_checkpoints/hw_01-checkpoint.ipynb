{
 "cells": [
  {
   "cell_type": "markdown",
   "metadata": {},
   "source": [
    "## Q1. 輸入及輸出\n",
    "請輸入公司、姓名、年齡與本行年資，輸出OOO今年XX歲，目前在OOOO已經XX年了\n",
    "輸入公司預設詞：請輸入現任公司名稱\n",
    "輸入姓名預設詞：請輸入姓名\n",
    "輸入年齡預設詞：請輸入您的年齡\n",
    "輸入年資預設詞：請輸入您的本行年資"
   ]
  },
  {
   "cell_type": "code",
   "execution_count": null,
   "metadata": {},
   "outputs": [],
   "source": []
  },
  {
   "cell_type": "markdown",
   "metadata": {},
   "source": [
    "## Q2. DATA TYPE\n",
    "2-1 可先確認Q1 4個變數的類別\n",
    "2-2 請以Q1的3個變數顯示，姓名請靠右對齊，寬度為 5，年齡請輸入整數，以3位整數顯示，不足請在前面補0，年資請輸入浮點數，以小數點後2位顯示\n",
    "2-3 再確認目前4個變數的類別"
   ]
  },
  {
   "cell_type": "code",
   "execution_count": null,
   "metadata": {},
   "outputs": [],
   "source": []
  },
  {
   "cell_type": "markdown",
   "metadata": {},
   "source": [
    "## Q3. 複利計算\n",
    "本金和 = 本金*(1+年利率)的n次方(n為年)\n",
    "若你有一筆5萬元，請計算5年後本金和，請顯示小數點第2位數"
   ]
  },
  {
   "cell_type": "code",
   "execution_count": null,
   "metadata": {},
   "outputs": [],
   "source": []
  },
  {
   "cell_type": "markdown",
   "metadata": {},
   "source": [
    "# Q4. 換匯\n",
    "現在在系統上看到客戶存入 'US$600,000' 的字串資訊，現在需要根據美金對新台幣的匯率(現金)29.325將該金額轉換成數字後存入系統，\n",
    "請使用Python 將該字串轉換為數字後，接著根據匯率轉換成台幣金額"
   ]
  },
  {
   "cell_type": "code",
   "execution_count": null,
   "metadata": {},
   "outputs": [],
   "source": []
  },
  {
   "cell_type": "markdown",
   "metadata": {},
   "source": [
    "# Q5.取出中位數\n",
    "有家公司，員工年薪(單位為萬元)分別為[60,90,70,55,120,88,75]\n",
    "請找出此公司員工中位數"
   ]
  },
  {
   "cell_type": "code",
   "execution_count": null,
   "metadata": {},
   "outputs": [],
   "source": []
  },
  {
   "cell_type": "markdown",
   "metadata": {},
   "source": [
    "# Q6.計算開戶次數\n",
    "現有三家分行承作換匯、繳費、存款、開戶等業務，我們現將這三家一天的營業內容存成於一字典之中，\n",
    "並將這三家當天承作的業務以Tuple 的形式擺放到對應銀行的對應值中，\n",
    "請使用Python各計算三家銀行在一天的總開戶數有多少，並寫在list中?"
   ]
  },
  {
   "cell_type": "code",
   "execution_count": null,
   "metadata": {},
   "outputs": [],
   "source": []
  },
  {
   "cell_type": "markdown",
   "metadata": {},
   "source": [
    "# Q7. 取交集\n",
    "sales1 = ['C594', 'C449', 'C887', 'C126', 'C468', 'C258', 'C221', 'C505', 'C714']\n",
    "sales2 = ['C313', 'C714', 'C286', 'C432', 'C666', 'C356', 'C855', 'C476', 'C126', 'C643', 'C926']\n",
    "sales3 = ['C193', 'C941', 'C126', 'C590', 'C414', 'C065', 'C714']"
   ]
  },
  {
   "cell_type": "code",
   "execution_count": null,
   "metadata": {},
   "outputs": [],
   "source": []
  },
  {
   "cell_type": "markdown",
   "metadata": {},
   "source": [
    "# Q8. 計算手機撥打次數\n",
    "\n",
    "有一業務今天撥打了數通電話開發新客源，但撥打的電話中有包含市話與手機號碼(09XXXXXXXX)，請使用Python \n",
    "統計出今天該業務一共撥打了幾通手機號碼出去?\n",
    "phonecall = ['0914514126', '0993623819', '0992850648', '0954365410', '03-6949000', '0985512914', '0935770139', '0912852813',\n",
    "'0944987869', '0980685204', '03-5542615', '02-6338673', '02-1076622', '02-6832691', '0951859556', '03-3574856', '02-6531810',\n",
    "'0911563100', '03-3489073', '0902918795', '02-3517886', '03-1668413', '0902197860', '0924682908', '02-6027277', '02-1363389',\n",
    "'03-0842909', '02-0843773', '0971153647', '0919904753', '03-2139859', '0961695665', '02-7073674', '0954628414', '02-4627660',\n",
    "'03-1410712', '03-3826513', '02-2998016', '02-7993017', '0911607501', '03-7912519', '0914875480', '0916711466', '0919436315',\n",
    "'02-7777202', '03-9676001', '0942708276', '02-2793450', '0991317284', '0978271573', '03-8860927', '02-7575368', '02-0799818']\n",
    "請使用Python計算並列出計算過程"
   ]
  },
  {
   "cell_type": "code",
   "execution_count": null,
   "metadata": {},
   "outputs": [],
   "source": []
  },
  {
   "cell_type": "markdown",
   "metadata": {},
   "source": [
    "# Q9. 判斷是否質數\n",
    "實作質數判斷函數 is_prime()，可以判斷自行輸入的數字是否為質數"
   ]
  },
  {
   "cell_type": "code",
   "execution_count": null,
   "metadata": {},
   "outputs": [],
   "source": []
  },
  {
   "cell_type": "markdown",
   "metadata": {},
   "source": [
    "# Q10. 倍數顯示文字\n",
    "將 1 到 100 印出，但是碰到 3 的倍數的時候改為輸出 \"Bingo!\"，碰到 5 的倍數的時候改為輸出 \"Awesome!\"，如果同時是 3 跟 5 的公倍數（15 的倍數），則輸出 \"Gotcha!\""
   ]
  },
  {
   "cell_type": "code",
   "execution_count": null,
   "metadata": {},
   "outputs": [],
   "source": []
  },
  {
   "cell_type": "markdown",
   "metadata": {},
   "source": [
    "# Q11. 設計一個會員輸入函式\n",
    "讓使用者可以輸入名稱和手機，須包含以下功能：\n",
    "- 檢查名稱：是否為string\n",
    "- 檢查手機：前兩碼是否有09和是否是10碼\n",
    "- 最後用此方式紀錄會員資訊： <br>\n",
    "{'會員流水編號1':{'name': '', 'phone': '', ...}\n",
    "e.g. \n",
    "{'20210723163149_62965': {'name': 'David', 'phone': '0912345678'}, '20210723163157_71657': {'name': 'Steven', 'phone': '0987654321'}}\n",
    "會員流水編號格式: 當下的年月日時分秒 + '_' + 0~99999 的隨機亂碼(前面需要含蓋0)，總長是20碼\n",
    "- 需要有讓使用者輸入是否還要輸入下一筆的判斷\n",
    "\n",
    "HINT:\n",
    "- isinstance\n",
    "- random.randint\n",
    "- datetime\n",
    "- while、break"
   ]
  }
 ],
 "metadata": {
  "kernelspec": {
   "display_name": "Python 3",
   "language": "python",
   "name": "python3"
  },
  "language_info": {
   "codemirror_mode": {
    "name": "ipython",
    "version": 3
   },
   "file_extension": ".py",
   "mimetype": "text/x-python",
   "name": "python",
   "nbconvert_exporter": "python",
   "pygments_lexer": "ipython3",
   "version": "3.8.5"
  }
 },
 "nbformat": 4,
 "nbformat_minor": 4
}
