{
 "cells": [
  {
   "cell_type": "markdown",
   "metadata": {},
   "source": [
    "## Object-Oriented Programming"
   ]
  },
  {
   "cell_type": "markdown",
   "metadata": {},
   "source": [
    "什麼是物件導向程式設計？ 大家或多或少打開別人寫的程式碼會看到 class (類別)，寫成這個樣式有什麼優點嗎？\n",
    "\n",
    "以下列舉三項：\n",
    "- 提供軟體的重複利用性\n",
    "- 擴充性\n",
    "- 方便維護\n",
    "\n",
    "我們接著會將想實作的概念抽象化，方便大家使用\n",
    "\n",
    "OS：若想要往更高階的 python 技巧，物件導向可是非常重要一定要會的！"
   ]
  },
  {
   "cell_type": "markdown",
   "metadata": {},
   "source": [
    "### 1. 類別的定義與使用"
   ]
  },
  {
   "cell_type": "markdown",
   "metadata": {},
   "source": [
    "定義一個物件有的屬性和方法，舉例定義一個動物，他的名稱和顏色是屬性，而動作是方法\n",
    "\n",
    "Animal 是一個類別名稱，在類別內定義的變數稱為屬性、而定義的函式為方法"
   ]
  },
  {
   "cell_type": "code",
   "execution_count": 1,
   "metadata": {},
   "outputs": [],
   "source": [
    "class Animal:\n",
    "    \n",
    "    # 定義屬性 (Attribut)\n",
    "    name = '小黑'\n",
    "    color = '黑色'\n",
    "    \n",
    "    # 定義方法 (Method)\n",
    "    def walk(self):\n",
    "        return '走路'"
   ]
  },
  {
   "cell_type": "markdown",
   "metadata": {},
   "source": [
    "若想操作類別的屬性和方法，必須先宣告實體化該物件\n",
    "- object.屬性\n",
    "- object.方法()"
   ]
  },
  {
   "cell_type": "code",
   "execution_count": 3,
   "metadata": {},
   "outputs": [
    {
     "name": "stdout",
     "output_type": "stream",
     "text": [
      "Type : <class '__main__.Animal'>\n",
      "Attribute 1 : 小黑\n",
      "Attribute 2 : 黑色\n",
      "Method : 走路\n"
     ]
    }
   ],
   "source": [
    "# 先實體化後指定給該變數，而該變數則為物件\n",
    "a = Animal()\n",
    "print(\"Type :\", type(a))\n",
    "print(\"Attribute 1 :\", a.name)\n",
    "print(\"Attribute 2 :\", a.color)\n",
    "print(\"Method :\", a.walk())"
   ]
  },
  {
   "cell_type": "markdown",
   "metadata": {},
   "source": [
    "### 2. 類別的建構元 "
   ]
  },
  {
   "cell_type": "markdown",
   "metadata": {},
   "source": [
    "在建立物件的同時，程式會自動執行的方法稱為建構元，又稱為初始化"
   ]
  },
  {
   "cell_type": "code",
   "execution_count": 9,
   "metadata": {},
   "outputs": [],
   "source": [
    "class Animal:\n",
    "    \n",
    "    def __init__(self, name, color):\n",
    "        print(\"Initialize\")\n",
    "        self.name = name\n",
    "        self.color = color\n",
    "    \n",
    "    def call(self):\n",
    "        print(f\"The color of my {self.name} is {self.color}\")"
   ]
  },
  {
   "cell_type": "code",
   "execution_count": 10,
   "metadata": {},
   "outputs": [
    {
     "name": "stdout",
     "output_type": "stream",
     "text": [
      "Initialize\n",
      "The color of my 小黑 is 黑色\n"
     ]
    }
   ],
   "source": [
    "a = Animal('小黑', '黑色')\n",
    "a.call()"
   ]
  },
  {
   "cell_type": "code",
   "execution_count": 13,
   "metadata": {},
   "outputs": [
    {
     "name": "stdout",
     "output_type": "stream",
     "text": [
      "小黑\n"
     ]
    }
   ],
   "source": [
    "print(a.name)"
   ]
  },
  {
   "cell_type": "markdown",
   "metadata": {},
   "source": [
    "*** 講師提醒 ***\n",
    "- self.radius 是物件的屬性\n",
    "- radius 是 \\__init\\__ 的區域變數"
   ]
  },
  {
   "cell_type": "code",
   "execution_count": 14,
   "metadata": {},
   "outputs": [],
   "source": [
    "class Circle:\n",
    "    \n",
    "    def __init__(self):\n",
    "        self.radius = 10\n",
    "        radius = 5"
   ]
  },
  {
   "cell_type": "code",
   "execution_count": 15,
   "metadata": {},
   "outputs": [
    {
     "data": {
      "text/plain": [
       "10"
      ]
     },
     "execution_count": 15,
     "metadata": {},
     "output_type": "execute_result"
    }
   ],
   "source": [
    "c = Circle()\n",
    "c.radius"
   ]
  },
  {
   "cell_type": "markdown",
   "metadata": {},
   "source": [
    "### 3. 類別變數"
   ]
  },
  {
   "cell_type": "markdown",
   "metadata": {},
   "source": [
    "(1) 可以直接存取該類別變數，而該類別變數與 Car 類別的任何物件無關"
   ]
  },
  {
   "cell_type": "code",
   "execution_count": 22,
   "metadata": {},
   "outputs": [],
   "source": [
    "class Car:\n",
    "    wheel_num = 4\n",
    "    \n",
    "    def __init__(self, brand):\n",
    "        self.brand = brand\n",
    "    \n",
    "    def drive(self):\n",
    "        print(f\"It has {Car.wheel_num} whees.\")\n",
    "        print(f\"I can drive my {self.brand} car.\")"
   ]
  },
  {
   "cell_type": "code",
   "execution_count": 23,
   "metadata": {},
   "outputs": [
    {
     "data": {
      "text/plain": [
       "4"
      ]
     },
     "execution_count": 23,
     "metadata": {},
     "output_type": "execute_result"
    }
   ],
   "source": [
    "Car.wheel_num"
   ]
  },
  {
   "cell_type": "code",
   "execution_count": 24,
   "metadata": {},
   "outputs": [
    {
     "name": "stdout",
     "output_type": "stream",
     "text": [
      "It has 4 whees.\n",
      "I can drive my Toyota car.\n"
     ]
    }
   ],
   "source": [
    "c = Car('Toyota')\n",
    "c.drive()"
   ]
  },
  {
   "cell_type": "code",
   "execution_count": 31,
   "metadata": {},
   "outputs": [],
   "source": [
    "class Tricycle:\n",
    "    wheel_num = 3\n",
    "    \n",
    "    def __init__(self, brand):\n",
    "        self.brand = brand\n",
    "    \n",
    "    def drive(self):\n",
    "        print(f\"It has {Car.wheel_num} whees.\")\n",
    "        print(f\"I can drive my {self.brand} car.\")"
   ]
  },
  {
   "cell_type": "code",
   "execution_count": 32,
   "metadata": {},
   "outputs": [
    {
     "name": "stdout",
     "output_type": "stream",
     "text": [
      "It has 4 whees.\n",
      "I can drive my Toyota car.\n"
     ]
    }
   ],
   "source": [
    "c = Tricycle('Toyota')\n",
    "c.drive()"
   ]
  },
  {
   "cell_type": "markdown",
   "metadata": {},
   "source": [
    "(2) 如果用類別名稱來存取變數會有缺點，當有一天這個類別 Car 改成其他名稱就會出錯\n",
    "\n",
    "    以下可以改成用 \\__class\\__ 的方式取代 Car.wheel_num"
   ]
  },
  {
   "cell_type": "code",
   "execution_count": 25,
   "metadata": {},
   "outputs": [
    {
     "name": "stdout",
     "output_type": "stream",
     "text": [
      "<__main__.Car object at 0x11280d250>\n",
      "<class '__main__.Car'>\n"
     ]
    }
   ],
   "source": [
    "print(c)\n",
    "print(c.__class__)"
   ]
  },
  {
   "cell_type": "code",
   "execution_count": 26,
   "metadata": {},
   "outputs": [],
   "source": [
    "class Car:\n",
    "    wheel_num = 4\n",
    "    \n",
    "    def __init__(self, brand):\n",
    "        self.brand = brand\n",
    "    \n",
    "    def drive(self):\n",
    "        print(f\"It has {self.__class__.wheel_num} whees.\")\n",
    "        print(f\"I can drive my {self.brand} car.\")"
   ]
  },
  {
   "cell_type": "code",
   "execution_count": 27,
   "metadata": {},
   "outputs": [
    {
     "name": "stdout",
     "output_type": "stream",
     "text": [
      "It has 4 whees.\n",
      "I can drive my Toyota car.\n"
     ]
    }
   ],
   "source": [
    "c = Car('Toyota')\n",
    "c.drive()"
   ]
  },
  {
   "cell_type": "markdown",
   "metadata": {},
   "source": [
    "(3) 建立物件變數並沒有修改到類別變數"
   ]
  },
  {
   "cell_type": "code",
   "execution_count": 33,
   "metadata": {},
   "outputs": [],
   "source": [
    "class Circle:\n",
    "    pi = 3.14\n",
    "    \n",
    "    def __init__(self, radius):\n",
    "        self.radius = radius\n",
    "        \n",
    "    def calculate_area(self):\n",
    "        self.area = (radius**2) * self.__class__.pi"
   ]
  },
  {
   "cell_type": "code",
   "execution_count": 34,
   "metadata": {},
   "outputs": [
    {
     "data": {
      "text/plain": [
       "3.14"
      ]
     },
     "execution_count": 34,
     "metadata": {},
     "output_type": "execute_result"
    }
   ],
   "source": [
    "Circle.pi"
   ]
  },
  {
   "cell_type": "markdown",
   "metadata": {},
   "source": [
    "c1、c2的pi已經不同了！"
   ]
  },
  {
   "cell_type": "code",
   "execution_count": 36,
   "metadata": {},
   "outputs": [
    {
     "name": "stdout",
     "output_type": "stream",
     "text": [
      "c1.pi: 3.14159\n",
      "c2.pi: 3.14\n",
      "Circle.pi: 3.14\n"
     ]
    }
   ],
   "source": [
    "c1 = Circle(1)\n",
    "c2 = Circle(2)\n",
    "c1.pi = 3.14159\n",
    "print(\"c1.pi:\", c1.pi)\n",
    "print(\"c2.pi:\", c2.pi)\n",
    "print(\"Circle.pi:\", Circle.pi)"
   ]
  },
  {
   "cell_type": "markdown",
   "metadata": {},
   "source": [
    "### 課堂練習\n",
    "請實做一個 Rectangle 類別的程式碼，類別建立的時候可以輸入長和寬\n",
    "\n",
    "並且新增一個方法，計算其面積"
   ]
  },
  {
   "cell_type": "code",
   "execution_count": 16,
   "metadata": {},
   "outputs": [],
   "source": [
    "#########################################################################\n",
    "# *****START OF YOUR CODE (DO NOT DELETE/MODIFY THIS LINE)*****\n",
    "\n",
    "# *****END OF YOUR CODE (DO NOT DELETE/MODIFY THIS LINE)*****\n",
    "#########################################################################"
   ]
  },
  {
   "cell_type": "markdown",
   "metadata": {},
   "source": [
    "### 4. 私有屬性與方法"
   ]
  },
  {
   "cell_type": "markdown",
   "metadata": {},
   "source": [
    "剛剛介紹的類別，其類別內的屬性與方法都可以讓外部引用，稱為公有屬性或公有方法\n",
    "\n",
    "如果我們想要隱密一點，創建私有的屬性和方法，則稱為「封裝」(encapsulation)"
   ]
  },
  {
   "cell_type": "code",
   "execution_count": 48,
   "metadata": {},
   "outputs": [],
   "source": [
    "class Bank:\n",
    "    \n",
    "    def __init__(self, name):\n",
    "        self.name = name\n",
    "        self.balance = 0\n",
    "        \n",
    "    def save_money(self, money):\n",
    "        self.balance += money\n",
    "        \n",
    "    def withdraw_money(self, money):\n",
    "        self.balance -= money\n",
    "    \n",
    "    def show_money(self):\n",
    "        print(f\"{self.name} balance is NT${self.balance}.\")"
   ]
  },
  {
   "cell_type": "code",
   "execution_count": 49,
   "metadata": {},
   "outputs": [
    {
     "name": "stdout",
     "output_type": "stream",
     "text": [
      "David balance is NT$1500.\n"
     ]
    }
   ],
   "source": [
    "b = Bank(\"David\")\n",
    "b.save_money(1500)\n",
    "b.show_money()"
   ]
  },
  {
   "cell_type": "code",
   "execution_count": 50,
   "metadata": {},
   "outputs": [
    {
     "name": "stdout",
     "output_type": "stream",
     "text": [
      "David balance is NT$100000000.\n"
     ]
    }
   ],
   "source": [
    "b.balance = 100000000\n",
    "b.show_money()"
   ]
  },
  {
   "cell_type": "markdown",
   "metadata": {},
   "source": [
    "為了避免有心人士竄改數據，我們要求外部不得直接更改數據"
   ]
  },
  {
   "cell_type": "code",
   "execution_count": 51,
   "metadata": {},
   "outputs": [],
   "source": [
    "class Bank:\n",
    "    \n",
    "    def __init__(self, name):\n",
    "        self.name = name\n",
    "        self.__balance = 0\n",
    "        \n",
    "    def save_money(self, money):\n",
    "        self.__balance += money\n",
    "        \n",
    "    def withdraw_money(self, money):\n",
    "        self.__balance -= money\n",
    "    \n",
    "    def show_money(self):\n",
    "        print(f\"{self.name} balance is NT${self.__balance}.\")"
   ]
  },
  {
   "cell_type": "markdown",
   "metadata": {},
   "source": [
    "有心人士想要串改數據，但這次他碰到鐵釘子\n",
    "\n",
    "怎麼還是 0 元呢？"
   ]
  },
  {
   "cell_type": "code",
   "execution_count": 52,
   "metadata": {},
   "outputs": [
    {
     "name": "stdout",
     "output_type": "stream",
     "text": [
      "David balance is NT$0.\n"
     ]
    }
   ],
   "source": [
    "b = Bank(\"David\")\n",
    "b.balance = 100000000\n",
    "b.show_money()"
   ]
  },
  {
   "cell_type": "markdown",
   "metadata": {},
   "source": [
    "私有屬性其實只是換上不同名稱\n",
    "\n",
    "告訴其他開發者說這個不要串改或使用"
   ]
  },
  {
   "cell_type": "code",
   "execution_count": 56,
   "metadata": {},
   "outputs": [
    {
     "name": "stdout",
     "output_type": "stream",
     "text": [
      "David balance is NT$10000000.\n"
     ]
    }
   ],
   "source": [
    "b._Bank__balance = 10000000\n",
    "b.show_money()"
   ]
  },
  {
   "cell_type": "markdown",
   "metadata": {},
   "source": [
    "### 課堂練習\n",
    "請實做一個銀行類別的程式碼，並新增一個換匯的功能，輸入台幣變成美金\n",
    "\n",
    "而調用換匯的方法必須使用私有方法"
   ]
  },
  {
   "cell_type": "code",
   "execution_count": 58,
   "metadata": {},
   "outputs": [],
   "source": [
    "class Bank:\n",
    "    \n",
    "    def __init__(self, name):\n",
    "        self.name = name\n",
    "        self.__balance = 0\n",
    "        \n",
    "    def save_money(self, money):\n",
    "        self.__balance += money\n",
    "        \n",
    "    def withdraw_money(self, money):\n",
    "        self.__balance -= money\n",
    "    \n",
    "    def show_money(self):\n",
    "        print(f\"{self.name} balance is NT${self.__balance}.\")\n",
    "        \n",
    "    def twd_to_usd(self):\n",
    "        #########################################################################\n",
    "        # *****START OF YOUR CODE (DO NOT DELETE/MODIFY THIS LINE)*****\n",
    "        pass\n",
    "        # *****END OF YOUR CODE (DO NOT DELETE/MODIFY THIS LINE)*****\n",
    "        #########################################################################       \n",
    "        \n",
    "    def __calculate_rate(self):\n",
    "        #########################################################################\n",
    "        # *****START OF YOUR CODE (DO NOT DELETE/MODIFY THIS LINE)*****\n",
    "        pass\n",
    "        # *****END OF YOUR CODE (DO NOT DELETE/MODIFY THIS LINE)*****\n",
    "        #########################################################################\n"
   ]
  },
  {
   "cell_type": "markdown",
   "metadata": {},
   "source": [
    "### 4. 類別的繼承"
   ]
  },
  {
   "cell_type": "code",
   "execution_count": 59,
   "metadata": {},
   "outputs": [],
   "source": [
    "class Dog:\n",
    "    \n",
    "    def __init__(self, name):\n",
    "        self.name = name\n",
    "        \n",
    "    def sleep(self):\n",
    "        print(\"I like sleeping.\")\n",
    "    \n",
    "    def bark(self):\n",
    "        print(\"bark bark bark\")\n",
    "\n",
    "class Cat:\n",
    "    \n",
    "    def __init__(self, name):\n",
    "        self.name = name\n",
    "        \n",
    "    def sleep(self):\n",
    "        print(\"I like sleeping.\")\n",
    "        \n",
    "    def meow(self):\n",
    "        print(\"meow meow meow\")"
   ]
  },
  {
   "cell_type": "code",
   "execution_count": null,
   "metadata": {},
   "outputs": [],
   "source": []
  },
  {
   "cell_type": "code",
   "execution_count": null,
   "metadata": {},
   "outputs": [],
   "source": []
  },
  {
   "cell_type": "markdown",
   "metadata": {},
   "source": [
    "## Error & Exception"
   ]
  },
  {
   "cell_type": "markdown",
   "metadata": {},
   "source": [
    "## Decorator"
   ]
  },
  {
   "cell_type": "code",
   "execution_count": null,
   "metadata": {},
   "outputs": [],
   "source": []
  }
 ],
 "metadata": {
  "kernelspec": {
   "display_name": "Python 3",
   "language": "python",
   "name": "python3"
  },
  "language_info": {
   "codemirror_mode": {
    "name": "ipython",
    "version": 3
   },
   "file_extension": ".py",
   "mimetype": "text/x-python",
   "name": "python",
   "nbconvert_exporter": "python",
   "pygments_lexer": "ipython3",
   "version": "3.7.5"
  }
 },
 "nbformat": 4,
 "nbformat_minor": 4
}
