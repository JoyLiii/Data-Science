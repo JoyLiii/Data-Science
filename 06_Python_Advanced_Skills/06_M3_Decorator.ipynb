{
 "cells": [
  {
   "cell_type": "markdown",
   "metadata": {},
   "source": [
    "## Decorator"
   ]
  },
  {
   "cell_type": "markdown",
   "metadata": {},
   "source": [
    "進階的程式碼通常會有裝飾器，為了要邁向更高的程式設計的境界，有必要了解本節的裝飾器"
   ]
  },
  {
   "cell_type": "markdown",
   "metadata": {},
   "source": [
    "- 函式是物件，可被賦值給變數，可作為參數傳遞，也可作為其他函數的回傳值\n",
    "- 函式裡面可以再定義函式，子函式可以記住父函式的狀態，就稱為閉包"
   ]
  },
  {
   "cell_type": "markdown",
   "metadata": {},
   "source": [
    "### 1.閉包介紹"
   ]
  },
  {
   "cell_type": "markdown",
   "metadata": {},
   "source": [
    "閉包範例\n",
    "- 函式裡定義函式\n",
    "- 裡面函式用了外面函式的變量\n",
    "- 外面函式返回裡面函式的名稱"
   ]
  },
  {
   "cell_type": "code",
   "execution_count": 4,
   "metadata": {},
   "outputs": [],
   "source": [
    "def fun1(num1):\n",
    "    print('Step1')\n",
    "    x = 5\n",
    "    def fun2(num2):\n",
    "        print('Step2')\n",
    "        print(x*num2 + num1)\n",
    "    return fun2"
   ]
  },
  {
   "cell_type": "code",
   "execution_count": 6,
   "metadata": {},
   "outputs": [
    {
     "name": "stdout",
     "output_type": "stream",
     "text": [
      "Step1\n",
      "Step3\n",
      "Step2\n",
      "125\n"
     ]
    }
   ],
   "source": [
    "f = fun1(100) # f 指向 fun2\n",
    "print('Step3')\n",
    "f(5) # 呼叫 fun2"
   ]
  },
  {
   "cell_type": "markdown",
   "metadata": {},
   "source": [
    "外面函式執行結束後，裡面資料仍被紀錄；即使外面被刪除，傳入閉包的資料仍然留著！"
   ]
  },
  {
   "cell_type": "code",
   "execution_count": 8,
   "metadata": {},
   "outputs": [
    {
     "name": "stdout",
     "output_type": "stream",
     "text": [
      "Step1\n",
      "Step2\n",
      "125\n",
      "Step3\n",
      "Step2\n",
      "125\n"
     ]
    }
   ],
   "source": [
    "f = fun1(100) # f 指向 fun2\n",
    "f(5)\n",
    "print('Step3')\n",
    "del fun1\n",
    "f(5)"
   ]
  },
  {
   "cell_type": "markdown",
   "metadata": {},
   "source": [
    "### 2.裝飾器介紹"
   ]
  },
  {
   "cell_type": "markdown",
   "metadata": {},
   "source": [
    "裝飾器是在修飾另外一個函式，可以增加額外的程式碼在之前或之後於被包裝的函式\n",
    "\n",
    "想像裝飾器是燈罩，加上燈罩之後，可以修改電燈照明範圍；你也可以改燈罩的顏色，讓他有不同顏色的輸出\n",
    "\n",
    "但電燈的功能本身沒有改變，只是被燈罩修改了照明範圍或顏色\n",
    "\n",
    "裝飾器如同上面的舉例，可以隨時加上去很方便！\n",
    "\n",
    "裝飾器有以下優點：\n",
    "\n",
    "- 擴充容易\n",
    "- 重複利用"
   ]
  },
  {
   "cell_type": "code",
   "execution_count": 38,
   "metadata": {},
   "outputs": [],
   "source": [
    "def say_hello():\n",
    "    return 'Hello'"
   ]
  },
  {
   "cell_type": "code",
   "execution_count": 39,
   "metadata": {},
   "outputs": [
    {
     "data": {
      "text/plain": [
       "'Hello'"
      ]
     },
     "execution_count": 39,
     "metadata": {},
     "output_type": "execute_result"
    }
   ],
   "source": [
    "say_hello()"
   ]
  },
  {
   "cell_type": "code",
   "execution_count": 51,
   "metadata": {},
   "outputs": [],
   "source": [
    "def add_something(func):\n",
    "    print('something')\n",
    "    return func"
   ]
  },
  {
   "cell_type": "code",
   "execution_count": 52,
   "metadata": {},
   "outputs": [
    {
     "name": "stdout",
     "output_type": "stream",
     "text": [
      "something\n"
     ]
    },
    {
     "data": {
      "text/plain": [
       "'Hello'"
      ]
     },
     "execution_count": 52,
     "metadata": {},
     "output_type": "execute_result"
    }
   ],
   "source": [
    "new_func = add_something(say_hello)\n",
    "new_func()"
   ]
  },
  {
   "cell_type": "markdown",
   "metadata": {},
   "source": [
    "我們可以用 python 的語法糖來改寫"
   ]
  },
  {
   "cell_type": "code",
   "execution_count": 56,
   "metadata": {},
   "outputs": [
    {
     "name": "stdout",
     "output_type": "stream",
     "text": [
      "something\n"
     ]
    },
    {
     "data": {
      "text/plain": [
       "'Hello'"
      ]
     },
     "execution_count": 56,
     "metadata": {},
     "output_type": "execute_result"
    }
   ],
   "source": [
    "@add_something\n",
    "def say_hello():\n",
    "    return 'Hello'\n",
    "say_hello()"
   ]
  },
  {
   "cell_type": "markdown",
   "metadata": {},
   "source": [
    "製作一個小寫裝飾器"
   ]
  },
  {
   "cell_type": "code",
   "execution_count": 60,
   "metadata": {},
   "outputs": [],
   "source": [
    "def lowercase(func):\n",
    "    def wrapper_func(*args):\n",
    "        print(\"原函式執行前\")\n",
    "        original_result = func(*args)\n",
    "        print(\"original_result:\", original_result)\n",
    "        print(\"原函式執行後\")\n",
    "        modified_result = original_result.lower()\n",
    "        print(\"modified_result:\", modified_result)\n",
    "        return modified_result\n",
    "    return wrapper_func\n",
    "\n",
    "@lowercase\n",
    "def say_hello():\n",
    "    return 'Hello'"
   ]
  },
  {
   "cell_type": "code",
   "execution_count": 61,
   "metadata": {},
   "outputs": [
    {
     "name": "stdout",
     "output_type": "stream",
     "text": [
      "原函式執行前\n",
      "original_result: Hello\n",
      "原函式執行後\n",
      "modified_result: hello\n"
     ]
    },
    {
     "data": {
      "text/plain": [
       "'hello'"
      ]
     },
     "execution_count": 61,
     "metadata": {},
     "output_type": "execute_result"
    }
   ],
   "source": [
    "say_hello()"
   ]
  },
  {
   "cell_type": "code",
   "execution_count": 62,
   "metadata": {},
   "outputs": [],
   "source": [
    "def uppercase(func):\n",
    "    def wrapper_func(*args):\n",
    "        original_result = func(*args)\n",
    "        modified_result = original_result.upper()\n",
    "        return modified_result\n",
    "    return wrapper_func\n",
    "\n",
    "@uppercase\n",
    "def say_hello():\n",
    "    return 'Hello'"
   ]
  },
  {
   "cell_type": "code",
   "execution_count": 63,
   "metadata": {},
   "outputs": [
    {
     "data": {
      "text/plain": [
       "'HELLO'"
      ]
     },
     "execution_count": 63,
     "metadata": {},
     "output_type": "execute_result"
    }
   ],
   "source": [
    "say_hello()"
   ]
  },
  {
   "cell_type": "markdown",
   "metadata": {},
   "source": [
    "#### 講師提醒\n",
    "\\*args : 收集所有位置型參數，以 tuple 存在 args\n",
    "\n",
    "\\**kwargs: 收集所有關鍵字參數，以 dict 存在 kwargs"
   ]
  },
  {
   "cell_type": "code",
   "execution_count": 69,
   "metadata": {},
   "outputs": [],
   "source": [
    "import datetime\n",
    "\n",
    "def timer(func):\n",
    "    def wrapper(*args, **kwargs):\n",
    "        start = datetime.datetime.now()\n",
    "        result = func(*args, **kwargs)\n",
    "        end = datetime.datetime.now()\n",
    "        print(f\"執行時間：{ end - start } 秒\")\n",
    "        return result\n",
    "    return wrapper"
   ]
  },
  {
   "cell_type": "code",
   "execution_count": 71,
   "metadata": {},
   "outputs": [],
   "source": [
    "@timer\n",
    "def sleep():\n",
    "    time.sleep(1)"
   ]
  },
  {
   "cell_type": "code",
   "execution_count": 72,
   "metadata": {},
   "outputs": [
    {
     "name": "stdout",
     "output_type": "stream",
     "text": [
      "執行時間：0:00:01.001548 秒\n"
     ]
    }
   ],
   "source": [
    "sleep()"
   ]
  },
  {
   "cell_type": "markdown",
   "metadata": {},
   "source": [
    "### 3.functions.wraps"
   ]
  },
  {
   "cell_type": "markdown",
   "metadata": {},
   "source": [
    "撰寫裝飾器是把一個函式置換成另一個，原本的函式名稱和docstring等等都會不見！！\n",
    "\n",
    "我們可以利用這個套件來避免這個問題"
   ]
  },
  {
   "cell_type": "code",
   "execution_count": 75,
   "metadata": {},
   "outputs": [],
   "source": [
    "def sleep(n):\n",
    "    '''\n",
    "    想睡覺的程式\n",
    "    n: 睡覺秒數\n",
    "    '''\n",
    "    time.sleep(n)"
   ]
  },
  {
   "cell_type": "code",
   "execution_count": 76,
   "metadata": {},
   "outputs": [
    {
     "data": {
      "text/plain": [
       "'\\n    想睡覺的程式\\n    n: 睡覺秒數\\n    '"
      ]
     },
     "execution_count": 76,
     "metadata": {},
     "output_type": "execute_result"
    }
   ],
   "source": [
    "sleep.__doc__"
   ]
  },
  {
   "cell_type": "code",
   "execution_count": 77,
   "metadata": {},
   "outputs": [
    {
     "data": {
      "text/plain": [
       "'sleep'"
      ]
     },
     "execution_count": 77,
     "metadata": {},
     "output_type": "execute_result"
    }
   ],
   "source": [
    "sleep.__name__"
   ]
  },
  {
   "cell_type": "code",
   "execution_count": 79,
   "metadata": {},
   "outputs": [],
   "source": [
    "import datetime\n",
    "\n",
    "def timer(func):\n",
    "    def wrapper(*args, **kwargs):\n",
    "        start = datetime.datetime.now()\n",
    "        result = func(*args, **kwargs)\n",
    "        end = datetime.datetime.now()\n",
    "        print(f\"執行時間：{ end - start } 秒\")\n",
    "        return result\n",
    "    return wrapper\n",
    "\n",
    "@timer\n",
    "def sleep(n):\n",
    "    '''\n",
    "    想睡覺的程式\n",
    "    n: 睡覺秒數\n",
    "    '''\n",
    "    time.sleep(n)"
   ]
  },
  {
   "cell_type": "code",
   "execution_count": 80,
   "metadata": {},
   "outputs": [],
   "source": [
    "sleep.__doc__"
   ]
  },
  {
   "cell_type": "code",
   "execution_count": 81,
   "metadata": {},
   "outputs": [
    {
     "data": {
      "text/plain": [
       "'wrapper'"
      ]
     },
     "execution_count": 81,
     "metadata": {},
     "output_type": "execute_result"
    }
   ],
   "source": [
    "sleep.__name__"
   ]
  },
  {
   "cell_type": "code",
   "execution_count": 93,
   "metadata": {},
   "outputs": [],
   "source": [
    "import datetime\n",
    "import functools\n",
    "\n",
    "def timer(func):\n",
    "    @functools.wraps(func)\n",
    "    def wrapper(*args, **kwargs):\n",
    "        start = datetime.datetime.now()\n",
    "        result = func(*args, **kwargs)\n",
    "        end = datetime.datetime.now()\n",
    "        print(f\"執行時間：{ end - start } 秒\")\n",
    "        return result\n",
    "    return wrapper\n",
    "\n",
    "@timer\n",
    "def sleep(n):\n",
    "    '''\n",
    "    想睡覺的程式\n",
    "    n: 睡覺秒數\n",
    "    '''\n",
    "    time.sleep(n)"
   ]
  },
  {
   "cell_type": "code",
   "execution_count": 83,
   "metadata": {},
   "outputs": [
    {
     "data": {
      "text/plain": [
       "'\\n    想睡覺的程式\\n    n: 睡覺秒數\\n    '"
      ]
     },
     "execution_count": 83,
     "metadata": {},
     "output_type": "execute_result"
    }
   ],
   "source": [
    "sleep.__doc__"
   ]
  },
  {
   "cell_type": "code",
   "execution_count": 84,
   "metadata": {},
   "outputs": [
    {
     "data": {
      "text/plain": [
       "'sleep'"
      ]
     },
     "execution_count": 84,
     "metadata": {},
     "output_type": "execute_result"
    }
   ],
   "source": [
    "sleep.__name__"
   ]
  },
  {
   "cell_type": "markdown",
   "metadata": {},
   "source": [
    "### 4.輸入參數"
   ]
  },
  {
   "cell_type": "markdown",
   "metadata": {},
   "source": [
    "如果想讓裝飾器傳入參數，我們可以再用另一個函式包住修飾器"
   ]
  },
  {
   "cell_type": "code",
   "execution_count": 97,
   "metadata": {},
   "outputs": [],
   "source": [
    "import datetime\n",
    "import functools\n",
    "\n",
    "def timer_repeat(n):\n",
    "    def timer(func):\n",
    "        @functools.wraps(func)\n",
    "        def wrapper(*args, **kwargs):\n",
    "            start = datetime.datetime.now()\n",
    "            result = func(*args, **kwargs)\n",
    "            end = datetime.datetime.now()\n",
    "            for _ in range(n):\n",
    "                print(f\"執行時間：{ end - start } 秒\")\n",
    "            return result\n",
    "        return wrapper\n",
    "    return timer\n",
    "\n",
    "@timer_repeat(5)\n",
    "def sleep(t):\n",
    "    '''\n",
    "    想睡覺的程式\n",
    "    n: 睡覺秒數\n",
    "    '''\n",
    "    time.sleep(t)"
   ]
  },
  {
   "cell_type": "code",
   "execution_count": 98,
   "metadata": {},
   "outputs": [
    {
     "name": "stdout",
     "output_type": "stream",
     "text": [
      "執行時間：0:00:01.004990 秒\n",
      "執行時間：0:00:01.004990 秒\n",
      "執行時間：0:00:01.004990 秒\n",
      "執行時間：0:00:01.004990 秒\n",
      "執行時間：0:00:01.004990 秒\n"
     ]
    }
   ],
   "source": [
    "sleep(1)"
   ]
  }
 ],
 "metadata": {
  "kernelspec": {
   "display_name": "Python 3",
   "language": "python",
   "name": "python3"
  },
  "language_info": {
   "codemirror_mode": {
    "name": "ipython",
    "version": 3
   },
   "file_extension": ".py",
   "mimetype": "text/x-python",
   "name": "python",
   "nbconvert_exporter": "python",
   "pygments_lexer": "ipython3",
   "version": "3.7.5"
  }
 },
 "nbformat": 4,
 "nbformat_minor": 4
}
