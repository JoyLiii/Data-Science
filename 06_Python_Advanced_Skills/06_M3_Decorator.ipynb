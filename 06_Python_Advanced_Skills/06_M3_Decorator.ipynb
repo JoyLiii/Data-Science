{
 "cells": [
  {
   "cell_type": "markdown",
   "metadata": {},
   "source": [
    "# Decorator\n",
    "---\n",
    "\n",
    "## Introduction \n",
    "在進階的python程式碼中，可以透過裝飾器對函式進行裝飾，讓函式達到特定的變化。為了要讓各位邁向更高的程式設計的境界，在本節將會介紹裝飾器的使用。\n",
    "\n",
    "不過在正式進入裝飾器的介紹前，我們要先了解幾個概念: \n",
    "1. 在python中，函式也是一個物件(參考M1:物件導向課程)，可被賦值給變數，可作為參數傳遞，也可作為其他函數的回傳值。\n",
    "2. 函式裡面可以再定義函式，我們稱其為子函式，而包含此子函式的函式為父函式。"
   ]
  },
  {
   "cell_type": "markdown",
   "metadata": {},
   "source": [
    "### 1. 函式內定義函式用法介紹 \n",
    "--- \n",
    "\n",
    "定義階段: \n",
    "- Step 1: 父函式`parent_func`裡定義子函式`child_func`\n",
    "- Step 2: 子函式`child_func`用了父面函式`parent_func`的變量`parent_x`和輸入變量`num1`。\n",
    "- Step 3: 父函式`parent_func`輸出子函式`child_func`"
   ]
  },
  {
   "cell_type": "code",
   "execution_count": 1,
   "metadata": {
    "ExecuteTime": {
     "end_time": "2021-08-19T12:08:33.597707Z",
     "start_time": "2021-08-19T12:08:33.594075Z"
    }
   },
   "outputs": [],
   "source": [
    "def parent_func(num1):\n",
    "    parent_x = 5\n",
    "    #print('Step 1: 父函式`parent_func`裡定義子函式`child_func`')\n",
    "    def child_func(num2): \n",
    "        #print('Step 2: 子函式`child_func`用了父面函式`parent_func`的變量`parent_x`和輸入變量`num1`')\n",
    "        child_result = parent_x*num2 + num1\n",
    "        print('child_result:', child_result)\n",
    "        return child_result\n",
    "    #print('Step 3: 父函式`parent_func`輸出子函式`child_func`')\n",
    "    return child_func"
   ]
  },
  {
   "cell_type": "markdown",
   "metadata": {},
   "source": [
    "使用階段: \n",
    "- Step 4: 執行`parent_func`帶出`child_func`\n",
    "- Step 5: 執行`child_func`(f)"
   ]
  },
  {
   "cell_type": "code",
   "execution_count": 2,
   "metadata": {
    "ExecuteTime": {
     "end_time": "2021-08-19T12:08:33.651470Z",
     "start_time": "2021-08-19T12:08:33.605660Z"
    }
   },
   "outputs": [
    {
     "name": "stdout",
     "output_type": "stream",
     "text": [
      "child_result: 125\n"
     ]
    },
    {
     "data": {
      "text/plain": [
       "125"
      ]
     },
     "execution_count": 2,
     "metadata": {},
     "output_type": "execute_result"
    }
   ],
   "source": [
    "#print('Step 4: 執行`parent_func`帶出`child_func`')\n",
    "f = parent_func(100)\n",
    "#print('Step 5: 執行`child_func`(f)')\n",
    "f(5) # 呼叫 fun2"
   ]
  },
  {
   "cell_type": "markdown",
   "metadata": {},
   "source": [
    "父函式執行結束後，即變父函數被刪除，傳入子函數的資料仍會被保留，就像被打包進了子函數。在軟體開發中，這個概念叫做閉包(closure)。"
   ]
  },
  {
   "cell_type": "code",
   "execution_count": 3,
   "metadata": {
    "ExecuteTime": {
     "end_time": "2021-08-19T12:08:33.687063Z",
     "start_time": "2021-08-19T12:08:33.653278Z"
    }
   },
   "outputs": [
    {
     "name": "stdout",
     "output_type": "stream",
     "text": [
      "before deletion of parent_func\n",
      "child_result: 125\n",
      "after deletion of parent_func\n",
      "child_result: 125\n"
     ]
    },
    {
     "data": {
      "text/plain": [
       "125"
      ]
     },
     "execution_count": 3,
     "metadata": {},
     "output_type": "execute_result"
    }
   ],
   "source": [
    "f = parent_func(100) # f 指向 fun2\n",
    "print('before deletion of parent_func')\n",
    "f(5)\n",
    "del parent_func\n",
    "print('after deletion of parent_func')\n",
    "f(5)"
   ]
  },
  {
   "cell_type": "markdown",
   "metadata": {},
   "source": [
    "透過以下方式可以對傳入閉包(`f`)中的參數進行檢視: "
   ]
  },
  {
   "cell_type": "code",
   "execution_count": 4,
   "metadata": {
    "ExecuteTime": {
     "end_time": "2021-08-19T12:08:33.744583Z",
     "start_time": "2021-08-19T12:08:33.688706Z"
    }
   },
   "outputs": [
    {
     "name": "stdout",
     "output_type": "stream",
     "text": [
      "num1:\n",
      "100\n",
      "parent_x:\n",
      "5\n"
     ]
    }
   ],
   "source": [
    "print('num1:')\n",
    "print(f.__closure__[0].cell_contents) \n",
    "\n",
    "print('parent_x:')\n",
    "print(f.__closure__[1].cell_contents) "
   ]
  },
  {
   "cell_type": "markdown",
   "metadata": {},
   "source": [
    "### 2.裝飾器介紹\n",
    "\n",
    "--- \n",
    "\n",
    "裝飾器可以用來修飾(或包裝)函式，可以增加額外的程式碼在被包裝的目標函式的之前或之後。\n",
    "\n",
    "想像裝飾器是燈罩，加上燈罩之後，可以修改電燈照明範圍；你也可以改燈罩的顏色，讓他有不同顏色的輸出。\n",
    "\n",
    "但電燈的功能本身沒有改變，只是被燈罩修改了照明範圍或顏色。\n",
    "\n",
    "裝飾器如同上面的舉例，可以隨時加上去很方便！\n",
    "\n",
    "裝飾器有以下優點：\n",
    "\n",
    "- 擴充容易\n",
    "- 重複利用\n",
    "\n",
    "以下對裝飾起的使用方式進行說明: "
   ]
  },
  {
   "cell_type": "markdown",
   "metadata": {
    "ExecuteTime": {
     "end_time": "2021-08-19T05:12:34.430575Z",
     "start_time": "2021-08-19T05:12:34.427344Z"
    }
   },
   "source": [
    "首先我們創建一個希望被包裝的函式，叫做`say_hello`。"
   ]
  },
  {
   "cell_type": "code",
   "execution_count": 5,
   "metadata": {
    "ExecuteTime": {
     "end_time": "2021-08-19T12:08:33.886759Z",
     "start_time": "2021-08-19T12:08:33.879550Z"
    }
   },
   "outputs": [
    {
     "name": "stdout",
     "output_type": "stream",
     "text": [
      "inside say_hello\n"
     ]
    },
    {
     "data": {
      "text/plain": [
       "'Hello'"
      ]
     },
     "execution_count": 5,
     "metadata": {},
     "output_type": "execute_result"
    }
   ],
   "source": [
    "def say_hello():\n",
    "    print('inside say_hello')\n",
    "    return 'Hello'\n",
    "\n",
    "say_hello()"
   ]
  },
  {
   "cell_type": "markdown",
   "metadata": {
    "ExecuteTime": {
     "end_time": "2021-08-19T05:18:49.251391Z",
     "start_time": "2021-08-19T05:18:49.247513Z"
    }
   },
   "source": [
    "透過一個父函式，和其中的`wrapper_func`，我們可以去包裝出一個新的函式`add_something`。\n",
    "這個父函式可以吃進被包裝的函式，加上新程式碼，輸出包裝後的函式。\n",
    "\n",
    "* 講師提醒: \n",
    "\n",
    "    - \\*args : 收集所有位置型參數，以 tuple 存在 args\n",
    "\n",
    "    - \\**kwargs: 收集所有關鍵字參數，以 dict 存在 kwargs"
   ]
  },
  {
   "cell_type": "code",
   "execution_count": 6,
   "metadata": {
    "ExecuteTime": {
     "end_time": "2021-08-19T12:08:33.934274Z",
     "start_time": "2021-08-19T12:08:33.888499Z"
    }
   },
   "outputs": [],
   "source": [
    "def add_something(func):\n",
    "    def wrapper_func(*args, **kargs):\n",
    "        print('something before say_hello')\n",
    "        ans = func(*args, **kargs)\n",
    "        print('something after say_hello')\n",
    "        return ans \n",
    "    return wrapper_func\n",
    "new_func = add_something(say_hello)"
   ]
  },
  {
   "cell_type": "code",
   "execution_count": 7,
   "metadata": {
    "ExecuteTime": {
     "end_time": "2021-08-19T12:08:33.981554Z",
     "start_time": "2021-08-19T12:08:33.938293Z"
    }
   },
   "outputs": [
    {
     "name": "stdout",
     "output_type": "stream",
     "text": [
      "something before say_hello\n",
      "inside say_hello\n",
      "something after say_hello\n"
     ]
    },
    {
     "data": {
      "text/plain": [
       "'Hello'"
      ]
     },
     "execution_count": 7,
     "metadata": {},
     "output_type": "execute_result"
    }
   ],
   "source": [
    "new_func()"
   ]
  },
  {
   "cell_type": "markdown",
   "metadata": {},
   "source": [
    "我們可以用 python 裝飾器專用的語法糖(`@`)來改寫: "
   ]
  },
  {
   "cell_type": "code",
   "execution_count": 8,
   "metadata": {
    "ExecuteTime": {
     "end_time": "2021-08-19T12:08:34.066766Z",
     "start_time": "2021-08-19T12:08:33.984023Z"
    }
   },
   "outputs": [],
   "source": [
    "@add_something\n",
    "def say_hello():\n",
    "    print('inside say_hello')\n",
    "    return 'Hello'"
   ]
  },
  {
   "cell_type": "code",
   "execution_count": 9,
   "metadata": {
    "ExecuteTime": {
     "end_time": "2021-08-19T12:08:34.122927Z",
     "start_time": "2021-08-19T12:08:34.068939Z"
    }
   },
   "outputs": [
    {
     "name": "stdout",
     "output_type": "stream",
     "text": [
      "something before say_hello\n",
      "inside say_hello\n",
      "something after say_hello\n"
     ]
    },
    {
     "data": {
      "text/plain": [
       "'Hello'"
      ]
     },
     "execution_count": 9,
     "metadata": {},
     "output_type": "execute_result"
    }
   ],
   "source": [
    "say_hello()"
   ]
  },
  {
   "cell_type": "markdown",
   "metadata": {},
   "source": [
    "### 裝飾器範例: "
   ]
  },
  {
   "cell_type": "markdown",
   "metadata": {},
   "source": [
    "#### 小寫裝飾器"
   ]
  },
  {
   "cell_type": "code",
   "execution_count": 10,
   "metadata": {
    "ExecuteTime": {
     "end_time": "2021-08-19T12:08:34.169164Z",
     "start_time": "2021-08-19T12:08:34.126815Z"
    }
   },
   "outputs": [],
   "source": [
    "def lowercase(func):\n",
    "    def wrapper_func(*args):\n",
    "        print(\"原函式執行前\")\n",
    "        original_result = func(*args)\n",
    "        print(\"original_result:\", original_result)\n",
    "        print(\"原函式執行後\")\n",
    "        modified_result = original_result.lower()\n",
    "        print(\"modified_result:\", modified_result)\n",
    "        return modified_result\n",
    "    return wrapper_func\n",
    "\n",
    "@lowercase\n",
    "def say_hello():\n",
    "    return 'Hello'\n",
    "\n",
    "@lowercase\n",
    "def say_hi():\n",
    "    return 'Hi'"
   ]
  },
  {
   "cell_type": "code",
   "execution_count": 11,
   "metadata": {
    "ExecuteTime": {
     "end_time": "2021-08-19T12:08:34.212294Z",
     "start_time": "2021-08-19T12:08:34.170695Z"
    }
   },
   "outputs": [
    {
     "name": "stdout",
     "output_type": "stream",
     "text": [
      "原函式執行前\n",
      "original_result: Hello\n",
      "原函式執行後\n",
      "modified_result: hello\n"
     ]
    },
    {
     "data": {
      "text/plain": [
       "'hello'"
      ]
     },
     "execution_count": 11,
     "metadata": {},
     "output_type": "execute_result"
    }
   ],
   "source": [
    "say_hello()"
   ]
  },
  {
   "cell_type": "code",
   "execution_count": 12,
   "metadata": {
    "ExecuteTime": {
     "end_time": "2021-08-19T12:08:34.253723Z",
     "start_time": "2021-08-19T12:08:34.215233Z"
    }
   },
   "outputs": [
    {
     "name": "stdout",
     "output_type": "stream",
     "text": [
      "原函式執行前\n",
      "original_result: Hi\n",
      "原函式執行後\n",
      "modified_result: hi\n"
     ]
    },
    {
     "data": {
      "text/plain": [
       "'hi'"
      ]
     },
     "execution_count": 12,
     "metadata": {},
     "output_type": "execute_result"
    }
   ],
   "source": [
    "say_hi()"
   ]
  },
  {
   "cell_type": "markdown",
   "metadata": {},
   "source": [
    "#### 大寫裝飾器 "
   ]
  },
  {
   "cell_type": "code",
   "execution_count": 13,
   "metadata": {
    "ExecuteTime": {
     "end_time": "2021-08-19T12:08:34.295165Z",
     "start_time": "2021-08-19T12:08:34.255672Z"
    }
   },
   "outputs": [],
   "source": [
    "def uppercase(func):\n",
    "    def wrapper_func(*args):\n",
    "        original_result = func(*args)\n",
    "        modified_result = original_result.upper()\n",
    "        return modified_result\n",
    "    return wrapper_func\n",
    "\n",
    "@uppercase\n",
    "def say_hello():\n",
    "    return 'Hello'\n",
    "\n",
    "@uppercase\n",
    "def say_hi():\n",
    "    return 'Hi'"
   ]
  },
  {
   "cell_type": "code",
   "execution_count": 14,
   "metadata": {
    "ExecuteTime": {
     "end_time": "2021-08-19T12:08:34.329679Z",
     "start_time": "2021-08-19T12:08:34.296706Z"
    }
   },
   "outputs": [
    {
     "data": {
      "text/plain": [
       "'HELLO'"
      ]
     },
     "execution_count": 14,
     "metadata": {},
     "output_type": "execute_result"
    }
   ],
   "source": [
    "say_hello()"
   ]
  },
  {
   "cell_type": "code",
   "execution_count": 15,
   "metadata": {
    "ExecuteTime": {
     "end_time": "2021-08-19T12:08:34.379672Z",
     "start_time": "2021-08-19T12:08:34.331289Z"
    }
   },
   "outputs": [
    {
     "data": {
      "text/plain": [
       "'HI'"
      ]
     },
     "execution_count": 15,
     "metadata": {},
     "output_type": "execute_result"
    }
   ],
   "source": [
    "say_hi()"
   ]
  },
  {
   "cell_type": "markdown",
   "metadata": {},
   "source": [
    "#### 計時器裝飾器 "
   ]
  },
  {
   "cell_type": "code",
   "execution_count": 16,
   "metadata": {
    "ExecuteTime": {
     "end_time": "2021-08-19T12:08:34.503671Z",
     "start_time": "2021-08-19T12:08:34.381295Z"
    }
   },
   "outputs": [],
   "source": [
    "import datetime\n",
    "import time \n",
    "def timer(func):\n",
    "    def wrapper(*args, **kwargs):\n",
    "        start = datetime.datetime.now()\n",
    "        result = func(*args, **kwargs)\n",
    "        end = datetime.datetime.now()\n",
    "        print(f\"執行時間：{ end - start } 秒\")\n",
    "        return result\n",
    "    return wrapper"
   ]
  },
  {
   "cell_type": "code",
   "execution_count": 17,
   "metadata": {
    "ExecuteTime": {
     "end_time": "2021-08-19T12:08:34.545362Z",
     "start_time": "2021-08-19T12:08:34.505364Z"
    }
   },
   "outputs": [],
   "source": [
    "@timer\n",
    "def sleep():\n",
    "    time.sleep(1)"
   ]
  },
  {
   "cell_type": "code",
   "execution_count": 18,
   "metadata": {
    "ExecuteTime": {
     "end_time": "2021-08-19T12:08:35.581072Z",
     "start_time": "2021-08-19T12:08:34.547571Z"
    }
   },
   "outputs": [
    {
     "name": "stdout",
     "output_type": "stream",
     "text": [
      "執行時間：0:00:01.001043 秒\n"
     ]
    }
   ],
   "source": [
    "sleep()"
   ]
  },
  {
   "cell_type": "markdown",
   "metadata": {},
   "source": [
    "#### 異常處理裝飾器 \n",
    "\n",
    "--- \n",
    "\n",
    "在06_M2_Error_and_Exception的章節，我們有學到可以用`try...except`在異常發生時，將異常訊息印出來。這個功能可以透過decorator來快速實現，讓每一個函式都可以在發生異常時，印出該函式對應的異常訊息，幫助我們監控程式的執行狀況。\n",
    "\n"
   ]
  },
  {
   "cell_type": "code",
   "execution_count": 19,
   "metadata": {
    "ExecuteTime": {
     "end_time": "2021-08-19T12:08:35.588764Z",
     "start_time": "2021-08-19T12:08:35.582641Z"
    }
   },
   "outputs": [],
   "source": [
    "def print_error_message(func):\n",
    "    def wrapper(*args, **kwargs):\n",
    "        try:\n",
    "            result = func(*args, **kwargs)\n",
    "        except:\n",
    "            print(f'{func.__name__} 發生問題') \n",
    "        return result\n",
    "    return wrapper"
   ]
  },
  {
   "cell_type": "code",
   "execution_count": 20,
   "metadata": {
    "ExecuteTime": {
     "end_time": "2021-08-19T12:08:35.636575Z",
     "start_time": "2021-08-19T12:08:35.590208Z"
    }
   },
   "outputs": [],
   "source": [
    "@print_error_message\n",
    "def function_with_error():\n",
    "    raise ValueError('Error') \n",
    "    "
   ]
  },
  {
   "cell_type": "code",
   "execution_count": 21,
   "metadata": {
    "ExecuteTime": {
     "end_time": "2021-08-19T12:08:35.718513Z",
     "start_time": "2021-08-19T12:08:35.639709Z"
    }
   },
   "outputs": [
    {
     "name": "stdout",
     "output_type": "stream",
     "text": [
      "function_with_error 發生問題\n"
     ]
    },
    {
     "ename": "UnboundLocalError",
     "evalue": "local variable 'result' referenced before assignment",
     "output_type": "error",
     "traceback": [
      "\u001b[0;31m---------------------------------------------------------------------------\u001b[0m",
      "\u001b[0;31mUnboundLocalError\u001b[0m                         Traceback (most recent call last)",
      "\u001b[0;32m<ipython-input-21-f3ff309b64b1>\u001b[0m in \u001b[0;36m<module>\u001b[0;34m\u001b[0m\n\u001b[0;32m----> 1\u001b[0;31m \u001b[0mfunction_with_error\u001b[0m\u001b[0;34m(\u001b[0m\u001b[0;34m)\u001b[0m\u001b[0;34m\u001b[0m\u001b[0;34m\u001b[0m\u001b[0m\n\u001b[0m",
      "\u001b[0;32m<ipython-input-19-494f1294982d>\u001b[0m in \u001b[0;36mwrapper\u001b[0;34m(*args, **kwargs)\u001b[0m\n\u001b[1;32m      5\u001b[0m         \u001b[0;32mexcept\u001b[0m\u001b[0;34m:\u001b[0m\u001b[0;34m\u001b[0m\u001b[0;34m\u001b[0m\u001b[0m\n\u001b[1;32m      6\u001b[0m             \u001b[0mprint\u001b[0m\u001b[0;34m(\u001b[0m\u001b[0;34mf'{func.__name__} 發生問題'\u001b[0m\u001b[0;34m)\u001b[0m\u001b[0;34m\u001b[0m\u001b[0;34m\u001b[0m\u001b[0m\n\u001b[0;32m----> 7\u001b[0;31m         \u001b[0;32mreturn\u001b[0m \u001b[0mresult\u001b[0m\u001b[0;34m\u001b[0m\u001b[0;34m\u001b[0m\u001b[0m\n\u001b[0m\u001b[1;32m      8\u001b[0m     \u001b[0;32mreturn\u001b[0m \u001b[0mwrapper\u001b[0m\u001b[0;34m\u001b[0m\u001b[0;34m\u001b[0m\u001b[0m\n",
      "\u001b[0;31mUnboundLocalError\u001b[0m: local variable 'result' referenced before assignment"
     ]
    }
   ],
   "source": [
    "function_with_error() "
   ]
  },
  {
   "cell_type": "code",
   "execution_count": 22,
   "metadata": {
    "ExecuteTime": {
     "end_time": "2021-08-19T12:08:49.778917Z",
     "start_time": "2021-08-19T12:08:49.769365Z"
    }
   },
   "outputs": [
    {
     "name": "stdout",
     "output_type": "stream",
     "text": [
      "divide_by_zero 發生問題\n"
     ]
    },
    {
     "ename": "UnboundLocalError",
     "evalue": "local variable 'result' referenced before assignment",
     "output_type": "error",
     "traceback": [
      "\u001b[0;31m---------------------------------------------------------------------------\u001b[0m",
      "\u001b[0;31mUnboundLocalError\u001b[0m                         Traceback (most recent call last)",
      "\u001b[0;32m<ipython-input-22-97e60ef80c10>\u001b[0m in \u001b[0;36m<module>\u001b[0;34m\u001b[0m\n\u001b[1;32m      2\u001b[0m \u001b[0;32mdef\u001b[0m \u001b[0mdivide_by_zero\u001b[0m\u001b[0;34m(\u001b[0m\u001b[0;34m)\u001b[0m\u001b[0;34m:\u001b[0m\u001b[0;34m\u001b[0m\u001b[0;34m\u001b[0m\u001b[0m\n\u001b[1;32m      3\u001b[0m     \u001b[0;32mreturn\u001b[0m \u001b[0;36m1.\u001b[0m\u001b[0;34m/\u001b[0m\u001b[0;36m0.\u001b[0m\u001b[0;34m\u001b[0m\u001b[0;34m\u001b[0m\u001b[0m\n\u001b[0;32m----> 4\u001b[0;31m \u001b[0mdivide_by_zero\u001b[0m\u001b[0;34m(\u001b[0m\u001b[0;34m)\u001b[0m\u001b[0;34m\u001b[0m\u001b[0;34m\u001b[0m\u001b[0m\n\u001b[0m",
      "\u001b[0;32m<ipython-input-19-494f1294982d>\u001b[0m in \u001b[0;36mwrapper\u001b[0;34m(*args, **kwargs)\u001b[0m\n\u001b[1;32m      5\u001b[0m         \u001b[0;32mexcept\u001b[0m\u001b[0;34m:\u001b[0m\u001b[0;34m\u001b[0m\u001b[0;34m\u001b[0m\u001b[0m\n\u001b[1;32m      6\u001b[0m             \u001b[0mprint\u001b[0m\u001b[0;34m(\u001b[0m\u001b[0;34mf'{func.__name__} 發生問題'\u001b[0m\u001b[0;34m)\u001b[0m\u001b[0;34m\u001b[0m\u001b[0;34m\u001b[0m\u001b[0m\n\u001b[0;32m----> 7\u001b[0;31m         \u001b[0;32mreturn\u001b[0m \u001b[0mresult\u001b[0m\u001b[0;34m\u001b[0m\u001b[0;34m\u001b[0m\u001b[0m\n\u001b[0m\u001b[1;32m      8\u001b[0m     \u001b[0;32mreturn\u001b[0m \u001b[0mwrapper\u001b[0m\u001b[0;34m\u001b[0m\u001b[0;34m\u001b[0m\u001b[0m\n",
      "\u001b[0;31mUnboundLocalError\u001b[0m: local variable 'result' referenced before assignment"
     ]
    }
   ],
   "source": [
    "@print_error_message \n",
    "def divide_by_zero():\n",
    "    return 1./0.\n",
    "divide_by_zero() "
   ]
  },
  {
   "cell_type": "code",
   "execution_count": 23,
   "metadata": {
    "ExecuteTime": {
     "end_time": "2021-08-19T12:08:51.039248Z",
     "start_time": "2021-08-19T12:08:51.036707Z"
    }
   },
   "outputs": [],
   "source": [
    "@print_error_message\n",
    "def function_without_error():\n",
    "    print('inside function without error')"
   ]
  },
  {
   "cell_type": "code",
   "execution_count": 24,
   "metadata": {
    "ExecuteTime": {
     "end_time": "2021-08-19T12:08:51.729004Z",
     "start_time": "2021-08-19T12:08:51.726118Z"
    }
   },
   "outputs": [
    {
     "name": "stdout",
     "output_type": "stream",
     "text": [
      "inside function without error\n"
     ]
    }
   ],
   "source": [
    "function_without_error() "
   ]
  },
  {
   "cell_type": "markdown",
   "metadata": {},
   "source": [
    "#### 重複執行裝飾器 (重複n次) \n",
    "\n",
    "--- \n",
    "\n",
    "透過兩層的`wrapper`，我們可以實現具有變化性的decorator。這裡，我們希望有一個decorator是把函數重複執行n次，並且n的數值可以自由決定。\n",
    "\n",
    "透過以下方法可以實現，我們需要一個`decorator_wrapper`，用來產生一個重複執行n次的decorator，裡面則是包一個`func_wrapper`，用來讓function重複執行。"
   ]
  },
  {
   "cell_type": "code",
   "execution_count": 25,
   "metadata": {
    "ExecuteTime": {
     "end_time": "2021-08-19T12:08:59.484656Z",
     "start_time": "2021-08-19T12:08:59.480481Z"
    },
    "code_folding": []
   },
   "outputs": [],
   "source": [
    "import datetime\n",
    "import functools\n",
    "\n",
    "def repeat(n):\n",
    "    def decorator_wrapper(func):\n",
    "        def func_wrapper(*args, **kwargs):\n",
    "            for _ in range(n):\n",
    "                result = func(*args, **kwargs)\n",
    "            return result\n",
    "        return func_wrapper\n",
    "    return decorator_wrapper \n",
    "\n",
    "@repeat(5)\n",
    "def say_hello():\n",
    "    print('Hello')"
   ]
  },
  {
   "cell_type": "code",
   "execution_count": 26,
   "metadata": {
    "ExecuteTime": {
     "end_time": "2021-08-19T12:09:00.131779Z",
     "start_time": "2021-08-19T12:09:00.128655Z"
    }
   },
   "outputs": [
    {
     "name": "stdout",
     "output_type": "stream",
     "text": [
      "Hello\n",
      "Hello\n",
      "Hello\n",
      "Hello\n",
      "Hello\n"
     ]
    }
   ],
   "source": [
    "say_hello()"
   ]
  },
  {
   "cell_type": "markdown",
   "metadata": {},
   "source": [
    "### 使用functools.wraps進行更穩當的裝飾"
   ]
  },
  {
   "cell_type": "markdown",
   "metadata": {},
   "source": [
    "前面所撰寫的裝飾器是把一個函式置換成`warpper_func`，因此原本的函式名稱和docstring會被`warpper_func`的名稱和docstring覆蓋掉。\n",
    "\n",
    "我們可以使用`functools.wraps`套件來避免這個問題 "
   ]
  },
  {
   "cell_type": "markdown",
   "metadata": {
    "ExecuteTime": {
     "end_time": "2021-08-19T09:04:05.035346Z",
     "start_time": "2021-08-19T09:04:05.032185Z"
    }
   },
   "source": [
    "使用`functools.wraps`前: "
   ]
  },
  {
   "cell_type": "code",
   "execution_count": 27,
   "metadata": {
    "ExecuteTime": {
     "end_time": "2021-08-19T12:09:02.641495Z",
     "start_time": "2021-08-19T12:09:02.636329Z"
    }
   },
   "outputs": [
    {
     "name": "stdout",
     "output_type": "stream",
     "text": [
      "wrapper_func\n",
      "\n",
      "        This is the docstring of wrapper_func. \n",
      "        \n"
     ]
    }
   ],
   "source": [
    "def uppercase(func):\n",
    "    def wrapper_func(*args):\n",
    "        '''\n",
    "        This is the docstring of wrapper_func. \n",
    "        '''\n",
    "        original_result = func(*args)\n",
    "        modified_result = original_result.upper()\n",
    "        return modified_result\n",
    "    return wrapper_func\n",
    "\n",
    "@uppercase\n",
    "def say_hello():\n",
    "    '''\n",
    "    This is the docstring of say_hello. \n",
    "    '''\n",
    "    return 'Hello'\n",
    "print(say_hello.__name__) \n",
    "print(say_hello.__doc__)"
   ]
  },
  {
   "cell_type": "markdown",
   "metadata": {
    "ExecuteTime": {
     "end_time": "2021-08-19T11:32:53.542582Z",
     "start_time": "2021-08-19T11:32:53.539196Z"
    }
   },
   "source": [
    "使用`functools.wraps`後，函式名稱和docstring可以保持一致"
   ]
  },
  {
   "cell_type": "code",
   "execution_count": 28,
   "metadata": {
    "ExecuteTime": {
     "end_time": "2021-08-19T12:09:03.900780Z",
     "start_time": "2021-08-19T12:09:03.894112Z"
    }
   },
   "outputs": [
    {
     "name": "stdout",
     "output_type": "stream",
     "text": [
      "say_hello\n",
      "\n",
      "    This is the docstring of say_hello. \n",
      "    \n"
     ]
    }
   ],
   "source": [
    "import functools\n",
    "def uppercase(func):\n",
    "    @functools.wraps(func)\n",
    "    def wrapper_func(*args):\n",
    "        '''\n",
    "        This is the docstring of wrapper_func. \n",
    "        '''\n",
    "        original_result = func(*args)\n",
    "        modified_result = original_result.upper()\n",
    "        return modified_result\n",
    "    return wrapper_func\n",
    "\n",
    "@uppercase\n",
    "def say_hello():\n",
    "    '''\n",
    "    This is the docstring of say_hello. \n",
    "    '''\n",
    "    return 'Hello'\n",
    "print(say_hello.__name__) \n",
    "print(say_hello.__doc__)"
   ]
  },
  {
   "cell_type": "markdown",
   "metadata": {},
   "source": [
    "### 於class中定義裝飾器\n",
    "--- \n",
    "decorator也可以於class中使用 "
   ]
  },
  {
   "cell_type": "code",
   "execution_count": 29,
   "metadata": {
    "ExecuteTime": {
     "end_time": "2021-08-19T12:09:05.067051Z",
     "start_time": "2021-08-19T12:09:05.062586Z"
    }
   },
   "outputs": [],
   "source": [
    "class Animals:\n",
    "    def __init__(self, name):\n",
    "        self.name = name\n",
    "        print(f\"My name is {self.name}\")\n",
    "    def talk(self):\n",
    "        pass\n",
    "    def author(self):\n",
    "        self.__title = 'Erik'\n",
    "    def author_title(self):\n",
    "        return self.__title\n",
    "\n",
    "class Cat(Animals):\n",
    "    def __init__(self, cat_name):\n",
    "        super().__init__(cat_name)\n",
    "        \n",
    "    def uppercase(func):\n",
    "        @functools.wraps(func)\n",
    "        def wrapper_func(*args):\n",
    "            '''\n",
    "            This is the docstring of wrapper_func. \n",
    "            '''\n",
    "            original_result = func(*args)\n",
    "            modified_result = original_result.upper()\n",
    "            return modified_result\n",
    "        return wrapper_func\n",
    "    @uppercase \n",
    "    def talk(self):\n",
    "        return \"meow meow meow\""
   ]
  },
  {
   "cell_type": "code",
   "execution_count": 30,
   "metadata": {
    "ExecuteTime": {
     "end_time": "2021-08-19T12:09:05.750091Z",
     "start_time": "2021-08-19T12:09:05.744586Z"
    }
   },
   "outputs": [
    {
     "name": "stdout",
     "output_type": "stream",
     "text": [
      "My name is Tom\n"
     ]
    },
    {
     "data": {
      "text/plain": [
       "'MEOW MEOW MEOW'"
      ]
     },
     "execution_count": 30,
     "metadata": {},
     "output_type": "execute_result"
    }
   ],
   "source": [
    "cat = Cat('Tom')\n",
    "cat.talk()"
   ]
  },
  {
   "cell_type": "code",
   "execution_count": null,
   "metadata": {},
   "outputs": [],
   "source": []
  }
 ],
 "metadata": {
  "hide_input": false,
  "kernelspec": {
   "display_name": "Python 3",
   "language": "python",
   "name": "python3"
  },
  "language_info": {
   "codemirror_mode": {
    "name": "ipython",
    "version": 3
   },
   "file_extension": ".py",
   "mimetype": "text/x-python",
   "name": "python",
   "nbconvert_exporter": "python",
   "pygments_lexer": "ipython3",
   "version": "3.7.10"
  },
  "toc": {
   "base_numbering": 1,
   "nav_menu": {},
   "number_sections": true,
   "sideBar": true,
   "skip_h1_title": false,
   "title_cell": "Table of Contents",
   "title_sidebar": "Contents",
   "toc_cell": false,
   "toc_position": {
    "height": "calc(100% - 180px)",
    "left": "10px",
    "top": "150px",
    "width": "267px"
   },
   "toc_section_display": true,
   "toc_window_display": true
  }
 },
 "nbformat": 4,
 "nbformat_minor": 4
}
