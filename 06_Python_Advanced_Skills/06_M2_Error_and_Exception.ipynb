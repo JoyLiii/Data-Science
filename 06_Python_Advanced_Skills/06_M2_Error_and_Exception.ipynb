{
 "cells": [
  {
   "cell_type": "markdown",
   "metadata": {},
   "source": [
    "## Error & Exception"
   ]
  },
  {
   "cell_type": "markdown",
   "metadata": {},
   "source": [
    "相信大家學到這邊一定有碰過各式大大小小的程式錯誤\n",
    "\n",
    "如何捕捉異常和異常處理是本節的小重點！！\n",
    "\n",
    "大致可以將錯誤分類成三種：\n",
    "\n",
    "- 語法錯誤：開發者不小心多一個括弧等等\n",
    "- 邏輯錯誤：可以執行成功但不是我們要的，例如銀行存款金額是負數\n",
    "- 執行異常：在程式執行階段所引發的錯誤"
   ]
  },
  {
   "cell_type": "markdown",
   "metadata": {},
   "source": [
    "### 1. try except"
   ]
  },
  {
   "cell_type": "markdown",
   "metadata": {},
   "source": [
    "發生了 ZeroDivisionError"
   ]
  },
  {
   "cell_type": "code",
   "execution_count": 13,
   "metadata": {},
   "outputs": [],
   "source": [
    "def division(n1, n2):\n",
    "    return  n1/n2"
   ]
  },
  {
   "cell_type": "code",
   "execution_count": 14,
   "metadata": {},
   "outputs": [
    {
     "ename": "ZeroDivisionError",
     "evalue": "division by zero",
     "output_type": "error",
     "traceback": [
      "\u001b[0;31m---------------------------------------------------------------------------\u001b[0m",
      "\u001b[0;31mZeroDivisionError\u001b[0m                         Traceback (most recent call last)",
      "\u001b[0;32m<ipython-input-14-c67caa4c08c8>\u001b[0m in \u001b[0;36m<module>\u001b[0;34m\u001b[0m\n\u001b[0;32m----> 1\u001b[0;31m \u001b[0mdivision\u001b[0m\u001b[0;34m(\u001b[0m\u001b[0;36m1\u001b[0m\u001b[0;34m,\u001b[0m \u001b[0;36m0\u001b[0m\u001b[0;34m)\u001b[0m\u001b[0;34m\u001b[0m\u001b[0;34m\u001b[0m\u001b[0m\n\u001b[0m",
      "\u001b[0;32m<ipython-input-13-dc8315923bf5>\u001b[0m in \u001b[0;36mdivision\u001b[0;34m(n1, n2)\u001b[0m\n\u001b[1;32m      1\u001b[0m \u001b[0;32mdef\u001b[0m \u001b[0mdivision\u001b[0m\u001b[0;34m(\u001b[0m\u001b[0mn1\u001b[0m\u001b[0;34m,\u001b[0m \u001b[0mn2\u001b[0m\u001b[0;34m)\u001b[0m\u001b[0;34m:\u001b[0m\u001b[0;34m\u001b[0m\u001b[0;34m\u001b[0m\u001b[0m\n\u001b[0;32m----> 2\u001b[0;31m     \u001b[0;32mreturn\u001b[0m  \u001b[0mn1\u001b[0m\u001b[0;34m/\u001b[0m\u001b[0mn2\u001b[0m\u001b[0;34m\u001b[0m\u001b[0;34m\u001b[0m\u001b[0m\n\u001b[0m",
      "\u001b[0;31mZeroDivisionError\u001b[0m: division by zero"
     ]
    }
   ],
   "source": [
    "division(1, 0)"
   ]
  },
  {
   "cell_type": "markdown",
   "metadata": {},
   "source": [
    "通常應該會做一些輸入資料的檢查來避免這種錯誤\n",
    "\n",
    "但假設在爬網站，可能有各式各樣的錯誤會發生\n",
    "\n",
    "今天發現一個錯誤就要改一次程式碼，明天發現錯誤又要改\n",
    "\n",
    "那這支程式可能永遠難以上線\n",
    "\n",
    "為了避免這樣的窘境，我們可以加上例外處理，讓程式去捕捉我們沒有想過的異常\n",
    "\n",
    "另外也可以思考一個情境是提供程式給使用者，使用者可能會輸入你沒有想過的情境\n",
    "\n",
    "如果因為他的輸入導致你的程式異常，那使用者體驗會很差，"
   ]
  },
  {
   "cell_type": "code",
   "execution_count": 15,
   "metadata": {},
   "outputs": [],
   "source": [
    "def division(n1, n2):\n",
    "    try:\n",
    "        return  n1/n2\n",
    "    except ZeroDivisionError:\n",
    "        print(\"除數不可以為0\")"
   ]
  },
  {
   "cell_type": "code",
   "execution_count": 16,
   "metadata": {},
   "outputs": [
    {
     "name": "stdout",
     "output_type": "stream",
     "text": [
      "除數不可以為0\n"
     ]
    }
   ],
   "source": [
    "division(1, 0)"
   ]
  },
  {
   "cell_type": "markdown",
   "metadata": {},
   "source": [
    "有個調皮鬼輸入文字，那怎麼辦？\n",
    "\n",
    "又發生錯誤了ＱＱ"
   ]
  },
  {
   "cell_type": "code",
   "execution_count": 17,
   "metadata": {},
   "outputs": [
    {
     "ename": "TypeError",
     "evalue": "unsupported operand type(s) for /: 'str' and 'str'",
     "output_type": "error",
     "traceback": [
      "\u001b[0;31m---------------------------------------------------------------------------\u001b[0m",
      "\u001b[0;31mTypeError\u001b[0m                                 Traceback (most recent call last)",
      "\u001b[0;32m<ipython-input-17-04fdf02568db>\u001b[0m in \u001b[0;36m<module>\u001b[0;34m\u001b[0m\n\u001b[0;32m----> 1\u001b[0;31m \u001b[0mdivision\u001b[0m\u001b[0;34m(\u001b[0m\u001b[0;34m'1'\u001b[0m\u001b[0;34m,\u001b[0m \u001b[0;34m'0'\u001b[0m\u001b[0;34m)\u001b[0m\u001b[0;34m\u001b[0m\u001b[0;34m\u001b[0m\u001b[0m\n\u001b[0m",
      "\u001b[0;32m<ipython-input-15-b6196dafa0a0>\u001b[0m in \u001b[0;36mdivision\u001b[0;34m(n1, n2)\u001b[0m\n\u001b[1;32m      1\u001b[0m \u001b[0;32mdef\u001b[0m \u001b[0mdivision\u001b[0m\u001b[0;34m(\u001b[0m\u001b[0mn1\u001b[0m\u001b[0;34m,\u001b[0m \u001b[0mn2\u001b[0m\u001b[0;34m)\u001b[0m\u001b[0;34m:\u001b[0m\u001b[0;34m\u001b[0m\u001b[0;34m\u001b[0m\u001b[0m\n\u001b[1;32m      2\u001b[0m     \u001b[0;32mtry\u001b[0m\u001b[0;34m:\u001b[0m\u001b[0;34m\u001b[0m\u001b[0;34m\u001b[0m\u001b[0m\n\u001b[0;32m----> 3\u001b[0;31m         \u001b[0;32mreturn\u001b[0m  \u001b[0mn1\u001b[0m\u001b[0;34m/\u001b[0m\u001b[0mn2\u001b[0m\u001b[0;34m\u001b[0m\u001b[0;34m\u001b[0m\u001b[0m\n\u001b[0m\u001b[1;32m      4\u001b[0m     \u001b[0;32mexcept\u001b[0m \u001b[0mZeroDivisionError\u001b[0m\u001b[0;34m:\u001b[0m\u001b[0;34m\u001b[0m\u001b[0;34m\u001b[0m\u001b[0m\n\u001b[1;32m      5\u001b[0m         \u001b[0mprint\u001b[0m\u001b[0;34m(\u001b[0m\u001b[0;34m\"除數不可以為0\"\u001b[0m\u001b[0;34m)\u001b[0m\u001b[0;34m\u001b[0m\u001b[0;34m\u001b[0m\u001b[0m\n",
      "\u001b[0;31mTypeError\u001b[0m: unsupported operand type(s) for /: 'str' and 'str'"
     ]
    }
   ],
   "source": [
    "division('1', '0')"
   ]
  },
  {
   "cell_type": "code",
   "execution_count": 18,
   "metadata": {},
   "outputs": [],
   "source": [
    "def division(n1, n2):\n",
    "    try:\n",
    "        return  n1/n2\n",
    "    except ZeroDivisionError:\n",
    "        print(\"除數不可以為0\")\n",
    "    except TypeError:\n",
    "        print(\"請輸入數字\")\n",
    "    except Exception as e\n",
    "        print(\"錯誤資訊:\", e)"
   ]
  },
  {
   "cell_type": "code",
   "execution_count": 19,
   "metadata": {},
   "outputs": [
    {
     "name": "stdout",
     "output_type": "stream",
     "text": [
      "請輸入數字\n"
     ]
    }
   ],
   "source": [
    "division('1', '0')"
   ]
  },
  {
   "cell_type": "markdown",
   "metadata": {},
   "source": [
    "#### 講師提醒\n",
    "\n",
    "盡量將能捕捉的錯誤枚舉，讓每個錯誤都有不同的資訊或不同的處理才是好寫法\n",
    "\n",
    "最後想不到的錯誤才放到 Exception\n",
    "\n",
    "```python=\n",
    "try:\n",
    "    # 嘗試執行的程式碼\n",
    "except:\n",
    "    # 當程式出現異常時執行的程式碼\n",
    "```"
   ]
  },
  {
   "cell_type": "markdown",
   "metadata": {},
   "source": [
    "### 2. try except else finally"
   ]
  },
  {
   "cell_type": "markdown",
   "metadata": {},
   "source": [
    "剛剛上面介紹還並非完全型態呢XD\n",
    "\n",
    "```python=\n",
    "try:\n",
    "    # 嘗試執行的程式碼\n",
    "except:\n",
    "    # 當程式出現異常時執行的程式碼\n",
    "else:\n",
    "    # 錯誤沒有發生就會執行的程式碼\n",
    "finally:\n",
    "    # 無論如何都要執行的程式碼\n",
    "```"
   ]
  },
  {
   "cell_type": "code",
   "execution_count": 29,
   "metadata": {},
   "outputs": [],
   "source": [
    "def read_txt(file_path):\n",
    "    try:\n",
    "        with open(file_path) as file:\n",
    "            data = file.read()\n",
    "    except FileNotFoundError:\n",
    "        print(\"路徑異常:\", file_path)\n",
    "    else:\n",
    "        print(\"成功了！\")\n",
    "    finally:\n",
    "        print(\"感謝您使用本程式！\")"
   ]
  },
  {
   "cell_type": "code",
   "execution_count": 30,
   "metadata": {},
   "outputs": [
    {
     "name": "stdout",
     "output_type": "stream",
     "text": [
      "成功了！\n",
      "感謝您使用本程式！\n"
     ]
    }
   ],
   "source": [
    "read_txt(\"/Users/erik/GitHub/Data-Science/06_Python_Advanced_Skills/hello_world.txt\")"
   ]
  },
  {
   "cell_type": "code",
   "execution_count": 31,
   "metadata": {},
   "outputs": [
    {
     "name": "stdout",
     "output_type": "stream",
     "text": [
      "路徑異常: /Users/erik/GitHub/Data-Science/06_Python_Advanced_Skills/hello_world_no.txt\n",
      "感謝您使用本程式！\n"
     ]
    }
   ],
   "source": [
    "read_txt(\"/Users/erik/GitHub/Data-Science/06_Python_Advanced_Skills/hello_world_no.txt\")"
   ]
  },
  {
   "cell_type": "markdown",
   "metadata": {},
   "source": [
    "### 3. 常見的例外錯誤"
   ]
  },
  {
   "cell_type": "markdown",
   "metadata": {},
   "source": [
    "以下是常見的例外錯誤，大家可以自行參考\n",
    "\n",
    "最後一個 Exception 代表通用型"
   ]
  },
  {
   "cell_type": "markdown",
   "metadata": {},
   "source": [
    "| Type     |  Name    |  \n",
    "| -------- | -------- | \n",
    "| Attribute           |  沒有這個屬性        | \n",
    "| FileNotFoundError   |  找不到檔案          |\n",
    "| IOError             |  輸入輸出的錯誤      |  \n",
    "| IndexError          |  索引超出範圍        | \n",
    "| KeyError            |  沒有該鍵           |\n",
    "| MemoryError         |  記憶體超出範圍      |  \n",
    "| NameError           |  未宣告該變數        |\n",
    "| SyntaxError         |  語法錯誤           |\n",
    "| SystemError         |  系統錯誤           | \n",
    "| TypeError           |  資料類別錯誤        | \n",
    "| ValueError          |  傳入無效參數        | \n",
    "| ZeroDivisionError   |  除數為 0           |\n",
    "| Exception           |  可以代替錯誤的關鍵字 |\n"
   ]
  },
  {
   "cell_type": "markdown",
   "metadata": {},
   "source": [
    "### 4. 丟出異常"
   ]
  },
  {
   "cell_type": "markdown",
   "metadata": {},
   "source": [
    "有時候是我們想要檢驗邏輯是否錯誤，如果錯誤，就請程式停止不要再繼續執行\n",
    "\n",
    "此時該怎麼做呢？"
   ]
  },
  {
   "cell_type": "code",
   "execution_count": 35,
   "metadata": {},
   "outputs": [],
   "source": [
    "def input_phone(number: str):\n",
    "    if len(number) != 10:\n",
    "        raise Exception('您的手機號碼長度不正確')\n",
    "    print('DONE')"
   ]
  },
  {
   "cell_type": "code",
   "execution_count": 36,
   "metadata": {},
   "outputs": [
    {
     "name": "stdout",
     "output_type": "stream",
     "text": [
      "DONE\n"
     ]
    }
   ],
   "source": [
    "input_phone('0912345678')"
   ]
  },
  {
   "cell_type": "code",
   "execution_count": 37,
   "metadata": {},
   "outputs": [
    {
     "ename": "Exception",
     "evalue": "您的手機號碼長度不正確",
     "output_type": "error",
     "traceback": [
      "\u001b[0;31m---------------------------------------------------------------------------\u001b[0m",
      "\u001b[0;31mException\u001b[0m                                 Traceback (most recent call last)",
      "\u001b[0;32m<ipython-input-37-eb0325e7ff7d>\u001b[0m in \u001b[0;36m<module>\u001b[0;34m\u001b[0m\n\u001b[0;32m----> 1\u001b[0;31m \u001b[0minput_phone\u001b[0m\u001b[0;34m(\u001b[0m\u001b[0;34m'09123456789'\u001b[0m\u001b[0;34m)\u001b[0m\u001b[0;34m\u001b[0m\u001b[0;34m\u001b[0m\u001b[0m\n\u001b[0m",
      "\u001b[0;32m<ipython-input-35-776fb1797f8c>\u001b[0m in \u001b[0;36minput_phone\u001b[0;34m(number)\u001b[0m\n\u001b[1;32m      1\u001b[0m \u001b[0;32mdef\u001b[0m \u001b[0minput_phone\u001b[0m\u001b[0;34m(\u001b[0m\u001b[0mnumber\u001b[0m\u001b[0;34m:\u001b[0m \u001b[0mstr\u001b[0m\u001b[0;34m)\u001b[0m\u001b[0;34m:\u001b[0m\u001b[0;34m\u001b[0m\u001b[0;34m\u001b[0m\u001b[0m\n\u001b[1;32m      2\u001b[0m     \u001b[0;32mif\u001b[0m \u001b[0mlen\u001b[0m\u001b[0;34m(\u001b[0m\u001b[0mnumber\u001b[0m\u001b[0;34m)\u001b[0m \u001b[0;34m!=\u001b[0m \u001b[0;36m10\u001b[0m\u001b[0;34m:\u001b[0m\u001b[0;34m\u001b[0m\u001b[0;34m\u001b[0m\u001b[0m\n\u001b[0;32m----> 3\u001b[0;31m         \u001b[0;32mraise\u001b[0m \u001b[0mException\u001b[0m\u001b[0;34m(\u001b[0m\u001b[0;34m'您的手機號碼長度不正確'\u001b[0m\u001b[0;34m)\u001b[0m\u001b[0;34m\u001b[0m\u001b[0;34m\u001b[0m\u001b[0m\n\u001b[0m\u001b[1;32m      4\u001b[0m     \u001b[0mprint\u001b[0m\u001b[0;34m(\u001b[0m\u001b[0;34m'DONE'\u001b[0m\u001b[0;34m)\u001b[0m\u001b[0;34m\u001b[0m\u001b[0;34m\u001b[0m\u001b[0m\n",
      "\u001b[0;31mException\u001b[0m: 您的手機號碼長度不正確"
     ]
    }
   ],
   "source": [
    "input_phone('09123456789')"
   ]
  },
  {
   "cell_type": "markdown",
   "metadata": {},
   "source": [
    "### 5. 定義錯誤"
   ]
  },
  {
   "cell_type": "markdown",
   "metadata": {},
   "source": [
    "若想要自己寫例外的話，我們必須繼承 Exception 物件。\n",
    "\n",
    "若想讓定義的物件像一般常見到的例外物件一樣，能夠直接透過物件實體來輸出的話，須在物件中加入 \\___str\\___ 的物件方法。"
   ]
  },
  {
   "cell_type": "code",
   "execution_count": 22,
   "metadata": {},
   "outputs": [],
   "source": [
    "class PasswordInputError(Exception):\n",
    "    \n",
    "    def __init__(self, password):\n",
    "        self.password = password\n",
    "        \n",
    "    def __str__(self):\n",
    "        return '錯誤訊息:' + self.password"
   ]
  },
  {
   "cell_type": "markdown",
   "metadata": {},
   "source": [
    "#### 講師提醒\n",
    "print(e) 會調用 \\__str\\__ 的魔法方法，重寫 Exception 原本寫的方法"
   ]
  },
  {
   "cell_type": "code",
   "execution_count": 23,
   "metadata": {},
   "outputs": [
    {
     "name": "stdin",
     "output_type": "stream",
     "text": [
      "請設定密碼 1\n"
     ]
    },
    {
     "name": "stdout",
     "output_type": "stream",
     "text": [
      "錯誤訊息:1\n"
     ]
    }
   ],
   "source": [
    "password = input(\"請設定密碼\")\n",
    "try:\n",
    "    if len(password) < 5:\n",
    "        raise PasswordInputError(password)\n",
    "except Exception as e:\n",
    "    print(e)"
   ]
  },
  {
   "cell_type": "markdown",
   "metadata": {},
   "source": [
    "### 6. 斷言"
   ]
  },
  {
   "cell_type": "markdown",
   "metadata": {},
   "source": [
    "assert 是 raise 的一種特殊形式\n",
    "```python=\n",
    "assert 運算式, 參數\n",
    "```\n",
    "如果運算式是 False，並且內建的 \\__debug\\__為 True，則引發帶有參數的 AssertError\n",
    "\n",
    "通常用於檢查異常、寫測試案例等等"
   ]
  },
  {
   "cell_type": "code",
   "execution_count": 26,
   "metadata": {},
   "outputs": [
    {
     "name": "stdin",
     "output_type": "stream",
     "text": [
      "請輸入存款金額 -5\n"
     ]
    },
    {
     "ename": "AssertionError",
     "evalue": "請輸入大於零的數字",
     "output_type": "error",
     "traceback": [
      "\u001b[0;31m---------------------------------------------------------------------------\u001b[0m",
      "\u001b[0;31mAssertionError\u001b[0m                            Traceback (most recent call last)",
      "\u001b[0;32m<ipython-input-26-880024241981>\u001b[0m in \u001b[0;36m<module>\u001b[0;34m\u001b[0m\n\u001b[1;32m      1\u001b[0m \u001b[0msave_money\u001b[0m \u001b[0;34m=\u001b[0m \u001b[0minput\u001b[0m\u001b[0;34m(\u001b[0m\u001b[0;34m'請輸入存款金額'\u001b[0m\u001b[0;34m)\u001b[0m\u001b[0;34m\u001b[0m\u001b[0;34m\u001b[0m\u001b[0m\n\u001b[0;32m----> 2\u001b[0;31m \u001b[0;32massert\u001b[0m \u001b[0mint\u001b[0m\u001b[0;34m(\u001b[0m\u001b[0msave_money\u001b[0m\u001b[0;34m)\u001b[0m \u001b[0;34m>\u001b[0m \u001b[0;36m0\u001b[0m \u001b[0;34m,\u001b[0m \u001b[0;34m'請輸入大於零的數字'\u001b[0m\u001b[0;34m\u001b[0m\u001b[0;34m\u001b[0m\u001b[0m\n\u001b[0m",
      "\u001b[0;31mAssertionError\u001b[0m: 請輸入大於零的數字"
     ]
    }
   ],
   "source": [
    "save_money = input('請輸入存款金額')\n",
    "assert int(save_money) > 0 , '請輸入大於零的數字'"
   ]
  },
  {
   "attachments": {
    "0d2a6542-dae8-4cd9-8fd7-b9392249a256.png": {
     "image/png": "[encoded data removed]"
    }
   },
   "cell_type": "markdown",
   "metadata": {},
   "source": [
    "#### 講師提醒\n",
    "內建的 \\__debug\\__ 預設值為 True ，若要改變的話，在啟動 python 加上 -O 或 -OO\n",
    "\n",
    "![image.png](attachment:0d2a6542-dae8-4cd9-8fd7-b9392249a256.png)"
   ]
  },
  {
   "cell_type": "markdown",
   "metadata": {},
   "source": [
    "### 課堂練習\n",
    "設計一個帳號密碼輸入驗證的類別，帳號密碼皆為文字型\n",
    "\n",
    "帳號必須至少2個字、密碼最短5個字最長12個字\n",
    "\n",
    "程式碼需明確定義兩個錯誤\n",
    "- 類別錯誤(TypeError)\n",
    "- 定義的例外處理"
   ]
  },
  {
   "cell_type": "markdown",
   "metadata": {},
   "source": [
    "### 7. 程式日誌"
   ]
  },
  {
   "cell_type": "code",
   "execution_count": null,
   "metadata": {},
   "outputs": [],
   "source": []
  },
  {
   "cell_type": "code",
   "execution_count": null,
   "metadata": {},
   "outputs": [],
   "source": []
  },
  {
   "cell_type": "markdown",
   "metadata": {},
   "source": [
    "## Decorator"
   ]
  },
  {
   "cell_type": "code",
   "execution_count": null,
   "metadata": {},
   "outputs": [],
   "source": []
  }
 ],
 "metadata": {
  "kernelspec": {
   "display_name": "Python 3",
   "language": "python",
   "name": "python3"
  },
  "language_info": {
   "codemirror_mode": {
    "name": "ipython",
    "version": 3
   },
   "file_extension": ".py",
   "mimetype": "text/x-python",
   "name": "python",
   "nbconvert_exporter": "python",
   "pygments_lexer": "ipython3",
   "version": "3.7.5"
  }
 },
 "nbformat": 4,
 "nbformat_minor": 4
}
