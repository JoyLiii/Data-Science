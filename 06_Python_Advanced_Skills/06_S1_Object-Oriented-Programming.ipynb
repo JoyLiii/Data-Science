{
 "cells": [
  {
   "cell_type": "markdown",
   "metadata": {},
   "source": [
    "## Q1. 設計一個 MySchool\n",
    "\n",
    "這個類別屬性要包含學生姓名、科目、成績，並且設計一個方法可以輸入姓名和科目查詢學生的成績\n",
    "\n",
    "設計方向為以下:\n",
    "\n",
    "- 輸入三個參數 myschool = MySchool('Erik', 'Math', '80')\n",
    "- 這個方法要能回傳 'Hello ! Erik, the score of Math is 80.'"
   ]
  },
  {
   "cell_type": "code",
   "execution_count": 12,
   "metadata": {},
   "outputs": [],
   "source": [
    "class MySchool:\n",
    "    \n",
    "    def __init__(self, name, subject, score):\n",
    "        self.name = name\n",
    "        self.subject= subject\n",
    "        self.score = score\n",
    "    \n",
    "    def get_score(self):\n",
    "        return f'Hello ! {self.name}, the score of {self.subject} is {self.score}.'"
   ]
  },
  {
   "cell_type": "code",
   "execution_count": 6,
   "metadata": {},
   "outputs": [
    {
     "data": {
      "text/plain": [
       "'Hello ! Erik, the score of Math is 80.'"
      ]
     },
     "execution_count": 6,
     "metadata": {},
     "output_type": "execute_result"
    }
   ],
   "source": [
    "myschool = MySchool('Erik', 'Math', '80')\n",
    "myschool.get_score()"
   ]
  },
  {
   "cell_type": "markdown",
   "metadata": {},
   "source": [
    "## Q2. 抽象化\n",
    "\n",
    "請將這兩個物件抽象化，相同方法放在基底，其他利用繼承\n",
    "\n",
    "``` python=\n",
    "class Car:\n",
    "\n",
    "    def drive(self):\n",
    "        print(\"drive method is called.\")\n",
    "\n",
    "    def accelerate(self):\n",
    "        print(\"accelerate method is called.\")\n",
    "        \n",
    "\n",
    "class Airplane:\n",
    "\n",
    "    def drive(self):\n",
    "        print(\"drive method is called.\")\n",
    "\n",
    "    def fly(self):\n",
    "        print(\"fly method is called.\")\n",
    "```\n",
    "\n",
    "設計方向為以下:\n",
    "\n",
    "- 基底設計一個 Transportation，並給予顏色屬性為黑色\n",
    "- 將汽車和飛機變成子類別"
   ]
  },
  {
   "cell_type": "code",
   "execution_count": 15,
   "metadata": {},
   "outputs": [],
   "source": [
    "class Transportation:\n",
    "\n",
    "    def __init__(self):\n",
    "        self.color = \"black\"\n",
    "        \n",
    "    def drive(self):\n",
    "        print(\"drive method is called.\")\n",
    "\n",
    "class Car(Transportation):\n",
    "\n",
    "    def accelerate(self):\n",
    "        print(\"accelerate is method called.\")\n",
    "\n",
    "class Airplane(Transportation):\n",
    "\n",
    "    def fly(self):\n",
    "        print(\"fly method is called.\")"
   ]
  },
  {
   "cell_type": "code",
   "execution_count": null,
   "metadata": {},
   "outputs": [],
   "source": []
  }
 ],
 "metadata": {
  "kernelspec": {
   "display_name": "Python 3",
   "language": "python",
   "name": "python3"
  },
  "language_info": {
   "codemirror_mode": {
    "name": "ipython",
    "version": 3
   },
   "file_extension": ".py",
   "mimetype": "text/x-python",
   "name": "python",
   "nbconvert_exporter": "python",
   "pygments_lexer": "ipython3",
   "version": "3.8.3"
  }
 },
 "nbformat": 4,
 "nbformat_minor": 4
}
