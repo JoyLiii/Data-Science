{
 "cells": [
  {
   "cell_type": "markdown",
   "metadata": {},
   "source": [
    "## Object-Oriented Programming"
   ]
  },
  {
   "cell_type": "markdown",
   "metadata": {},
   "source": [
    "什麼是物件導向程式設計？ 大家或多或少打開別人寫的程式碼會看到 class (類別)，寫成這個樣式有什麼優點嗎？\n",
    "\n",
    "以下列舉三項：\n",
    "- 提供軟體的重複利用性\n",
    "- 擴充性\n",
    "- 方便維護\n",
    "\n",
    "我們接著會將想實作的概念抽象化，方便大家使用\n",
    "\n",
    "OS：若想要往更高階的 python 技巧，物件導向可是非常重要一定要會的！"
   ]
  },
  {
   "cell_type": "markdown",
   "metadata": {},
   "source": [
    "### 1. 類別的定義與使用"
   ]
  },
  {
   "cell_type": "markdown",
   "metadata": {},
   "source": [
    "定義一個物件有的屬性和方法，舉例定義一個動物，他的名稱和顏色是屬性，而動作是方法\n",
    "\n",
    "Animal 是一個類別名稱，在類別內定義的變數稱為屬性、而定義的函式為方法\n",
    "\n",
    "提醒一下這邊開始會看到很多 self 的關鍵字，這個代表自己的意思(想像成英文的代名詞)，樓下這個 self 就是 animal\n",
    "\n",
    "你會在每個 method 都一定第一個都要寫 self "
   ]
  },
  {
   "cell_type": "code",
   "execution_count": 1,
   "metadata": {},
   "outputs": [],
   "source": [
    "class Animal:\n",
    "    \n",
    "    # 定義屬性 (Attribut)\n",
    "    name = '小黑'\n",
    "    color = '黑色'\n",
    "    \n",
    "    # 定義方法 (Method)\n",
    "    def walk(self):\n",
    "        self.name = '小白'\n",
    "        return '走路'"
   ]
  },
  {
   "cell_type": "code",
   "execution_count": 2,
   "metadata": {},
   "outputs": [
    {
     "data": {
      "text/plain": [
       "'小黑'"
      ]
     },
     "execution_count": 2,
     "metadata": {},
     "output_type": "execute_result"
    }
   ],
   "source": [
    "a = Animal()\n",
    "a.name"
   ]
  },
  {
   "cell_type": "code",
   "execution_count": 3,
   "metadata": {},
   "outputs": [
    {
     "data": {
      "text/plain": [
       "'小白'"
      ]
     },
     "execution_count": 3,
     "metadata": {},
     "output_type": "execute_result"
    }
   ],
   "source": [
    "a.walk()\n",
    "a.name"
   ]
  },
  {
   "cell_type": "markdown",
   "metadata": {},
   "source": [
    "若想操作類別的屬性和方法，必須先宣告實體化該物件\n",
    "- object.屬性\n",
    "- object.方法()"
   ]
  },
  {
   "cell_type": "code",
   "execution_count": 3,
   "metadata": {},
   "outputs": [
    {
     "name": "stdout",
     "output_type": "stream",
     "text": [
      "Type : <class '__main__.Animal'>\n",
      "Attribute 1 : 小黑\n",
      "Attribute 2 : 黑色\n",
      "Method : 走路\n"
     ]
    }
   ],
   "source": [
    "# 先實體化後指定給該變數，而該變數則為物件\n",
    "a = Animal()\n",
    "print(\"Type :\", type(a))\n",
    "print(\"Attribute 1 :\", a.name)\n",
    "print(\"Attribute 2 :\", a.color)\n",
    "print(\"Method :\", a.walk())"
   ]
  },
  {
   "cell_type": "markdown",
   "metadata": {},
   "source": [
    "### 2. 類別的建構元 "
   ]
  },
  {
   "cell_type": "markdown",
   "metadata": {},
   "source": [
    "在建立物件的同時，程式會自動執行的方法稱為建構元，又稱為初始化\n",
    "\n",
    "這個通常是我們寫物件的「起手式」"
   ]
  },
  {
   "cell_type": "code",
   "execution_count": 9,
   "metadata": {},
   "outputs": [],
   "source": [
    "class Animal:\n",
    "    \n",
    "    def __init__(self, name, color):\n",
    "        print(\"Initialize\")\n",
    "        self.name = name\n",
    "        self.color = color\n",
    "    \n",
    "    def call(self):\n",
    "        print(f\"The color of my {self.name} is {self.color}\")"
   ]
  },
  {
   "cell_type": "code",
   "execution_count": 10,
   "metadata": {},
   "outputs": [
    {
     "name": "stdout",
     "output_type": "stream",
     "text": [
      "Initialize\n",
      "The color of my 小黑 is 黑色\n"
     ]
    }
   ],
   "source": [
    "a = Animal('小黑', '黑色')\n",
    "a.call()"
   ]
  },
  {
   "cell_type": "code",
   "execution_count": 13,
   "metadata": {},
   "outputs": [
    {
     "name": "stdout",
     "output_type": "stream",
     "text": [
      "小黑\n"
     ]
    }
   ],
   "source": [
    "print(a.name)"
   ]
  },
  {
   "cell_type": "markdown",
   "metadata": {},
   "source": [
    "#### 講師提醒\n",
    "- self.radius 是物件的屬性\n",
    "- radius 是 \\__init\\__ 的區域變數"
   ]
  },
  {
   "cell_type": "code",
   "execution_count": 14,
   "metadata": {},
   "outputs": [],
   "source": [
    "class Circle:\n",
    "    \n",
    "    def __init__(self):\n",
    "        self.radius = 10\n",
    "        radius = 5"
   ]
  },
  {
   "cell_type": "code",
   "execution_count": 15,
   "metadata": {},
   "outputs": [
    {
     "data": {
      "text/plain": [
       "10"
      ]
     },
     "execution_count": 15,
     "metadata": {},
     "output_type": "execute_result"
    }
   ],
   "source": [
    "c = Circle()\n",
    "c.radius"
   ]
  },
  {
   "cell_type": "markdown",
   "metadata": {},
   "source": [
    "### 3. 類別變數"
   ]
  },
  {
   "cell_type": "markdown",
   "metadata": {},
   "source": [
    "(1) 可以直接存取該類別變數，而該類別變數與 Car 類別的任何物件無關"
   ]
  },
  {
   "cell_type": "code",
   "execution_count": 1,
   "metadata": {},
   "outputs": [],
   "source": [
    "class Car:\n",
    "    wheel_num = 4\n",
    "    \n",
    "    def __init__(self, brand):\n",
    "        self.brand = brand\n",
    "    \n",
    "    def drive(self):\n",
    "        print(f\"It has {Car.wheel_num} wheels.\")\n",
    "        print(f\"I can drive my {self.brand} car.\")"
   ]
  },
  {
   "cell_type": "code",
   "execution_count": 2,
   "metadata": {},
   "outputs": [
    {
     "data": {
      "text/plain": [
       "4"
      ]
     },
     "execution_count": 2,
     "metadata": {},
     "output_type": "execute_result"
    }
   ],
   "source": [
    "Car.wheel_num"
   ]
  },
  {
   "cell_type": "code",
   "execution_count": 3,
   "metadata": {},
   "outputs": [
    {
     "name": "stdout",
     "output_type": "stream",
     "text": [
      "It has 4 wheels.\n",
      "I can drive my Toyota car.\n"
     ]
    }
   ],
   "source": [
    "c = Car('Toyota')\n",
    "c.drive()"
   ]
  },
  {
   "cell_type": "code",
   "execution_count": 4,
   "metadata": {},
   "outputs": [],
   "source": [
    "class Tricycle:\n",
    "    wheel_num = 3\n",
    "    \n",
    "    def __init__(self, brand):\n",
    "        self.brand = brand\n",
    "    \n",
    "    def drive(self):\n",
    "        print(f\"It has {Car.wheel_num} wheels.\")\n",
    "        print(f\"I can drive my {self.brand} car.\")"
   ]
  },
  {
   "cell_type": "code",
   "execution_count": 5,
   "metadata": {},
   "outputs": [
    {
     "name": "stdout",
     "output_type": "stream",
     "text": [
      "It has 4 wheels.\n",
      "I can drive my Toyota car.\n"
     ]
    }
   ],
   "source": [
    "c = Tricycle('Toyota')\n",
    "c.drive()"
   ]
  },
  {
   "cell_type": "markdown",
   "metadata": {},
   "source": [
    "(2) 如果用類別名稱來存取變數會有缺點，當有一天這個類別 Car 改成其他名稱就會出錯\n",
    "\n",
    "    以下可以改成用 \\__class\\__ 的方式取代 Car.wheel_num"
   ]
  },
  {
   "cell_type": "code",
   "execution_count": 25,
   "metadata": {},
   "outputs": [
    {
     "name": "stdout",
     "output_type": "stream",
     "text": [
      "<__main__.Car object at 0x11280d250>\n",
      "<class '__main__.Car'>\n"
     ]
    }
   ],
   "source": [
    "print(c)\n",
    "print(c.__class__)"
   ]
  },
  {
   "cell_type": "code",
   "execution_count": 5,
   "metadata": {},
   "outputs": [
    {
     "name": "stdout",
     "output_type": "stream",
     "text": [
      "It has 4 wheels.\n",
      "I can drive my Toyota car.\n"
     ]
    }
   ],
   "source": [
    "c = Car('Toyota')\n",
    "c.drive()"
   ]
  },
  {
   "cell_type": "code",
   "execution_count": 7,
   "metadata": {
    "scrolled": true
   },
   "outputs": [
    {
     "name": "stdout",
     "output_type": "stream",
     "text": [
      "It has 4 wheels.\n",
      "I can drive my Toyota car.\n"
     ]
    }
   ],
   "source": [
    "c = Car('Toyota')\n",
    "c.drive()"
   ]
  },
  {
   "cell_type": "markdown",
   "metadata": {},
   "source": [
    "(3) 建立物件變數並沒有修改到類別變數"
   ]
  },
  {
   "cell_type": "code",
   "execution_count": 6,
   "metadata": {},
   "outputs": [],
   "source": [
    "class Circle:\n",
    "    pi = 3.14\n",
    "    \n",
    "    def __init__(self, radius):\n",
    "        self.radius = radius\n",
    "        \n",
    "    def calculate_area(self):\n",
    "        self.area = (radius**2) * self.__class__.pi"
   ]
  },
  {
   "cell_type": "code",
   "execution_count": 7,
   "metadata": {},
   "outputs": [
    {
     "data": {
      "text/plain": [
       "3.14"
      ]
     },
     "execution_count": 7,
     "metadata": {},
     "output_type": "execute_result"
    }
   ],
   "source": [
    "Circle.pi"
   ]
  },
  {
   "cell_type": "markdown",
   "metadata": {},
   "source": [
    "c1、c2的pi已經不同了！"
   ]
  },
  {
   "cell_type": "code",
   "execution_count": 8,
   "metadata": {},
   "outputs": [
    {
     "name": "stdout",
     "output_type": "stream",
     "text": [
      "c1.pi: 3.14159\n",
      "c2.pi: 3.14\n",
      "Circle.pi: 3.14\n"
     ]
    }
   ],
   "source": [
    "c1 = Circle(1)\n",
    "c2 = Circle(2)\n",
    "c1.pi = 3.14159\n",
    "print(\"c1.pi:\", c1.pi)\n",
    "print(\"c2.pi:\", c2.pi)\n",
    "print(\"Circle.pi:\", Circle.pi)"
   ]
  },
  {
   "cell_type": "markdown",
   "metadata": {},
   "source": [
    "### 課堂練習 (15 mins)\n",
    "請實做一個 Rectangle 類別的程式碼，類別建立的時候可以輸入長和寬\n",
    "\n",
    "並且新增一個方法 get_area() 來計算其面積"
   ]
  },
  {
   "cell_type": "code",
   "execution_count": 16,
   "metadata": {},
   "outputs": [],
   "source": [
    "# 作答區\n"
   ]
  },
  {
   "cell_type": "code",
   "execution_count": 26,
   "metadata": {},
   "outputs": [
    {
     "data": {
      "text/plain": [
       "200"
      ]
     },
     "execution_count": 26,
     "metadata": {},
     "output_type": "execute_result"
    }
   ],
   "source": [
    "# 完整者可以試試看執行我\n",
    "r = Rectangle(10, 20)\n",
    "r.get_area()"
   ]
  },
  {
   "cell_type": "raw",
   "metadata": {},
   "source": [
    "              ○ ＿＿＿＿\n",
    "　　　   ∥　　　　|\n",
    "　　　   ∥  請不要偷看我 專心寫練習題！ |\n",
    "　　　   ∥　　　　|\n",
    "　　　   ∥￣￣￣￣\n",
    "　 ∧＿∧\n",
    "　(`･ω･∥\n",
    "　丶　つ０\n",
    "　 しーＪ\n",
    "  \n",
    "                ○ ＿＿＿＿\n",
    "　　　   ∥　　　　|\n",
    "　　　   ∥  再往下滑就是答案了哦 |\n",
    "　　　   ∥　　　　|\n",
    "　　　   ∥￣￣￣￣\n",
    "　 ∧＿∧\n",
    "　(`･ω･∥\n",
    "　丶　つ０\n",
    "　 しーＪ\n",
    "  \n",
    "                ○ ＿＿＿＿\n",
    "　　　   ∥　　　　|\n",
    "　　　   ∥  你確定要看嗎？？ |\n",
    "　　　   ∥　　　　|\n",
    "　　　   ∥￣￣￣￣\n",
    "　 ∧＿∧\n",
    "　(`･ω･∥\n",
    "　丶　つ０\n",
    "　 しーＪ\n",
    "  \n",
    "                ○ ＿＿＿＿\n",
    "　　　   ∥　　　　|\n",
    "　　　   ∥  自己先寫寫想想看 比較有學習效果 |\n",
    "　　　   ∥　　　　|\n",
    "　　　   ∥￣￣￣￣\n",
    "　 ∧＿∧\n",
    "　(`･ω･∥\n",
    "　丶　つ０\n",
    "　 しーＪ\n",
    "  \n",
    "                ○ ＿＿＿＿\n",
    "　　　   ∥　　　　|\n",
    "　　　   ∥  再往下滑就是答案了哦 |\n",
    "　　　   ∥　　　　|\n",
    "　　　   ∥￣￣￣￣\n",
    "　 ∧＿∧\n",
    "　(`･ω･∥\n",
    "　丶　つ０\n",
    "　 しーＪ\n",
    "                ○ ＿＿＿＿\n",
    "　　　   ∥　　　　|\n",
    "　　　   ∥  不要偷看答案啦！ |\n",
    "　　　   ∥　　　　|\n",
    "　　　   ∥￣￣￣￣\n",
    "　 ∧＿∧\n",
    "　(`･ω･∥\n",
    "　丶　つ０\n",
    "　 しーＪ\n",
    "                ○ ＿＿＿＿\n",
    "　　　   ∥　　　　|\n",
    "　　　   ∥  好吧 看完還是要自己想一遍！！ |\n",
    "　　　   ∥　　　　|\n",
    "　　　   ∥￣￣￣￣\n",
    "　 ∧＿∧\n",
    "　(`･ω･∥\n",
    "　丶　つ０\n",
    "　 しーＪ\n",
    "  "
   ]
  },
  {
   "cell_type": "code",
   "execution_count": 9,
   "metadata": {},
   "outputs": [
    {
     "data": {
      "text/plain": [
       "200"
      ]
     },
     "execution_count": 9,
     "metadata": {},
     "output_type": "execute_result"
    }
   ],
   "source": [
    "class Rectangle:\n",
    "    \n",
    "    def __init__(self, hight, width):\n",
    "        self.hight = hight\n",
    "        self.width = width\n",
    "    \n",
    "    def get_area(self):\n",
    "        return self.hight * self.width\n",
    "\n",
    "r = Rectangle(10, 20)\n",
    "r.get_area()"
   ]
  },
  {
   "cell_type": "markdown",
   "metadata": {},
   "source": [
    "### 4. 私有屬性與方法"
   ]
  },
  {
   "cell_type": "markdown",
   "metadata": {},
   "source": [
    "剛剛介紹的類別，其類別內的屬性與方法都可以讓外部引用，稱為公有屬性或公有方法\n",
    "\n",
    "如果我們想要隱密一點，創建私有的屬性和方法，則稱為「封裝」(encapsulation)"
   ]
  },
  {
   "cell_type": "code",
   "execution_count": 48,
   "metadata": {},
   "outputs": [],
   "source": [
    "class Bank:\n",
    "    \n",
    "    def __init__(self, name):\n",
    "        self.name = name\n",
    "        self.balance = 0\n",
    "        \n",
    "    def save_money(self, money):\n",
    "        self.balance += money\n",
    "        \n",
    "    def withdraw_money(self, money):\n",
    "        self.balance -= money\n",
    "    \n",
    "    def show_money(self):\n",
    "        print(f\"{self.name} balance is NT${self.balance}.\")"
   ]
  },
  {
   "cell_type": "code",
   "execution_count": 49,
   "metadata": {},
   "outputs": [
    {
     "name": "stdout",
     "output_type": "stream",
     "text": [
      "David balance is NT$1500.\n"
     ]
    }
   ],
   "source": [
    "b = Bank(\"David\")\n",
    "b.save_money(1500)\n",
    "b.show_money()"
   ]
  },
  {
   "cell_type": "code",
   "execution_count": 50,
   "metadata": {},
   "outputs": [
    {
     "name": "stdout",
     "output_type": "stream",
     "text": [
      "David balance is NT$100000000.\n"
     ]
    }
   ],
   "source": [
    "b.balance = 100000000\n",
    "b.show_money()"
   ]
  },
  {
   "cell_type": "markdown",
   "metadata": {},
   "source": [
    "為了避免有心人士竄改數據，我們要求外部不得直接更改數據"
   ]
  },
  {
   "cell_type": "code",
   "execution_count": 51,
   "metadata": {},
   "outputs": [],
   "source": [
    "class Bank:\n",
    "    \n",
    "    def __init__(self, name):\n",
    "        self.name = name\n",
    "        self.__balance = 0\n",
    "        \n",
    "    def save_money(self, money):\n",
    "        self.__balance += money\n",
    "        \n",
    "    def withdraw_money(self, money):\n",
    "        self.__balance -= money\n",
    "    \n",
    "    def show_money(self):\n",
    "        print(f\"{self.name} balance is NT${self.__balance}.\")"
   ]
  },
  {
   "cell_type": "markdown",
   "metadata": {},
   "source": [
    "有心人士想要串改數據，但這次他碰到鐵釘子\n",
    "\n",
    "怎麼還是 0 元呢？"
   ]
  },
  {
   "cell_type": "code",
   "execution_count": 52,
   "metadata": {},
   "outputs": [
    {
     "name": "stdout",
     "output_type": "stream",
     "text": [
      "David balance is NT$0.\n"
     ]
    }
   ],
   "source": [
    "b = Bank(\"David\")\n",
    "b.balance = 100000000\n",
    "b.show_money()"
   ]
  },
  {
   "cell_type": "markdown",
   "metadata": {},
   "source": [
    "私有屬性其實只是換上不同名稱\n",
    "\n",
    "告訴其他開發者說這個不要串改或使用"
   ]
  },
  {
   "cell_type": "code",
   "execution_count": 56,
   "metadata": {},
   "outputs": [
    {
     "name": "stdout",
     "output_type": "stream",
     "text": [
      "David balance is NT$10000000.\n"
     ]
    }
   ],
   "source": [
    "# 若給雙底線，python 會去修改這個屬性的名稱\n",
    "b._Bank__balance = 10000000\n",
    "b.show_money()"
   ]
  },
  {
   "cell_type": "markdown",
   "metadata": {},
   "source": [
    "#### 講師提醒\n",
    "除了雙底線開頭的私有變數之外，單底線開頭(不以底線結尾)的變數也算是私有變數\n",
    "\n",
    "這是屬於約定俗成的寫法，依舊可以存取\n",
    "\n",
    "雖然可以存取，但別人設定寫私有就不要隨意取用\n",
    "\n",
    "[其他資源參考](https://medium.com/ai%E5%8F%8D%E6%96%97%E5%9F%8E/python-%E5%BA%95%E7%B7%9A-%E4%BB%8B%E7%B4%B9-%E8%BD%89%E9%8C%84-5b0349efdf52)"
   ]
  },
  {
   "cell_type": "markdown",
   "metadata": {},
   "source": [
    "### 課堂練習 (10 mins)\n",
    "請實做一個銀行類別的程式碼，並新增一個換匯的功能，輸入台幣變成美金\n",
    "\n",
    "而調用換匯的方法必須使用私有方法"
   ]
  },
  {
   "cell_type": "code",
   "execution_count": 25,
   "metadata": {},
   "outputs": [],
   "source": [
    "class Bank:\n",
    "    \n",
    "    def __init__(self, name):\n",
    "        self.name = name\n",
    "        self.__balance = 0\n",
    "        self.__rate = 30\n",
    "        self.__service_charge = 0.02\n",
    "        \n",
    "    def save_money(self, money):\n",
    "        self.__balance += money\n",
    "        \n",
    "    def withdraw_money(self, money):\n",
    "        self.__balance -= money\n",
    "    \n",
    "    def show_money(self):\n",
    "        return f\"{self.name} balance is NT${int(self.__balance)}\"\n",
    "        \n",
    "    def twd_to_usd(self, twd):\n",
    "        #########################################################################\n",
    "        # *****START OF YOUR CODE (DO NOT DELETE/MODIFY THIS LINE)*****\n",
    "        pass\n",
    "        # *****END OF YOUR CODE (DO NOT DELETE/MODIFY THIS LINE)*****\n",
    "        #########################################################################       \n",
    "        \n",
    "    def __calculate_rate(self, twd):\n",
    "        #########################################################################\n",
    "        # *****START OF YOUR CODE (DO NOT DELETE/MODIFY THIS LINE)*****\n",
    "        pass\n",
    "        # *****END OF YOUR CODE (DO NOT DELETE/MODIFY THIS LINE)*****\n",
    "        #########################################################################\n"
   ]
  },
  {
   "cell_type": "code",
   "execution_count": 23,
   "metadata": {},
   "outputs": [
    {
     "data": {
      "text/plain": [
       "'Erik balance is NT$100000'"
      ]
     },
     "execution_count": 23,
     "metadata": {},
     "output_type": "execute_result"
    }
   ],
   "source": [
    "# 完整者執行看看\n",
    "bank = Bank('Erik')\n",
    "bank.save_money(100000)\n",
    "bank.show_money()"
   ]
  },
  {
   "cell_type": "code",
   "execution_count": 24,
   "metadata": {},
   "outputs": [
    {
     "data": {
      "text/plain": [
       "'NT$1000 is equal to USD$ 29400'"
      ]
     },
     "execution_count": 24,
     "metadata": {},
     "output_type": "execute_result"
    }
   ],
   "source": [
    "# 試試看換匯功能\n",
    "bank.twd_to_usd(1000)"
   ]
  },
  {
   "cell_type": "raw",
   "metadata": {},
   "source": [
    "              ○ ＿＿＿＿\n",
    "　　　   ∥　　　　|\n",
    "　　　   ∥  請不要偷看我 專心寫練習題！ |\n",
    "　　　   ∥　　　　|\n",
    "　　　   ∥￣￣￣￣\n",
    "　 ∧＿∧\n",
    "　(`･ω･∥\n",
    "　丶　つ０\n",
    "　 しーＪ\n",
    "  \n",
    "                ○ ＿＿＿＿\n",
    "　　　   ∥　　　　|\n",
    "　　　   ∥  再往下滑就是答案了哦 |\n",
    "　　　   ∥　　　　|\n",
    "　　　   ∥￣￣￣￣\n",
    "　 ∧＿∧\n",
    "　(`･ω･∥\n",
    "　丶　つ０\n",
    "　 しーＪ\n",
    "  \n",
    "                ○ ＿＿＿＿\n",
    "　　　   ∥　　　　|\n",
    "　　　   ∥  你確定要看嗎？？ |\n",
    "　　　   ∥　　　　|\n",
    "　　　   ∥￣￣￣￣\n",
    "　 ∧＿∧\n",
    "　(`･ω･∥\n",
    "　丶　つ０\n",
    "　 しーＪ\n",
    "  \n",
    "                ○ ＿＿＿＿\n",
    "　　　   ∥　　　　|\n",
    "　　　   ∥  自己先寫寫想想看 比較有學習效果 |\n",
    "　　　   ∥　　　　|\n",
    "　　　   ∥￣￣￣￣\n",
    "　 ∧＿∧\n",
    "　(`･ω･∥\n",
    "　丶　つ０\n",
    "　 しーＪ\n",
    "  \n",
    "                ○ ＿＿＿＿\n",
    "　　　   ∥　　　　|\n",
    "　　　   ∥  再往下滑就是答案了哦 |\n",
    "　　　   ∥　　　　|\n",
    "　　　   ∥￣￣￣￣\n",
    "　 ∧＿∧\n",
    "　(`･ω･∥\n",
    "　丶　つ０\n",
    "　 しーＪ\n",
    "                ○ ＿＿＿＿\n",
    "　　　   ∥　　　　|\n",
    "　　　   ∥  不要偷看答案啦！ |\n",
    "　　　   ∥　　　　|\n",
    "　　　   ∥￣￣￣￣\n",
    "　 ∧＿∧\n",
    "　(`･ω･∥\n",
    "　丶　つ０\n",
    "　 しーＪ\n",
    "                ○ ＿＿＿＿\n",
    "　　　   ∥　　　　|\n",
    "　　　   ∥  好吧 看完還是要自己想一遍！！ |\n",
    "　　　   ∥　　　　|\n",
    "　　　   ∥￣￣￣￣\n",
    "　 ∧＿∧\n",
    "　(`･ω･∥\n",
    "　丶　つ０\n",
    "　 しーＪ\n",
    "  "
   ]
  },
  {
   "cell_type": "code",
   "execution_count": 22,
   "metadata": {},
   "outputs": [],
   "source": [
    "class Bank:\n",
    "    \n",
    "    def __init__(self, name):\n",
    "        self.name = name\n",
    "        self.__balance = 0\n",
    "        self.__rate = 30\n",
    "        self.__service_charge = 0.02\n",
    "        \n",
    "    def save_money(self, money):\n",
    "        self.__balance += money\n",
    "        \n",
    "    def withdraw_money(self, money):\n",
    "        self.__balance -= money\n",
    "    \n",
    "    def show_money(self):\n",
    "        return f\"{self.name} balance is NT${int(self.__balance)}\"\n",
    "        \n",
    "    def twd_to_usd(self, twd):\n",
    "        #########################################################################\n",
    "        # *****START OF YOUR CODE (DO NOT DELETE/MODIFY THIS LINE)*****\n",
    "        return f\"NT${twd} is equal to USD$ {self.__calculate_rate(twd)}\"\n",
    "        # *****END OF YOUR CODE (DO NOT DELETE/MODIFY THIS LINE)*****\n",
    "        #########################################################################       \n",
    "        \n",
    "    def __calculate_rate(self, twd):\n",
    "        #########################################################################\n",
    "        # *****START OF YOUR CODE (DO NOT DELETE/MODIFY THIS LINE)*****\n",
    "        return int(twd * self.__rate * (1 - self.__service_charge))\n",
    "        # *****END OF YOUR CODE (DO NOT DELETE/MODIFY THIS LINE)*****\n",
    "        #########################################################################\n"
   ]
  },
  {
   "cell_type": "markdown",
   "metadata": {},
   "source": [
    "### 4. 類別的繼承"
   ]
  },
  {
   "cell_type": "markdown",
   "metadata": {},
   "source": [
    "我們想定義動物的物件，目前我家只養了兩隻動物就要寫兩個物件\n",
    "\n",
    "但一旦到了動物園，有很多動物，每個動物叫聲(方法)都不太一樣，那不就要寫很多次嗎？\n",
    "\n",
    "我們是不是可以用抽象的方式來定義呢？"
   ]
  },
  {
   "cell_type": "code",
   "execution_count": 59,
   "metadata": {},
   "outputs": [],
   "source": [
    "class Dog:\n",
    "    \n",
    "    def __init__(self, name):\n",
    "        self.name = name\n",
    "        \n",
    "    def sleep(self):\n",
    "        print(\"I like sleeping.\")\n",
    "    \n",
    "    def bark(self):\n",
    "        print(\"bark bark bark\")\n",
    "\n",
    "class Cat:\n",
    "    \n",
    "    def __init__(self, name):\n",
    "        self.name = name\n",
    "        \n",
    "    def sleep(self):\n",
    "        print(\"I like sleeping.\")\n",
    "        \n",
    "    def meow(self):\n",
    "        print(\"meow meow meow\")"
   ]
  },
  {
   "cell_type": "markdown",
   "metadata": {},
   "source": [
    "上述的做法沒有不對，但是不夠好\n",
    "\n",
    "改良一下把他們抽象化一點，加上繼承吧！"
   ]
  },
  {
   "cell_type": "markdown",
   "metadata": {},
   "source": [
    "super() 是去呼叫父類別 \\__init\\__"
   ]
  },
  {
   "cell_type": "code",
   "execution_count": 2,
   "metadata": {},
   "outputs": [],
   "source": [
    "class Animals:\n",
    "    \n",
    "    def __init__(self, name):\n",
    "        self.name = name\n",
    "        print(f\"My name is {self.name}\")\n",
    "        \n",
    "    def talk(self):\n",
    "        pass\n",
    "    \n",
    "class Dog(Animals):\n",
    "    \n",
    "    def __init__(self, dog_name):\n",
    "        super().__init__(dog_name)\n",
    "    \n",
    "    def talk(self):\n",
    "        print(\"bark bark bark\")\n",
    "\n",
    "class Cat(Animals):\n",
    "    \n",
    "    def __init__(self, cat_name):\n",
    "        super().__init__(cat_name)\n",
    "    \n",
    "    def talk(self):\n",
    "        print(\"meow meow meow\")"
   ]
  },
  {
   "cell_type": "code",
   "execution_count": 3,
   "metadata": {},
   "outputs": [
    {
     "name": "stdout",
     "output_type": "stream",
     "text": [
      "My name is 小黑\n",
      "bark bark bark\n"
     ]
    }
   ],
   "source": [
    "d = Dog('小黑')\n",
    "d.talk()"
   ]
  },
  {
   "cell_type": "code",
   "execution_count": 4,
   "metadata": {},
   "outputs": [
    {
     "name": "stdout",
     "output_type": "stream",
     "text": [
      "My name is 小皮\n",
      "meow meow meow\n"
     ]
    }
   ],
   "source": [
    "c = Cat('小皮')\n",
    "c.talk()"
   ]
  },
  {
   "cell_type": "markdown",
   "metadata": {},
   "source": [
    "在物件導向的程式設計，類別是可以被繼承的哦！\n",
    "\n",
    "被繼承的類別為父類別；繼承的類別為子類別"
   ]
  },
  {
   "cell_type": "markdown",
   "metadata": {},
   "source": [
    "#### 講師提醒\n",
    "\n",
    "類別定義外的私有屬性或方法，子類別無法讀取，使用上請注意！"
   ]
  },
  {
   "cell_type": "code",
   "execution_count": 7,
   "metadata": {},
   "outputs": [],
   "source": [
    "class Animals:\n",
    "    \n",
    "    def __init__(self, name):\n",
    "        self.name = name\n",
    "        print(f\"My name is {self.name}\")\n",
    "        \n",
    "    def talk(self):\n",
    "        pass\n",
    "    \n",
    "    def author(self):\n",
    "        self.__title = 'Erik'\n",
    "        \n",
    "    def author_title(self):\n",
    "        return self.__title\n",
    "    \n",
    "class Dog(Animals):\n",
    "    \n",
    "    def __init__(self, dog_name):\n",
    "        super().__init__(dog_name)\n",
    "    \n",
    "    def talk(self):\n",
    "        print(\"bark bark bark\")\n",
    "\n",
    "class Cat(Animals):\n",
    "    \n",
    "    def __init__(self, cat_name):\n",
    "        super().__init__(cat_name)\n",
    "    \n",
    "    def talk(self):\n",
    "        print(\"meow meow meow\")"
   ]
  },
  {
   "cell_type": "code",
   "execution_count": 9,
   "metadata": {},
   "outputs": [
    {
     "name": "stdout",
     "output_type": "stream",
     "text": [
      "My name is 小黑\n"
     ]
    }
   ],
   "source": [
    "d = Dog('小黑')"
   ]
  },
  {
   "cell_type": "code",
   "execution_count": 10,
   "metadata": {},
   "outputs": [],
   "source": [
    "d.author()"
   ]
  },
  {
   "cell_type": "code",
   "execution_count": 11,
   "metadata": {},
   "outputs": [
    {
     "data": {
      "text/plain": [
       "'Erik'"
      ]
     },
     "execution_count": 11,
     "metadata": {},
     "output_type": "execute_result"
    }
   ],
   "source": [
    "d.author_title()"
   ]
  }
 ],
 "metadata": {
  "kernelspec": {
   "display_name": "Python 3",
   "language": "python",
   "name": "python3"
  },
  "language_info": {
   "codemirror_mode": {
    "name": "ipython",
    "version": 3
   },
   "file_extension": ".py",
   "mimetype": "text/x-python",
   "name": "python",
   "nbconvert_exporter": "python",
   "pygments_lexer": "ipython3",
   "version": "3.8.8"
  }
 },
 "nbformat": 4,
 "nbformat_minor": 4
}
