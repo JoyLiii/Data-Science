{
 "cells": [
  {
   "cell_type": "markdown",
   "metadata": {},
   "source": [
    "## Cooking"
   ]
  },
  {
   "cell_type": "markdown",
   "metadata": {},
   "source": [
    "https://www.kaggle.com/c/whats-cooking"
   ]
  },
  {
   "cell_type": "code",
   "execution_count": 4,
   "metadata": {},
   "outputs": [],
   "source": [
    "import warnings\n",
    "warnings.filterwarnings('ignore') #ignore warning messages \n",
    "# Python libraries\n",
    "# Handle data\n",
    "import json\n",
    "import collections\n",
    "import re\n",
    "import random\n",
    "\n",
    "# Handle table-like data \n",
    "import numpy as np\n",
    "import pandas as pd\n",
    "\n",
    "# Model Algorithms\n",
    "from gensim.models import word2vec\n",
    "from nltk.stem import WordNetLemmatizer\n",
    "from sklearn.svm import LinearSVC\n",
    "from sklearn.feature_extraction.text import TfidfVectorizer\n",
    "from sklearn.feature_extraction.text import HashingVectorizer\n",
    "from sklearn import grid_search\n",
    "from sklearn.linear_model import LogisticRegression\n",
    "from sklearn import cross_validation\n",
    "from sklearn.ensemble import RandomForestClassifier\n",
    "from sklearn.tree import DecisionTreeClassifier\n",
    "from sklearn.naive_bayes import BernoulliNB\n",
    "from sklearn.naive_bayes import GaussianNB\n",
    "from sklearn.linear_model import SGDClassifier\n",
    "\n",
    "# Visualisation\n",
    "import matplotlib.pyplot as plt\n",
    "import matplotlib.patches as mpatches\n",
    "import seaborn as sns\n",
    "%matplotlib inline"
   ]
  },
  {
   "cell_type": "markdown",
   "metadata": {},
   "source": [
    "## 1. Data preparing"
   ]
  },
  {
   "cell_type": "code",
   "execution_count": 5,
   "metadata": {},
   "outputs": [],
   "source": [
    "train=pd.read_json('train.json')\n",
    "test=pd.read_json('test.json')\n",
    "submission=pd.read_csv('sample_submission.csv')"
   ]
  },
  {
   "cell_type": "code",
   "execution_count": 6,
   "metadata": {},
   "outputs": [
    {
     "data": {
      "text/html": [
       "<div>\n",
       "<style scoped>\n",
       "    .dataframe tbody tr th:only-of-type {\n",
       "        vertical-align: middle;\n",
       "    }\n",
       "\n",
       "    .dataframe tbody tr th {\n",
       "        vertical-align: top;\n",
       "    }\n",
       "\n",
       "    .dataframe thead th {\n",
       "        text-align: right;\n",
       "    }\n",
       "</style>\n",
       "<table border=\"1\" class=\"dataframe\">\n",
       "  <thead>\n",
       "    <tr style=\"text-align: right;\">\n",
       "      <th></th>\n",
       "      <th>cuisine</th>\n",
       "      <th>id</th>\n",
       "      <th>ingredients</th>\n",
       "    </tr>\n",
       "  </thead>\n",
       "  <tbody>\n",
       "    <tr>\n",
       "      <th>0</th>\n",
       "      <td>greek</td>\n",
       "      <td>10259</td>\n",
       "      <td>[romaine lettuce, black olives, grape tomatoes...</td>\n",
       "    </tr>\n",
       "    <tr>\n",
       "      <th>1</th>\n",
       "      <td>southern_us</td>\n",
       "      <td>25693</td>\n",
       "      <td>[plain flour, ground pepper, salt, tomatoes, g...</td>\n",
       "    </tr>\n",
       "    <tr>\n",
       "      <th>2</th>\n",
       "      <td>filipino</td>\n",
       "      <td>20130</td>\n",
       "      <td>[eggs, pepper, salt, mayonaise, cooking oil, g...</td>\n",
       "    </tr>\n",
       "    <tr>\n",
       "      <th>3</th>\n",
       "      <td>indian</td>\n",
       "      <td>22213</td>\n",
       "      <td>[water, vegetable oil, wheat, salt]</td>\n",
       "    </tr>\n",
       "    <tr>\n",
       "      <th>4</th>\n",
       "      <td>indian</td>\n",
       "      <td>13162</td>\n",
       "      <td>[black pepper, shallots, cornflour, cayenne pe...</td>\n",
       "    </tr>\n",
       "  </tbody>\n",
       "</table>\n",
       "</div>"
      ],
      "text/plain": [
       "       cuisine     id                                        ingredients\n",
       "0        greek  10259  [romaine lettuce, black olives, grape tomatoes...\n",
       "1  southern_us  25693  [plain flour, ground pepper, salt, tomatoes, g...\n",
       "2     filipino  20130  [eggs, pepper, salt, mayonaise, cooking oil, g...\n",
       "3       indian  22213                [water, vegetable oil, wheat, salt]\n",
       "4       indian  13162  [black pepper, shallots, cornflour, cayenne pe..."
      ]
     },
     "execution_count": 6,
     "metadata": {},
     "output_type": "execute_result"
    }
   ],
   "source": [
    "train.head()"
   ]
  },
  {
   "cell_type": "code",
   "execution_count": 7,
   "metadata": {},
   "outputs": [
    {
     "data": {
      "text/html": [
       "<div>\n",
       "<style scoped>\n",
       "    .dataframe tbody tr th:only-of-type {\n",
       "        vertical-align: middle;\n",
       "    }\n",
       "\n",
       "    .dataframe tbody tr th {\n",
       "        vertical-align: top;\n",
       "    }\n",
       "\n",
       "    .dataframe thead th {\n",
       "        text-align: right;\n",
       "    }\n",
       "</style>\n",
       "<table border=\"1\" class=\"dataframe\">\n",
       "  <thead>\n",
       "    <tr style=\"text-align: right;\">\n",
       "      <th></th>\n",
       "      <th>id</th>\n",
       "      <th>ingredients</th>\n",
       "    </tr>\n",
       "  </thead>\n",
       "  <tbody>\n",
       "    <tr>\n",
       "      <th>0</th>\n",
       "      <td>18009</td>\n",
       "      <td>[baking powder, eggs, all-purpose flour, raisi...</td>\n",
       "    </tr>\n",
       "    <tr>\n",
       "      <th>1</th>\n",
       "      <td>28583</td>\n",
       "      <td>[sugar, egg yolks, corn starch, cream of tarta...</td>\n",
       "    </tr>\n",
       "    <tr>\n",
       "      <th>2</th>\n",
       "      <td>41580</td>\n",
       "      <td>[sausage links, fennel bulb, fronds, olive oil...</td>\n",
       "    </tr>\n",
       "    <tr>\n",
       "      <th>3</th>\n",
       "      <td>29752</td>\n",
       "      <td>[meat cuts, file powder, smoked sausage, okra,...</td>\n",
       "    </tr>\n",
       "    <tr>\n",
       "      <th>4</th>\n",
       "      <td>35687</td>\n",
       "      <td>[ground black pepper, salt, sausage casings, l...</td>\n",
       "    </tr>\n",
       "  </tbody>\n",
       "</table>\n",
       "</div>"
      ],
      "text/plain": [
       "      id                                        ingredients\n",
       "0  18009  [baking powder, eggs, all-purpose flour, raisi...\n",
       "1  28583  [sugar, egg yolks, corn starch, cream of tarta...\n",
       "2  41580  [sausage links, fennel bulb, fronds, olive oil...\n",
       "3  29752  [meat cuts, file powder, smoked sausage, okra,...\n",
       "4  35687  [ground black pepper, salt, sausage casings, l..."
      ]
     },
     "execution_count": 7,
     "metadata": {},
     "output_type": "execute_result"
    }
   ],
   "source": [
    "test.head()"
   ]
  },
  {
   "cell_type": "code",
   "execution_count": 8,
   "metadata": {},
   "outputs": [
    {
     "name": "stdout",
     "output_type": "stream",
     "text": [
      "train size: (39774, 3)\n",
      "test size: (9944, 2)\n"
     ]
    }
   ],
   "source": [
    "print('train size:',train.shape)\n",
    "print('test size:',test.shape)"
   ]
  },
  {
   "cell_type": "code",
   "execution_count": 9,
   "metadata": {},
   "outputs": [],
   "source": [
    "data=train.append(test)"
   ]
  },
  {
   "cell_type": "markdown",
   "metadata": {},
   "source": [
    "## 2. EDA"
   ]
  },
  {
   "cell_type": "code",
   "execution_count": 10,
   "metadata": {
    "scrolled": true
   },
   "outputs": [
    {
     "data": {
      "text/html": [
       "<div>\n",
       "<style scoped>\n",
       "    .dataframe tbody tr th:only-of-type {\n",
       "        vertical-align: middle;\n",
       "    }\n",
       "\n",
       "    .dataframe tbody tr th {\n",
       "        vertical-align: top;\n",
       "    }\n",
       "\n",
       "    .dataframe thead th {\n",
       "        text-align: right;\n",
       "    }\n",
       "</style>\n",
       "<table border=\"1\" class=\"dataframe\">\n",
       "  <thead>\n",
       "    <tr style=\"text-align: right;\">\n",
       "      <th></th>\n",
       "      <th>cuisine</th>\n",
       "      <th>id</th>\n",
       "      <th>ingredients</th>\n",
       "      <th>ingredients_clean_string</th>\n",
       "    </tr>\n",
       "  </thead>\n",
       "  <tbody>\n",
       "    <tr>\n",
       "      <th>0</th>\n",
       "      <td>greek</td>\n",
       "      <td>10259</td>\n",
       "      <td>[romaine lettuce, black olives, grape tomatoes...</td>\n",
       "      <td>romaine lettuce , black olives , grape tomatoe...</td>\n",
       "    </tr>\n",
       "    <tr>\n",
       "      <th>1</th>\n",
       "      <td>southern_us</td>\n",
       "      <td>25693</td>\n",
       "      <td>[plain flour, ground pepper, salt, tomatoes, g...</td>\n",
       "      <td>plain flour , ground pepper , salt , tomatoes ...</td>\n",
       "    </tr>\n",
       "    <tr>\n",
       "      <th>2</th>\n",
       "      <td>filipino</td>\n",
       "      <td>20130</td>\n",
       "      <td>[eggs, pepper, salt, mayonaise, cooking oil, g...</td>\n",
       "      <td>eggs , pepper , salt , mayonaise , cooking oil...</td>\n",
       "    </tr>\n",
       "    <tr>\n",
       "      <th>3</th>\n",
       "      <td>indian</td>\n",
       "      <td>22213</td>\n",
       "      <td>[water, vegetable oil, wheat, salt]</td>\n",
       "      <td>water , vegetable oil , wheat , salt</td>\n",
       "    </tr>\n",
       "    <tr>\n",
       "      <th>4</th>\n",
       "      <td>indian</td>\n",
       "      <td>13162</td>\n",
       "      <td>[black pepper, shallots, cornflour, cayenne pe...</td>\n",
       "      <td>black pepper , shallots , cornflour , cayenne ...</td>\n",
       "    </tr>\n",
       "  </tbody>\n",
       "</table>\n",
       "</div>"
      ],
      "text/plain": [
       "       cuisine     id                                        ingredients  \\\n",
       "0        greek  10259  [romaine lettuce, black olives, grape tomatoes...   \n",
       "1  southern_us  25693  [plain flour, ground pepper, salt, tomatoes, g...   \n",
       "2     filipino  20130  [eggs, pepper, salt, mayonaise, cooking oil, g...   \n",
       "3       indian  22213                [water, vegetable oil, wheat, salt]   \n",
       "4       indian  13162  [black pepper, shallots, cornflour, cayenne pe...   \n",
       "\n",
       "                            ingredients_clean_string  \n",
       "0  romaine lettuce , black olives , grape tomatoe...  \n",
       "1  plain flour , ground pepper , salt , tomatoes ...  \n",
       "2  eggs , pepper , salt , mayonaise , cooking oil...  \n",
       "3               water , vegetable oil , wheat , salt  \n",
       "4  black pepper , shallots , cornflour , cayenne ...  "
      ]
     },
     "execution_count": 10,
     "metadata": {},
     "output_type": "execute_result"
    }
   ],
   "source": [
    "train['ingredients_clean_string'] = [' , '.join(z).strip() for z in train['ingredients']]\n",
    "train.head()"
   ]
  },
  {
   "cell_type": "code",
   "execution_count": 11,
   "metadata": {},
   "outputs": [],
   "source": [
    "# Load the dataset\n",
    "# json format labels: cuisine, id number and ingredients (list)\n",
    "trainrecipts = json.load(open('train.json','r'))\n",
    "testrecipts = json.load(open('test.json','r'))"
   ]
  },
  {
   "cell_type": "code",
   "execution_count": 12,
   "metadata": {},
   "outputs": [],
   "source": [
    "# Quick&dirty code to extract info2list\n",
    "raw_ingredients = list()\n",
    "\n",
    "for recipt in trainrecipts:\n",
    "    for ingredient in recipt[u'ingredients']:\n",
    "        raw_ingredients.append(ingredient.strip())\n",
    "        \n",
    "\n",
    "raw_cuisines = list()\n",
    "for recipt in trainrecipts:\n",
    "    raw_cuisines.append(recipt[u'cuisine'].strip())"
   ]
  },
  {
   "cell_type": "code",
   "execution_count": 13,
   "metadata": {
    "scrolled": true
   },
   "outputs": [],
   "source": [
    "# use Counter to get frequencies \n",
    "counts_ingr = collections.Counter(raw_ingredients)\n",
    "counts_cuis = collections.Counter(raw_cuisines)"
   ]
  },
  {
   "cell_type": "code",
   "execution_count": 14,
   "metadata": {
    "scrolled": true
   },
   "outputs": [
    {
     "name": "stdout",
     "output_type": "stream",
     "text": [
      "Size Ingredients dataset (with repetition):  \t428275\n",
      "Unique Ingredients dataset: \t\t\t6714\n",
      "Total # of recipts \t\t\t\t39774\n",
      "Total # of Cuisines \t\t\t\t20\n"
     ]
    }
   ],
   "source": [
    "# this will help us to have an idea how our corpora of \n",
    "# ingredients looks like\n",
    "print('Size Ingredients dataset (with repetition):  \\t{}'.format((len(raw_ingredients))))\n",
    "print('Unique Ingredients dataset: \\t\\t\\t{}'.format((len(counts_ingr.values()))))\n",
    "\n",
    "# This will provide a distribution of cusines, indirect \n",
    "# info of the ingredients\n",
    "print('Total # of recipts \\t\\t\\t\\t{}'.format(len(raw_cuisines)))\n",
    "print('Total # of Cuisines \\t\\t\\t\\t{}'.format((len(counts_cuis.values()))))"
   ]
  },
  {
   "cell_type": "code",
   "execution_count": 15,
   "metadata": {
    "scrolled": false
   },
   "outputs": [
    {
     "data": {
      "text/plain": [
       "[('italian', 7838),\n",
       " ('mexican', 6438),\n",
       " ('southern_us', 4320),\n",
       " ('indian', 3003),\n",
       " ('chinese', 2673),\n",
       " ('french', 2646),\n",
       " ('cajun_creole', 1546),\n",
       " ('thai', 1539),\n",
       " ('japanese', 1423),\n",
       " ('greek', 1175)]"
      ]
     },
     "execution_count": 15,
     "metadata": {},
     "output_type": "execute_result"
    }
   ],
   "source": [
    "# top 10\n",
    "counts_cuis.most_common(10)"
   ]
  },
  {
   "cell_type": "code",
   "execution_count": 16,
   "metadata": {
    "scrolled": false
   },
   "outputs": [
    {
     "data": {
      "text/plain": [
       "array([7838, 6438, 4320, 3003, 2673, 2646, 1546, 1539, 1423, 1175,  989,\n",
       "        830,  825,  821,  804,  755,  667,  526,  489,  467])"
      ]
     },
     "execution_count": 16,
     "metadata": {},
     "output_type": "execute_result"
    }
   ],
   "source": [
    "#也可以用pandas\n",
    "train['cuisine'].value_counts().values"
   ]
  },
  {
   "cell_type": "markdown",
   "metadata": {},
   "source": [
    "### Cuisine"
   ]
  },
  {
   "cell_type": "code",
   "execution_count": 17,
   "metadata": {
    "scrolled": true
   },
   "outputs": [
    {
     "data": {
      "image/png": "[encoded data removed]",
      "text/plain": [
       "<Figure size 432x288 with 1 Axes>"
      ]
     },
     "metadata": {},
     "output_type": "display_data"
    }
   ],
   "source": [
    "x_label= train['cuisine'].value_counts().index\n",
    "y_label= train['cuisine'].value_counts().values\n",
    "fbar = sns.barplot(x = x_label, y = y_label)\n",
    "#xlabels\n",
    "for item in fbar.get_xticklabels():\n",
    "    item.set_rotation(90)"
   ]
  },
  {
   "cell_type": "markdown",
   "metadata": {},
   "source": [
    "itlian和mexican很多，但其他都比較少，training data 偏向這個地區的資料"
   ]
  },
  {
   "cell_type": "code",
   "execution_count": 18,
   "metadata": {
    "scrolled": true
   },
   "outputs": [
    {
     "name": "stdout",
     "output_type": "stream",
     "text": [
      "1988.7\n",
      "1989.865349715905\n"
     ]
    }
   ],
   "source": [
    "# Distribution \n",
    "print(np.mean(list(counts_cuis.values())))\n",
    "print(np.std(list(counts_cuis.values())))"
   ]
  },
  {
   "cell_type": "code",
   "execution_count": 19,
   "metadata": {
    "scrolled": true
   },
   "outputs": [
    {
     "data": {
      "text/plain": [
       "20"
      ]
     },
     "execution_count": 19,
     "metadata": {},
     "output_type": "execute_result"
    }
   ],
   "source": [
    "# init a dict with a empty list\n",
    "num_ingredients = dict(zip(counts_cuis.keys(), [list() for x in counts_cuis.keys()]))\n",
    "for recipt in trainrecipts:\n",
    "    # append the number in the list\n",
    "    num_ingredients[recipt['cuisine']].append(len(recipt['ingredients']))\n",
    "\n",
    "len(num_ingredients)"
   ]
  },
  {
   "cell_type": "markdown",
   "metadata": {},
   "source": [
    "### Ingredients"
   ]
  },
  {
   "cell_type": "code",
   "execution_count": 20,
   "metadata": {
    "scrolled": true
   },
   "outputs": [
    {
     "name": "stdout",
     "output_type": "stream",
     "text": [
      "greek    \t\t10.18\n",
      "southern_us    \t\t9.63\n",
      "filipino    \t\t10.00\n",
      "indian    \t\t12.71\n",
      "jamaican    \t\t12.21\n",
      "spanish    \t\t10.42\n",
      "italian    \t\t9.91\n",
      "mexican    \t\t10.88\n",
      "chinese    \t\t11.98\n",
      "british    \t\t9.71\n",
      "thai    \t\t12.55\n",
      "vietnamese    \t\t12.68\n",
      "cajun_creole    \t\t12.62\n",
      "brazilian    \t\t9.52\n",
      "french    \t\t9.82\n",
      "japanese    \t\t9.74\n",
      "irish    \t\t9.30\n",
      "korean    \t\t11.28\n",
      "moroccan    \t\t12.91\n",
      "russian    \t\t10.22\n"
     ]
    }
   ],
   "source": [
    "for cu, frq in num_ingredients.items():\n",
    "\n",
    "    print('{}    \\t\\t{:.2f}'.format(cu, np.mean(frq)))"
   ]
  },
  {
   "cell_type": "code",
   "execution_count": 21,
   "metadata": {
    "scrolled": true
   },
   "outputs": [
    {
     "data": {
      "image/png": "[encoded data removed]",
      "text/plain": [
       "<Figure size 432x288 with 1 Axes>"
      ]
     },
     "metadata": {},
     "output_type": "display_data"
    }
   ],
   "source": [
    "x_cu = [cu for cu, frq in num_ingredients.items()]\n",
    "y_frq = [np.mean(frq) for cu, frq in num_ingredients.items()]\n",
    "err = [np.std(frq) for cu, frq in num_ingredients.items()]\n",
    "fbar = sns.barplot(x = x_cu, y = y_frq, yerr=err)\n",
    "# xlabels\n",
    "for item in fbar.get_xticklabels():\n",
    "    item.set_rotation(90)"
   ]
  },
  {
   "cell_type": "code",
   "execution_count": 22,
   "metadata": {},
   "outputs": [
    {
     "name": "stdout",
     "output_type": "stream",
     "text": [
      "63.7883526958594\n",
      "388.3270259662557\n"
     ]
    }
   ],
   "source": [
    "# Dispersion of the frequencies Ingredients\n",
    "print(np.mean(list(counts_ingr.values())))\n",
    "print(np.std(list(counts_ingr.values())))"
   ]
  },
  {
   "cell_type": "code",
   "execution_count": 23,
   "metadata": {},
   "outputs": [
    {
     "name": "stdout",
     "output_type": "stream",
     "text": [
      "4.0\n",
      "[1.0000e+00 4.0000e+00 2.0000e+01 1.8049e+04]\n"
     ]
    }
   ],
   "source": [
    "# This is to big to plot, let's check the percentiles\n",
    "print(np.median(list(counts_ingr.values())))\n",
    "print(np.percentile(list(counts_ingr.values()), [25., 50., 75., 100.]))"
   ]
  },
  {
   "cell_type": "code",
   "execution_count": 24,
   "metadata": {
    "scrolled": true
   },
   "outputs": [
    {
     "data": {
      "text/plain": [
       "[('salt', 18049),\n",
       " ('onions', 7972),\n",
       " ('olive oil', 7972),\n",
       " ('water', 7457),\n",
       " ('garlic', 7380),\n",
       " ('sugar', 6434),\n",
       " ('garlic cloves', 6237),\n",
       " ('butter', 4848),\n",
       " ('ground black pepper', 4785),\n",
       " ('all-purpose flour', 4632),\n",
       " ('pepper', 4438),\n",
       " ('vegetable oil', 4385),\n",
       " ('eggs', 3388),\n",
       " ('soy sauce', 3296),\n",
       " ('kosher salt', 3113)]"
      ]
     },
     "execution_count": 24,
     "metadata": {},
     "output_type": "execute_result"
    }
   ],
   "source": [
    "# top 15\n",
    "counts_ingr.most_common(15)"
   ]
  },
  {
   "cell_type": "code",
   "execution_count": 25,
   "metadata": {
    "scrolled": true
   },
   "outputs": [
    {
     "data": {
      "text/plain": [
       "[('tonic water', 1),\n",
       " ('Chartreuse Liqueur', 1),\n",
       " ('aloe juice', 1),\n",
       " ('salt free chili powder', 1),\n",
       " ('tofu sour cream', 1),\n",
       " ('spicy salami', 1),\n",
       " ('Honeysuckle White® Hot Italian Turkey Sausage Links', 1),\n",
       " ('chocolate extract', 1),\n",
       " ('chocolate graham crackers', 1),\n",
       " ('cumberland sausage', 1),\n",
       " ('cocktail pumpernickel bread', 1),\n",
       " ('chunky tomatoes', 1),\n",
       " (\"Colman's Mustard Powder\", 1),\n",
       " ('manouri', 1),\n",
       " ('cherry vanilla ice cream', 1),\n",
       " ('bone-in ribeye steak', 1),\n",
       " ('frozen lemonade concentrate, thawed and undiluted', 1),\n",
       " ('flowering chinese chives', 1),\n",
       " ('praline topping', 1),\n",
       " ('riblets', 1),\n",
       " ('puff paste', 1),\n",
       " ('Barilla Plus Pasta', 1),\n",
       " ('turkey giblet stock', 1),\n",
       " ('light chicken stock', 1),\n",
       " ('conchiglie', 1),\n",
       " ('2% milk shredded mozzarella cheese', 1),\n",
       " ('Makers Mark Whisky', 1),\n",
       " ('knorr pasta side   cheesi cheddar', 1),\n",
       " ('whole grain baguette', 1),\n",
       " ('reduced sodium ham', 1),\n",
       " ('whole wheat peasant bread', 1),\n",
       " ('ranch-style seasoning', 1),\n",
       " ('ketjap', 1),\n",
       " ('chocolate flavored liqueur', 1),\n",
       " ('rotini pasta, cook and drain', 1),\n",
       " ('game', 1),\n",
       " ('tongue', 1),\n",
       " ('Daiya', 1),\n",
       " ('curry mix', 1),\n",
       " ('Kraft Slim Cut Mozzarella Cheese Slices', 1),\n",
       " ('Oscar Mayer Cotto Salami', 1),\n",
       " ('Challenge Butter', 1),\n",
       " ('orange glaze', 1),\n",
       " ('cholesterol free egg substitute', 1),\n",
       " ('ciabatta loaf', 1),\n",
       " ('Lipton® Iced Tea Brew Family Size Tea Bags', 1),\n",
       " ('Hidden Valley® Greek Yogurt Original Ranch® Dip Mix', 1),\n",
       " ('lop chong', 1),\n",
       " ('tomato garlic pasta sauce', 1),\n",
       " ('crushed cheese crackers', 1)]"
      ]
     },
     "execution_count": 25,
     "metadata": {},
     "output_type": "execute_result"
    }
   ],
   "source": [
    "# Tail 50\n",
    "counts_ingr.most_common()[-50:]"
   ]
  },
  {
   "cell_type": "markdown",
   "metadata": {},
   "source": [
    "## TF-IDF"
   ]
  },
  {
   "cell_type": "code",
   "execution_count": 34,
   "metadata": {},
   "outputs": [
    {
     "data": {
      "text/plain": [
       "[('(    oz.) tomato sauce', 11),\n",
       " ('(   oz.) tomato paste', 9),\n",
       " ('(14.5 oz.) diced tomatoes', 3),\n",
       " ('(15 oz.) refried beans', 3),\n",
       " ('(10 oz.) frozen chopped spinach', 3),\n",
       " ('(10 oz.) frozen chopped spinach, thawed and squeezed dry', 2),\n",
       " ('(14 oz.) sweetened condensed milk', 2)]"
      ]
     },
     "execution_count": 34,
     "metadata": {},
     "output_type": "execute_result"
    }
   ],
   "source": [
    "#有一些食品會標示幾oz\n",
    "symbols = list()\n",
    "\n",
    "for recipt in trainrecipts:\n",
    "\n",
    "    # I want ingredient remove \n",
    "    for ingredient in recipt['ingredients']:\n",
    "        if re.match(\".*oz\\..*\", ingredient.lower()):\n",
    "            symbols.append(ingredient)\n",
    "len(symbols)\n",
    "counts_symbols = collections.Counter(symbols)\n",
    "counts_symbols.most_common(20)"
   ]
  },
  {
   "cell_type": "code",
   "execution_count": 27,
   "metadata": {},
   "outputs": [
    {
     "data": {
      "text/plain": [
       "39774"
      ]
     },
     "execution_count": 27,
     "metadata": {},
     "output_type": "execute_result"
    }
   ],
   "source": [
    "#去除前面一些形容詞，新鮮的、磨碎的、粉末的...\n",
    "sentences_train= list()\n",
    "# one hot ingredients\n",
    "\n",
    "\n",
    "for recipt in trainrecipts:\n",
    "    clean_recipt = list()\n",
    "    # I want ingredient remove \n",
    "    for ingredient in recipt['ingredients']:\n",
    "        # remove this description from the ingredients\n",
    "        # minimal preprocessing\n",
    "        ingredient =  re.sub(r'(.*oz\\..*)|crushed|crumbles|ground|minced|powder|chopped|sliced| \\\n",
    "                             condensed|sweetened|unsweetened|brewed|grated|reduced|\\\n",
    "                             roasted|shredded|cooking|dried|fresh|large|small|seasoned \\\n",
    "                             ',\n",
    "                             '', \n",
    "                             ingredient)\n",
    "        clean_recipt.append(ingredient.strip())\n",
    "    sentences_train.append(clean_recipt)\n",
    "        \n",
    "len(sentences_train)"
   ]
  },
  {
   "cell_type": "code",
   "execution_count": 28,
   "metadata": {
    "scrolled": true
   },
   "outputs": [
    {
     "data": {
      "text/html": [
       "<div>\n",
       "<style scoped>\n",
       "    .dataframe tbody tr th:only-of-type {\n",
       "        vertical-align: middle;\n",
       "    }\n",
       "\n",
       "    .dataframe tbody tr th {\n",
       "        vertical-align: top;\n",
       "    }\n",
       "\n",
       "    .dataframe thead th {\n",
       "        text-align: right;\n",
       "    }\n",
       "</style>\n",
       "<table border=\"1\" class=\"dataframe\">\n",
       "  <thead>\n",
       "    <tr style=\"text-align: right;\">\n",
       "      <th></th>\n",
       "      <th>cuisine</th>\n",
       "      <th>id</th>\n",
       "      <th>ingredients</th>\n",
       "      <th>ingredients_clean_string</th>\n",
       "      <th>re_list</th>\n",
       "      <th>re_list2</th>\n",
       "    </tr>\n",
       "  </thead>\n",
       "  <tbody>\n",
       "    <tr>\n",
       "      <th>0</th>\n",
       "      <td>greek</td>\n",
       "      <td>10259</td>\n",
       "      <td>[romaine lettuce, black olives, grape tomatoes...</td>\n",
       "      <td>romaine lettuce , black olives , grape tomatoe...</td>\n",
       "      <td>[romaine lettuce, black olives, grape tomatoes...</td>\n",
       "      <td>romaine lettuce , black olives , grape tomatoe...</td>\n",
       "    </tr>\n",
       "    <tr>\n",
       "      <th>1</th>\n",
       "      <td>southern_us</td>\n",
       "      <td>25693</td>\n",
       "      <td>[plain flour, ground pepper, salt, tomatoes, g...</td>\n",
       "      <td>plain flour , ground pepper , salt , tomatoes ...</td>\n",
       "      <td>[plain flour, pepper, salt, tomatoes, black pe...</td>\n",
       "      <td>plain flour , pepper , salt , tomatoes , black...</td>\n",
       "    </tr>\n",
       "    <tr>\n",
       "      <th>2</th>\n",
       "      <td>filipino</td>\n",
       "      <td>20130</td>\n",
       "      <td>[eggs, pepper, salt, mayonaise, cooking oil, g...</td>\n",
       "      <td>eggs , pepper , salt , mayonaise , cooking oil...</td>\n",
       "      <td>[eggs, pepper, salt, mayonaise, oil, green chi...</td>\n",
       "      <td>eggs , pepper , salt , mayonaise , oil , green...</td>\n",
       "    </tr>\n",
       "    <tr>\n",
       "      <th>3</th>\n",
       "      <td>indian</td>\n",
       "      <td>22213</td>\n",
       "      <td>[water, vegetable oil, wheat, salt]</td>\n",
       "      <td>water , vegetable oil , wheat , salt</td>\n",
       "      <td>[water, vegetable oil, wheat, salt]</td>\n",
       "      <td>water , vegetable oil , wheat , salt</td>\n",
       "    </tr>\n",
       "    <tr>\n",
       "      <th>4</th>\n",
       "      <td>indian</td>\n",
       "      <td>13162</td>\n",
       "      <td>[black pepper, shallots, cornflour, cayenne pe...</td>\n",
       "      <td>black pepper , shallots , cornflour , cayenne ...</td>\n",
       "      <td>[black pepper, shallots, cornflour, cayenne pe...</td>\n",
       "      <td>black pepper , shallots , cornflour , cayenne ...</td>\n",
       "    </tr>\n",
       "  </tbody>\n",
       "</table>\n",
       "</div>"
      ],
      "text/plain": [
       "       cuisine     id                                        ingredients  \\\n",
       "0        greek  10259  [romaine lettuce, black olives, grape tomatoes...   \n",
       "1  southern_us  25693  [plain flour, ground pepper, salt, tomatoes, g...   \n",
       "2     filipino  20130  [eggs, pepper, salt, mayonaise, cooking oil, g...   \n",
       "3       indian  22213                [water, vegetable oil, wheat, salt]   \n",
       "4       indian  13162  [black pepper, shallots, cornflour, cayenne pe...   \n",
       "\n",
       "                            ingredients_clean_string  \\\n",
       "0  romaine lettuce , black olives , grape tomatoe...   \n",
       "1  plain flour , ground pepper , salt , tomatoes ...   \n",
       "2  eggs , pepper , salt , mayonaise , cooking oil...   \n",
       "3               water , vegetable oil , wheat , salt   \n",
       "4  black pepper , shallots , cornflour , cayenne ...   \n",
       "\n",
       "                                             re_list  \\\n",
       "0  [romaine lettuce, black olives, grape tomatoes...   \n",
       "1  [plain flour, pepper, salt, tomatoes, black pe...   \n",
       "2  [eggs, pepper, salt, mayonaise, oil, green chi...   \n",
       "3                [water, vegetable oil, wheat, salt]   \n",
       "4  [black pepper, shallots, cornflour, cayenne pe...   \n",
       "\n",
       "                                            re_list2  \n",
       "0  romaine lettuce , black olives , grape tomatoe...  \n",
       "1  plain flour , pepper , salt , tomatoes , black...  \n",
       "2  eggs , pepper , salt , mayonaise , oil , green...  \n",
       "3               water , vegetable oil , wheat , salt  \n",
       "4  black pepper , shallots , cornflour , cayenne ...  "
      ]
     },
     "execution_count": 28,
     "metadata": {},
     "output_type": "execute_result"
    }
   ],
   "source": [
    "import numpy as np\n",
    "to_array = np.array(sentences_train)\n",
    "train['re_list']=pd.DataFrame(to_array)\n",
    "#train['re_list2'] = [' , '.join(z).strip() for z in train['re_list']] \n",
    "train.head()"
   ]
  },
  {
   "cell_type": "code",
   "execution_count": 33,
   "metadata": {
    "scrolled": true
   },
   "outputs": [
    {
     "data": {
      "text/html": [
       "<div>\n",
       "<style scoped>\n",
       "    .dataframe tbody tr th:only-of-type {\n",
       "        vertical-align: middle;\n",
       "    }\n",
       "\n",
       "    .dataframe tbody tr th {\n",
       "        vertical-align: top;\n",
       "    }\n",
       "\n",
       "    .dataframe thead th {\n",
       "        text-align: right;\n",
       "    }\n",
       "</style>\n",
       "<table border=\"1\" class=\"dataframe\">\n",
       "  <thead>\n",
       "    <tr style=\"text-align: right;\">\n",
       "      <th></th>\n",
       "      <th>cuisine</th>\n",
       "      <th>id</th>\n",
       "      <th>ingredients</th>\n",
       "      <th>ingredients_clean_string</th>\n",
       "      <th>re_list</th>\n",
       "      <th>re_list2</th>\n",
       "      <th>nltk_list</th>\n",
       "    </tr>\n",
       "  </thead>\n",
       "  <tbody>\n",
       "    <tr>\n",
       "      <th>0</th>\n",
       "      <td>greek</td>\n",
       "      <td>10259</td>\n",
       "      <td>[romaine lettuce, black olives, grape tomatoes...</td>\n",
       "      <td>romaine lettuce , black olives , grape tomatoe...</td>\n",
       "      <td>[romaine lettuce, black olives, grape tomatoes...</td>\n",
       "      <td>romaine lettuce , black olives , grape tomatoe...</td>\n",
       "      <td>romaine lettuce,black olives,grape tomatoes,ga...</td>\n",
       "    </tr>\n",
       "    <tr>\n",
       "      <th>1</th>\n",
       "      <td>southern_us</td>\n",
       "      <td>25693</td>\n",
       "      <td>[plain flour, ground pepper, salt, tomatoes, g...</td>\n",
       "      <td>plain flour , ground pepper , salt , tomatoes ...</td>\n",
       "      <td>[plain flour, pepper, salt, tomatoes, black pe...</td>\n",
       "      <td>plain flour , pepper , salt , tomatoes , black...</td>\n",
       "      <td>plain flour,pepper,salt,tomato,black pepper,th...</td>\n",
       "    </tr>\n",
       "    <tr>\n",
       "      <th>2</th>\n",
       "      <td>filipino</td>\n",
       "      <td>20130</td>\n",
       "      <td>[eggs, pepper, salt, mayonaise, cooking oil, g...</td>\n",
       "      <td>eggs , pepper , salt , mayonaise , cooking oil...</td>\n",
       "      <td>[eggs, pepper, salt, mayonaise, oil, green chi...</td>\n",
       "      <td>eggs , pepper , salt , mayonaise , oil , green...</td>\n",
       "      <td>egg,pepper,salt,mayonaise,oil,green chilies,gr...</td>\n",
       "    </tr>\n",
       "    <tr>\n",
       "      <th>3</th>\n",
       "      <td>indian</td>\n",
       "      <td>22213</td>\n",
       "      <td>[water, vegetable oil, wheat, salt]</td>\n",
       "      <td>water , vegetable oil , wheat , salt</td>\n",
       "      <td>[water, vegetable oil, wheat, salt]</td>\n",
       "      <td>water , vegetable oil , wheat , salt</td>\n",
       "      <td>water,vegetable oil,wheat,salt</td>\n",
       "    </tr>\n",
       "    <tr>\n",
       "      <th>4</th>\n",
       "      <td>indian</td>\n",
       "      <td>13162</td>\n",
       "      <td>[black pepper, shallots, cornflour, cayenne pe...</td>\n",
       "      <td>black pepper , shallots , cornflour , cayenne ...</td>\n",
       "      <td>[black pepper, shallots, cornflour, cayenne pe...</td>\n",
       "      <td>black pepper , shallots , cornflour , cayenne ...</td>\n",
       "      <td>black pepper,shallot,cornflour,cayenne pepper,...</td>\n",
       "    </tr>\n",
       "  </tbody>\n",
       "</table>\n",
       "</div>"
      ],
      "text/plain": [
       "       cuisine     id                                        ingredients  \\\n",
       "0        greek  10259  [romaine lettuce, black olives, grape tomatoes...   \n",
       "1  southern_us  25693  [plain flour, ground pepper, salt, tomatoes, g...   \n",
       "2     filipino  20130  [eggs, pepper, salt, mayonaise, cooking oil, g...   \n",
       "3       indian  22213                [water, vegetable oil, wheat, salt]   \n",
       "4       indian  13162  [black pepper, shallots, cornflour, cayenne pe...   \n",
       "\n",
       "                            ingredients_clean_string  \\\n",
       "0  romaine lettuce , black olives , grape tomatoe...   \n",
       "1  plain flour , ground pepper , salt , tomatoes ...   \n",
       "2  eggs , pepper , salt , mayonaise , cooking oil...   \n",
       "3               water , vegetable oil , wheat , salt   \n",
       "4  black pepper , shallots , cornflour , cayenne ...   \n",
       "\n",
       "                                             re_list  \\\n",
       "0  [romaine lettuce, black olives, grape tomatoes...   \n",
       "1  [plain flour, pepper, salt, tomatoes, black pe...   \n",
       "2  [eggs, pepper, salt, mayonaise, oil, green chi...   \n",
       "3                [water, vegetable oil, wheat, salt]   \n",
       "4  [black pepper, shallots, cornflour, cayenne pe...   \n",
       "\n",
       "                                            re_list2  \\\n",
       "0  romaine lettuce , black olives , grape tomatoe...   \n",
       "1  plain flour , pepper , salt , tomatoes , black...   \n",
       "2  eggs , pepper , salt , mayonaise , oil , green...   \n",
       "3               water , vegetable oil , wheat , salt   \n",
       "4  black pepper , shallots , cornflour , cayenne ...   \n",
       "\n",
       "                                           nltk_list  \n",
       "0  romaine lettuce,black olives,grape tomatoes,ga...  \n",
       "1  plain flour,pepper,salt,tomato,black pepper,th...  \n",
       "2  egg,pepper,salt,mayonaise,oil,green chilies,gr...  \n",
       "3                     water,vegetable oil,wheat,salt  \n",
       "4  black pepper,shallot,cornflour,cayenne pepper,...  "
      ]
     },
     "execution_count": 33,
     "metadata": {},
     "output_type": "execute_result"
    }
   ],
   "source": [
    "train['nltk_list'] = [','.join([WordNetLemmatizer().lemmatize(re.sub('[^A-Za-z]', ' ',line)) for line in lists]).strip() for lists in train['re_list']] \n",
    "train.head()"
   ]
  },
  {
   "cell_type": "code",
   "execution_count": 35,
   "metadata": {},
   "outputs": [],
   "source": [
    "ingredients = train['nltk_list']\n",
    "from sklearn.feature_extraction.text import TfidfVectorizer\n",
    "vectorizer = TfidfVectorizer(stop_words='english')\n",
    "tfidf_matrix = vectorizer.fit_transform(ingredients).todense()"
   ]
  },
  {
   "cell_type": "code",
   "execution_count": 36,
   "metadata": {},
   "outputs": [
    {
     "data": {
      "text/plain": [
       "matrix([[0., 0., 0., ..., 0., 0., 0.],\n",
       "        [0., 0., 0., ..., 0., 0., 0.],\n",
       "        [0., 0., 0., ..., 0., 0., 0.],\n",
       "        ...,\n",
       "        [0., 0., 0., ..., 0., 0., 0.],\n",
       "        [0., 0., 0., ..., 0., 0., 0.],\n",
       "        [0., 0., 0., ..., 0., 0., 0.]])"
      ]
     },
     "execution_count": 36,
     "metadata": {},
     "output_type": "execute_result"
    }
   ],
   "source": [
    "tfidf_matrix "
   ]
  },
  {
   "cell_type": "code",
   "execution_count": 37,
   "metadata": {},
   "outputs": [
    {
     "data": {
      "text/plain": [
       "(39774, 2938)"
      ]
     },
     "execution_count": 37,
     "metadata": {},
     "output_type": "execute_result"
    }
   ],
   "source": [
    "tfidf_matrix.shape"
   ]
  },
  {
   "cell_type": "code",
   "execution_count": 38,
   "metadata": {},
   "outputs": [],
   "source": [
    "cuisines=train['cuisine']"
   ]
  },
  {
   "cell_type": "code",
   "execution_count": 39,
   "metadata": {
    "scrolled": false
   },
   "outputs": [
    {
     "name": "stdout",
     "output_type": "stream",
     "text": [
      "CPU times: user 3min 17s, sys: 5.82 s, total: 3min 22s\n",
      "Wall time: 3min 24s\n"
     ]
    }
   ],
   "source": [
    "%%time\n",
    "from sklearn.ensemble import RandomForestClassifier\n",
    "rf_clf = RandomForestClassifier(n_estimators=500,max_features=10)\n",
    "rf_clf.fit(tfidf_matrix, cuisines)"
   ]
  },
  {
   "cell_type": "code",
   "execution_count": 40,
   "metadata": {},
   "outputs": [],
   "source": [
    "pred_train=rf_clf.predict(tfidf_matrix)"
   ]
  },
  {
   "cell_type": "code",
   "execution_count": 41,
   "metadata": {
    "scrolled": true
   },
   "outputs": [
    {
     "data": {
      "text/plain": [
       "(39774,)"
      ]
     },
     "execution_count": 41,
     "metadata": {},
     "output_type": "execute_result"
    }
   ],
   "source": [
    "pred_train.shape"
   ]
  },
  {
   "cell_type": "code",
   "execution_count": 42,
   "metadata": {},
   "outputs": [
    {
     "data": {
      "text/plain": [
       "0.9995223010006536"
      ]
     },
     "execution_count": 42,
     "metadata": {},
     "output_type": "execute_result"
    }
   ],
   "source": [
    "from sklearn.metrics import accuracy_score\n",
    "accuracy_score(pred_train, cuisines)"
   ]
  },
  {
   "cell_type": "markdown",
   "metadata": {},
   "source": [
    "## Predict"
   ]
  },
  {
   "cell_type": "code",
   "execution_count": 43,
   "metadata": {},
   "outputs": [
    {
     "data": {
      "text/plain": [
       "9944"
      ]
     },
     "execution_count": 43,
     "metadata": {},
     "output_type": "execute_result"
    }
   ],
   "source": [
    "#去除前面一些形容詞，新鮮的、磨碎的、粉末的...\n",
    "sentences_test= list()\n",
    "# one hot ingredients\n",
    "\n",
    "\n",
    "for recipt in testrecipts:\n",
    "    clean_recipt = list()\n",
    "    # I want ingredient remove \n",
    "    for ingredient in recipt['ingredients']:\n",
    "        # remove this description from the ingredients\n",
    "        # minimal preprocessing\n",
    "        ingredient =  re.sub(r'\\(.*oz.\\)|crushed|crumbles|ground|minced|powder|chopped|sliced| \\\n",
    "                             condensed|sweetened|unsweetened|brewed|grated|reduced|\\\n",
    "                             roasted|shredded|cooking|dried|fresh|large|small|seasoned \\\n",
    "                             ',\n",
    "                             '', \n",
    "                             ingredient)\n",
    "        clean_recipt.append(ingredient.strip())\n",
    "    sentences_test.append(clean_recipt)\n",
    "        \n",
    "len(sentences_test)"
   ]
  },
  {
   "cell_type": "code",
   "execution_count": 44,
   "metadata": {
    "scrolled": true
   },
   "outputs": [
    {
     "data": {
      "text/html": [
       "<div>\n",
       "<style scoped>\n",
       "    .dataframe tbody tr th:only-of-type {\n",
       "        vertical-align: middle;\n",
       "    }\n",
       "\n",
       "    .dataframe tbody tr th {\n",
       "        vertical-align: top;\n",
       "    }\n",
       "\n",
       "    .dataframe thead th {\n",
       "        text-align: right;\n",
       "    }\n",
       "</style>\n",
       "<table border=\"1\" class=\"dataframe\">\n",
       "  <thead>\n",
       "    <tr style=\"text-align: right;\">\n",
       "      <th></th>\n",
       "      <th>id</th>\n",
       "      <th>ingredients</th>\n",
       "      <th>re_list</th>\n",
       "    </tr>\n",
       "  </thead>\n",
       "  <tbody>\n",
       "    <tr>\n",
       "      <th>0</th>\n",
       "      <td>18009</td>\n",
       "      <td>[baking powder, eggs, all-purpose flour, raisi...</td>\n",
       "      <td>[baking, eggs, all-purpose flour, raisins, mil...</td>\n",
       "    </tr>\n",
       "    <tr>\n",
       "      <th>1</th>\n",
       "      <td>28583</td>\n",
       "      <td>[sugar, egg yolks, corn starch, cream of tarta...</td>\n",
       "      <td>[sugar, egg yolks, corn starch, cream of tarta...</td>\n",
       "    </tr>\n",
       "    <tr>\n",
       "      <th>2</th>\n",
       "      <td>41580</td>\n",
       "      <td>[sausage links, fennel bulb, fronds, olive oil...</td>\n",
       "      <td>[sausage links, fennel bulb, fronds, olive oil...</td>\n",
       "    </tr>\n",
       "    <tr>\n",
       "      <th>3</th>\n",
       "      <td>29752</td>\n",
       "      <td>[meat cuts, file powder, smoked sausage, okra,...</td>\n",
       "      <td>[meat cuts, file, smoked sausage, okra, shrimp...</td>\n",
       "    </tr>\n",
       "    <tr>\n",
       "      <th>4</th>\n",
       "      <td>35687</td>\n",
       "      <td>[ground black pepper, salt, sausage casings, l...</td>\n",
       "      <td>[black pepper, salt, sausage casings, leeks, p...</td>\n",
       "    </tr>\n",
       "  </tbody>\n",
       "</table>\n",
       "</div>"
      ],
      "text/plain": [
       "      id                                        ingredients  \\\n",
       "0  18009  [baking powder, eggs, all-purpose flour, raisi...   \n",
       "1  28583  [sugar, egg yolks, corn starch, cream of tarta...   \n",
       "2  41580  [sausage links, fennel bulb, fronds, olive oil...   \n",
       "3  29752  [meat cuts, file powder, smoked sausage, okra,...   \n",
       "4  35687  [ground black pepper, salt, sausage casings, l...   \n",
       "\n",
       "                                             re_list  \n",
       "0  [baking, eggs, all-purpose flour, raisins, mil...  \n",
       "1  [sugar, egg yolks, corn starch, cream of tarta...  \n",
       "2  [sausage links, fennel bulb, fronds, olive oil...  \n",
       "3  [meat cuts, file, smoked sausage, okra, shrimp...  \n",
       "4  [black pepper, salt, sausage casings, leeks, p...  "
      ]
     },
     "execution_count": 44,
     "metadata": {},
     "output_type": "execute_result"
    }
   ],
   "source": [
    "import numpy as np\n",
    "to_array = np.array(sentences_test)\n",
    "test['re_list']=pd.DataFrame(to_array)\n",
    "#test['re_list2'] = [' , '.join(z).strip() for z in test['re_list']] \n",
    "test.head()"
   ]
  },
  {
   "cell_type": "code",
   "execution_count": 45,
   "metadata": {},
   "outputs": [
    {
     "data": {
      "text/html": [
       "<div>\n",
       "<style scoped>\n",
       "    .dataframe tbody tr th:only-of-type {\n",
       "        vertical-align: middle;\n",
       "    }\n",
       "\n",
       "    .dataframe tbody tr th {\n",
       "        vertical-align: top;\n",
       "    }\n",
       "\n",
       "    .dataframe thead th {\n",
       "        text-align: right;\n",
       "    }\n",
       "</style>\n",
       "<table border=\"1\" class=\"dataframe\">\n",
       "  <thead>\n",
       "    <tr style=\"text-align: right;\">\n",
       "      <th></th>\n",
       "      <th>id</th>\n",
       "      <th>ingredients</th>\n",
       "      <th>re_list</th>\n",
       "      <th>nltk_list</th>\n",
       "    </tr>\n",
       "  </thead>\n",
       "  <tbody>\n",
       "    <tr>\n",
       "      <th>0</th>\n",
       "      <td>18009</td>\n",
       "      <td>[baking powder, eggs, all-purpose flour, raisi...</td>\n",
       "      <td>[baking, eggs, all-purpose flour, raisins, mil...</td>\n",
       "      <td>baking,egg,all purpose flour,raisin,milk,white...</td>\n",
       "    </tr>\n",
       "    <tr>\n",
       "      <th>1</th>\n",
       "      <td>28583</td>\n",
       "      <td>[sugar, egg yolks, corn starch, cream of tarta...</td>\n",
       "      <td>[sugar, egg yolks, corn starch, cream of tarta...</td>\n",
       "      <td>sugar,egg yolks,corn starch,cream of tartar,ba...</td>\n",
       "    </tr>\n",
       "    <tr>\n",
       "      <th>2</th>\n",
       "      <td>41580</td>\n",
       "      <td>[sausage links, fennel bulb, fronds, olive oil...</td>\n",
       "      <td>[sausage links, fennel bulb, fronds, olive oil...</td>\n",
       "      <td>sausage links,fennel bulb,frond,olive oil,cuba...</td>\n",
       "    </tr>\n",
       "    <tr>\n",
       "      <th>3</th>\n",
       "      <td>29752</td>\n",
       "      <td>[meat cuts, file powder, smoked sausage, okra,...</td>\n",
       "      <td>[meat cuts, file, smoked sausage, okra, shrimp...</td>\n",
       "      <td>meat cuts,file,smoked sausage,okra,shrimp,ando...</td>\n",
       "    </tr>\n",
       "    <tr>\n",
       "      <th>4</th>\n",
       "      <td>35687</td>\n",
       "      <td>[ground black pepper, salt, sausage casings, l...</td>\n",
       "      <td>[black pepper, salt, sausage casings, leeks, p...</td>\n",
       "      <td>black pepper,salt,sausage casings,leek,parmigi...</td>\n",
       "    </tr>\n",
       "  </tbody>\n",
       "</table>\n",
       "</div>"
      ],
      "text/plain": [
       "      id                                        ingredients  \\\n",
       "0  18009  [baking powder, eggs, all-purpose flour, raisi...   \n",
       "1  28583  [sugar, egg yolks, corn starch, cream of tarta...   \n",
       "2  41580  [sausage links, fennel bulb, fronds, olive oil...   \n",
       "3  29752  [meat cuts, file powder, smoked sausage, okra,...   \n",
       "4  35687  [ground black pepper, salt, sausage casings, l...   \n",
       "\n",
       "                                             re_list  \\\n",
       "0  [baking, eggs, all-purpose flour, raisins, mil...   \n",
       "1  [sugar, egg yolks, corn starch, cream of tarta...   \n",
       "2  [sausage links, fennel bulb, fronds, olive oil...   \n",
       "3  [meat cuts, file, smoked sausage, okra, shrimp...   \n",
       "4  [black pepper, salt, sausage casings, leeks, p...   \n",
       "\n",
       "                                           nltk_list  \n",
       "0  baking,egg,all purpose flour,raisin,milk,white...  \n",
       "1  sugar,egg yolks,corn starch,cream of tartar,ba...  \n",
       "2  sausage links,fennel bulb,frond,olive oil,cuba...  \n",
       "3  meat cuts,file,smoked sausage,okra,shrimp,ando...  \n",
       "4  black pepper,salt,sausage casings,leek,parmigi...  "
      ]
     },
     "execution_count": 45,
     "metadata": {},
     "output_type": "execute_result"
    }
   ],
   "source": [
    "test['nltk_list'] = [','.join([WordNetLemmatizer().lemmatize(re.sub('[^A-Za-z]', ' ',line)) for line in lists]).strip() for lists in test['re_list']] \n",
    "test.head()"
   ]
  },
  {
   "cell_type": "code",
   "execution_count": 49,
   "metadata": {},
   "outputs": [],
   "source": [
    "test_ingredients = test['nltk_list']\n",
    "test_tfidf_matrix = vectorizer.transform(test_ingredients)\n",
    "test_cuisines = rf_clf.predict(test_tfidf_matrix)"
   ]
  },
  {
   "cell_type": "code",
   "execution_count": 50,
   "metadata": {},
   "outputs": [
    {
     "data": {
      "text/plain": [
       "(9944, 2938)"
      ]
     },
     "execution_count": 50,
     "metadata": {},
     "output_type": "execute_result"
    }
   ],
   "source": [
    "test_tfidf_matrix.shape"
   ]
  },
  {
   "cell_type": "code",
   "execution_count": 52,
   "metadata": {},
   "outputs": [],
   "source": [
    "test['cuisine']=test_cuisines\n",
    "test[['id' , 'cuisine' ]].to_csv(\"submission5.csv\", index=False)"
   ]
  },
  {
   "cell_type": "code",
   "execution_count": 53,
   "metadata": {},
   "outputs": [
    {
     "data": {
      "text/html": [
       "<div>\n",
       "<style scoped>\n",
       "    .dataframe tbody tr th:only-of-type {\n",
       "        vertical-align: middle;\n",
       "    }\n",
       "\n",
       "    .dataframe tbody tr th {\n",
       "        vertical-align: top;\n",
       "    }\n",
       "\n",
       "    .dataframe thead th {\n",
       "        text-align: right;\n",
       "    }\n",
       "</style>\n",
       "<table border=\"1\" class=\"dataframe\">\n",
       "  <thead>\n",
       "    <tr style=\"text-align: right;\">\n",
       "      <th></th>\n",
       "      <th>id</th>\n",
       "      <th>ingredients</th>\n",
       "      <th>re_list</th>\n",
       "      <th>nltk_list</th>\n",
       "      <th>cuisine</th>\n",
       "    </tr>\n",
       "  </thead>\n",
       "  <tbody>\n",
       "    <tr>\n",
       "      <th>0</th>\n",
       "      <td>18009</td>\n",
       "      <td>[baking powder, eggs, all-purpose flour, raisi...</td>\n",
       "      <td>[baking, eggs, all-purpose flour, raisins, mil...</td>\n",
       "      <td>baking,egg,all purpose flour,raisin,milk,white...</td>\n",
       "      <td>southern_us</td>\n",
       "    </tr>\n",
       "    <tr>\n",
       "      <th>1</th>\n",
       "      <td>28583</td>\n",
       "      <td>[sugar, egg yolks, corn starch, cream of tarta...</td>\n",
       "      <td>[sugar, egg yolks, corn starch, cream of tarta...</td>\n",
       "      <td>sugar,egg yolks,corn starch,cream of tartar,ba...</td>\n",
       "      <td>southern_us</td>\n",
       "    </tr>\n",
       "    <tr>\n",
       "      <th>2</th>\n",
       "      <td>41580</td>\n",
       "      <td>[sausage links, fennel bulb, fronds, olive oil...</td>\n",
       "      <td>[sausage links, fennel bulb, fronds, olive oil...</td>\n",
       "      <td>sausage links,fennel bulb,frond,olive oil,cuba...</td>\n",
       "      <td>italian</td>\n",
       "    </tr>\n",
       "    <tr>\n",
       "      <th>3</th>\n",
       "      <td>29752</td>\n",
       "      <td>[meat cuts, file powder, smoked sausage, okra,...</td>\n",
       "      <td>[meat cuts, file, smoked sausage, okra, shrimp...</td>\n",
       "      <td>meat cuts,file,smoked sausage,okra,shrimp,ando...</td>\n",
       "      <td>cajun_creole</td>\n",
       "    </tr>\n",
       "    <tr>\n",
       "      <th>4</th>\n",
       "      <td>35687</td>\n",
       "      <td>[ground black pepper, salt, sausage casings, l...</td>\n",
       "      <td>[black pepper, salt, sausage casings, leeks, p...</td>\n",
       "      <td>black pepper,salt,sausage casings,leek,parmigi...</td>\n",
       "      <td>italian</td>\n",
       "    </tr>\n",
       "    <tr>\n",
       "      <th>5</th>\n",
       "      <td>38527</td>\n",
       "      <td>[baking powder, all-purpose flour, peach slice...</td>\n",
       "      <td>[baking, all-purpose flour, peach slices, corn...</td>\n",
       "      <td>baking,all purpose flour,peach slices,corn sta...</td>\n",
       "      <td>southern_us</td>\n",
       "    </tr>\n",
       "    <tr>\n",
       "      <th>6</th>\n",
       "      <td>19666</td>\n",
       "      <td>[grape juice, orange, white zinfandel]</td>\n",
       "      <td>[grape juice, orange, white zinfandel]</td>\n",
       "      <td>grape juice,orange,white zinfandel</td>\n",
       "      <td>italian</td>\n",
       "    </tr>\n",
       "    <tr>\n",
       "      <th>7</th>\n",
       "      <td>41217</td>\n",
       "      <td>[ground ginger, white pepper, green onions, or...</td>\n",
       "      <td>[ginger, white pepper, green onions, orange ju...</td>\n",
       "      <td>ginger,white pepper,green onions,orange juice,...</td>\n",
       "      <td>chinese</td>\n",
       "    </tr>\n",
       "    <tr>\n",
       "      <th>8</th>\n",
       "      <td>28753</td>\n",
       "      <td>[diced onions, taco seasoning mix, all-purpose...</td>\n",
       "      <td>[diced onions, taco seasoning mix, all-purpose...</td>\n",
       "      <td>diced onions,taco seasoning mix,all purpose fl...</td>\n",
       "      <td>mexican</td>\n",
       "    </tr>\n",
       "    <tr>\n",
       "      <th>9</th>\n",
       "      <td>22659</td>\n",
       "      <td>[eggs, cherries, dates, dark muscovado sugar, ...</td>\n",
       "      <td>[eggs, cherries, dates, dark muscovado sugar, ...</td>\n",
       "      <td>egg,cherry,date,dark muscovado sugar,cinnamon,...</td>\n",
       "      <td>british</td>\n",
       "    </tr>\n",
       "    <tr>\n",
       "      <th>10</th>\n",
       "      <td>21749</td>\n",
       "      <td>[pasta, olive oil, crushed red pepper, cherry ...</td>\n",
       "      <td>[pasta, olive oil, red pepper, cherry tomatoes...</td>\n",
       "      <td>pasta,olive oil,red pepper,cherry tomatoes,bas...</td>\n",
       "      <td>italian</td>\n",
       "    </tr>\n",
       "    <tr>\n",
       "      <th>11</th>\n",
       "      <td>44967</td>\n",
       "      <td>[water, butter, ground sumac, ground lamb, gro...</td>\n",
       "      <td>[water, butter, sumac, lamb, cinnamon, parmesa...</td>\n",
       "      <td>water,butter,sumac,lamb,cinnamon,parmesan chee...</td>\n",
       "      <td>italian</td>\n",
       "    </tr>\n",
       "    <tr>\n",
       "      <th>12</th>\n",
       "      <td>42969</td>\n",
       "      <td>[curry powder, ground cumin, chicken wings, ch...</td>\n",
       "      <td>[curry, cumin, chicken wings, onion, ginger, g...</td>\n",
       "      <td>curry,cumin,chicken wings,onion,ginger,garlic ...</td>\n",
       "      <td>indian</td>\n",
       "    </tr>\n",
       "    <tr>\n",
       "      <th>13</th>\n",
       "      <td>44883</td>\n",
       "      <td>[pasta, marinara sauce, dried basil, chicken f...</td>\n",
       "      <td>[pasta, marinara sauce, basil, chicken fingers...</td>\n",
       "      <td>pasta,marinara sauce,basil,chicken fingers,moz...</td>\n",
       "      <td>italian</td>\n",
       "    </tr>\n",
       "    <tr>\n",
       "      <th>14</th>\n",
       "      <td>20827</td>\n",
       "      <td>[salt, custard powder, white sugar, eggs, marg...</td>\n",
       "      <td>[salt, custard, white sugar, eggs, margarine, ...</td>\n",
       "      <td>salt,custard,white sugar,egg,margarine,self ri...</td>\n",
       "      <td>southern_us</td>\n",
       "    </tr>\n",
       "    <tr>\n",
       "      <th>15</th>\n",
       "      <td>23196</td>\n",
       "      <td>[vegetable oil cooking spray, egg whites, apri...</td>\n",
       "      <td>[vegetable oil  spray, egg whites, apricot nec...</td>\n",
       "      <td>vegetable oil  spray,egg whites,apricot nectar...</td>\n",
       "      <td>french</td>\n",
       "    </tr>\n",
       "    <tr>\n",
       "      <th>16</th>\n",
       "      <td>35387</td>\n",
       "      <td>[vanilla ice cream, banana liqueur, bananas, p...</td>\n",
       "      <td>[vanilla ice cream, banana liqueur, bananas, p...</td>\n",
       "      <td>vanilla ice cream,banana liqueur,banana,pineap...</td>\n",
       "      <td>southern_us</td>\n",
       "    </tr>\n",
       "    <tr>\n",
       "      <th>17</th>\n",
       "      <td>33780</td>\n",
       "      <td>[molasses, hot sauce, baked beans, Grey Poupon...</td>\n",
       "      <td>[molasses, hot sauce, baked beans, Grey Poupon...</td>\n",
       "      <td>molasses,hot sauce,baked beans,Grey Poupon Dij...</td>\n",
       "      <td>southern_us</td>\n",
       "    </tr>\n",
       "    <tr>\n",
       "      <th>18</th>\n",
       "      <td>19001</td>\n",
       "      <td>[chopped green chilies, sour cream, cheddar ch...</td>\n",
       "      <td>[green chilies, sour cream, cheddar cheese, sa...</td>\n",
       "      <td>green chilies,sour cream,cheddar cheese,salt,w...</td>\n",
       "      <td>mexican</td>\n",
       "    </tr>\n",
       "    <tr>\n",
       "      <th>19</th>\n",
       "      <td>16526</td>\n",
       "      <td>[cold water, chicken drumsticks, chicken thigh...</td>\n",
       "      <td>[cold water, chicken drumsticks, chicken thigh...</td>\n",
       "      <td>cold water,chicken drumsticks,chicken thighs,c...</td>\n",
       "      <td>southern_us</td>\n",
       "    </tr>\n",
       "    <tr>\n",
       "      <th>20</th>\n",
       "      <td>42455</td>\n",
       "      <td>[bean threads, suet, fresh shiitake mushrooms,...</td>\n",
       "      <td>[bean threads, suet, shiitake mushrooms, firm ...</td>\n",
       "      <td>bean threads,suet,shiitake mushrooms,firm tofu...</td>\n",
       "      <td>japanese</td>\n",
       "    </tr>\n",
       "    <tr>\n",
       "      <th>21</th>\n",
       "      <td>47453</td>\n",
       "      <td>[water, ground turmeric, salt, long-grain rice...</td>\n",
       "      <td>[water, turmeric, salt, long-grain rice, butter]</td>\n",
       "      <td>water,turmeric,salt,long grain rice,butter</td>\n",
       "      <td>indian</td>\n",
       "    </tr>\n",
       "    <tr>\n",
       "      <th>22</th>\n",
       "      <td>42478</td>\n",
       "      <td>[kosher salt, bay leaves, brown lentils, parsn...</td>\n",
       "      <td>[kosher salt, bay leaves, brown lentils, parsn...</td>\n",
       "      <td>kosher salt,bay leaves,brown lentils,parsnip,s...</td>\n",
       "      <td>italian</td>\n",
       "    </tr>\n",
       "    <tr>\n",
       "      <th>23</th>\n",
       "      <td>11885</td>\n",
       "      <td>[kosher salt, vegetable oil, shrimp, herbs, nu...</td>\n",
       "      <td>[kosher salt, vegetable oil, shrimp, herbs, nu...</td>\n",
       "      <td>kosher salt,vegetable oil,shrimp,herb,nuoc cha...</td>\n",
       "      <td>vietnamese</td>\n",
       "    </tr>\n",
       "    <tr>\n",
       "      <th>24</th>\n",
       "      <td>16585</td>\n",
       "      <td>[arborio rice, olive oil, dry white wine, salt...</td>\n",
       "      <td>[arborio rice, olive oil, dry white wine, salt...</td>\n",
       "      <td>arborio rice,olive oil,dry white wine,salt,bro...</td>\n",
       "      <td>italian</td>\n",
       "    </tr>\n",
       "    <tr>\n",
       "      <th>25</th>\n",
       "      <td>29639</td>\n",
       "      <td>[granny smith apples, bay leaves, apple cider,...</td>\n",
       "      <td>[granny smith apples, bay leaves, apple cider,...</td>\n",
       "      <td>granny smith apples,bay leaves,apple cider,oni...</td>\n",
       "      <td>southern_us</td>\n",
       "    </tr>\n",
       "    <tr>\n",
       "      <th>26</th>\n",
       "      <td>26245</td>\n",
       "      <td>[fish sauce, jalapeno chilies, scallions, lemo...</td>\n",
       "      <td>[fish sauce, jalapeno chilies, scallions, lemo...</td>\n",
       "      <td>fish sauce,jalapeno chilies,scallion,lemongras...</td>\n",
       "      <td>thai</td>\n",
       "    </tr>\n",
       "    <tr>\n",
       "      <th>27</th>\n",
       "      <td>38516</td>\n",
       "      <td>[chicken wings, baking soda, rice vinegar, gar...</td>\n",
       "      <td>[chicken wings, baking soda, rice vinegar, gar...</td>\n",
       "      <td>chicken wings,baking soda,rice vinegar,garlic ...</td>\n",
       "      <td>korean</td>\n",
       "    </tr>\n",
       "    <tr>\n",
       "      <th>28</th>\n",
       "      <td>47520</td>\n",
       "      <td>[parmigiano reggiano cheese, figs, cracked bla...</td>\n",
       "      <td>[parmigiano reggiano cheese, figs, cracked bla...</td>\n",
       "      <td>parmigiano reggiano cheese,fig,cracked black p...</td>\n",
       "      <td>italian</td>\n",
       "    </tr>\n",
       "    <tr>\n",
       "      <th>29</th>\n",
       "      <td>26212</td>\n",
       "      <td>[cheese sauce, macaroni and cheese dinner, shr...</td>\n",
       "      <td>[cheese sauce, macaroni and cheese dinner, sha...</td>\n",
       "      <td>cheese sauce,macaroni and cheese dinner,sharp ...</td>\n",
       "      <td>southern_us</td>\n",
       "    </tr>\n",
       "    <tr>\n",
       "      <th>...</th>\n",
       "      <td>...</td>\n",
       "      <td>...</td>\n",
       "      <td>...</td>\n",
       "      <td>...</td>\n",
       "      <td>...</td>\n",
       "    </tr>\n",
       "    <tr>\n",
       "      <th>9914</th>\n",
       "      <td>49157</td>\n",
       "      <td>[fish sauce, lemongrass, ginger, garlic cloves...</td>\n",
       "      <td>[fish sauce, lemongrass, ginger, garlic cloves...</td>\n",
       "      <td>fish sauce,lemongrass,ginger,garlic cloves,boi...</td>\n",
       "      <td>chinese</td>\n",
       "    </tr>\n",
       "    <tr>\n",
       "      <th>9915</th>\n",
       "      <td>40847</td>\n",
       "      <td>[kosher salt, shallots, ground black pepper, f...</td>\n",
       "      <td>[kosher salt, shallots, black pepper, lemon ju...</td>\n",
       "      <td>kosher salt,shallot,black pepper,lemon juice,p...</td>\n",
       "      <td>italian</td>\n",
       "    </tr>\n",
       "    <tr>\n",
       "      <th>9916</th>\n",
       "      <td>14084</td>\n",
       "      <td>[celery ribs, lemon slices, fresh parsley, lar...</td>\n",
       "      <td>[celery ribs, lemon slices, parsley, eggs, car...</td>\n",
       "      <td>celery ribs,lemon slices,parsley,egg,carrot,wh...</td>\n",
       "      <td>southern_us</td>\n",
       "    </tr>\n",
       "    <tr>\n",
       "      <th>9917</th>\n",
       "      <td>6802</td>\n",
       "      <td>[zucchini, ground beef, water, green pepper, p...</td>\n",
       "      <td>[zucchini, beef, water, green pepper, prego tr...</td>\n",
       "      <td>zucchini,beef,water,green pepper,prego traditi...</td>\n",
       "      <td>italian</td>\n",
       "    </tr>\n",
       "    <tr>\n",
       "      <th>9918</th>\n",
       "      <td>22381</td>\n",
       "      <td>[fine salt, canola oil, unsalted butter, bakin...</td>\n",
       "      <td>[fine salt, canola oil, unsalted butter, bakin...</td>\n",
       "      <td>fine salt,canola oil,unsalted butter,baking,wh...</td>\n",
       "      <td>southern_us</td>\n",
       "    </tr>\n",
       "    <tr>\n",
       "      <th>9919</th>\n",
       "      <td>21016</td>\n",
       "      <td>[sugar, ice, sugar cane, gingerroot, lime]</td>\n",
       "      <td>[sugar, ice, sugar cane, gingerroot, lime]</td>\n",
       "      <td>sugar,ice,sugar cane,gingerroot,lime</td>\n",
       "      <td>brazilian</td>\n",
       "    </tr>\n",
       "    <tr>\n",
       "      <th>9920</th>\n",
       "      <td>29024</td>\n",
       "      <td>[manicotti shells, egg substitute, salt, itali...</td>\n",
       "      <td>[manicotti shells, egg substitute, salt, itali...</td>\n",
       "      <td>manicotti shells,egg substitute,salt,italian s...</td>\n",
       "      <td>italian</td>\n",
       "    </tr>\n",
       "    <tr>\n",
       "      <th>9921</th>\n",
       "      <td>4478</td>\n",
       "      <td>[mushroom caps, dipping sauces, red bell peppe...</td>\n",
       "      <td>[mushroom caps, dipping sauces, red bell peppe...</td>\n",
       "      <td>mushroom caps,dipping sauces,red bell pepper,b...</td>\n",
       "      <td>thai</td>\n",
       "    </tr>\n",
       "    <tr>\n",
       "      <th>9922</th>\n",
       "      <td>36711</td>\n",
       "      <td>[red lentils, crushed garlic, curry powder, cu...</td>\n",
       "      <td>[red lentils, garlic, curry, cumin seed, water...</td>\n",
       "      <td>red lentils,garlic,curry,cumin seed,water,caye...</td>\n",
       "      <td>indian</td>\n",
       "    </tr>\n",
       "    <tr>\n",
       "      <th>9923</th>\n",
       "      <td>8300</td>\n",
       "      <td>[water, cooking spray, onions, dough, dried th...</td>\n",
       "      <td>[water, spray, onions, dough, thyme, pizza sau...</td>\n",
       "      <td>water,spray,onion,dough,thyme,pizza sauce,chic...</td>\n",
       "      <td>italian</td>\n",
       "    </tr>\n",
       "    <tr>\n",
       "      <th>9924</th>\n",
       "      <td>47035</td>\n",
       "      <td>[chicken broth, salt, diced celery, diced onio...</td>\n",
       "      <td>[chicken broth, salt, diced celery, diced onio...</td>\n",
       "      <td>chicken broth,salt,diced celery,diced onions,e...</td>\n",
       "      <td>southern_us</td>\n",
       "    </tr>\n",
       "    <tr>\n",
       "      <th>9925</th>\n",
       "      <td>15596</td>\n",
       "      <td>[raspberry jam, unsalted butter, caster sugar,...</td>\n",
       "      <td>[raspberry jam, unsalted butter, caster sugar,...</td>\n",
       "      <td>raspberry jam,unsalted butter,caster sugar,egg...</td>\n",
       "      <td>british</td>\n",
       "    </tr>\n",
       "    <tr>\n",
       "      <th>9926</th>\n",
       "      <td>19902</td>\n",
       "      <td>[kosher salt, worcestershire sauce, slab bacon...</td>\n",
       "      <td>[kosher salt, worcestershire sauce, slab bacon...</td>\n",
       "      <td>kosher salt,worcestershire sauce,slab bacon,gr...</td>\n",
       "      <td>southern_us</td>\n",
       "    </tr>\n",
       "    <tr>\n",
       "      <th>9927</th>\n",
       "      <td>31242</td>\n",
       "      <td>[evaporated milk, salt, white sugar, flaked co...</td>\n",
       "      <td>[evaporated milk, salt, white sugar, flaked co...</td>\n",
       "      <td>evaporated milk,salt,white sugar,flaked coconu...</td>\n",
       "      <td>southern_us</td>\n",
       "    </tr>\n",
       "    <tr>\n",
       "      <th>9928</th>\n",
       "      <td>21117</td>\n",
       "      <td>[curry powder, baby spinach, fenugreek seeds, ...</td>\n",
       "      <td>[curry, baby spinach, fenugreek seeds, broth, ...</td>\n",
       "      <td>curry,baby spinach,fenugreek seeds,broth,koshe...</td>\n",
       "      <td>indian</td>\n",
       "    </tr>\n",
       "    <tr>\n",
       "      <th>9929</th>\n",
       "      <td>15234</td>\n",
       "      <td>[tomatoes, black pepper, ground nutmeg, heavy ...</td>\n",
       "      <td>[tomatoes, black pepper, nutmeg, heavy cream, ...</td>\n",
       "      <td>tomato,black pepper,nutmeg,heavy cream,salt,fi...</td>\n",
       "      <td>cajun_creole</td>\n",
       "    </tr>\n",
       "    <tr>\n",
       "      <th>9930</th>\n",
       "      <td>24993</td>\n",
       "      <td>[minced chicken, olive oil, carrots, sweet chi...</td>\n",
       "      <td>[chicken, olive oil, carrots, sweet chili sauc...</td>\n",
       "      <td>chicken,olive oil,carrot,sweet chili sauce,red...</td>\n",
       "      <td>chinese</td>\n",
       "    </tr>\n",
       "    <tr>\n",
       "      <th>9931</th>\n",
       "      <td>31007</td>\n",
       "      <td>[tomatoes, paprika, long-grain rice, chicken, ...</td>\n",
       "      <td>[tomatoes, paprika, long-grain rice, chicken, ...</td>\n",
       "      <td>tomato,paprika,long grain rice,chicken,olive o...</td>\n",
       "      <td>spanish</td>\n",
       "    </tr>\n",
       "    <tr>\n",
       "      <th>9932</th>\n",
       "      <td>31687</td>\n",
       "      <td>[canned black beans, corn kernels, low sodium ...</td>\n",
       "      <td>[canned black beans, corn kernels, low sodium ...</td>\n",
       "      <td>canned black beans,corn kernels,low sodium chi...</td>\n",
       "      <td>mexican</td>\n",
       "    </tr>\n",
       "    <tr>\n",
       "      <th>9933</th>\n",
       "      <td>13657</td>\n",
       "      <td>[avocado, salsa, hot pepper sauce, garlic powd...</td>\n",
       "      <td>[avocado, salsa, hot pepper sauce, garlic, salt]</td>\n",
       "      <td>avocado,salsa,hot pepper sauce,garlic,salt</td>\n",
       "      <td>mexican</td>\n",
       "    </tr>\n",
       "    <tr>\n",
       "      <th>9934</th>\n",
       "      <td>36612</td>\n",
       "      <td>[yellow squash, salt, mayonaise, butter, butte...</td>\n",
       "      <td>[yellow squash, salt, mayonaise, butter, butte...</td>\n",
       "      <td>yellow squash,salt,mayonaise,butter,butter cra...</td>\n",
       "      <td>southern_us</td>\n",
       "    </tr>\n",
       "    <tr>\n",
       "      <th>9935</th>\n",
       "      <td>14008</td>\n",
       "      <td>[chicken wings, peeled fresh ginger, soy sauce...</td>\n",
       "      <td>[chicken wings, peeled  ginger, soy sauce, sug...</td>\n",
       "      <td>chicken wings,peeled  ginger,soy sauce,sugar,t...</td>\n",
       "      <td>chinese</td>\n",
       "    </tr>\n",
       "    <tr>\n",
       "      <th>9936</th>\n",
       "      <td>32124</td>\n",
       "      <td>[sugar, salt, large egg yolks, apricot preserv...</td>\n",
       "      <td>[sugar, salt, egg yolks, apricot preserves, wa...</td>\n",
       "      <td>sugar,salt,egg yolks,apricot preserves,water,a...</td>\n",
       "      <td>french</td>\n",
       "    </tr>\n",
       "    <tr>\n",
       "      <th>9937</th>\n",
       "      <td>43570</td>\n",
       "      <td>[eggs, green onions, rice vinegar, shrimp smal...</td>\n",
       "      <td>[eggs, green onions, rice vinegar, shrimp  unc...</td>\n",
       "      <td>egg,green onions,rice vinegar,shrimp  uncook,s...</td>\n",
       "      <td>thai</td>\n",
       "    </tr>\n",
       "    <tr>\n",
       "      <th>9938</th>\n",
       "      <td>14059</td>\n",
       "      <td>[cauliflower, garlic paste, curry powder, gree...</td>\n",
       "      <td>[cauliflower, garlic paste, curry, green chili...</td>\n",
       "      <td>cauliflower,garlic paste,curry,green chilies,t...</td>\n",
       "      <td>indian</td>\n",
       "    </tr>\n",
       "    <tr>\n",
       "      <th>9939</th>\n",
       "      <td>30246</td>\n",
       "      <td>[large egg yolks, fresh lemon juice, sugar, bo...</td>\n",
       "      <td>[egg yolks, lemon juice, sugar, bourbon whiske...</td>\n",
       "      <td>egg yolks,lemon juice,sugar,bourbon whiskey,bi...</td>\n",
       "      <td>french</td>\n",
       "    </tr>\n",
       "    <tr>\n",
       "      <th>9940</th>\n",
       "      <td>36028</td>\n",
       "      <td>[hot sauce, butter, sweet potatoes, adobo sauc...</td>\n",
       "      <td>[hot sauce, butter, sweet potatoes, adobo sauc...</td>\n",
       "      <td>hot sauce,butter,sweet potatoes,adobo sauce,salt</td>\n",
       "      <td>southern_us</td>\n",
       "    </tr>\n",
       "    <tr>\n",
       "      <th>9941</th>\n",
       "      <td>22339</td>\n",
       "      <td>[black pepper, salt, parmigiano reggiano chees...</td>\n",
       "      <td>[black pepper, salt, parmigiano reggiano chees...</td>\n",
       "      <td>black pepper,salt,parmigiano reggiano cheese,r...</td>\n",
       "      <td>italian</td>\n",
       "    </tr>\n",
       "    <tr>\n",
       "      <th>9942</th>\n",
       "      <td>42525</td>\n",
       "      <td>[cheddar cheese, cayenne, paprika, plum tomato...</td>\n",
       "      <td>[cheddar cheese, cayenne, paprika, plum tomato...</td>\n",
       "      <td>cheddar cheese,cayenne,paprika,plum tomatoes,g...</td>\n",
       "      <td>southern_us</td>\n",
       "    </tr>\n",
       "    <tr>\n",
       "      <th>9943</th>\n",
       "      <td>1443</td>\n",
       "      <td>[cold water, olive oil, lime wedges, garlic cl...</td>\n",
       "      <td>[cold water, olive oil, lime wedges, garlic cl...</td>\n",
       "      <td>cold water,olive oil,lime wedges,garlic cloves...</td>\n",
       "      <td>mexican</td>\n",
       "    </tr>\n",
       "  </tbody>\n",
       "</table>\n",
       "<p>9944 rows × 5 columns</p>\n",
       "</div>"
      ],
      "text/plain": [
       "         id                                        ingredients  \\\n",
       "0     18009  [baking powder, eggs, all-purpose flour, raisi...   \n",
       "1     28583  [sugar, egg yolks, corn starch, cream of tarta...   \n",
       "2     41580  [sausage links, fennel bulb, fronds, olive oil...   \n",
       "3     29752  [meat cuts, file powder, smoked sausage, okra,...   \n",
       "4     35687  [ground black pepper, salt, sausage casings, l...   \n",
       "5     38527  [baking powder, all-purpose flour, peach slice...   \n",
       "6     19666             [grape juice, orange, white zinfandel]   \n",
       "7     41217  [ground ginger, white pepper, green onions, or...   \n",
       "8     28753  [diced onions, taco seasoning mix, all-purpose...   \n",
       "9     22659  [eggs, cherries, dates, dark muscovado sugar, ...   \n",
       "10    21749  [pasta, olive oil, crushed red pepper, cherry ...   \n",
       "11    44967  [water, butter, ground sumac, ground lamb, gro...   \n",
       "12    42969  [curry powder, ground cumin, chicken wings, ch...   \n",
       "13    44883  [pasta, marinara sauce, dried basil, chicken f...   \n",
       "14    20827  [salt, custard powder, white sugar, eggs, marg...   \n",
       "15    23196  [vegetable oil cooking spray, egg whites, apri...   \n",
       "16    35387  [vanilla ice cream, banana liqueur, bananas, p...   \n",
       "17    33780  [molasses, hot sauce, baked beans, Grey Poupon...   \n",
       "18    19001  [chopped green chilies, sour cream, cheddar ch...   \n",
       "19    16526  [cold water, chicken drumsticks, chicken thigh...   \n",
       "20    42455  [bean threads, suet, fresh shiitake mushrooms,...   \n",
       "21    47453  [water, ground turmeric, salt, long-grain rice...   \n",
       "22    42478  [kosher salt, bay leaves, brown lentils, parsn...   \n",
       "23    11885  [kosher salt, vegetable oil, shrimp, herbs, nu...   \n",
       "24    16585  [arborio rice, olive oil, dry white wine, salt...   \n",
       "25    29639  [granny smith apples, bay leaves, apple cider,...   \n",
       "26    26245  [fish sauce, jalapeno chilies, scallions, lemo...   \n",
       "27    38516  [chicken wings, baking soda, rice vinegar, gar...   \n",
       "28    47520  [parmigiano reggiano cheese, figs, cracked bla...   \n",
       "29    26212  [cheese sauce, macaroni and cheese dinner, shr...   \n",
       "...     ...                                                ...   \n",
       "9914  49157  [fish sauce, lemongrass, ginger, garlic cloves...   \n",
       "9915  40847  [kosher salt, shallots, ground black pepper, f...   \n",
       "9916  14084  [celery ribs, lemon slices, fresh parsley, lar...   \n",
       "9917   6802  [zucchini, ground beef, water, green pepper, p...   \n",
       "9918  22381  [fine salt, canola oil, unsalted butter, bakin...   \n",
       "9919  21016         [sugar, ice, sugar cane, gingerroot, lime]   \n",
       "9920  29024  [manicotti shells, egg substitute, salt, itali...   \n",
       "9921   4478  [mushroom caps, dipping sauces, red bell peppe...   \n",
       "9922  36711  [red lentils, crushed garlic, curry powder, cu...   \n",
       "9923   8300  [water, cooking spray, onions, dough, dried th...   \n",
       "9924  47035  [chicken broth, salt, diced celery, diced onio...   \n",
       "9925  15596  [raspberry jam, unsalted butter, caster sugar,...   \n",
       "9926  19902  [kosher salt, worcestershire sauce, slab bacon...   \n",
       "9927  31242  [evaporated milk, salt, white sugar, flaked co...   \n",
       "9928  21117  [curry powder, baby spinach, fenugreek seeds, ...   \n",
       "9929  15234  [tomatoes, black pepper, ground nutmeg, heavy ...   \n",
       "9930  24993  [minced chicken, olive oil, carrots, sweet chi...   \n",
       "9931  31007  [tomatoes, paprika, long-grain rice, chicken, ...   \n",
       "9932  31687  [canned black beans, corn kernels, low sodium ...   \n",
       "9933  13657  [avocado, salsa, hot pepper sauce, garlic powd...   \n",
       "9934  36612  [yellow squash, salt, mayonaise, butter, butte...   \n",
       "9935  14008  [chicken wings, peeled fresh ginger, soy sauce...   \n",
       "9936  32124  [sugar, salt, large egg yolks, apricot preserv...   \n",
       "9937  43570  [eggs, green onions, rice vinegar, shrimp smal...   \n",
       "9938  14059  [cauliflower, garlic paste, curry powder, gree...   \n",
       "9939  30246  [large egg yolks, fresh lemon juice, sugar, bo...   \n",
       "9940  36028  [hot sauce, butter, sweet potatoes, adobo sauc...   \n",
       "9941  22339  [black pepper, salt, parmigiano reggiano chees...   \n",
       "9942  42525  [cheddar cheese, cayenne, paprika, plum tomato...   \n",
       "9943   1443  [cold water, olive oil, lime wedges, garlic cl...   \n",
       "\n",
       "                                                re_list  \\\n",
       "0     [baking, eggs, all-purpose flour, raisins, mil...   \n",
       "1     [sugar, egg yolks, corn starch, cream of tarta...   \n",
       "2     [sausage links, fennel bulb, fronds, olive oil...   \n",
       "3     [meat cuts, file, smoked sausage, okra, shrimp...   \n",
       "4     [black pepper, salt, sausage casings, leeks, p...   \n",
       "5     [baking, all-purpose flour, peach slices, corn...   \n",
       "6                [grape juice, orange, white zinfandel]   \n",
       "7     [ginger, white pepper, green onions, orange ju...   \n",
       "8     [diced onions, taco seasoning mix, all-purpose...   \n",
       "9     [eggs, cherries, dates, dark muscovado sugar, ...   \n",
       "10    [pasta, olive oil, red pepper, cherry tomatoes...   \n",
       "11    [water, butter, sumac, lamb, cinnamon, parmesa...   \n",
       "12    [curry, cumin, chicken wings, onion, ginger, g...   \n",
       "13    [pasta, marinara sauce, basil, chicken fingers...   \n",
       "14    [salt, custard, white sugar, eggs, margarine, ...   \n",
       "15    [vegetable oil  spray, egg whites, apricot nec...   \n",
       "16    [vanilla ice cream, banana liqueur, bananas, p...   \n",
       "17    [molasses, hot sauce, baked beans, Grey Poupon...   \n",
       "18    [green chilies, sour cream, cheddar cheese, sa...   \n",
       "19    [cold water, chicken drumsticks, chicken thigh...   \n",
       "20    [bean threads, suet, shiitake mushrooms, firm ...   \n",
       "21     [water, turmeric, salt, long-grain rice, butter]   \n",
       "22    [kosher salt, bay leaves, brown lentils, parsn...   \n",
       "23    [kosher salt, vegetable oil, shrimp, herbs, nu...   \n",
       "24    [arborio rice, olive oil, dry white wine, salt...   \n",
       "25    [granny smith apples, bay leaves, apple cider,...   \n",
       "26    [fish sauce, jalapeno chilies, scallions, lemo...   \n",
       "27    [chicken wings, baking soda, rice vinegar, gar...   \n",
       "28    [parmigiano reggiano cheese, figs, cracked bla...   \n",
       "29    [cheese sauce, macaroni and cheese dinner, sha...   \n",
       "...                                                 ...   \n",
       "9914  [fish sauce, lemongrass, ginger, garlic cloves...   \n",
       "9915  [kosher salt, shallots, black pepper, lemon ju...   \n",
       "9916  [celery ribs, lemon slices, parsley, eggs, car...   \n",
       "9917  [zucchini, beef, water, green pepper, prego tr...   \n",
       "9918  [fine salt, canola oil, unsalted butter, bakin...   \n",
       "9919         [sugar, ice, sugar cane, gingerroot, lime]   \n",
       "9920  [manicotti shells, egg substitute, salt, itali...   \n",
       "9921  [mushroom caps, dipping sauces, red bell peppe...   \n",
       "9922  [red lentils, garlic, curry, cumin seed, water...   \n",
       "9923  [water, spray, onions, dough, thyme, pizza sau...   \n",
       "9924  [chicken broth, salt, diced celery, diced onio...   \n",
       "9925  [raspberry jam, unsalted butter, caster sugar,...   \n",
       "9926  [kosher salt, worcestershire sauce, slab bacon...   \n",
       "9927  [evaporated milk, salt, white sugar, flaked co...   \n",
       "9928  [curry, baby spinach, fenugreek seeds, broth, ...   \n",
       "9929  [tomatoes, black pepper, nutmeg, heavy cream, ...   \n",
       "9930  [chicken, olive oil, carrots, sweet chili sauc...   \n",
       "9931  [tomatoes, paprika, long-grain rice, chicken, ...   \n",
       "9932  [canned black beans, corn kernels, low sodium ...   \n",
       "9933   [avocado, salsa, hot pepper sauce, garlic, salt]   \n",
       "9934  [yellow squash, salt, mayonaise, butter, butte...   \n",
       "9935  [chicken wings, peeled  ginger, soy sauce, sug...   \n",
       "9936  [sugar, salt, egg yolks, apricot preserves, wa...   \n",
       "9937  [eggs, green onions, rice vinegar, shrimp  unc...   \n",
       "9938  [cauliflower, garlic paste, curry, green chili...   \n",
       "9939  [egg yolks, lemon juice, sugar, bourbon whiske...   \n",
       "9940  [hot sauce, butter, sweet potatoes, adobo sauc...   \n",
       "9941  [black pepper, salt, parmigiano reggiano chees...   \n",
       "9942  [cheddar cheese, cayenne, paprika, plum tomato...   \n",
       "9943  [cold water, olive oil, lime wedges, garlic cl...   \n",
       "\n",
       "                                              nltk_list       cuisine  \n",
       "0     baking,egg,all purpose flour,raisin,milk,white...   southern_us  \n",
       "1     sugar,egg yolks,corn starch,cream of tartar,ba...   southern_us  \n",
       "2     sausage links,fennel bulb,frond,olive oil,cuba...       italian  \n",
       "3     meat cuts,file,smoked sausage,okra,shrimp,ando...  cajun_creole  \n",
       "4     black pepper,salt,sausage casings,leek,parmigi...       italian  \n",
       "5     baking,all purpose flour,peach slices,corn sta...   southern_us  \n",
       "6                    grape juice,orange,white zinfandel       italian  \n",
       "7     ginger,white pepper,green onions,orange juice,...       chinese  \n",
       "8     diced onions,taco seasoning mix,all purpose fl...       mexican  \n",
       "9     egg,cherry,date,dark muscovado sugar,cinnamon,...       british  \n",
       "10    pasta,olive oil,red pepper,cherry tomatoes,bas...       italian  \n",
       "11    water,butter,sumac,lamb,cinnamon,parmesan chee...       italian  \n",
       "12    curry,cumin,chicken wings,onion,ginger,garlic ...        indian  \n",
       "13    pasta,marinara sauce,basil,chicken fingers,moz...       italian  \n",
       "14    salt,custard,white sugar,egg,margarine,self ri...   southern_us  \n",
       "15    vegetable oil  spray,egg whites,apricot nectar...        french  \n",
       "16    vanilla ice cream,banana liqueur,banana,pineap...   southern_us  \n",
       "17    molasses,hot sauce,baked beans,Grey Poupon Dij...   southern_us  \n",
       "18    green chilies,sour cream,cheddar cheese,salt,w...       mexican  \n",
       "19    cold water,chicken drumsticks,chicken thighs,c...   southern_us  \n",
       "20    bean threads,suet,shiitake mushrooms,firm tofu...      japanese  \n",
       "21           water,turmeric,salt,long grain rice,butter        indian  \n",
       "22    kosher salt,bay leaves,brown lentils,parsnip,s...       italian  \n",
       "23    kosher salt,vegetable oil,shrimp,herb,nuoc cha...    vietnamese  \n",
       "24    arborio rice,olive oil,dry white wine,salt,bro...       italian  \n",
       "25    granny smith apples,bay leaves,apple cider,oni...   southern_us  \n",
       "26    fish sauce,jalapeno chilies,scallion,lemongras...          thai  \n",
       "27    chicken wings,baking soda,rice vinegar,garlic ...        korean  \n",
       "28    parmigiano reggiano cheese,fig,cracked black p...       italian  \n",
       "29    cheese sauce,macaroni and cheese dinner,sharp ...   southern_us  \n",
       "...                                                 ...           ...  \n",
       "9914  fish sauce,lemongrass,ginger,garlic cloves,boi...       chinese  \n",
       "9915  kosher salt,shallot,black pepper,lemon juice,p...       italian  \n",
       "9916  celery ribs,lemon slices,parsley,egg,carrot,wh...   southern_us  \n",
       "9917  zucchini,beef,water,green pepper,prego traditi...       italian  \n",
       "9918  fine salt,canola oil,unsalted butter,baking,wh...   southern_us  \n",
       "9919               sugar,ice,sugar cane,gingerroot,lime     brazilian  \n",
       "9920  manicotti shells,egg substitute,salt,italian s...       italian  \n",
       "9921  mushroom caps,dipping sauces,red bell pepper,b...          thai  \n",
       "9922  red lentils,garlic,curry,cumin seed,water,caye...        indian  \n",
       "9923  water,spray,onion,dough,thyme,pizza sauce,chic...       italian  \n",
       "9924  chicken broth,salt,diced celery,diced onions,e...   southern_us  \n",
       "9925  raspberry jam,unsalted butter,caster sugar,egg...       british  \n",
       "9926  kosher salt,worcestershire sauce,slab bacon,gr...   southern_us  \n",
       "9927  evaporated milk,salt,white sugar,flaked coconu...   southern_us  \n",
       "9928  curry,baby spinach,fenugreek seeds,broth,koshe...        indian  \n",
       "9929  tomato,black pepper,nutmeg,heavy cream,salt,fi...  cajun_creole  \n",
       "9930  chicken,olive oil,carrot,sweet chili sauce,red...       chinese  \n",
       "9931  tomato,paprika,long grain rice,chicken,olive o...       spanish  \n",
       "9932  canned black beans,corn kernels,low sodium chi...       mexican  \n",
       "9933         avocado,salsa,hot pepper sauce,garlic,salt       mexican  \n",
       "9934  yellow squash,salt,mayonaise,butter,butter cra...   southern_us  \n",
       "9935  chicken wings,peeled  ginger,soy sauce,sugar,t...       chinese  \n",
       "9936  sugar,salt,egg yolks,apricot preserves,water,a...        french  \n",
       "9937  egg,green onions,rice vinegar,shrimp  uncook,s...          thai  \n",
       "9938  cauliflower,garlic paste,curry,green chilies,t...        indian  \n",
       "9939  egg yolks,lemon juice,sugar,bourbon whiskey,bi...        french  \n",
       "9940   hot sauce,butter,sweet potatoes,adobo sauce,salt   southern_us  \n",
       "9941  black pepper,salt,parmigiano reggiano cheese,r...       italian  \n",
       "9942  cheddar cheese,cayenne,paprika,plum tomatoes,g...   southern_us  \n",
       "9943  cold water,olive oil,lime wedges,garlic cloves...       mexican  \n",
       "\n",
       "[9944 rows x 5 columns]"
      ]
     },
     "execution_count": 53,
     "metadata": {},
     "output_type": "execute_result"
    }
   ],
   "source": [
    "test"
   ]
  },
  {
   "cell_type": "code",
   "execution_count": null,
   "metadata": {},
   "outputs": [],
   "source": []
  }
 ],
 "metadata": {
  "kernelspec": {
   "display_name": "Python 3",
   "language": "python",
   "name": "python3"
  },
  "language_info": {
   "codemirror_mode": {
    "name": "ipython",
    "version": 3
   },
   "file_extension": ".py",
   "mimetype": "text/x-python",
   "name": "python",
   "nbconvert_exporter": "python",
   "pygments_lexer": "ipython3",
   "version": "3.6.5"
  }
 },
 "nbformat": 4,
 "nbformat_minor": 2
}
