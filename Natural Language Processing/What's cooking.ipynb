{
 "cells": [
  {
   "cell_type": "markdown",
   "metadata": {},
   "source": [
    "## Cooking"
   ]
  },
  {
   "cell_type": "markdown",
   "metadata": {},
   "source": [
    "https://www.kaggle.com/c/whats-cooking"
   ]
  },
  {
   "cell_type": "code",
   "execution_count": 1,
   "metadata": {},
   "outputs": [
    {
     "name": "stderr",
     "output_type": "stream",
     "text": [
      "/anaconda3/lib/python3.6/site-packages/sklearn/cross_validation.py:41: DeprecationWarning: This module was deprecated in version 0.18 in favor of the model_selection module into which all the refactored classes and functions are moved. Also note that the interface of the new CV iterators are different from that of this module. This module will be removed in 0.20.\n",
      "  \"This module will be removed in 0.20.\", DeprecationWarning)\n",
      "/anaconda3/lib/python3.6/site-packages/sklearn/grid_search.py:42: DeprecationWarning: This module was deprecated in version 0.18 in favor of the model_selection module into which all the refactored classes and functions are moved. This module will be removed in 0.20.\n",
      "  DeprecationWarning)\n"
     ]
    }
   ],
   "source": [
    "import warnings\n",
    "warnings.filterwarnings('ignore') #ignore warning messages \n",
    "# Python libraries\n",
    "# Handle data\n",
    "import json\n",
    "import collections\n",
    "import re\n",
    "import random\n",
    "\n",
    "# Handle table-like data \n",
    "import numpy as np\n",
    "import pandas as pd\n",
    "\n",
    "# Model Algorithms\n",
    "from gensim.models import word2vec\n",
    "from nltk.stem import WordNetLemmatizer\n",
    "from sklearn.svm import LinearSVC\n",
    "from sklearn.feature_extraction.text import TfidfVectorizer\n",
    "from sklearn.feature_extraction.text import HashingVectorizer\n",
    "from sklearn import grid_search\n",
    "from sklearn.linear_model import LogisticRegression\n",
    "from sklearn import cross_validation\n",
    "from sklearn.ensemble import RandomForestClassifier\n",
    "from sklearn.tree import DecisionTreeClassifier\n",
    "from sklearn.naive_bayes import BernoulliNB\n",
    "from sklearn.naive_bayes import GaussianNB\n",
    "from sklearn.linear_model import SGDClassifier\n",
    "\n",
    "# Visualisation\n",
    "import matplotlib.pyplot as plt\n",
    "import matplotlib.patches as mpatches\n",
    "import seaborn as sns\n",
    "%matplotlib inline"
   ]
  },
  {
   "cell_type": "markdown",
   "metadata": {},
   "source": [
    "## 1. Data preparing"
   ]
  },
  {
   "cell_type": "code",
   "execution_count": 2,
   "metadata": {},
   "outputs": [],
   "source": [
    "train=pd.read_json('train.json')\n",
    "test=pd.read_json('test.json')\n",
    "submission=pd.read_csv('sample_submission.csv')"
   ]
  },
  {
   "cell_type": "code",
   "execution_count": 3,
   "metadata": {},
   "outputs": [
    {
     "data": {
      "text/html": [
       "<div>\n",
       "<style scoped>\n",
       "    .dataframe tbody tr th:only-of-type {\n",
       "        vertical-align: middle;\n",
       "    }\n",
       "\n",
       "    .dataframe tbody tr th {\n",
       "        vertical-align: top;\n",
       "    }\n",
       "\n",
       "    .dataframe thead th {\n",
       "        text-align: right;\n",
       "    }\n",
       "</style>\n",
       "<table border=\"1\" class=\"dataframe\">\n",
       "  <thead>\n",
       "    <tr style=\"text-align: right;\">\n",
       "      <th></th>\n",
       "      <th>cuisine</th>\n",
       "      <th>id</th>\n",
       "      <th>ingredients</th>\n",
       "    </tr>\n",
       "  </thead>\n",
       "  <tbody>\n",
       "    <tr>\n",
       "      <th>0</th>\n",
       "      <td>greek</td>\n",
       "      <td>10259</td>\n",
       "      <td>[romaine lettuce, black olives, grape tomatoes...</td>\n",
       "    </tr>\n",
       "    <tr>\n",
       "      <th>1</th>\n",
       "      <td>southern_us</td>\n",
       "      <td>25693</td>\n",
       "      <td>[plain flour, ground pepper, salt, tomatoes, g...</td>\n",
       "    </tr>\n",
       "    <tr>\n",
       "      <th>2</th>\n",
       "      <td>filipino</td>\n",
       "      <td>20130</td>\n",
       "      <td>[eggs, pepper, salt, mayonaise, cooking oil, g...</td>\n",
       "    </tr>\n",
       "    <tr>\n",
       "      <th>3</th>\n",
       "      <td>indian</td>\n",
       "      <td>22213</td>\n",
       "      <td>[water, vegetable oil, wheat, salt]</td>\n",
       "    </tr>\n",
       "    <tr>\n",
       "      <th>4</th>\n",
       "      <td>indian</td>\n",
       "      <td>13162</td>\n",
       "      <td>[black pepper, shallots, cornflour, cayenne pe...</td>\n",
       "    </tr>\n",
       "  </tbody>\n",
       "</table>\n",
       "</div>"
      ],
      "text/plain": [
       "       cuisine     id                                        ingredients\n",
       "0        greek  10259  [romaine lettuce, black olives, grape tomatoes...\n",
       "1  southern_us  25693  [plain flour, ground pepper, salt, tomatoes, g...\n",
       "2     filipino  20130  [eggs, pepper, salt, mayonaise, cooking oil, g...\n",
       "3       indian  22213                [water, vegetable oil, wheat, salt]\n",
       "4       indian  13162  [black pepper, shallots, cornflour, cayenne pe..."
      ]
     },
     "execution_count": 3,
     "metadata": {},
     "output_type": "execute_result"
    }
   ],
   "source": [
    "train.head()"
   ]
  },
  {
   "cell_type": "code",
   "execution_count": 4,
   "metadata": {},
   "outputs": [
    {
     "name": "stdout",
     "output_type": "stream",
     "text": [
      "train size: (39774, 3)\n",
      "test size: (9944, 2)\n"
     ]
    }
   ],
   "source": [
    "print('train size:',train.shape)\n",
    "print('test size:',test.shape)"
   ]
  },
  {
   "cell_type": "code",
   "execution_count": 5,
   "metadata": {},
   "outputs": [],
   "source": [
    "data=train.append(test)"
   ]
  },
  {
   "cell_type": "markdown",
   "metadata": {},
   "source": [
    "## 2. EDA"
   ]
  },
  {
   "cell_type": "code",
   "execution_count": 6,
   "metadata": {
    "scrolled": true
   },
   "outputs": [
    {
     "data": {
      "text/html": [
       "<div>\n",
       "<style scoped>\n",
       "    .dataframe tbody tr th:only-of-type {\n",
       "        vertical-align: middle;\n",
       "    }\n",
       "\n",
       "    .dataframe tbody tr th {\n",
       "        vertical-align: top;\n",
       "    }\n",
       "\n",
       "    .dataframe thead th {\n",
       "        text-align: right;\n",
       "    }\n",
       "</style>\n",
       "<table border=\"1\" class=\"dataframe\">\n",
       "  <thead>\n",
       "    <tr style=\"text-align: right;\">\n",
       "      <th></th>\n",
       "      <th>cuisine</th>\n",
       "      <th>id</th>\n",
       "      <th>ingredients</th>\n",
       "      <th>ingredients_clean_string</th>\n",
       "    </tr>\n",
       "  </thead>\n",
       "  <tbody>\n",
       "    <tr>\n",
       "      <th>0</th>\n",
       "      <td>greek</td>\n",
       "      <td>10259</td>\n",
       "      <td>[romaine lettuce, black olives, grape tomatoes...</td>\n",
       "      <td>romaine lettuce , black olives , grape tomatoe...</td>\n",
       "    </tr>\n",
       "    <tr>\n",
       "      <th>1</th>\n",
       "      <td>southern_us</td>\n",
       "      <td>25693</td>\n",
       "      <td>[plain flour, ground pepper, salt, tomatoes, g...</td>\n",
       "      <td>plain flour , ground pepper , salt , tomatoes ...</td>\n",
       "    </tr>\n",
       "    <tr>\n",
       "      <th>2</th>\n",
       "      <td>filipino</td>\n",
       "      <td>20130</td>\n",
       "      <td>[eggs, pepper, salt, mayonaise, cooking oil, g...</td>\n",
       "      <td>eggs , pepper , salt , mayonaise , cooking oil...</td>\n",
       "    </tr>\n",
       "    <tr>\n",
       "      <th>3</th>\n",
       "      <td>indian</td>\n",
       "      <td>22213</td>\n",
       "      <td>[water, vegetable oil, wheat, salt]</td>\n",
       "      <td>water , vegetable oil , wheat , salt</td>\n",
       "    </tr>\n",
       "    <tr>\n",
       "      <th>4</th>\n",
       "      <td>indian</td>\n",
       "      <td>13162</td>\n",
       "      <td>[black pepper, shallots, cornflour, cayenne pe...</td>\n",
       "      <td>black pepper , shallots , cornflour , cayenne ...</td>\n",
       "    </tr>\n",
       "  </tbody>\n",
       "</table>\n",
       "</div>"
      ],
      "text/plain": [
       "       cuisine     id                                        ingredients  \\\n",
       "0        greek  10259  [romaine lettuce, black olives, grape tomatoes...   \n",
       "1  southern_us  25693  [plain flour, ground pepper, salt, tomatoes, g...   \n",
       "2     filipino  20130  [eggs, pepper, salt, mayonaise, cooking oil, g...   \n",
       "3       indian  22213                [water, vegetable oil, wheat, salt]   \n",
       "4       indian  13162  [black pepper, shallots, cornflour, cayenne pe...   \n",
       "\n",
       "                            ingredients_clean_string  \n",
       "0  romaine lettuce , black olives , grape tomatoe...  \n",
       "1  plain flour , ground pepper , salt , tomatoes ...  \n",
       "2  eggs , pepper , salt , mayonaise , cooking oil...  \n",
       "3               water , vegetable oil , wheat , salt  \n",
       "4  black pepper , shallots , cornflour , cayenne ...  "
      ]
     },
     "execution_count": 6,
     "metadata": {},
     "output_type": "execute_result"
    }
   ],
   "source": [
    "train['ingredients_clean_string'] = [' , '.join(z).strip() for z in train['ingredients']]\n",
    "train.head()"
   ]
  },
  {
   "cell_type": "code",
   "execution_count": 7,
   "metadata": {},
   "outputs": [],
   "source": [
    "# Load the dataset\n",
    "# json format labels: cuisine, id number and ingredients (list)\n",
    "trainrecipts = json.load(open('train.json','r'))"
   ]
  },
  {
   "cell_type": "code",
   "execution_count": 8,
   "metadata": {},
   "outputs": [],
   "source": [
    "# Quick&dirty code to extract info2list\n",
    "raw_ingredients = list()\n",
    "\n",
    "for recipt in trainrecipts:\n",
    "    for ingredient in recipt[u'ingredients']:\n",
    "        raw_ingredients.append(ingredient.strip())\n",
    "        \n",
    "\n",
    "raw_cuisines = list()\n",
    "for recipt in trainrecipts:\n",
    "    raw_cuisines.append(recipt[u'cuisine'].strip())"
   ]
  },
  {
   "cell_type": "code",
   "execution_count": 9,
   "metadata": {
    "scrolled": true
   },
   "outputs": [],
   "source": [
    "# use Counter to get frequencies \n",
    "counts_ingr = collections.Counter(raw_ingredients)\n",
    "counts_cuis = collections.Counter(raw_cuisines)"
   ]
  },
  {
   "cell_type": "code",
   "execution_count": 10,
   "metadata": {
    "scrolled": true
   },
   "outputs": [
    {
     "name": "stdout",
     "output_type": "stream",
     "text": [
      "Size Ingredients dataset (with repetition):  \t428275\n",
      "Unique Ingredients dataset: \t\t\t6714\n",
      "Total # of recipts \t\t\t\t39774\n",
      "Total # of Cuisines \t\t\t\t20\n"
     ]
    }
   ],
   "source": [
    "# this will help us to have an idea how our corpora of \n",
    "# ingredients looks like\n",
    "print('Size Ingredients dataset (with repetition):  \\t{}'.format((len(raw_ingredients))))\n",
    "print('Unique Ingredients dataset: \\t\\t\\t{}'.format((len(counts_ingr.values()))))\n",
    "\n",
    "# This will provide a distribution of cusines, indirect \n",
    "# info of the ingredients\n",
    "print('Total # of recipts \\t\\t\\t\\t{}'.format(len(raw_cuisines)))\n",
    "print('Total # of Cuisines \\t\\t\\t\\t{}'.format((len(counts_cuis.values()))))"
   ]
  },
  {
   "cell_type": "code",
   "execution_count": 11,
   "metadata": {
    "scrolled": false
   },
   "outputs": [
    {
     "data": {
      "text/plain": [
       "[('italian', 7838),\n",
       " ('mexican', 6438),\n",
       " ('southern_us', 4320),\n",
       " ('indian', 3003),\n",
       " ('chinese', 2673),\n",
       " ('french', 2646),\n",
       " ('cajun_creole', 1546),\n",
       " ('thai', 1539),\n",
       " ('japanese', 1423),\n",
       " ('greek', 1175)]"
      ]
     },
     "execution_count": 11,
     "metadata": {},
     "output_type": "execute_result"
    }
   ],
   "source": [
    "# top 10\n",
    "counts_cuis.most_common(10)"
   ]
  },
  {
   "cell_type": "code",
   "execution_count": 12,
   "metadata": {
    "scrolled": false
   },
   "outputs": [
    {
     "data": {
      "text/plain": [
       "array([7838, 6438, 4320, 3003, 2673, 2646, 1546, 1539, 1423, 1175,  989,\n",
       "        830,  825,  821,  804,  755,  667,  526,  489,  467])"
      ]
     },
     "execution_count": 12,
     "metadata": {},
     "output_type": "execute_result"
    }
   ],
   "source": [
    "#也可以用pandas\n",
    "train['cuisine'].value_counts().values"
   ]
  },
  {
   "cell_type": "markdown",
   "metadata": {},
   "source": [
    "### Cuisine"
   ]
  },
  {
   "cell_type": "code",
   "execution_count": 13,
   "metadata": {
    "scrolled": true
   },
   "outputs": [
    {
     "data": {
      "image/png": "[encoded data removed]",
      "text/plain": [
       "<Figure size 432x288 with 1 Axes>"
      ]
     },
     "metadata": {},
     "output_type": "display_data"
    }
   ],
   "source": [
    "x_label= train['cuisine'].value_counts().index\n",
    "y_label= train['cuisine'].value_counts().values\n",
    "fbar = sns.barplot(x = x_label, y = y_label)\n",
    "#xlabels\n",
    "for item in fbar.get_xticklabels():\n",
    "    item.set_rotation(90)"
   ]
  },
  {
   "cell_type": "markdown",
   "metadata": {},
   "source": [
    "itlian和mexican很多，但其他都比較少，training data 偏向這個地區的資料"
   ]
  },
  {
   "cell_type": "code",
   "execution_count": 14,
   "metadata": {
    "scrolled": true
   },
   "outputs": [
    {
     "name": "stdout",
     "output_type": "stream",
     "text": [
      "1988.7\n",
      "1989.865349715905\n"
     ]
    }
   ],
   "source": [
    "# Distribution \n",
    "print(np.mean(list(counts_cuis.values())))\n",
    "print(np.std(list(counts_cuis.values())))"
   ]
  },
  {
   "cell_type": "code",
   "execution_count": 15,
   "metadata": {
    "scrolled": true
   },
   "outputs": [
    {
     "data": {
      "text/plain": [
       "20"
      ]
     },
     "execution_count": 15,
     "metadata": {},
     "output_type": "execute_result"
    }
   ],
   "source": [
    "# init a dict with a empty list\n",
    "num_ingredients = dict(zip(counts_cuis.keys(), [list() for x in counts_cuis.keys()]))\n",
    "for recipt in trainrecipts:\n",
    "    # append the number in the list\n",
    "    num_ingredients[recipt['cuisine']].append(len(recipt['ingredients']))\n",
    "\n",
    "len(num_ingredients)"
   ]
  },
  {
   "cell_type": "markdown",
   "metadata": {},
   "source": [
    "### Ingredients"
   ]
  },
  {
   "cell_type": "code",
   "execution_count": 16,
   "metadata": {
    "scrolled": true
   },
   "outputs": [
    {
     "name": "stdout",
     "output_type": "stream",
     "text": [
      "greek    \t\t10.18\n",
      "southern_us    \t\t9.63\n",
      "filipino    \t\t10.00\n",
      "indian    \t\t12.71\n",
      "jamaican    \t\t12.21\n",
      "spanish    \t\t10.42\n",
      "italian    \t\t9.91\n",
      "mexican    \t\t10.88\n",
      "chinese    \t\t11.98\n",
      "british    \t\t9.71\n",
      "thai    \t\t12.55\n",
      "vietnamese    \t\t12.68\n",
      "cajun_creole    \t\t12.62\n",
      "brazilian    \t\t9.52\n",
      "french    \t\t9.82\n",
      "japanese    \t\t9.74\n",
      "irish    \t\t9.30\n",
      "korean    \t\t11.28\n",
      "moroccan    \t\t12.91\n",
      "russian    \t\t10.22\n"
     ]
    }
   ],
   "source": [
    "for cu, frq in num_ingredients.items():\n",
    "\n",
    "    print('{}    \\t\\t{:.2f}'.format(cu, np.mean(frq)))"
   ]
  },
  {
   "cell_type": "code",
   "execution_count": 17,
   "metadata": {
    "scrolled": true
   },
   "outputs": [
    {
     "data": {
      "image/png": "[encoded data removed]",
      "text/plain": [
       "<Figure size 432x288 with 1 Axes>"
      ]
     },
     "metadata": {},
     "output_type": "display_data"
    }
   ],
   "source": [
    "x_cu = [cu for cu, frq in num_ingredients.items()]\n",
    "y_frq = [np.mean(frq) for cu, frq in num_ingredients.items()]\n",
    "err = [np.std(frq) for cu, frq in num_ingredients.items()]\n",
    "fbar = sns.barplot(x = x_cu, y = y_frq, yerr=err)\n",
    "# xlabels\n",
    "for item in fbar.get_xticklabels():\n",
    "    item.set_rotation(90)"
   ]
  },
  {
   "cell_type": "code",
   "execution_count": 18,
   "metadata": {},
   "outputs": [
    {
     "name": "stdout",
     "output_type": "stream",
     "text": [
      "63.7883526958594\n",
      "388.3270259662557\n"
     ]
    }
   ],
   "source": [
    "# Dispersion of the frequencies Ingredients\n",
    "print(np.mean(list(counts_ingr.values())))\n",
    "print(np.std(list(counts_ingr.values())))"
   ]
  },
  {
   "cell_type": "code",
   "execution_count": 19,
   "metadata": {},
   "outputs": [
    {
     "name": "stdout",
     "output_type": "stream",
     "text": [
      "4.0\n",
      "[1.0000e+00 4.0000e+00 2.0000e+01 1.8049e+04]\n"
     ]
    }
   ],
   "source": [
    "# This is to big to plot, let's check the percentiles\n",
    "print(np.median(list(counts_ingr.values())))\n",
    "print(np.percentile(list(counts_ingr.values()), [25., 50., 75., 100.]))"
   ]
  },
  {
   "cell_type": "code",
   "execution_count": 20,
   "metadata": {
    "scrolled": true
   },
   "outputs": [
    {
     "data": {
      "text/plain": [
       "[('salt', 18049),\n",
       " ('onions', 7972),\n",
       " ('olive oil', 7972),\n",
       " ('water', 7457),\n",
       " ('garlic', 7380),\n",
       " ('sugar', 6434),\n",
       " ('garlic cloves', 6237),\n",
       " ('butter', 4848),\n",
       " ('ground black pepper', 4785),\n",
       " ('all-purpose flour', 4632),\n",
       " ('pepper', 4438),\n",
       " ('vegetable oil', 4385),\n",
       " ('eggs', 3388),\n",
       " ('soy sauce', 3296),\n",
       " ('kosher salt', 3113)]"
      ]
     },
     "execution_count": 20,
     "metadata": {},
     "output_type": "execute_result"
    }
   ],
   "source": [
    "# top 15\n",
    "counts_ingr.most_common(15)"
   ]
  },
  {
   "cell_type": "code",
   "execution_count": 21,
   "metadata": {
    "scrolled": true
   },
   "outputs": [
    {
     "data": {
      "text/plain": [
       "[('tonic water', 1),\n",
       " ('Chartreuse Liqueur', 1),\n",
       " ('aloe juice', 1),\n",
       " ('salt free chili powder', 1),\n",
       " ('tofu sour cream', 1),\n",
       " ('spicy salami', 1),\n",
       " ('Honeysuckle White® Hot Italian Turkey Sausage Links', 1),\n",
       " ('chocolate extract', 1),\n",
       " ('chocolate graham crackers', 1),\n",
       " ('cumberland sausage', 1),\n",
       " ('cocktail pumpernickel bread', 1),\n",
       " ('chunky tomatoes', 1),\n",
       " (\"Colman's Mustard Powder\", 1),\n",
       " ('manouri', 1),\n",
       " ('cherry vanilla ice cream', 1),\n",
       " ('bone-in ribeye steak', 1),\n",
       " ('frozen lemonade concentrate, thawed and undiluted', 1),\n",
       " ('flowering chinese chives', 1),\n",
       " ('praline topping', 1),\n",
       " ('riblets', 1),\n",
       " ('puff paste', 1),\n",
       " ('Barilla Plus Pasta', 1),\n",
       " ('turkey giblet stock', 1),\n",
       " ('light chicken stock', 1),\n",
       " ('conchiglie', 1),\n",
       " ('2% milk shredded mozzarella cheese', 1),\n",
       " ('Makers Mark Whisky', 1),\n",
       " ('knorr pasta side   cheesi cheddar', 1),\n",
       " ('whole grain baguette', 1),\n",
       " ('reduced sodium ham', 1),\n",
       " ('whole wheat peasant bread', 1),\n",
       " ('ranch-style seasoning', 1),\n",
       " ('ketjap', 1),\n",
       " ('chocolate flavored liqueur', 1),\n",
       " ('rotini pasta, cook and drain', 1),\n",
       " ('game', 1),\n",
       " ('tongue', 1),\n",
       " ('Daiya', 1),\n",
       " ('curry mix', 1),\n",
       " ('Kraft Slim Cut Mozzarella Cheese Slices', 1),\n",
       " ('Oscar Mayer Cotto Salami', 1),\n",
       " ('Challenge Butter', 1),\n",
       " ('orange glaze', 1),\n",
       " ('cholesterol free egg substitute', 1),\n",
       " ('ciabatta loaf', 1),\n",
       " ('Lipton® Iced Tea Brew Family Size Tea Bags', 1),\n",
       " ('Hidden Valley® Greek Yogurt Original Ranch® Dip Mix', 1),\n",
       " ('lop chong', 1),\n",
       " ('tomato garlic pasta sauce', 1),\n",
       " ('crushed cheese crackers', 1)]"
      ]
     },
     "execution_count": 21,
     "metadata": {},
     "output_type": "execute_result"
    }
   ],
   "source": [
    "# Tail 50\n",
    "counts_ingr.most_common()[-50:]"
   ]
  },
  {
   "cell_type": "markdown",
   "metadata": {},
   "source": [
    "## TF-IDF"
   ]
  },
  {
   "cell_type": "code",
   "execution_count": 22,
   "metadata": {},
   "outputs": [],
   "source": [
    "train['ingredients_list'] = [' , '.join(z).strip() for z in train['ingredients']]\n",
    "ingredients = train['ingredients_list']\n",
    "from sklearn.feature_extraction.text import TfidfVectorizer\n",
    "vectorizer = TfidfVectorizer(stop_words='english')\n",
    "tfidf_matrix = vectorizer.fit_transform(ingredients).todense()"
   ]
  },
  {
   "cell_type": "code",
   "execution_count": 25,
   "metadata": {},
   "outputs": [
    {
     "name": "stdout",
     "output_type": "stream",
     "text": [
      "Bag of words:\n",
      "['00', '10', '100', '14', '15', '25', '33', '40', '43', '95', '96', 'abalone', 'abbamele', 'absinthe', 'abura', 'acai', 'accent', 'accompaniment', 'achiote', 'acid', 'acini', 'ackee', 'acorn', 'acting', 'activ', 'active', 'added', 'adobo', 'adzuki', 'agar', 'agave', 'age', 'aged', 'ahi', 'aioli', 'ajinomoto', 'ajwain', 'aka', 'alaskan', 'albacore', 'alcohol', 'ale', 'aleppo', 'alexia', 'alfalfa', 'alfredo', 'allspice', 'almond', 'almondmilk', 'almonds', 'aloe', 'alphabet', 'alum', 'amaranth', 'amarena', 'amaretti', 'amaretto', 'amba', 'amber', 'amberjack', 'amchur', 'america', 'american', 'aminos', 'ammonium', 'amontillado', 'ampalaya', 'anaheim', 'anasazi', 'ancho', 'anchovies', 'anchovy', 'andouille', 'anejo', 'angel', 'anglaise', 'angled', 'angostura', 'angus', 'anise', 'anisette', 'anjou', 'annatto', 'aonori', 'apple', 'apples', 'applesauce', 'applewood', 'apricot', 'apricots', 'aquavit', 'arak', 'arame', 'arbol', 'arborio', 'arctic', 'arepa', 'argo', 'arhar', 'armagnac', 'arrabbiata', 'arrow', 'arrowroot', 'artichok', 'artichoke', 'artichokes', 'artificial', 'artisan', 'arugula', 'asada', 'asadero', 'asafetida', 'asafoetida', 'asakusa', 'ascorbic', 'asiago', 'asian', 'asparagus', 'aspic', 'assam', 'assorted', 'asti', 'atar', 'atlantic', 'atta', 'au', 'avocado', 'avocados', 'awase', 'azteca', 'azuki', 'açai', 'baby', 'bacardi', 'bacon', 'bag', 'bagel', 'bagels', 'bags', 'baguette', 'bai', 'baileys', 'baked', 'baking', 'balance', 'balls', 'balm', 'balsamic', 'balsamico', 'bamboo', 'banana', 'bananas', 'banger', 'banh', 'baobab', 'bar', 'barbecue', 'barbecued', 'barberries', 'barilla', 'bark', 'barley', 'barolo', 'barramundi', 'bars', 'bartlett', 'basa', 'base', 'based', 'basil', 'basmati', 'bass', 'baton', 'batter', 'bawang', 'bay', 'bayonne', 'bbq', 'bean', 'beans', 'beansprouts', 'bear', 'beaten', 'beaters', 'beau', 'beaujolais', 'bechamel', 'bee', 'beech', 'beef', 'beefsteak', 'beer', 'beet', 'beetroot', 'beets', 'belacan', 'belgian', 'believ', 'believe', 'bell', 'bellpepper', 'bells', 'belly', 'beluga', 'ben', 'bengal', 'bengali', 'beni', 'benne', 'bens', 'bermuda', 'berries', 'bertolli', 'besan', 'best', 'better', 'betty', 'beurre', 'beverage', 'beverages', 'bhaji', 'bhindi', 'bianco', 'bibb', 'bicarbonate', 'big', 'biga', 'bigoli', 'bihon', 'bing', 'bird', 'biryani', 'biscotti', 'biscuit', 'biscuits', 'bison', 'bisquick', 'bits', 'bitter', 'bitters', 'bittersweet', 'blacan', 'black', 'blackberries', 'blackberry', 'blackcurrant', 'blackened', 'blackening', 'blackpepper', 'blackstrap', 'blade', 'blanc', 'blanched', 'blanco', 'blend', 'blends', 'bliss', 'block', 'blood', 'bloody', 'blossom', 'blossoms', 'blue', 'blueberri', 'blueberries', 'blueberry', 'boar', 'bob', 'bocconcini', 'bock', 'boil', 'boiled', 'boiling', 'bok', 'bolillo', 'bologna', 'bone', 'boned', 'boneless', 'bones', 'bonito', 'bonnet', 'boquerones', 'borage', 'bordelaise', 'borlotti', 'bosc', 'boston', 'bottle', 'bottled', 'bottoms', 'boudin', 'bought', 'bouillon', 'bouquet', 'bourbon', 'boursin', 'bow', 'bows', 'boy', 'boysenberries', 'braeburn', 'bragg', 'braggs', 'braising', 'bran', 'branca', 'brand', 'brandy', 'branston', 'branzino', 'brats', 'bratwurst', 'brazil', 'bread', 'breadcrumb', 'breadcrumbs', 'breader', 'breadfruit', 'breadstick', 'breakfast', 'breakstone', 'bream', 'breast', 'breasts', 'bresaola', 'brew', 'brewed', 'breyers', 'brie', 'brien', 'brill', 'brine', 'brioche', 'brisket', 'brisée', 'brittle', 'broad', 'broccoli', 'broccolini', 'broil', 'broiler', 'broth', 'brown', 'brownie', 'brownies', 'browning', 'browns', 'brussels', 'bucatini', 'buckwheat', 'buds', 'budweiser', 'buffalo', 'bulb', 'bulgur', 'bulk', 'bun', 'buns', 'burdock', 'burger', 'burgers', 'burgundi', 'burgundy', 'burrata', 'burrito', 'burro', 'bushi', 'butt', 'butter', 'buttercream', 'buttercup', 'butterflied', 'buttermilk', 'butternut', 'butterscotch', 'buttery', 'button', 'bâtarde', 'bénédictine', 'cabbage', 'cabernet', 'cabrales', 'cacao', 'cachaca', 'caciocavallo', 'cactus', 'caesar', 'cai', 'cajeta', 'cajun', 'cake', 'cakes', 'calabash', 'calabaza', 'calabrese', 'calamansi', 'calamari', 'calamata', 'calcium', 'calf', 'california', 'calimyrna', 'callaloo', 'calorie', 'calvados', 'camellia', 'camembert', 'campanelle', 'campari', 'campbell', 'canadian', 'candied', 'candlenuts', 'candy', 'cane', 'canela', 'canes', 'canned', 'cannellini', 'cannelloni', 'canning', 'cannoli', 'canola', 'cantal', 'cantaloupe', 'canton', 'capellini', 'caper', 'capers', 'capicola', 'capocollo', 'capon', 'caponata', 'cappuccino', 'caps', 'capsicum', 'cara', 'carambola', 'caramel', 'caramels', 'caraway', 'carbonated', 'carcass', 'cardamom', 'cardamon', 'cardoons', 'caribbean', 'carnaroli', 'carnation', 'carne', 'carnitas', 'carp', 'carpaccio', 'carrot', 'carrots', 'casa', 'cascabel', 'casera', 'cashew', 'cashews', 'casing', 'casings', 'cassava', 'cassia', 'cassis', 'castellane', 'castelvetrano', 'caster', 'catalina', 'catfish', 'catsup', 'caul', 'cauliflower', 'cauliflowerets', 'cava', 'cavatappi', 'cavatelli', 'cavenders', 'caviar', 'cavolo', 'cayenne', 'ceci', 'celery', 'celtic', 'center', 'century', 'cereal', 'ceylon', 'chaat', 'chachere', 'chai', 'challa', 'challenge', 'cham', 'chambord', 'champagne', 'chana', 'chang', 'channa', 'chanterelle', 'chapati', 'chapatti', 'char', 'chard', 'chardonnay', 'chartreuse', 'chat', 'chateaubriand', 'chayotes', 'cheddar', 'chee', 'cheek', 'cheeks', 'chees', 'cheese', 'cheesi', 'chenpi', 'cheong', 'cherries', 'cherry', 'cherrystone', 'chervil', 'chestnut', 'chestnuts', 'chevre', 'chia', 'chianti', 'chicharron', 'chicken', 'chickens', 'chickpea', 'chickpeas', 'chicory', 'chiffonade', 'chihuahua', 'chik', 'chilcostle', 'chile', 'chilean', 'chilegarlic', 'chiles', 'chili', 'chilies', 'chilled', 'chilli', 'chillies', 'chiltepín', 'chimichurri', 'chinese', 'chinkiang', 'chioggia', 'chip', 'chipotl', 'chipotle', 'chipotles', 'chipped', 'chips', 'chitterlings', 'chive', 'chives', 'cho', 'chocolate', 'chocolatecovered', 'choi', 'cholesterol', 'cholula', 'chong', 'chop', 'chopmeat', 'chopped', 'chops', 'chorizo', 'chourico', 'chow', 'chowchow', 'choy', 'chrysanthemum', 'chua', 'chuck', 'chuka', 'chunk', 'chunks', 'chunky', 'chuno', 'chutney', 'chèvre', 'ciabatta', 'cider', 'cilantro', 'cinnamon', 'cipollini', 'citric', 'citron', 'citrus', 'clam', 'clamato', 'clams', 'clarified', 'classic', 'classico', 'claws', 'clear', 'clementine', 'clementines', 'clotted', 'cloud', 'clove', 'clover', 'cloves', 'club', 'coars', 'coarse', 'cob', 'coca', 'cockles', 'cocktail', 'coco', 'cocoa', 'coconut', 'cod', 'codfish', 'coffee', 'cognac', 'cointreau', 'coke', 'cola', 'colada', 'colby', 'cold', 'cole', 'coleslaw', 'collard', 'collards', 'collect', 'colman', 'color', 'colorado', 'coloring', 'colouring', 'comfort', 'comice', 'comino', 'compote', 'compressed', 'concentrate', 'conch', 'conchiglie', 'condensed', 'condiments', 'cones', 'confectioners', 'confit', 'conger', 'conimex', 'consomme', 'convert', 'converted', 'cook', 'cooked', 'cooki', 'cookie', 'cookies', 'cooking', 'cool', 'cordial', 'coriander', 'corkscrew', 'corn', 'cornbread', 'corned', 'cornflake', 'cornflakes', 'cornflour', 'cornhusks', 'cornichons', 'cornish', 'cornmeal', 'cornstarch', 'cortland', 'cotija', 'cottage', 'cotto', 'coulis', 'country', 'couscous', 'covered', 'cox', 'crab', 'crabapples', 'crabmeat', 'crabs', 'cracked', 'cracker', 'crackers', 'cranberries', 'cranberry', 'crawfish', 'crawford', 'crayfish', 'cream', 'creamed', 'creamer', 'creami', 'creamy', 'creations', 'crema', 'creme', 'cremini', 'creole', 'crepes', 'crescent', 'cress', 'crimini', 'crisco', 'crisp', 'crisps', 'crispy', 'crock', 'crocker', 'croissant', 'croissants', 'crookneck', 'cross', 'crosswise', 'crostini', 'crouton', 'croutons', 'crumb', 'crumbled', 'crumbles', 'crumbs', 'crumpet', 'crunch', 'crush', 'crushed', 'crust', 'crusts', 'crusty', 'crystal', 'crystallized', 'crème', 'cuban', 'cube', 'cubed', 'cubes', 'cucumber', 'cucumbers', 'cucuzza', 'cuervo', 'cuisine', 'culantro', 'culinary', 'cultured', 'cumberland', 'cumin', 'cuminseed', 'cummin', 'cups', 'curaçao', 'curd', 'curds', 'cured', 'curing', 'curls', 'curly', 'currant', 'currants', 'curry', 'custard', 'cut', 'cutlet', 'cutlets', 'cuts', 'cuttlefish', 'daal', 'daikon', 'dairy', 'daisy', 'daiya', 'dal', 'dandelion', 'dangmyun', 'daniels', 'darjeeling', 'dark', 'dash', 'dasheen', 'dashi', 'date', 'dates', 'day', 'dean', 'decorating', 'deep', 'delallo', 'deli', 'delicata', 'delicious', 'demerara', 'demi', 'dende', 'despelette', 'dessert', 'devein', 'deveined', 'devil', 'deviled', 'dew', 'dhal', 'dhaniya', 'di', 'diamond', 'diced', 'dickel', 'diet', 'digestive', 'dijon', 'dijonnaise', 'dill', 'dillweed', 'dinner', 'dinosaur', 'dip', 'dipping', 'dips', 'disco', 'dish', 'distilled', 'ditalini', 'doenzang', 'dog', 'dogs', 'dolce', 'dole', 'domino', 'doritos', 'doubanjiang', 'doubl', 'double', 'dough', 'doughs', 'dr', 'dragees', 'dragon', 'drain', 'drained', 'drambuie', 'dress', 'dressing', 'dri', 'dried', 'drink', 'drippings', 'drum', 'drummettes', 'drumstick', 'drumsticks', 'dry', 'du', 'duck', 'ducklings', 'dukkah', 'dulce', 'dulong', 'dumpling', 'dumplings', 'dungeness', 'durum', 'dusting', 'dutch', 'duxelles', 'ear', 'earl', 'ears', 'earth', 'eating', 'eau', 'edam', 'edamame', 'edible', 'eel', 'egg', 'eggland', 'eggnog', 'eggplant', 'eggplants', 'eggroll', 'eggs', 'el', 'elbow', 'elderflower', 'elmlea', 'emerils', 'emmenthal', 'empanada', 'enchilada', 'endive', 'energy', 'english', 'enokitake', 'enriched', 'epazote', 'equal', 'erythritol', 'escalopes', 'escargot', 'escarole', 'espelette', 'espresso', 'essence', 'estancia', 'european', 'evans', 'evapor', 'evaporated', 'everglades', 'extra', 'extract', 'eye', 'eyed', 'fajita', 'falafel', 'family', 'farfalline', 'farina', 'farm', 'farmer', 'farmhouse', 'farms', 'farofa', 'farro', 'fashioned', 'fast', 'fat', 'fatback', 'fatfre', 'fatfree', 'fats', 'fava', 'fed', 'fedelini', 'feet', 'fennel', 'fenugreek', 'fermented', 'fern', 'ferns', 'feta', 'fettuccine', 'fettuccini', 'fettucine', 'fiber', 'ficelle', 'fiddlehead', 'fideos', 'field', 'fiesta', 'fig', 'figs', 'file', 'filet', 'filets', 'filipino', 'filled', 'fillet', 'fillets', 'filling', 'filo', 'filé', 'fine', 'finely', 'fines', 'finger', 'fingerling', 'fingers', 'fino', 'firm', 'firmly', 'fish', 'fishcake', 'fisher', 'flageolet', 'flake', 'flaked', 'flakes', 'flan', 'flank', 'flanken', 'flat', 'flatbread', 'flavor', 'flavored', 'flavoring', 'flax', 'flaxseed', 'fleshed', 'fleur', 'flora', 'florets', 'flounder', 'flour', 'flower', 'flowerets', 'flowering', 'flowers', 'fluff', 'focaccia', 'foccacia', 'foie', 'fondant', 'fontina', 'food', 'foods', 'forest', 'foster', 'fowl', 'framboise', 'frangelico', 'frangipane', 'frank', 'frankfurters', 'franks', 'fraîche', 'free', 'freeze', 'fregola', 'french', 'fresca', 'fresco', 'fresh', 'freshly', 'fresno', 'fri', 'fried', 'fries', 'frisee', 'friselle', 'fritos', 'frogs', 'fromage', 'fronds', 'frosting', 'frostings', 'frozen', 'fructose', 'fruit', 'fruitcake', 'fruits', 'fry', 'fryer', 'fryers', 'frying', 'fu', 'fudge', 'fuji', 'fully', 'fume', 'fungus', 'furikake', 'fusilli', 'fuyu', 'gaeta', 'gai', 'gala', 'galanga', 'galangal', 'galliano', 'gallo', 'game', 'ganache', 'gao', 'garam', 'garbanzo', 'garbanzos', 'garbonzo', 'garden', 'gari', 'garland', 'garlic', 'garni', 'garnish', 'gebhardt', 'gel', 'gelatin', 'gelato', 'gem', 'gember', 'gemelli', 'genmai', 'genoa', 'genoise', 'george', 'germ', 'germain', 'german', 'ghee', 'gherkin', 'gherkins', 'giant', 'giardiniera', 'giblet', 'gin', 'ginger', 'gingerroot', 'gingersnap', 'ginkgo', 'ginseng', 'gizzards', 'glace', 'glacés', 'glass', 'glaze', 'glazed', 'globe', 'glucose', 'gluten', 'glutinous', 'gnocchetti', 'gnocchi', 'goat', 'gobo', 'gochugaru', 'gochujang', 'godiva', 'goji', 'gold', 'golden', 'goma', 'gomashio', 'good', 'goose', 'gooseberries', 'goreng', 'gorgonzola', 'gouda', 'gourd', 'gourmet', 'goya', 'grade', 'graham', 'grain', 'grained', 'gram', 'gran', 'grana', 'granary', 'grand', 'granita', 'granny', 'granola', 'granular', 'granulated', 'granules', 'grape', 'grapefruit', 'grapes', 'grapeseed', 'grappa', 'gras', 'grass', 'grassfed', 'grate', 'grated', 'grating', 'gravenstein', 'graviera', 'gravlax', 'gravy', 'gray', 'grease', 'great', 'greater', 'greek', 'greekstyl', 'green', 'greens', 'gremolata', 'grenadine', 'grey', 'grigio', 'grill', 'grilled', 'grilling', 'grind', 'grissini', 'grit', 'grits', 'groats', 'ground', 'groundnut', 'grouper', 'gruyere', 'gruyère', 'guacamol', 'guacamole', 'guajillo', 'guanabana', 'guanciale', 'guava', 'guinea', 'guinness', 'gum', 'gumbo', 'guy', 'gyoza', 'haas', 'habanero', 'habas', 'hachiya', 'haddock', 'hair', 'hake', 'hakusai', 'half', 'halibut', 'halloumi', 'haloumi', 'halves', 'ham', 'hamachi', 'hamburger', 'hand', 'hanger', 'hanh', 'hanout', 'hard', 'haricot', 'haricots', 'harina', 'harissa', 'harusame', 'harvest', 'hash', 'hass', 'hatch', 'hatcho', 'havarti', 'hawaiian', 'hazelnut', 'hazelnuts', 'head', 'heads', 'heart', 'hearts', 'heath', 'heavy', 'heeng', 'heinz', 'heirloom', 'helix', 'hellmann', 'hellmannâ', 'hemp', 'hen', 'hens', 'herb', 'herbed', 'herbes', 'herbs', 'herbsaint', 'herdez', 'hero', 'herring', 'hibiscus', 'hickory', 'hidden', 'hierba', 'high', 'hijiki', 'hillshire', 'himalayan', 'hing', 'hip', 'hoagi', 'hoagie', 'hock', 'hocks', 'hog', 'hogue', 'hoi', 'hoisin', 'hoja', 'holland', 'hollandaise', 'holy', 'home', 'homemade', 'homestyl', 'hominy', 'honey', 'honeycomb', 'honeydew', 'honeysuckle', 'hong', 'hoop', 'hops', 'horseradish', 'hot', 'hothouse', 'hots', 'house', 'hsing', 'hubbard', 'huckleberries', 'huitlacoche', 'hummus', 'hungarian', 'hurst', 'husks', 'hyssop', 'ibarra', 'ic', 'ice', 'iceberg', 'iced', 'icing', 'idaho', 'idli', 'ikura', 'imitation', 'imo', 'imperial', 'inch', 'india', 'indian', 'instant', 'iodized', 'irish', 'iron', 'island', 'islands', 'italian', 'jack', 'jackfruit', 'jagermeister', 'jaggery', 'jalape', 'jalapeno', 'jalapenos', 'jam', 'jamaica', 'jamaican', 'jambalaya', 'jambon', 'jameson', 'jamon', 'japanese', 'jarlsberg', 'jarred', 'jasmine', 'jeera', 'jell', 'jelli', 'jello', 'jelly', 'jerk', 'jerky', 'jerusalem', 'jicama', 'jif', 'jiffy', 'jimmies', 'jimmy', 'johnsonville', 'jonshonville', 'jose', 'jowl', 'juice', 'jujube', 'jujubes', 'jumbo', 'juniper', 'jus', 'kabocha', 'kabuli', 'kaffir', 'kahlua', 'kahlúa', 'kaiser', 'kalamansi', 'kalamata', 'kale', 'kalonji', 'kamaboko', 'kampyo', 'kamut', 'kangkong', 'kappa', 'karashi', 'karo', 'kasha', 'kashmiri', 'kasseri', 'kasu', 'kasuri', 'katakuriko', 'katsuo', 'kecap', 'keema', 'kefalotiri', 'kefalotyri', 'kefir', 'kelp', 'kernel', 'kernels', 'kerrygold', 'ketchup', 'ketjap', 'kewpie', 'kewra', 'key', 'kha', 'khoa', 'kidnei', 'kidney', 'kidneys', 'kielbasa', 'kikkoman', 'kim', 'kimchi', 'kinchay', 'king', 'kingfish', 'kippered', 'kippers', 'kirby', 'kirsch', 'kirschenliqueur', 'kirschwasser', 'kisses', 'kitchen', 'kiwi', 'kiwifruit', 'klondike', 'knoblauch', 'knockwurst', 'knoflook', 'knorr', 'knox', 'knuckle', 'knudsen', 'kochu', 'kochujang', 'kohlrabi', 'kokum', 'komatsuna', 'kombu', 'konbu', 'kong', 'konnyaku', 'korean', 'korma', 'kosher', 'kraft', 'krispies', 'kroger', 'kumquats', 'kung', 'la', 'lacinato', 'lady', 'ladyfingers', 'ladys', 'lager', 'lakes', 'laksa', 'lamb', 'lambic', 'lambrusco', 'lambs', 'lan', 'land', 'langoustines', 'lap', 'lapsang', 'lard', 'lardons', 'large', 'lasagna', 'lasagne', 'laurel', 'lavash', 'lavender', 'layer', 'lb', 'lea', 'leaf', 'leafy', 'lean', 'leav', 'leaves', 'leche', 'lecithin', 'leek', 'leeks', 'leftover', 'leg', 'legs', 'legumes', 'lemon', 'lemonade', 'lemongrass', 'lentil', 'lentilles', 'lentils', 'lesser', 'lettuc', 'lettuce', 'lettuces', 'levain', 'licor', 'licorice', 'light', 'lillet', 'lily', 'lima', 'lime', 'limeade', 'limoncello', 'lingcod', 'linguica', 'linguine', 'linguini', 'linguisa', 'links', 'lipton', 'liqueur', 'liquid', 'liquor', 'liquorice', 'lite', 'littleneck', 'liver', 'livers', 'liverwurst', 'lo', 'loaf', 'loaves', 'lobster', 'lobsters', 'loin', 'london', 'long', 'longan', 'longaniza', 'loofah', 'loose', 'loosely', 'lop', 'lotus', 'louisiana', 'low', 'lower', 'lowfat', 'lowsodium', 'lox', 'luke', 'lump', 'lumpia', 'luncheon', 'lychees', 'maca', 'macadamia', 'macaroni', 'macarons', 'mace', 'machine', 'mackerel', 'madagascar', 'madeira', 'madeleine', 'madras', 'mae', 'maggi', 'magret', 'mahi', 'mahimahi', 'mahlab', 'maida', 'maifun', 'maitake', 'makers', 'maldon', 'malt', 'malted', 'maltose', 'mam', 'manchego', 'mandarin', 'mango', 'manicotti', 'manioc', 'manis', 'manischewitz', 'manié', 'manouri', 'mantou', 'manzanilla', 'maple', 'maraschino', 'marble', 'marcona', 'margarine', 'margarita', 'margherita', 'marin', 'marinade', 'marinara', 'marjoram', 'mark', 'marmalade', 'marmite', 'marnier', 'marrons', 'marrow', 'marsala', 'marshmallow', 'marshmallows', 'martha', 'mary', 'marzano', 'marzipan', 'masa', 'masago', 'masala', 'mascarpone', 'mashed', 'masoor', 'massaman', 'massey', 'master', 'masur', 'matcha', 'matsutake', 'mature', 'matzo', 'matzos', 'maui', 'mayer', 'mayonaise', 'mayonnais', 'mayonnaise', 'mazola', 'mccormick', 'mcintosh', 'meal', 'meat', 'meatballs', 'meatloaf', 'meats', 'medal', 'medallions', 'medium', 'medjool', 'mein', 'melba', 'melissa', 'mellow', 'melon', 'melted', 'membrillo', 'menta', 'mentaiko', 'menthe', 'mentsuyu', 'merguez', 'meringue', 'merlot', 'merluza', 'mesclun', 'mesquite', 'methi', 'mex', 'mexican', 'mexicana', 'mexico', 'mexicorn', 'meyer', 'mezcal', 'mezzetta', 'mi', 'mian', 'microgreens', 'mie', 'mignon', 'mild', 'milk', 'milkfat', 'milkfish', 'millet', 'min', 'mince', 'minced', 'mincemeat', 'mineral', 'mini', 'miniature', 'minicub', 'minicubes', 'mint', 'minute', 'miracle', 'mirin', 'mirlitons', 'miso', 'mission', 'miswa', 'mitsuba', 'mix', 'mixed', 'mixers', 'mixture', 'mizkan', 'mizuna', 'mo', 'mochi', 'mochiko', 'moisture', 'mojo', 'molasses', 'mole', 'mondavi', 'monde', 'monkfish', 'monterey', 'montreal', 'mooli', 'moong', 'moonshine', 'moose', 'mora', 'morcilla', 'morel', 'moroccan', 'morsels', 'mortadella', 'morton', 'moss', 'mostaccioli', 'mostarda', 'moulard', 'mountain', 'mousse', 'mozarella', 'mozzarella', 'mrs', 'ms', 'msg', 'muenster', 'muesli', 'muffin', 'muffins', 'mulato', 'mullet', 'multi', 'multigrain', 'mung', 'muscadet', 'muscadine', 'muscat', 'muscavado', 'muscovado', 'muscovy', 'mushroom', 'mushrooms', 'mussels', 'mustard', 'mutton', 'myzithra', 'naan', 'nacho', 'nakano', 'nam', 'nama', 'napa', 'nappa', 'nashi', 'natto', 'natural', 'navel', 'navy', 'neapolitan', 'neck', 'nectar', 'nectarines', 'needles', 'neem', 'negi', 'negro', 'nero', 'nestle', 'nests', 'nettle', 'neufchâtel', 'neutral', 'new', 'ngo', 'nian', 'niblets', 'nibs', 'nido', 'nielsen', 'nigari', 'nigella', 'nilla', 'niçoise', 'noir', 'non', 'nondairy', 'nonfat', 'nonhydrogenated', 'nonpareils', 'nonstick', 'noodl', 'noodle', 'noodles', 'nopales', 'nopalitos', 'nori', 'northern', 'nugget', 'nuggets', 'nuoc', 'nut', 'nutella', 'nutmeg', 'nutmegs', 'nutritional', 'nuts', 'oat', 'oatmeal', 'oats', 'ocean', 'octopuses', 'ogura', 'oigatsuo', 'oil', 'okra', 'old', 'olek', 'oleo', 'olie', 'oliv', 'olive', 'olives', 'oloroso', 'onion', 'onions', 'opo', 'orang', 'orange', 'oranges', 'orchid', 'orecchiette', 'oregano', 'oreo', 'organic', 'orgeat', 'oriental', 'original', 'originals', 'ornamental', 'ortega', 'orzo', 'oscar', 'osetra', 'ounc', 'ouzo', 'oven', 'ox', 'oxtails', 'oyster', 'oysters', 'oz', 'paccheri', 'pace', 'pack', 'packed', 'pad', 'padano', 'paddles', 'paddy', 'padron', 'paella', 'pain', 'pak', 'pale', 'palm', 'pam', 'pan', 'panang', 'pancake', 'pancakes', 'pancetta', 'panch', 'pancit', 'pandan', 'pandanus', 'pane', 'paneer', 'panela', 'panetini', 'panettone', 'pangasius', 'panko', 'pansies', 'pao', 'papad', 'papalo', 'papaya', 'paper', 'pappadams', 'pappardelle', 'paprika', 'paratha', 'parboiled', 'pareve', 'parma', 'parmagiano', 'parmesan', 'parmigiana', 'parmigiano', 'parslei', 'parsley', 'parsnips', 'parts', 'pasilla', 'paso', 'passata', 'passion', 'passover', 'pasta', 'paste', 'pastina', 'pastis', 'pastry', 'pat', 'pate', 'patis', 'patties', 'pattypan', 'pea', 'peach', 'peaches', 'peanut', 'peanuts', 'peapods', 'pear', 'pearl', 'pearled', 'pearls', 'pears', 'peas', 'peasant', 'pecan', 'pecans', 'pecorino', 'pectin', 'peel', 'peeled', 'pekin', 'pekoe', 'penn', 'penne', 'pepe', 'peperoncini', 'peperoncino', 'pepitas', 'peppadews', 'pepper', 'peppercorn', 'peppercorns', 'peppered', 'pepperidge', 'peppermint', 'pepperocini', 'pepperoncini', 'pepperoni', 'peppers', 'perch', 'perciatelli', 'perilla', 'pernod', 'perrins', 'persian', 'persimmon', 'persimmons', 'pesto', 'petals', 'pete', 'petit', 'petite', 'petits', 'petrale', 'pheasant', 'philadelphia', 'pho', 'phoran', 'phyllo', 'picante', 'piccolini', 'picholine', 'pickapeppa', 'pickle', 'pickled', 'pickles', 'pickling', 'picnic', 'pico', 'pie', 'piece', 'pieces', 'piecrust', 'piecrusts', 'pierogi', 'pies', 'pig', 'pigeon', 'pignolis', 'pike', 'pilaf', 'pillsbury', 'piloncillo', 'pilsner', 'piment', 'pimento', 'pimenton', 'pimentos', 'pina', 'pine', 'pineapple', 'pineapples', 'pinenuts', 'pinhead', 'pink', 'pinot', 'pinto', 'pippin', 'piquillo', 'piquin', 'piri', 'pisco', 'pistachio', 'pistachios', 'pistou', 'pit', 'pita', 'pitas', 'pitted', 'pizza', 'pla', 'plain', 'plantains', 'ploy', 'plum', 'plums', 'plus', 'poblano', 'pocket', 'pockets', 'pod', 'pods', 'poha', 'poi', 'pointed', 'points', 'poire', 'pois', 'polenta', 'polish', 'pollen', 'pollock', 'pomegranate', 'pomelo', 'pompano', 'pompeian', 'ponzu', 'poolish', 'pop', 'popcorn', 'poppadoms', 'popped', 'poppy', 'poppyseeds', 'porcini', 'pork', 'porridge', 'port', 'portabello', 'porter', 'porterhouse', 'portobello', 'portuguese', 'posole', 'pot', 'potato', 'potatoes', 'pots', 'potsticker', 'poultry', 'pound', 'poundcake', 'poured', 'poussins', 'powder', 'powdered', 'pozole', 'praline', 'prawn', 'prawns', 'prebaked', 'precooked', 'prego', 'premium', 'prepar', 'prepared', 'preserv', 'preserved', 'preserves', 'preshred', 'pressed', 'pretzels', 'prik', 'primavera', 'prime', 'pro', 'process', 'processed', 'progresso', 'promise', 'prosciutto', 'proscuitto', 'prosecco', 'protein', 'provence', 'provolone', 'prune', 'prunes', 'psyllium', 'pudding', 'puff', 'puffed', 'puffs', 'pullman', 'pulp', 'pummelo', 'pumpernickel', 'pumpkin', 'pumpkinseed', 'pumpkinseeds', 'pure', 'puree', 'purple', 'purpos', 'purpose', 'purée', 'puy', 'pâte', 'pâté', 'qua', 'quahog', 'quail', 'quarters', 'quatre', 'queso', 'quick', 'quickcooking', 'quince', 'quinces', 'quinoa', 'quorn', 'rabbit', 'rabe', 'rack', 'racks', 'raclette', 'radicchio', 'radish', 'radishes', 'ragu', 'rainbow', 'raisin', 'raising', 'raisins', 'raita', 'rajma', 'raki', 'ramen', 'ramps', 'ranch', 'range', 'rape', 'rapeseed', 'rapid', 'ras', 'rashers', 'raspberri', 'raspberries', 'raspberry', 'ratatouille', 'ravioli', 'ravva', 'raw', 'razor', 'ready', 'real', 'reblochon', 'recip', 'recipe', 'red', 'redcurrant', 'redfish', 'redhot', 'reduc', 'reduced', 'reduction', 'refined', 'refried', 'refrigerated', 'reggiano', 'regular', 'relish', 'remoulade', 'rendered', 'rennet', 'reposado', 'rhubarb', 'rib', 'ribeye', 'riblets', 'ribs', 'ricard', 'rice', 'rich', 'ricotta', 'riesling', 'rigate', 'rigatoni', 'rind', 'rings', 'rins', 'rioja', 'ripe', 'ripened', 'rise', 'rising', 'riso', 'risotto', 'ritz', 'ro', 'road', 'roast', 'roasted', 'roasting', 'robert', 'robiola', 'robusto', 'rock', 'rocket', 'rockfish', 'roe', 'roll', 'rolled', 'rolls', 'roma', 'romain', 'romaine', 'romana', 'romanesco', 'romano', 'rome', 'rooster', 'root', 'roots', 'roquefort', 'rosa', 'rose', 'rosemari', 'rosemary', 'rosewater', 'rosé', 'rotel', 'rotelle', 'roti', 'rotini', 'rotisserie', 'roughy', 'rouille', 'round', 'rounds', 'roux', 'royal', 'rub', 'rubbed', 'ruby', 'rum', 'rump', 'runny', 'rusk', 'russet', 'russian', 'rustic', 'rutabaga', 'rye', 'saba', 'sablefish', 'sack', 'safflower', 'saffron', 'sage', 'sago', 'saigon', 'sake', 'saki', 'salad', 'salami', 'salata', 'salmon', 'salsa', 'salsify', 'salt', 'salted', 'saltine', 'saltines', 'saltpeter', 'sambal', 'sambuca', 'samphire', 'san', 'sanding', 'sandwich', 'sandwiches', 'sangiovese', 'sangria', 'sansho', 'santa', 'santo', 'sardi', 'sardines', 'sargento', 'sashimi', 'sato', 'satsuma', 'satsumas', 'sauc', 'sauce', 'sauces', 'sauerkraut', 'sausag', 'sausage', 'sausages', 'sauterne', 'sauvignon', 'savoiardi', 'savory', 'savoy', 'sazon', 'scallion', 'scallions', 'scallopini', 'scallops', 'scape', 'schmaltz', 'schnapps', 'scones', 'scotch', 'scrod', 'scrub', 'scrubbed', 'sea', 'seafood', 'seamless', 'season', 'seasoned', 'seasoning', 'seasons', 'seaweed', 'sec', 'seca', 'secret', 'secrets', 'sections', 'seed', 'seedless', 'seeds', 'segments', 'seitan', 'sel', 'self', 'seltzer', 'semi', 'semisweet', 'semolina', 'serrano', 'serving', 'sesame', 'seven', 'seville', 'shahi', 'shallots', 'shanghai', 'shank', 'shanks', 'shao', 'shaoxing', 'shapes', 'shark', 'sharp', 'shaved', 'shavings', 'sheep', 'sheepshead', 'sheet', 'sheets', 'shell', 'shelled', 'shellfish', 'shells', 'sherbet', 'sherry', 'shichimi', 'shiitake', 'shimeji', 'shin', 'shirataki', 'shiraz', 'shiro', 'shiromiso', 'shishito', 'shiso', 'shoepeg', 'shoga', 'shoots', 'short', 'shortbread', 'shortcakes', 'shortcrust', 'shortening', 'shoulder', 'shoyu', 'shred', 'shredded', 'shrimp', 'shuck', 'shucked', 'shungiku', 'sichuan', 'sichuanese', 'sicilian', 'sides', 'silken', 'silver', 'simple', 'single', 'sirloin', 'siu', 'size', 'skate', 'skim', 'skimmed', 'skin', 'skinless', 'skinned', 'skins', 'skippy', 'skirt', 'slab', 'slaw', 'slice', 'sliced', 'slices', 'slider', 'slim', 'slivered', 'sloe', 'small', 'smart', 'smith', 'smithfield', 'smoke', 'smoked', 'smooth', 'snail', 'snails', 'snapper', 'snappers', 'snaps', 'snip', 'snow', 'soaking', 'soba', 'sobrasada', 'sockeye', 'soda', 'sodium', 'sofrito', 'soft', 'soften', 'softened', 'soi', 'sole', 'solid', 'somen', 'sooji', 'soppressata', 'sorbet', 'sorghum', 'sorrel', 'souchong', 'soup', 'sour', 'sourdough', 'soursop', 'southern', 'southwest', 'soy', 'soya', 'soybean', 'soybeans', 'soymilk', 'spaghetti', 'spaghettini', 'spam', 'spanish', 'spare', 'spareribs', 'sparkling', 'spearmint', 'spears', 'specials', 'speck', 'spelt', 'spice', 'spiced', 'spices', 'spicy', 'spike', 'spinach', 'spiny', 'spiral', 'splenda', 'split', 'sponge', 'sports', 'spot', 'spray', 'spread', 'spreadable', 'sprig', 'sprigs', 'spring', 'sprinkles', 'sprite', 'sprouts', 'spumante', 'squabs', 'squash', 'squeezed', 'squid', 'squirt', 'sriracha', 'st', 'standing', 'star', 'starch', 'starchy', 'starter', 'steak', 'steaks', 'steamed', 'steamer', 'steel', 'stellette', 'stem', 'stems', 'stevia', 'stew', 'stewed', 'stewing', 'stick', 'stickers', 'sticks', 'sticky', 'stilton', 'stir', 'stock', 'stolichnaya', 'stone', 'stonefire', 'store', 'stout', 'straight', 'strained', 'straw', 'strawberri', 'strawberries', 'strawberry', 'streaky', 'string', 'strip', 'striped', 'strips', 'strong', 'strozzapreti', 'stuffed', 'stuffing', 'sturgeon', 'style', 'sub', 'submarine', 'substitute', 'sucanat', 'success', 'suckling', 'sucralose', 'sucrolose', 'suet', 'sugar', 'sugarcane', 'sugars', 'sultana', 'sum', 'sumac', 'summer', 'sun', 'sunchokes', 'sundae', 'sundried', 'sunflower', 'superfine', 'superior', 'sushi', 'swanson', 'swede', 'sweet', 'sweetbreads', 'sweeten', 'sweetened', 'sweetener', 'sweeteners', 'swerve', 'swiss', 'swordfish', 'syd', 'syrup', 'szechuan', 'szechwan', 'tabasco', 'table', 'taco', 'tagliarini', 'tagliatelle', 'tahini', 'tail', 'tails', 'taiwanese', 'taleggio', 'tallow', 'tamale', 'tamales', 'tamari', 'tamarind', 'tandoori', 'tangelos', 'tangerine', 'tangzhong', 'tap', 'tapatio', 'tapenade', 'tapioca', 'tarama', 'taro', 'tarragon', 'tart', 'tartar', 'tartlet', 'tasso', 'taste', 'tater', 'tatsoi', 'tawny', 'tea', 'teardrop', 'teas', 'teff', 'tel', 'teleme', 'tempeh', 'tempura', 'tender', 'tenderizer', 'tenderloin', 'tenderloins', 'tenders', 'tendons', 'tentacles', 'tequila', 'teriyaki', 'terrine', 'tex', 'texas', 'textured', 'thai', 'thaw', 'thawed', 'thickeners', 'thigh', 'thighs', 'thinli', 'thousand', 'thread', 'threads', 'thyme', 'ti', 'tie', 'tiger', 'tikka', 'tilapia', 'tip', 'tipo', 'tips', 'toast', 'toasted', 'toasts', 'tobiko', 'toffee', 'tofu', 'togarashi', 'tokyo', 'tom', 'tomate', 'tomatillo', 'tomatillos', 'tomato', 'tomatoes', 'ton', 'tongue', 'tonic', 'tonkatsu', 'tony', 'toor', 'topping', 'toppings', 'tops', 'topside', 'torn', 'torpedo', 'tortellini', 'tortelloni', 'tortilla', 'tortillas', 'tostada', 'tostadas', 'tostitos', 'tots', 'touch', 'toulouse', 'tradicional', 'tradit', 'traditional', 'treacle', 'tree', 'treviso', 'tri', 'tricolor', 'trimmed', 'tripe', 'triple', 'triscuits', 'tropic', 'tropical', 'trotters', 'trout', 'true', 'truffle', 'truffles', 'trumpet', 'truvía', 'tsuyu', 'tuaca', 'tube', 'tubetti', 'tubettini', 'tumeric', 'tuna', 'tuong', 'tupelo', 'turbinado', 'turbot', 'turkei', 'turkey', 'turkish', 'turmeric', 'turnip', 'turnips', 'turtle', 'tuscan', 'tuttorosso', 'tvp', 'twists', 'tyson', 'tzatziki', 'udon', 'ulek', 'ume', 'umeboshi', 'unagi', 'unbaked', 'unbleached', 'uncle', 'uncook', 'uncooked', 'undiluted', 'undrain', 'unflavored', 'unhulled', 'uni', 'unsalt', 'unsalted', 'unseasoned', 'unsmoked', 'unsulphured', 'unsweeten', 'unsweetened', 'urad', 'usukuchi', 'v8', 'vadouvan', 'val', 'valencia', 'valley', 'vanilla', 'varieti', 'varnish', 'vay', 'veal', 'vegan', 'veget', 'vegeta', 'vegetable', 'vegetables', 'vegetarian', 'veggie', 'veggies', 'velveeta', 'velvet', 'venison', 'vera', 'verbena', 'verde', 'veri', 'verjuice', 'verjus', 'vermicelli', 'vermouth', 'verts', 'viande', 'victoria', 'vidalia', 'vie', 'vietnamese', 'vin', 'vinaigrett', 'vinaigrette', 'vindaloo', 'vine', 'vinegar', 'vineyard', 'violets', 'virgin', 'virginia', 'vital', 'vitamin', 'vodka', 'wafer', 'wafers', 'waffle', 'wagon', 'wakame', 'walnut', 'walnuts', 'warm', 'wasabe', 'wasabi', 'water', 'watercress', 'watermelon', 'wax', 'waxy', 'wedge', 'wedges', 'weed', 'wensleydale', 'wesson', 'wheat', 'wheatberries', 'wheel', 'wheels', 'whey', 'whip', 'whipped', 'whipping', 'whiskey', 'whisky', 'white', 'whitefish', 'whites', 'wholemeal', 'wholesome', 'wide', 'wieners', 'wild', 'wildflower', 'williams', 'wine', 'winesap', 'wing', 'wingettes', 'wings', 'winter', 'wish', 'wok', 'woksaus', 'wolf', 'wolfberries', 'won', 'wondra', 'wonton', 'wood', 'woods', 'worcestershire', 'world', 'wrappers', 'wraps', 'xanthan', 'xuxu', 'yaki', 'yakisoba', 'yam', 'yams', 'yardlong', 'yeast', 'yellow', 'yellowfin', 'yellowtail', 'yoghurt', 'yogurt', 'yolk', 'yolks', 'yoplait', 'york', 'young', 'yu', 'yuca', 'yucca', 'yukon', 'yum', 'yuzu', 'yuzukosho', 'za', 'zatarain', 'zatarains', 'zero', 'zest', 'zesty', 'zinfandel', 'ziti', 'zucchini', 'épices']\n"
     ]
    }
   ],
   "source": [
    "bag_of_words = vectorizer.get_feature_names()\n",
    "print(\"Bag of words:\")\n",
    "print(bag_of_words)"
   ]
  },
  {
   "cell_type": "code",
   "execution_count": 26,
   "metadata": {},
   "outputs": [
    {
     "data": {
      "text/plain": [
       "matrix([[0., 0., 0., ..., 0., 0., 0.],\n",
       "        [0., 0., 0., ..., 0., 0., 0.],\n",
       "        [0., 0., 0., ..., 0., 0., 0.],\n",
       "        ...,\n",
       "        [0., 0., 0., ..., 0., 0., 0.],\n",
       "        [0., 0., 0., ..., 0., 0., 0.],\n",
       "        [0., 0., 0., ..., 0., 0., 0.]])"
      ]
     },
     "execution_count": 26,
     "metadata": {},
     "output_type": "execute_result"
    }
   ],
   "source": [
    "tfidf_matrix "
   ]
  },
  {
   "cell_type": "code",
   "execution_count": 27,
   "metadata": {},
   "outputs": [
    {
     "data": {
      "text/plain": [
       "(39774, 2970)"
      ]
     },
     "execution_count": 27,
     "metadata": {},
     "output_type": "execute_result"
    }
   ],
   "source": [
    "tfidf_matrix.shape"
   ]
  },
  {
   "cell_type": "code",
   "execution_count": 28,
   "metadata": {},
   "outputs": [],
   "source": [
    "cuisines=train['cuisine']"
   ]
  },
  {
   "cell_type": "code",
   "execution_count": 29,
   "metadata": {},
   "outputs": [
    {
     "name": "stdout",
     "output_type": "stream",
     "text": [
      "CPU times: user 3min 42s, sys: 7.24 s, total: 3min 49s\n",
      "Wall time: 4min 11s\n"
     ]
    }
   ],
   "source": [
    "%%time\n",
    "from sklearn.ensemble import RandomForestClassifier\n",
    "rf_clf = RandomForestClassifier(n_estimators=500,max_features=10)\n",
    "rf_clf.fit(tfidf_matrix, cuisines)"
   ]
  },
  {
   "cell_type": "code",
   "execution_count": 30,
   "metadata": {},
   "outputs": [],
   "source": [
    "pred_train=rf_clf.predict(tfidf_matrix)"
   ]
  },
  {
   "cell_type": "code",
   "execution_count": 31,
   "metadata": {
    "scrolled": true
   },
   "outputs": [
    {
     "data": {
      "text/plain": [
       "(39774,)"
      ]
     },
     "execution_count": 31,
     "metadata": {},
     "output_type": "execute_result"
    }
   ],
   "source": [
    "pred_train.shape"
   ]
  },
  {
   "cell_type": "code",
   "execution_count": 32,
   "metadata": {},
   "outputs": [
    {
     "data": {
      "text/plain": [
       "0.9996228692110424"
      ]
     },
     "execution_count": 32,
     "metadata": {},
     "output_type": "execute_result"
    }
   ],
   "source": [
    "from sklearn.metrics import accuracy_score\n",
    "accuracy_score(pred_train, cuisines)"
   ]
  },
  {
   "cell_type": "markdown",
   "metadata": {},
   "source": [
    "## Predict"
   ]
  },
  {
   "cell_type": "code",
   "execution_count": 33,
   "metadata": {},
   "outputs": [],
   "source": [
    "test['ingredients_list'] = [' , '.join(z).strip() for z in test['ingredients']]\n",
    "test_ingredients = test['ingredients_list']\n",
    "test_tfidf_matrix = vectorizer.transform(test_ingredients)\n",
    "test_cuisines = rf_clf.predict(test_tfidf_matrix)"
   ]
  },
  {
   "cell_type": "code",
   "execution_count": 34,
   "metadata": {},
   "outputs": [
    {
     "data": {
      "text/plain": [
       "(9944, 2970)"
      ]
     },
     "execution_count": 34,
     "metadata": {},
     "output_type": "execute_result"
    }
   ],
   "source": [
    "test_tfidf_matrix.shape"
   ]
  },
  {
   "cell_type": "code",
   "execution_count": 35,
   "metadata": {},
   "outputs": [],
   "source": [
    "test['cuisine']=test_cuisines\n",
    "test[['id' , 'cuisine' ]].to_csv(\"submission3.csv\", index=False)"
   ]
  },
  {
   "cell_type": "code",
   "execution_count": 36,
   "metadata": {},
   "outputs": [
    {
     "data": {
      "text/html": [
       "<div>\n",
       "<style scoped>\n",
       "    .dataframe tbody tr th:only-of-type {\n",
       "        vertical-align: middle;\n",
       "    }\n",
       "\n",
       "    .dataframe tbody tr th {\n",
       "        vertical-align: top;\n",
       "    }\n",
       "\n",
       "    .dataframe thead th {\n",
       "        text-align: right;\n",
       "    }\n",
       "</style>\n",
       "<table border=\"1\" class=\"dataframe\">\n",
       "  <thead>\n",
       "    <tr style=\"text-align: right;\">\n",
       "      <th></th>\n",
       "      <th>id</th>\n",
       "      <th>ingredients</th>\n",
       "      <th>ingredients_list</th>\n",
       "      <th>cuisine</th>\n",
       "    </tr>\n",
       "  </thead>\n",
       "  <tbody>\n",
       "    <tr>\n",
       "      <th>0</th>\n",
       "      <td>18009</td>\n",
       "      <td>[baking powder, eggs, all-purpose flour, raisi...</td>\n",
       "      <td>baking powder , eggs , all-purpose flour , rai...</td>\n",
       "      <td>southern_us</td>\n",
       "    </tr>\n",
       "    <tr>\n",
       "      <th>1</th>\n",
       "      <td>28583</td>\n",
       "      <td>[sugar, egg yolks, corn starch, cream of tarta...</td>\n",
       "      <td>sugar , egg yolks , corn starch , cream of tar...</td>\n",
       "      <td>southern_us</td>\n",
       "    </tr>\n",
       "    <tr>\n",
       "      <th>2</th>\n",
       "      <td>41580</td>\n",
       "      <td>[sausage links, fennel bulb, fronds, olive oil...</td>\n",
       "      <td>sausage links , fennel bulb , fronds , olive o...</td>\n",
       "      <td>italian</td>\n",
       "    </tr>\n",
       "    <tr>\n",
       "      <th>3</th>\n",
       "      <td>29752</td>\n",
       "      <td>[meat cuts, file powder, smoked sausage, okra,...</td>\n",
       "      <td>meat cuts , file powder , smoked sausage , okr...</td>\n",
       "      <td>cajun_creole</td>\n",
       "    </tr>\n",
       "    <tr>\n",
       "      <th>4</th>\n",
       "      <td>35687</td>\n",
       "      <td>[ground black pepper, salt, sausage casings, l...</td>\n",
       "      <td>ground black pepper , salt , sausage casings ,...</td>\n",
       "      <td>italian</td>\n",
       "    </tr>\n",
       "    <tr>\n",
       "      <th>5</th>\n",
       "      <td>38527</td>\n",
       "      <td>[baking powder, all-purpose flour, peach slice...</td>\n",
       "      <td>baking powder , all-purpose flour , peach slic...</td>\n",
       "      <td>southern_us</td>\n",
       "    </tr>\n",
       "    <tr>\n",
       "      <th>6</th>\n",
       "      <td>19666</td>\n",
       "      <td>[grape juice, orange, white zinfandel]</td>\n",
       "      <td>grape juice , orange , white zinfandel</td>\n",
       "      <td>southern_us</td>\n",
       "    </tr>\n",
       "    <tr>\n",
       "      <th>7</th>\n",
       "      <td>41217</td>\n",
       "      <td>[ground ginger, white pepper, green onions, or...</td>\n",
       "      <td>ground ginger , white pepper , green onions , ...</td>\n",
       "      <td>chinese</td>\n",
       "    </tr>\n",
       "    <tr>\n",
       "      <th>8</th>\n",
       "      <td>28753</td>\n",
       "      <td>[diced onions, taco seasoning mix, all-purpose...</td>\n",
       "      <td>diced onions , taco seasoning mix , all-purpos...</td>\n",
       "      <td>mexican</td>\n",
       "    </tr>\n",
       "    <tr>\n",
       "      <th>9</th>\n",
       "      <td>22659</td>\n",
       "      <td>[eggs, cherries, dates, dark muscovado sugar, ...</td>\n",
       "      <td>eggs , cherries , dates , dark muscovado sugar...</td>\n",
       "      <td>british</td>\n",
       "    </tr>\n",
       "    <tr>\n",
       "      <th>10</th>\n",
       "      <td>21749</td>\n",
       "      <td>[pasta, olive oil, crushed red pepper, cherry ...</td>\n",
       "      <td>pasta , olive oil , crushed red pepper , cherr...</td>\n",
       "      <td>italian</td>\n",
       "    </tr>\n",
       "    <tr>\n",
       "      <th>11</th>\n",
       "      <td>44967</td>\n",
       "      <td>[water, butter, ground sumac, ground lamb, gro...</td>\n",
       "      <td>water , butter , ground sumac , ground lamb , ...</td>\n",
       "      <td>greek</td>\n",
       "    </tr>\n",
       "    <tr>\n",
       "      <th>12</th>\n",
       "      <td>42969</td>\n",
       "      <td>[curry powder, ground cumin, chicken wings, ch...</td>\n",
       "      <td>curry powder , ground cumin , chicken wings , ...</td>\n",
       "      <td>indian</td>\n",
       "    </tr>\n",
       "    <tr>\n",
       "      <th>13</th>\n",
       "      <td>44883</td>\n",
       "      <td>[pasta, marinara sauce, dried basil, chicken f...</td>\n",
       "      <td>pasta , marinara sauce , dried basil , chicken...</td>\n",
       "      <td>italian</td>\n",
       "    </tr>\n",
       "    <tr>\n",
       "      <th>14</th>\n",
       "      <td>20827</td>\n",
       "      <td>[salt, custard powder, white sugar, eggs, marg...</td>\n",
       "      <td>salt , custard powder , white sugar , eggs , m...</td>\n",
       "      <td>southern_us</td>\n",
       "    </tr>\n",
       "    <tr>\n",
       "      <th>15</th>\n",
       "      <td>23196</td>\n",
       "      <td>[vegetable oil cooking spray, egg whites, apri...</td>\n",
       "      <td>vegetable oil cooking spray , egg whites , apr...</td>\n",
       "      <td>italian</td>\n",
       "    </tr>\n",
       "    <tr>\n",
       "      <th>16</th>\n",
       "      <td>35387</td>\n",
       "      <td>[vanilla ice cream, banana liqueur, bananas, p...</td>\n",
       "      <td>vanilla ice cream , banana liqueur , bananas ,...</td>\n",
       "      <td>southern_us</td>\n",
       "    </tr>\n",
       "    <tr>\n",
       "      <th>17</th>\n",
       "      <td>33780</td>\n",
       "      <td>[molasses, hot sauce, baked beans, Grey Poupon...</td>\n",
       "      <td>molasses , hot sauce , baked beans , Grey Poup...</td>\n",
       "      <td>southern_us</td>\n",
       "    </tr>\n",
       "    <tr>\n",
       "      <th>18</th>\n",
       "      <td>19001</td>\n",
       "      <td>[chopped green chilies, sour cream, cheddar ch...</td>\n",
       "      <td>chopped green chilies , sour cream , cheddar c...</td>\n",
       "      <td>mexican</td>\n",
       "    </tr>\n",
       "    <tr>\n",
       "      <th>19</th>\n",
       "      <td>16526</td>\n",
       "      <td>[cold water, chicken drumsticks, chicken thigh...</td>\n",
       "      <td>cold water , chicken drumsticks , chicken thig...</td>\n",
       "      <td>southern_us</td>\n",
       "    </tr>\n",
       "    <tr>\n",
       "      <th>20</th>\n",
       "      <td>42455</td>\n",
       "      <td>[bean threads, suet, fresh shiitake mushrooms,...</td>\n",
       "      <td>bean threads , suet , fresh shiitake mushrooms...</td>\n",
       "      <td>japanese</td>\n",
       "    </tr>\n",
       "    <tr>\n",
       "      <th>21</th>\n",
       "      <td>47453</td>\n",
       "      <td>[water, ground turmeric, salt, long-grain rice...</td>\n",
       "      <td>water , ground turmeric , salt , long-grain ri...</td>\n",
       "      <td>indian</td>\n",
       "    </tr>\n",
       "    <tr>\n",
       "      <th>22</th>\n",
       "      <td>42478</td>\n",
       "      <td>[kosher salt, bay leaves, brown lentils, parsn...</td>\n",
       "      <td>kosher salt , bay leaves , brown lentils , par...</td>\n",
       "      <td>italian</td>\n",
       "    </tr>\n",
       "    <tr>\n",
       "      <th>23</th>\n",
       "      <td>11885</td>\n",
       "      <td>[kosher salt, vegetable oil, shrimp, herbs, nu...</td>\n",
       "      <td>kosher salt , vegetable oil , shrimp , herbs ,...</td>\n",
       "      <td>indian</td>\n",
       "    </tr>\n",
       "    <tr>\n",
       "      <th>24</th>\n",
       "      <td>16585</td>\n",
       "      <td>[arborio rice, olive oil, dry white wine, salt...</td>\n",
       "      <td>arborio rice , olive oil , dry white wine , sa...</td>\n",
       "      <td>italian</td>\n",
       "    </tr>\n",
       "    <tr>\n",
       "      <th>25</th>\n",
       "      <td>29639</td>\n",
       "      <td>[granny smith apples, bay leaves, apple cider,...</td>\n",
       "      <td>granny smith apples , bay leaves , apple cider...</td>\n",
       "      <td>southern_us</td>\n",
       "    </tr>\n",
       "    <tr>\n",
       "      <th>26</th>\n",
       "      <td>26245</td>\n",
       "      <td>[fish sauce, jalapeno chilies, scallions, lemo...</td>\n",
       "      <td>fish sauce , jalapeno chilies , scallions , le...</td>\n",
       "      <td>thai</td>\n",
       "    </tr>\n",
       "    <tr>\n",
       "      <th>27</th>\n",
       "      <td>38516</td>\n",
       "      <td>[chicken wings, baking soda, rice vinegar, gar...</td>\n",
       "      <td>chicken wings , baking soda , rice vinegar , g...</td>\n",
       "      <td>korean</td>\n",
       "    </tr>\n",
       "    <tr>\n",
       "      <th>28</th>\n",
       "      <td>47520</td>\n",
       "      <td>[parmigiano reggiano cheese, figs, cracked bla...</td>\n",
       "      <td>parmigiano reggiano cheese , figs , cracked bl...</td>\n",
       "      <td>italian</td>\n",
       "    </tr>\n",
       "    <tr>\n",
       "      <th>29</th>\n",
       "      <td>26212</td>\n",
       "      <td>[cheese sauce, macaroni and cheese dinner, shr...</td>\n",
       "      <td>cheese sauce , macaroni and cheese dinner , sh...</td>\n",
       "      <td>southern_us</td>\n",
       "    </tr>\n",
       "    <tr>\n",
       "      <th>...</th>\n",
       "      <td>...</td>\n",
       "      <td>...</td>\n",
       "      <td>...</td>\n",
       "      <td>...</td>\n",
       "    </tr>\n",
       "    <tr>\n",
       "      <th>9914</th>\n",
       "      <td>49157</td>\n",
       "      <td>[fish sauce, lemongrass, ginger, garlic cloves...</td>\n",
       "      <td>fish sauce , lemongrass , ginger , garlic clov...</td>\n",
       "      <td>chinese</td>\n",
       "    </tr>\n",
       "    <tr>\n",
       "      <th>9915</th>\n",
       "      <td>40847</td>\n",
       "      <td>[kosher salt, shallots, ground black pepper, f...</td>\n",
       "      <td>kosher salt , shallots , ground black pepper ,...</td>\n",
       "      <td>italian</td>\n",
       "    </tr>\n",
       "    <tr>\n",
       "      <th>9916</th>\n",
       "      <td>14084</td>\n",
       "      <td>[celery ribs, lemon slices, fresh parsley, lar...</td>\n",
       "      <td>celery ribs , lemon slices , fresh parsley , l...</td>\n",
       "      <td>italian</td>\n",
       "    </tr>\n",
       "    <tr>\n",
       "      <th>9917</th>\n",
       "      <td>6802</td>\n",
       "      <td>[zucchini, ground beef, water, green pepper, p...</td>\n",
       "      <td>zucchini , ground beef , water , green pepper ...</td>\n",
       "      <td>italian</td>\n",
       "    </tr>\n",
       "    <tr>\n",
       "      <th>9918</th>\n",
       "      <td>22381</td>\n",
       "      <td>[fine salt, canola oil, unsalted butter, bakin...</td>\n",
       "      <td>fine salt , canola oil , unsalted butter , bak...</td>\n",
       "      <td>southern_us</td>\n",
       "    </tr>\n",
       "    <tr>\n",
       "      <th>9919</th>\n",
       "      <td>21016</td>\n",
       "      <td>[sugar, ice, sugar cane, gingerroot, lime]</td>\n",
       "      <td>sugar , ice , sugar cane , gingerroot , lime</td>\n",
       "      <td>brazilian</td>\n",
       "    </tr>\n",
       "    <tr>\n",
       "      <th>9920</th>\n",
       "      <td>29024</td>\n",
       "      <td>[manicotti shells, egg substitute, salt, itali...</td>\n",
       "      <td>manicotti shells , egg substitute , salt , ita...</td>\n",
       "      <td>italian</td>\n",
       "    </tr>\n",
       "    <tr>\n",
       "      <th>9921</th>\n",
       "      <td>4478</td>\n",
       "      <td>[mushroom caps, dipping sauces, red bell peppe...</td>\n",
       "      <td>mushroom caps , dipping sauces , red bell pepp...</td>\n",
       "      <td>thai</td>\n",
       "    </tr>\n",
       "    <tr>\n",
       "      <th>9922</th>\n",
       "      <td>36711</td>\n",
       "      <td>[red lentils, crushed garlic, curry powder, cu...</td>\n",
       "      <td>red lentils , crushed garlic , curry powder , ...</td>\n",
       "      <td>indian</td>\n",
       "    </tr>\n",
       "    <tr>\n",
       "      <th>9923</th>\n",
       "      <td>8300</td>\n",
       "      <td>[water, cooking spray, onions, dough, dried th...</td>\n",
       "      <td>water , cooking spray , onions , dough , dried...</td>\n",
       "      <td>italian</td>\n",
       "    </tr>\n",
       "    <tr>\n",
       "      <th>9924</th>\n",
       "      <td>47035</td>\n",
       "      <td>[chicken broth, salt, diced celery, diced onio...</td>\n",
       "      <td>chicken broth , salt , diced celery , diced on...</td>\n",
       "      <td>southern_us</td>\n",
       "    </tr>\n",
       "    <tr>\n",
       "      <th>9925</th>\n",
       "      <td>15596</td>\n",
       "      <td>[raspberry jam, unsalted butter, caster sugar,...</td>\n",
       "      <td>raspberry jam , unsalted butter , caster sugar...</td>\n",
       "      <td>british</td>\n",
       "    </tr>\n",
       "    <tr>\n",
       "      <th>9926</th>\n",
       "      <td>19902</td>\n",
       "      <td>[kosher salt, worcestershire sauce, slab bacon...</td>\n",
       "      <td>kosher salt , worcestershire sauce , slab baco...</td>\n",
       "      <td>southern_us</td>\n",
       "    </tr>\n",
       "    <tr>\n",
       "      <th>9927</th>\n",
       "      <td>31242</td>\n",
       "      <td>[evaporated milk, salt, white sugar, flaked co...</td>\n",
       "      <td>evaporated milk , salt , white sugar , flaked ...</td>\n",
       "      <td>southern_us</td>\n",
       "    </tr>\n",
       "    <tr>\n",
       "      <th>9928</th>\n",
       "      <td>21117</td>\n",
       "      <td>[curry powder, baby spinach, fenugreek seeds, ...</td>\n",
       "      <td>curry powder , baby spinach , fenugreek seeds ...</td>\n",
       "      <td>indian</td>\n",
       "    </tr>\n",
       "    <tr>\n",
       "      <th>9929</th>\n",
       "      <td>15234</td>\n",
       "      <td>[tomatoes, black pepper, ground nutmeg, heavy ...</td>\n",
       "      <td>tomatoes , black pepper , ground nutmeg , heav...</td>\n",
       "      <td>cajun_creole</td>\n",
       "    </tr>\n",
       "    <tr>\n",
       "      <th>9930</th>\n",
       "      <td>24993</td>\n",
       "      <td>[minced chicken, olive oil, carrots, sweet chi...</td>\n",
       "      <td>minced chicken , olive oil , carrots , sweet c...</td>\n",
       "      <td>chinese</td>\n",
       "    </tr>\n",
       "    <tr>\n",
       "      <th>9931</th>\n",
       "      <td>31007</td>\n",
       "      <td>[tomatoes, paprika, long-grain rice, chicken, ...</td>\n",
       "      <td>tomatoes , paprika , long-grain rice , chicken...</td>\n",
       "      <td>cajun_creole</td>\n",
       "    </tr>\n",
       "    <tr>\n",
       "      <th>9932</th>\n",
       "      <td>31687</td>\n",
       "      <td>[canned black beans, corn kernels, low sodium ...</td>\n",
       "      <td>canned black beans , corn kernels , low sodium...</td>\n",
       "      <td>mexican</td>\n",
       "    </tr>\n",
       "    <tr>\n",
       "      <th>9933</th>\n",
       "      <td>13657</td>\n",
       "      <td>[avocado, salsa, hot pepper sauce, garlic powd...</td>\n",
       "      <td>avocado , salsa , hot pepper sauce , garlic po...</td>\n",
       "      <td>mexican</td>\n",
       "    </tr>\n",
       "    <tr>\n",
       "      <th>9934</th>\n",
       "      <td>36612</td>\n",
       "      <td>[yellow squash, salt, mayonaise, butter, butte...</td>\n",
       "      <td>yellow squash , salt , mayonaise , butter , bu...</td>\n",
       "      <td>southern_us</td>\n",
       "    </tr>\n",
       "    <tr>\n",
       "      <th>9935</th>\n",
       "      <td>14008</td>\n",
       "      <td>[chicken wings, peeled fresh ginger, soy sauce...</td>\n",
       "      <td>chicken wings , peeled fresh ginger , soy sauc...</td>\n",
       "      <td>chinese</td>\n",
       "    </tr>\n",
       "    <tr>\n",
       "      <th>9936</th>\n",
       "      <td>32124</td>\n",
       "      <td>[sugar, salt, large egg yolks, apricot preserv...</td>\n",
       "      <td>sugar , salt , large egg yolks , apricot prese...</td>\n",
       "      <td>french</td>\n",
       "    </tr>\n",
       "    <tr>\n",
       "      <th>9937</th>\n",
       "      <td>43570</td>\n",
       "      <td>[eggs, green onions, rice vinegar, shrimp smal...</td>\n",
       "      <td>eggs , green onions , rice vinegar , shrimp sm...</td>\n",
       "      <td>thai</td>\n",
       "    </tr>\n",
       "    <tr>\n",
       "      <th>9938</th>\n",
       "      <td>14059</td>\n",
       "      <td>[cauliflower, garlic paste, curry powder, gree...</td>\n",
       "      <td>cauliflower , garlic paste , curry powder , gr...</td>\n",
       "      <td>indian</td>\n",
       "    </tr>\n",
       "    <tr>\n",
       "      <th>9939</th>\n",
       "      <td>30246</td>\n",
       "      <td>[large egg yolks, fresh lemon juice, sugar, bo...</td>\n",
       "      <td>large egg yolks , fresh lemon juice , sugar , ...</td>\n",
       "      <td>french</td>\n",
       "    </tr>\n",
       "    <tr>\n",
       "      <th>9940</th>\n",
       "      <td>36028</td>\n",
       "      <td>[hot sauce, butter, sweet potatoes, adobo sauc...</td>\n",
       "      <td>hot sauce , butter , sweet potatoes , adobo sa...</td>\n",
       "      <td>southern_us</td>\n",
       "    </tr>\n",
       "    <tr>\n",
       "      <th>9941</th>\n",
       "      <td>22339</td>\n",
       "      <td>[black pepper, salt, parmigiano reggiano chees...</td>\n",
       "      <td>black pepper , salt , parmigiano reggiano chee...</td>\n",
       "      <td>italian</td>\n",
       "    </tr>\n",
       "    <tr>\n",
       "      <th>9942</th>\n",
       "      <td>42525</td>\n",
       "      <td>[cheddar cheese, cayenne, paprika, plum tomato...</td>\n",
       "      <td>cheddar cheese , cayenne , paprika , plum toma...</td>\n",
       "      <td>southern_us</td>\n",
       "    </tr>\n",
       "    <tr>\n",
       "      <th>9943</th>\n",
       "      <td>1443</td>\n",
       "      <td>[cold water, olive oil, lime wedges, garlic cl...</td>\n",
       "      <td>cold water , olive oil , lime wedges , garlic ...</td>\n",
       "      <td>mexican</td>\n",
       "    </tr>\n",
       "  </tbody>\n",
       "</table>\n",
       "<p>9944 rows × 4 columns</p>\n",
       "</div>"
      ],
      "text/plain": [
       "         id                                        ingredients  \\\n",
       "0     18009  [baking powder, eggs, all-purpose flour, raisi...   \n",
       "1     28583  [sugar, egg yolks, corn starch, cream of tarta...   \n",
       "2     41580  [sausage links, fennel bulb, fronds, olive oil...   \n",
       "3     29752  [meat cuts, file powder, smoked sausage, okra,...   \n",
       "4     35687  [ground black pepper, salt, sausage casings, l...   \n",
       "5     38527  [baking powder, all-purpose flour, peach slice...   \n",
       "6     19666             [grape juice, orange, white zinfandel]   \n",
       "7     41217  [ground ginger, white pepper, green onions, or...   \n",
       "8     28753  [diced onions, taco seasoning mix, all-purpose...   \n",
       "9     22659  [eggs, cherries, dates, dark muscovado sugar, ...   \n",
       "10    21749  [pasta, olive oil, crushed red pepper, cherry ...   \n",
       "11    44967  [water, butter, ground sumac, ground lamb, gro...   \n",
       "12    42969  [curry powder, ground cumin, chicken wings, ch...   \n",
       "13    44883  [pasta, marinara sauce, dried basil, chicken f...   \n",
       "14    20827  [salt, custard powder, white sugar, eggs, marg...   \n",
       "15    23196  [vegetable oil cooking spray, egg whites, apri...   \n",
       "16    35387  [vanilla ice cream, banana liqueur, bananas, p...   \n",
       "17    33780  [molasses, hot sauce, baked beans, Grey Poupon...   \n",
       "18    19001  [chopped green chilies, sour cream, cheddar ch...   \n",
       "19    16526  [cold water, chicken drumsticks, chicken thigh...   \n",
       "20    42455  [bean threads, suet, fresh shiitake mushrooms,...   \n",
       "21    47453  [water, ground turmeric, salt, long-grain rice...   \n",
       "22    42478  [kosher salt, bay leaves, brown lentils, parsn...   \n",
       "23    11885  [kosher salt, vegetable oil, shrimp, herbs, nu...   \n",
       "24    16585  [arborio rice, olive oil, dry white wine, salt...   \n",
       "25    29639  [granny smith apples, bay leaves, apple cider,...   \n",
       "26    26245  [fish sauce, jalapeno chilies, scallions, lemo...   \n",
       "27    38516  [chicken wings, baking soda, rice vinegar, gar...   \n",
       "28    47520  [parmigiano reggiano cheese, figs, cracked bla...   \n",
       "29    26212  [cheese sauce, macaroni and cheese dinner, shr...   \n",
       "...     ...                                                ...   \n",
       "9914  49157  [fish sauce, lemongrass, ginger, garlic cloves...   \n",
       "9915  40847  [kosher salt, shallots, ground black pepper, f...   \n",
       "9916  14084  [celery ribs, lemon slices, fresh parsley, lar...   \n",
       "9917   6802  [zucchini, ground beef, water, green pepper, p...   \n",
       "9918  22381  [fine salt, canola oil, unsalted butter, bakin...   \n",
       "9919  21016         [sugar, ice, sugar cane, gingerroot, lime]   \n",
       "9920  29024  [manicotti shells, egg substitute, salt, itali...   \n",
       "9921   4478  [mushroom caps, dipping sauces, red bell peppe...   \n",
       "9922  36711  [red lentils, crushed garlic, curry powder, cu...   \n",
       "9923   8300  [water, cooking spray, onions, dough, dried th...   \n",
       "9924  47035  [chicken broth, salt, diced celery, diced onio...   \n",
       "9925  15596  [raspberry jam, unsalted butter, caster sugar,...   \n",
       "9926  19902  [kosher salt, worcestershire sauce, slab bacon...   \n",
       "9927  31242  [evaporated milk, salt, white sugar, flaked co...   \n",
       "9928  21117  [curry powder, baby spinach, fenugreek seeds, ...   \n",
       "9929  15234  [tomatoes, black pepper, ground nutmeg, heavy ...   \n",
       "9930  24993  [minced chicken, olive oil, carrots, sweet chi...   \n",
       "9931  31007  [tomatoes, paprika, long-grain rice, chicken, ...   \n",
       "9932  31687  [canned black beans, corn kernels, low sodium ...   \n",
       "9933  13657  [avocado, salsa, hot pepper sauce, garlic powd...   \n",
       "9934  36612  [yellow squash, salt, mayonaise, butter, butte...   \n",
       "9935  14008  [chicken wings, peeled fresh ginger, soy sauce...   \n",
       "9936  32124  [sugar, salt, large egg yolks, apricot preserv...   \n",
       "9937  43570  [eggs, green onions, rice vinegar, shrimp smal...   \n",
       "9938  14059  [cauliflower, garlic paste, curry powder, gree...   \n",
       "9939  30246  [large egg yolks, fresh lemon juice, sugar, bo...   \n",
       "9940  36028  [hot sauce, butter, sweet potatoes, adobo sauc...   \n",
       "9941  22339  [black pepper, salt, parmigiano reggiano chees...   \n",
       "9942  42525  [cheddar cheese, cayenne, paprika, plum tomato...   \n",
       "9943   1443  [cold water, olive oil, lime wedges, garlic cl...   \n",
       "\n",
       "                                       ingredients_list       cuisine  \n",
       "0     baking powder , eggs , all-purpose flour , rai...   southern_us  \n",
       "1     sugar , egg yolks , corn starch , cream of tar...   southern_us  \n",
       "2     sausage links , fennel bulb , fronds , olive o...       italian  \n",
       "3     meat cuts , file powder , smoked sausage , okr...  cajun_creole  \n",
       "4     ground black pepper , salt , sausage casings ,...       italian  \n",
       "5     baking powder , all-purpose flour , peach slic...   southern_us  \n",
       "6                grape juice , orange , white zinfandel   southern_us  \n",
       "7     ground ginger , white pepper , green onions , ...       chinese  \n",
       "8     diced onions , taco seasoning mix , all-purpos...       mexican  \n",
       "9     eggs , cherries , dates , dark muscovado sugar...       british  \n",
       "10    pasta , olive oil , crushed red pepper , cherr...       italian  \n",
       "11    water , butter , ground sumac , ground lamb , ...         greek  \n",
       "12    curry powder , ground cumin , chicken wings , ...        indian  \n",
       "13    pasta , marinara sauce , dried basil , chicken...       italian  \n",
       "14    salt , custard powder , white sugar , eggs , m...   southern_us  \n",
       "15    vegetable oil cooking spray , egg whites , apr...       italian  \n",
       "16    vanilla ice cream , banana liqueur , bananas ,...   southern_us  \n",
       "17    molasses , hot sauce , baked beans , Grey Poup...   southern_us  \n",
       "18    chopped green chilies , sour cream , cheddar c...       mexican  \n",
       "19    cold water , chicken drumsticks , chicken thig...   southern_us  \n",
       "20    bean threads , suet , fresh shiitake mushrooms...      japanese  \n",
       "21    water , ground turmeric , salt , long-grain ri...        indian  \n",
       "22    kosher salt , bay leaves , brown lentils , par...       italian  \n",
       "23    kosher salt , vegetable oil , shrimp , herbs ,...        indian  \n",
       "24    arborio rice , olive oil , dry white wine , sa...       italian  \n",
       "25    granny smith apples , bay leaves , apple cider...   southern_us  \n",
       "26    fish sauce , jalapeno chilies , scallions , le...          thai  \n",
       "27    chicken wings , baking soda , rice vinegar , g...        korean  \n",
       "28    parmigiano reggiano cheese , figs , cracked bl...       italian  \n",
       "29    cheese sauce , macaroni and cheese dinner , sh...   southern_us  \n",
       "...                                                 ...           ...  \n",
       "9914  fish sauce , lemongrass , ginger , garlic clov...       chinese  \n",
       "9915  kosher salt , shallots , ground black pepper ,...       italian  \n",
       "9916  celery ribs , lemon slices , fresh parsley , l...       italian  \n",
       "9917  zucchini , ground beef , water , green pepper ...       italian  \n",
       "9918  fine salt , canola oil , unsalted butter , bak...   southern_us  \n",
       "9919       sugar , ice , sugar cane , gingerroot , lime     brazilian  \n",
       "9920  manicotti shells , egg substitute , salt , ita...       italian  \n",
       "9921  mushroom caps , dipping sauces , red bell pepp...          thai  \n",
       "9922  red lentils , crushed garlic , curry powder , ...        indian  \n",
       "9923  water , cooking spray , onions , dough , dried...       italian  \n",
       "9924  chicken broth , salt , diced celery , diced on...   southern_us  \n",
       "9925  raspberry jam , unsalted butter , caster sugar...       british  \n",
       "9926  kosher salt , worcestershire sauce , slab baco...   southern_us  \n",
       "9927  evaporated milk , salt , white sugar , flaked ...   southern_us  \n",
       "9928  curry powder , baby spinach , fenugreek seeds ...        indian  \n",
       "9929  tomatoes , black pepper , ground nutmeg , heav...  cajun_creole  \n",
       "9930  minced chicken , olive oil , carrots , sweet c...       chinese  \n",
       "9931  tomatoes , paprika , long-grain rice , chicken...  cajun_creole  \n",
       "9932  canned black beans , corn kernels , low sodium...       mexican  \n",
       "9933  avocado , salsa , hot pepper sauce , garlic po...       mexican  \n",
       "9934  yellow squash , salt , mayonaise , butter , bu...   southern_us  \n",
       "9935  chicken wings , peeled fresh ginger , soy sauc...       chinese  \n",
       "9936  sugar , salt , large egg yolks , apricot prese...        french  \n",
       "9937  eggs , green onions , rice vinegar , shrimp sm...          thai  \n",
       "9938  cauliflower , garlic paste , curry powder , gr...        indian  \n",
       "9939  large egg yolks , fresh lemon juice , sugar , ...        french  \n",
       "9940  hot sauce , butter , sweet potatoes , adobo sa...   southern_us  \n",
       "9941  black pepper , salt , parmigiano reggiano chee...       italian  \n",
       "9942  cheddar cheese , cayenne , paprika , plum toma...   southern_us  \n",
       "9943  cold water , olive oil , lime wedges , garlic ...       mexican  \n",
       "\n",
       "[9944 rows x 4 columns]"
      ]
     },
     "execution_count": 36,
     "metadata": {},
     "output_type": "execute_result"
    }
   ],
   "source": [
    "test"
   ]
  },
  {
   "cell_type": "code",
   "execution_count": null,
   "metadata": {},
   "outputs": [],
   "source": []
  },
  {
   "cell_type": "code",
   "execution_count": null,
   "metadata": {},
   "outputs": [],
   "source": []
  }
 ],
 "metadata": {
  "kernelspec": {
   "display_name": "Python 3",
   "language": "python",
   "name": "python3"
  },
  "language_info": {
   "codemirror_mode": {
    "name": "ipython",
    "version": 3
   },
   "file_extension": ".py",
   "mimetype": "text/x-python",
   "name": "python",
   "nbconvert_exporter": "python",
   "pygments_lexer": "ipython3",
   "version": "3.6.5"
  }
 },
 "nbformat": 4,
 "nbformat_minor": 2
}
