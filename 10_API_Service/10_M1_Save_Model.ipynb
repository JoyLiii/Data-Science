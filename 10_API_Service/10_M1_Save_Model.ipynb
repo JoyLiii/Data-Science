{
 "cells": [
  {
   "cell_type": "markdown",
   "id": "b85b76e8-deaf-4241-a523-d0f72d643b86",
   "metadata": {
    "tags": []
   },
   "source": [
    "### 實際示範"
   ]
  },
  {
   "cell_type": "code",
   "execution_count": 2,
   "id": "61baf31a-803d-4179-ab7f-a7fd7c7e0006",
   "metadata": {},
   "outputs": [
    {
     "data": {
      "text/html": [
       "<div>\n",
       "<style scoped>\n",
       "    .dataframe tbody tr th:only-of-type {\n",
       "        vertical-align: middle;\n",
       "    }\n",
       "\n",
       "    .dataframe tbody tr th {\n",
       "        vertical-align: top;\n",
       "    }\n",
       "\n",
       "    .dataframe thead th {\n",
       "        text-align: right;\n",
       "    }\n",
       "</style>\n",
       "<table border=\"1\" class=\"dataframe\">\n",
       "  <thead>\n",
       "    <tr style=\"text-align: right;\">\n",
       "      <th></th>\n",
       "      <th>ID</th>\n",
       "      <th>Gender</th>\n",
       "      <th>Age</th>\n",
       "      <th>Salary</th>\n",
       "      <th>VIP</th>\n",
       "      <th>Purchased</th>\n",
       "    </tr>\n",
       "  </thead>\n",
       "  <tbody>\n",
       "    <tr>\n",
       "      <th>0</th>\n",
       "      <td>BOOK62498940</td>\n",
       "      <td>Male</td>\n",
       "      <td>22</td>\n",
       "      <td>20900.0</td>\n",
       "      <td>0</td>\n",
       "      <td>0</td>\n",
       "    </tr>\n",
       "    <tr>\n",
       "      <th>1</th>\n",
       "      <td>BOOK63243776</td>\n",
       "      <td>Male</td>\n",
       "      <td>43</td>\n",
       "      <td>22000.0</td>\n",
       "      <td>0</td>\n",
       "      <td>0</td>\n",
       "    </tr>\n",
       "    <tr>\n",
       "      <th>2</th>\n",
       "      <td>BOOK62674300</td>\n",
       "      <td>Female</td>\n",
       "      <td>29</td>\n",
       "      <td>47300.0</td>\n",
       "      <td>0</td>\n",
       "      <td>0</td>\n",
       "    </tr>\n",
       "    <tr>\n",
       "      <th>3</th>\n",
       "      <td>BOOK62412984</td>\n",
       "      <td>Female</td>\n",
       "      <td>30</td>\n",
       "      <td>62700.0</td>\n",
       "      <td>0</td>\n",
       "      <td>0</td>\n",
       "    </tr>\n",
       "    <tr>\n",
       "      <th>4</th>\n",
       "      <td>BOOK63216008</td>\n",
       "      <td>Male</td>\n",
       "      <td>22</td>\n",
       "      <td>83600.0</td>\n",
       "      <td>0</td>\n",
       "      <td>0</td>\n",
       "    </tr>\n",
       "    <tr>\n",
       "      <th>...</th>\n",
       "      <td>...</td>\n",
       "      <td>...</td>\n",
       "      <td>...</td>\n",
       "      <td>...</td>\n",
       "      <td>...</td>\n",
       "      <td>...</td>\n",
       "    </tr>\n",
       "    <tr>\n",
       "      <th>395</th>\n",
       "      <td>BOOK62767452</td>\n",
       "      <td>Female</td>\n",
       "      <td>49</td>\n",
       "      <td>45100.0</td>\n",
       "      <td>1</td>\n",
       "      <td>1</td>\n",
       "    </tr>\n",
       "    <tr>\n",
       "      <th>396</th>\n",
       "      <td>BOOK62824284</td>\n",
       "      <td>Male</td>\n",
       "      <td>54</td>\n",
       "      <td>25300.0</td>\n",
       "      <td>1</td>\n",
       "      <td>1</td>\n",
       "    </tr>\n",
       "    <tr>\n",
       "      <th>397</th>\n",
       "      <td>BOOK62617184</td>\n",
       "      <td>Female</td>\n",
       "      <td>53</td>\n",
       "      <td>22000.0</td>\n",
       "      <td>0</td>\n",
       "      <td>1</td>\n",
       "    </tr>\n",
       "    <tr>\n",
       "      <th>398</th>\n",
       "      <td>BOOK63020072</td>\n",
       "      <td>Male</td>\n",
       "      <td>23</td>\n",
       "      <td>36300.0</td>\n",
       "      <td>0</td>\n",
       "      <td>0</td>\n",
       "    </tr>\n",
       "    <tr>\n",
       "      <th>399</th>\n",
       "      <td>BOOK62376164</td>\n",
       "      <td>Female</td>\n",
       "      <td>52</td>\n",
       "      <td>39600.0</td>\n",
       "      <td>1</td>\n",
       "      <td>1</td>\n",
       "    </tr>\n",
       "  </tbody>\n",
       "</table>\n",
       "<p>400 rows × 6 columns</p>\n",
       "</div>"
      ],
      "text/plain": [
       "               ID  Gender  Age   Salary  VIP  Purchased\n",
       "0    BOOK62498940    Male   22  20900.0    0          0\n",
       "1    BOOK63243776    Male   43  22000.0    0          0\n",
       "2    BOOK62674300  Female   29  47300.0    0          0\n",
       "3    BOOK62412984  Female   30  62700.0    0          0\n",
       "4    BOOK63216008    Male   22  83600.0    0          0\n",
       "..            ...     ...  ...      ...  ...        ...\n",
       "395  BOOK62767452  Female   49  45100.0    1          1\n",
       "396  BOOK62824284    Male   54  25300.0    1          1\n",
       "397  BOOK62617184  Female   53  22000.0    0          1\n",
       "398  BOOK63020072    Male   23  36300.0    0          0\n",
       "399  BOOK62376164  Female   52  39600.0    1          1\n",
       "\n",
       "[400 rows x 6 columns]"
      ]
     },
     "execution_count": 2,
     "metadata": {},
     "output_type": "execute_result"
    }
   ],
   "source": [
    "dataset"
   ]
  },
  {
   "cell_type": "code",
   "execution_count": 11,
   "id": "f509ff14-fff7-4caa-b993-0930b5568dcc",
   "metadata": {},
   "outputs": [
    {
     "name": "stdout",
     "output_type": "stream",
     "text": [
      "[[60  7]\n",
      " [ 6 27]]\n"
     ]
    }
   ],
   "source": [
    "# LightGBM\n",
    "\n",
    "# Importing the libraries\n",
    "import numpy as np\n",
    "import matplotlib.pyplot as plt\n",
    "import pandas as pd\n",
    "\n",
    "# Importing the dataset\n",
    "dataset = pd.read_csv('Book_Purchased.csv')\n",
    "X = dataset.iloc[:, [2, 3, 4]].values\n",
    "y = dataset.iloc[:, 5].values\n",
    "\n",
    "# Splitting the dataset into the Training set and Test set\n",
    "from sklearn.model_selection import train_test_split\n",
    "X_train, X_test, y_train, y_test = train_test_split(X, y, test_size = 0.25, random_state = 0)\n",
    "\n",
    "import lightgbm as lgb\n",
    "from lightgbm import LGBMClassifier\n",
    "\n",
    "# 建立LightGBM模型\n",
    "classifier = lgb.LGBMClassifier(objective = 'binary', \n",
    "                                learning_rate = 0.05, \n",
    "                                n_estimators = 100, \n",
    "                                random_state=0)\n",
    "# 使用訓練資料訓練模型\n",
    "classifier.fit(X_train, y_train)\n",
    "# 使用訓練資料預測分類\n",
    "y_pred = classifier.predict(X_test)\n",
    "\n",
    "from sklearn.metrics import confusion_matrix\n",
    "cm = confusion_matrix(y_test, y_pred)\n",
    "\n",
    "print(cm)"
   ]
  },
  {
   "cell_type": "markdown",
   "id": "b5587f43-f1e6-42ec-9c18-c8793f4719ea",
   "metadata": {
    "tags": []
   },
   "source": [
    "### 存模型檔"
   ]
  },
  {
   "cell_type": "code",
   "execution_count": 6,
   "id": "610f0040-df3f-4c3b-ac6d-254ffc36c0e5",
   "metadata": {},
   "outputs": [],
   "source": [
    "import pickle\n",
    "with open('./lightgbm_books.pickle', 'wb') as f:\n",
    "    pickle.dump(classifier, f)"
   ]
  },
  {
   "cell_type": "markdown",
   "id": "17f62350-43c8-4289-b05b-70276187f5ac",
   "metadata": {
    "tags": []
   },
   "source": [
    "### 讀取模型檔"
   ]
  },
  {
   "cell_type": "code",
   "execution_count": 29,
   "id": "52dffff4-b092-4181-bf9b-0875d3eac04c",
   "metadata": {},
   "outputs": [
    {
     "name": "stdout",
     "output_type": "stream",
     "text": [
      "1 0.9597337150135251\n"
     ]
    }
   ],
   "source": [
    "age = 30\n",
    "salary = 156922\n",
    "vip_ind = 1\n",
    "with open('./lightgbm_books.pickle', 'rb') as f:\n",
    "    classifier = pickle.load(f)\n",
    "    pred = classifier.predict(np.array([[ age, salary, vip_ind,]]))[0]\n",
    "    pred_prob = classifier.predict_proba(np.array([[ age, salary, vip_ind,]]))[0][1]\n",
    "print(pred, pred_prob)"
   ]
  }
 ],
 "metadata": {
  "kernelspec": {
   "display_name": "Python 3 (ipykernel)",
   "language": "python",
   "name": "python3"
  },
  "language_info": {
   "codemirror_mode": {
    "name": "ipython",
    "version": 3
   },
   "file_extension": ".py",
   "mimetype": "text/x-python",
   "name": "python",
   "nbconvert_exporter": "python",
   "pygments_lexer": "ipython3",
   "version": "3.9.4"
  }
 },
 "nbformat": 4,
 "nbformat_minor": 5
}
