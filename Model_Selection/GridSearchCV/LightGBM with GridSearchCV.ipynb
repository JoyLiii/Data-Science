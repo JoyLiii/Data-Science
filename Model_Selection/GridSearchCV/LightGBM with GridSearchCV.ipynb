{
 "cells": [
  {
   "cell_type": "markdown",
   "metadata": {},
   "source": [
    "### LightGBM のチカラを見せてやろ"
   ]
  },
  {
   "cell_type": "code",
   "execution_count": 11,
   "metadata": {},
   "outputs": [
    {
     "name": "stderr",
     "output_type": "stream",
     "text": [
      "/anaconda3/lib/python3.6/site-packages/sklearn/cross_validation.py:41: DeprecationWarning: This module was deprecated in version 0.18 in favor of the model_selection module into which all the refactored classes and functions are moved. Also note that the interface of the new CV iterators are different from that of this module. This module will be removed in 0.20.\n",
      "  \"This module will be removed in 0.20.\", DeprecationWarning)\n"
     ]
    }
   ],
   "source": [
    "import warnings\n",
    "warnings.filterwarnings(\"ignore\")\n",
    "import pandas as pd\n",
    "import lightgbm as lgb\n",
    "from lightgbm import LGBMClassifier\n",
    "#from bayes_opt import BayesianOptimization\n",
    "from sklearn.model_selection import GridSearchCV\n",
    "import matplotlib.pyplot as plt\n",
    "from sklearn import cross_validation"
   ]
  },
  {
   "cell_type": "code",
   "execution_count": 13,
   "metadata": {},
   "outputs": [],
   "source": [
    "# Function for Measure Performance# \n",
    "from  sklearn  import  metrics\n",
    "def measure_performance(X,y,clf, show_accuracy=True, show_classification_report=True, show_confusion_matrix=True, show_roc_auc = True):\n",
    "    y_pred = clf.predict(X)\n",
    "    y_predprob = clf.predict_proba(X)[:,1]\n",
    "    if show_accuracy:\n",
    "        print (\"Accuracy:{0:.3f}\".format(metrics.accuracy_score(y,y_pred))),\"\\n\"\n",
    "\n",
    "    if show_classification_report:\n",
    "        print(\"Classification report\")\n",
    "        print(metrics.classification_report(y,y_pred)),\"\\n\"\n",
    "        \n",
    "    if show_confusion_matrix:\n",
    "        print(\"Confusion matrix\")\n",
    "        print(metrics.confusion_matrix(y,y_pred)),\"\\n\"  \n",
    "        \n",
    "    if show_roc_auc:\n",
    "        print(\"ROC AUC Score\")\n",
    "        print(metrics.roc_auc_score(y,y_predprob)),\"\\n\""
   ]
  },
  {
   "cell_type": "code",
   "execution_count": 12,
   "metadata": {},
   "outputs": [],
   "source": [
    "#載入資料\n",
    "train=pd.read_csv('train.csv',encoding='utf-8')\n",
    "test=pd.read_csv('test_public.csv',encoding='utf-8')\n",
    "submit=pd.read_csv('sampleSubmission.csv',encoding='utf-8')"
   ]
  },
  {
   "cell_type": "code",
   "execution_count": 17,
   "metadata": {},
   "outputs": [],
   "source": [
    "#Data Preparation for LightGBM\n",
    "import os\n",
    "\n",
    "# use LabelEncoder to convert categorical features to int type before construct Dataset\n",
    "from sklearn.preprocessing import LabelEncoder\n",
    "def label_encoder(input_df, encoder_dict=None):\n",
    "    \"\"\" Process a dataframe into a form useable by LightGBM \"\"\"\n",
    "    # Label encode categoricals\n",
    "    categorical_feats = input_df.columns[input_df.dtypes == 'object']\n",
    "    for feat in categorical_feats:\n",
    "        encoder = LabelEncoder()\n",
    "        input_df[feat] = encoder.fit_transform(input_df[feat].fillna('NULL'))\n",
    "    return input_df, categorical_feats.tolist(), encoder_dict\n",
    "application_train, categorical_feats, encoder_dict = label_encoder(train)\n",
    "X = train.drop(['Class'], axis=1)\n",
    "y = train.Class\n",
    "\n",
    "# Prepare dataset \n",
    "seed = 7\n",
    "test_size = 0.3\n",
    "X_train, X_test, y_train, y_test = cross_validation.train_test_split(X, y, test_size=test_size, random_state=seed)"
   ]
  },
  {
   "cell_type": "code",
   "execution_count": 37,
   "metadata": {},
   "outputs": [
    {
     "name": "stdout",
     "output_type": "stream",
     "text": [
      "Start training...\n",
      "CPU times: user 617 µs, sys: 312 µs, total: 929 µs\n",
      "Wall time: 411 µs\n"
     ]
    }
   ],
   "source": [
    "# Grid Search\n",
    "print('Start training...')\n",
    "estimator = lgb.LGBMClassifier(objective = 'binary', learning_rate = 0.05, n_estimators = 100, random_state=0)\n",
    "\n",
    "param_grid = {\n",
    "    'num_leaves': [30,35,40,45], #[35,40,45]做完是40\n",
    "    'feature_fraction': [0.2,0.3,0.4],#做過[0.2,0.3,0.4,0.5]出來是0.4\n",
    "    #'bagging_fraction': [0.6,0.7,0.8],\n",
    "    'max_depth':[6,7,8],\n",
    "    'max_bin':[20],\n",
    "    #'lambda_l1':[0.3,0.6],#V4開始做lambda_l1\n",
    "    'lambda_l2':[0.08,0.09,0.10],\n",
    "    'min_split_gain':[0.04,0.05,0.06],#做過[0.04,0.05,0.06]出來0.06\n",
    "    'min_child_weight':[7]\n",
    "}\n",
    "\n",
    "%time LGBM_grid = GridSearchCV(estimator, param_grid)"
   ]
  },
  {
   "cell_type": "code",
   "execution_count": 38,
   "metadata": {},
   "outputs": [
    {
     "name": "stdout",
     "output_type": "stream",
     "text": [
      "CPU times: user 54min 28s, sys: 6min 7s, total: 1h 36s\n",
      "Wall time: 25min 36s\n",
      "Best parameters found by grid search are: {'feature_fraction': 0.4, 'lambda_l2': 0.09, 'max_bin': 20, 'max_depth': 6, 'min_child_weight': 7, 'min_split_gain': 0.04, 'num_leaves': 30}\n"
     ]
    }
   ],
   "source": [
    "import warnings\n",
    "warnings.filterwarnings(\"ignore\")\n",
    "%time LGBM_grid.fit(X_train, y_train)\n",
    "print('Best parameters found by grid search are:', LGBM_grid.best_params_)"
   ]
  },
  {
   "cell_type": "code",
   "execution_count": 39,
   "metadata": {},
   "outputs": [
    {
     "name": "stdout",
     "output_type": "stream",
     "text": [
      "Start predicting...\n",
      "CPU times: user 3.33 s, sys: 456 ms, total: 3.79 s\n",
      "Wall time: 1.85 s\n",
      "Predicting is over\n"
     ]
    }
   ],
   "source": [
    "# Final Model\n",
    "evals_result = {} \n",
    "print('Start predicting...')\n",
    "LGBM= lgb.LGBMClassifier(objective = 'binary',\n",
    "                         learning_rate = 0.05, \n",
    "                         n_estimators = 100, \n",
    "                         random_state=0,\n",
    "                         num_leaves = LGBM_grid.best_params_['num_leaves'],\n",
    "                         feature_fraction = LGBM_grid.best_params_['feature_fraction'], \n",
    "                         #bagging_fraction = LGBM_grid.best_params_['bagging_fraction'],\n",
    "                         max_depth = LGBM_grid.best_params_['max_depth'],\n",
    "                         max_bin = LGBM_grid.best_params_['max_bin'],\n",
    "                         #lambda_l1 = LGBM_grid.best_params_['lambda_l1'],\n",
    "                         lambda_l2 = LGBM_grid.best_params_['lambda_l2'],\n",
    "                         min_split_gain = LGBM_grid.best_params_['min_split_gain'],\n",
    "                         min_child_weight = LGBM_grid.best_params_['min_child_weight'])\n",
    "%time LGBM_fit = LGBM.fit(X_train, y_train)\n",
    "print('Predicting is over')"
   ]
  },
  {
   "cell_type": "code",
   "execution_count": 42,
   "metadata": {},
   "outputs": [
    {
     "name": "stdout",
     "output_type": "stream",
     "text": [
      "Accuracy:1.000\n",
      "Classification report\n",
      "             precision    recall  f1-score   support\n",
      "\n",
      "          0       1.00      1.00      1.00     59707\n",
      "          1       0.94      0.82      0.87       103\n",
      "\n",
      "avg / total       1.00      1.00      1.00     59810\n",
      "\n",
      "Confusion matrix\n",
      "[[59702     5]\n",
      " [   19    84]]\n",
      "ROC AUC Score\n",
      "0.9916226830016679\n",
      "Feature importances: [38, 22, 39, 19, 26, 51, 20, 13, 49, 37, 24, 25, 26, 50, 31, 42, 38, 18, 34, 16, 43, 29, 39, 17, 23, 59, 15, 42, 21, 42, 70]\n",
      "Plot feature importances...\n"
     ]
    },
    {
     "data": {
      "image/png": "[encoded data removed]",
      "text/plain": [
       "<Figure size 432x288 with 1 Axes>"
      ]
     },
     "metadata": {},
     "output_type": "display_data"
    }
   ],
   "source": [
    "#v2\n",
    "LGBM_grid_measure = measure_performance(X = X_test, y = y_test, clf = LGBM_grid_final, show_classification_report=True, show_confusion_matrix=True)\n",
    "\n",
    "# feature importances\n",
    "print('Feature importances:', list(LGBM_grid_final.feature_importances_))\n",
    "\n",
    "# visualization\n",
    "print('Plot feature importances...')\n",
    "ax = lgb.plot_importance(LGBM_fit, max_num_features=len(train))\n",
    "plt.show()"
   ]
  },
  {
   "cell_type": "code",
   "execution_count": 27,
   "metadata": {},
   "outputs": [
    {
     "name": "stdout",
     "output_type": "stream",
     "text": [
      "Accuracy:1.000\n",
      "Classification report\n",
      "             precision    recall  f1-score   support\n",
      "\n",
      "          0       1.00      1.00      1.00     59707\n",
      "          1       0.94      0.82      0.87       103\n",
      "\n",
      "avg / total       1.00      1.00      1.00     59810\n",
      "\n",
      "Confusion matrix\n",
      "[[59702     5]\n",
      " [   19    84]]\n",
      "ROC AUC Score\n",
      "0.9916226830016679\n",
      "Feature importances: [38, 22, 39, 19, 26, 51, 20, 13, 49, 37, 24, 25, 26, 50, 31, 42, 38, 18, 34, 16, 43, 29, 39, 17, 23, 59, 15, 42, 21, 42, 70]\n",
      "Plot feature importances...\n"
     ]
    },
    {
     "data": {
      "image/png": "[encoded data removed]",
      "text/plain": [
       "<Figure size 432x288 with 1 Axes>"
      ]
     },
     "metadata": {},
     "output_type": "display_data"
    }
   ],
   "source": [
    "#v1\n",
    "LGBM_grid_measure = measure_performance(X = X_test, y = y_test, clf = LGBM_grid_final, show_classification_report=True, show_confusion_matrix=True)\n",
    "\n",
    "# feature importances\n",
    "print('Feature importances:', list(LGBM_grid_final.feature_importances_))\n",
    "\n",
    "# visualization\n",
    "print('Plot feature importances...')\n",
    "ax = lgb.plot_importance(LGBM_fit, max_num_features=10)\n",
    "plt.show()"
   ]
  },
  {
   "cell_type": "code",
   "execution_count": 31,
   "metadata": {},
   "outputs": [],
   "source": [
    "LGBM_pred =LGBM.predict(test)\n",
    "submit['Class'] = LGBM_pred\n",
    "submit['Class'] = submit['Class'].astype(int)\n",
    "submit.to_csv('submit_002.csv', index= False)"
   ]
  }
 ],
 "metadata": {
  "kernelspec": {
   "display_name": "Python 3",
   "language": "python",
   "name": "python3"
  },
  "language_info": {
   "codemirror_mode": {
    "name": "ipython",
    "version": 3
   },
   "file_extension": ".py",
   "mimetype": "text/x-python",
   "name": "python",
   "nbconvert_exporter": "python",
   "pygments_lexer": "ipython3",
   "version": "3.6.5"
  }
 },
 "nbformat": 4,
 "nbformat_minor": 2
}
